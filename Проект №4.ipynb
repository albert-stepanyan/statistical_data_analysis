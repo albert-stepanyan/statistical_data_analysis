{
 "cells": [
  {
   "cell_type": "markdown",
   "id": "2987017a",
   "metadata": {},
   "source": [
    "\n",
    "# Исследование работы сервиса аренды самокатов GoFast "
   ]
  },
  {
   "cell_type": "markdown",
   "id": "27acdc66",
   "metadata": {},
   "source": [
    "\n",
    "## Описание проекта \n",
    "\n",
    "  Поставлена задача проанализировать работу популярного сервиса аренды самокатов GoFast. Нам передали данные о некоторых пользователях из нескольких городов, а также об их поездках.   \n",
    "  Проанализируем данные и проверим некоторые гипотезы, которые могут помочь бизнесу вырасти.    \n",
    "  Чтобы совершать поездки по городу, пользователи сервиса GoFast пользуются мобильным приложением. Сервисом можно пользоваться:  \n",
    " -\tбез подписки \n",
    "   -\tабонентская плата отсутствует;\n",
    "   -\tстоимость одной минуты поездки — 8 рублей;\n",
    "   -\tстоимость старта (начала поездки) — 50 рублей;\n",
    " -\tс подпиской Ultra \n",
    "   -\tабонентская плата — 199 рублей в месяц;\n",
    "   -\tстоимость одной минуты поездки — 6 рублей;\n",
    "   -\tстоимость старта — бесплатно."
   ]
  },
  {
   "cell_type": "markdown",
   "id": "60d9c578",
   "metadata": {},
   "source": [
    "### Описание данных\n",
    "\n",
    "Предоставлены основные данные, в которых есть информация о пользователях, их поездках и подписках.\n",
    "\n",
    "Пользователи — `users_go.csv`\\\n",
    "`user_id`\tуникальный идентификатор пользователя\\\n",
    "`name`\tимя пользователя\\\n",
    "`age`\tвозраст\\\n",
    "`city`\tгород\\\n",
    "`subscription_type`\tтип подписки (free, ultra)\n",
    "\n",
    "Поездки — `rides_go.csv`\\\n",
    "`user_id`\tуникальный идентификатор пользователя\\\n",
    "`distance`\tрасстояние, которое пользователь проехал в текущей сессии (в метрах)\\\n",
    "`duration`\tпродолжительность сессии (в минутах) — время с того момента, как пользователь нажал кнопку «Начать поездку» до момента, как он нажал кнопку «Завершить поездку»\\\n",
    "`date`\tдата совершения поездки\n",
    "\n",
    "Подписки — `subscriptions_go.csv`\n",
    "`subscription_type`\tтип подписки\\\n",
    "`minute_price`\tстоимость одной минуты поездки по данной подписке\\\n",
    "`start_ride_price`\tстоимость начала поездки\\\n",
    "`subscription_fee`\tстоимость ежемесячного платежа\\\n",
    "\n",
    "### План работы\n",
    "\n",
    "Проанализировать данные из 3 файлов с информацией о пользователях, их поездках и подписках популярного сервиса аренды самокатов GoFast. Провести аннализ данных на наличие пропусков и дубликатов. Провести ииследования полученных данных с их визуализацией. Проверить ряд гипотез и решитьзадачи на распределения.\n",
    "\n",
    "Таким образом, исследование пройдёт в 7 этапов:\n",
    "\n",
    "- Загрузка и обзор данных\n",
    "- Предобработка данных\n",
    "- Исследовательский анализ данных\n",
    "- Объединение данных\n",
    "- Подсчет выручки\n",
    "- Проверка гипотез\n",
    "- Распределения"
   ]
  },
  {
   "cell_type": "markdown",
   "id": "7ecb18b4",
   "metadata": {},
   "source": [
    "## Шаг 1. Откроем файл с данными и изучим общую информацию."
   ]
  },
  {
   "cell_type": "code",
   "execution_count": 1,
   "id": "dc4e7647",
   "metadata": {},
   "outputs": [],
   "source": [
    "import pandas as pd\n",
    "import numpy as np\n",
    "import matplotlib.pyplot as plt\n",
    "import seaborn as sns\n",
    "from scipy.stats import binom, norm\n",
    "from scipy import stats as st\n",
    "import random\n",
    "from math  import sqrt"
   ]
  },
  {
   "cell_type": "code",
   "execution_count": 2,
   "id": "7356ff4b",
   "metadata": {
    "scrolled": false
   },
   "outputs": [
    {
     "data": {
      "text/html": [
       "<div>\n",
       "<style scoped>\n",
       "    .dataframe tbody tr th:only-of-type {\n",
       "        vertical-align: middle;\n",
       "    }\n",
       "\n",
       "    .dataframe tbody tr th {\n",
       "        vertical-align: top;\n",
       "    }\n",
       "\n",
       "    .dataframe thead th {\n",
       "        text-align: right;\n",
       "    }\n",
       "</style>\n",
       "<table border=\"1\" class=\"dataframe\">\n",
       "  <thead>\n",
       "    <tr style=\"text-align: right;\">\n",
       "      <th></th>\n",
       "      <th>user_id</th>\n",
       "      <th>name</th>\n",
       "      <th>age</th>\n",
       "      <th>city</th>\n",
       "      <th>subscription_type</th>\n",
       "    </tr>\n",
       "  </thead>\n",
       "  <tbody>\n",
       "    <tr>\n",
       "      <th>0</th>\n",
       "      <td>1</td>\n",
       "      <td>Кира</td>\n",
       "      <td>22</td>\n",
       "      <td>Тюмень</td>\n",
       "      <td>ultra</td>\n",
       "    </tr>\n",
       "    <tr>\n",
       "      <th>1</th>\n",
       "      <td>2</td>\n",
       "      <td>Станислав</td>\n",
       "      <td>31</td>\n",
       "      <td>Омск</td>\n",
       "      <td>ultra</td>\n",
       "    </tr>\n",
       "    <tr>\n",
       "      <th>2</th>\n",
       "      <td>3</td>\n",
       "      <td>Алексей</td>\n",
       "      <td>20</td>\n",
       "      <td>Москва</td>\n",
       "      <td>ultra</td>\n",
       "    </tr>\n",
       "    <tr>\n",
       "      <th>3</th>\n",
       "      <td>4</td>\n",
       "      <td>Константин</td>\n",
       "      <td>26</td>\n",
       "      <td>Ростов-на-Дону</td>\n",
       "      <td>ultra</td>\n",
       "    </tr>\n",
       "    <tr>\n",
       "      <th>4</th>\n",
       "      <td>5</td>\n",
       "      <td>Адель</td>\n",
       "      <td>28</td>\n",
       "      <td>Омск</td>\n",
       "      <td>ultra</td>\n",
       "    </tr>\n",
       "    <tr>\n",
       "      <th>5</th>\n",
       "      <td>6</td>\n",
       "      <td>Регина</td>\n",
       "      <td>25</td>\n",
       "      <td>Краснодар</td>\n",
       "      <td>ultra</td>\n",
       "    </tr>\n",
       "    <tr>\n",
       "      <th>6</th>\n",
       "      <td>7</td>\n",
       "      <td>Игорь</td>\n",
       "      <td>23</td>\n",
       "      <td>Омск</td>\n",
       "      <td>ultra</td>\n",
       "    </tr>\n",
       "    <tr>\n",
       "      <th>7</th>\n",
       "      <td>8</td>\n",
       "      <td>Юрий</td>\n",
       "      <td>23</td>\n",
       "      <td>Краснодар</td>\n",
       "      <td>ultra</td>\n",
       "    </tr>\n",
       "    <tr>\n",
       "      <th>8</th>\n",
       "      <td>9</td>\n",
       "      <td>Ян</td>\n",
       "      <td>21</td>\n",
       "      <td>Пятигорск</td>\n",
       "      <td>ultra</td>\n",
       "    </tr>\n",
       "    <tr>\n",
       "      <th>9</th>\n",
       "      <td>10</td>\n",
       "      <td>Валерий</td>\n",
       "      <td>18</td>\n",
       "      <td>Екатеринбург</td>\n",
       "      <td>ultra</td>\n",
       "    </tr>\n",
       "  </tbody>\n",
       "</table>\n",
       "</div>"
      ],
      "text/plain": [
       "   user_id        name  age            city subscription_type\n",
       "0        1        Кира   22          Тюмень             ultra\n",
       "1        2   Станислав   31            Омск             ultra\n",
       "2        3     Алексей   20          Москва             ultra\n",
       "3        4  Константин   26  Ростов-на-Дону             ultra\n",
       "4        5       Адель   28            Омск             ultra\n",
       "5        6      Регина   25       Краснодар             ultra\n",
       "6        7       Игорь   23            Омск             ultra\n",
       "7        8        Юрий   23       Краснодар             ultra\n",
       "8        9          Ян   21       Пятигорск             ultra\n",
       "9       10     Валерий   18    Екатеринбург             ultra"
      ]
     },
     "execution_count": 2,
     "metadata": {},
     "output_type": "execute_result"
    }
   ],
   "source": [
    "users = pd.read_csv('/datasets/users_go.csv')\n",
    "users.head(10)"
   ]
  },
  {
   "cell_type": "code",
   "execution_count": 3,
   "id": "5cdae86c",
   "metadata": {},
   "outputs": [
    {
     "name": "stdout",
     "output_type": "stream",
     "text": [
      "<class 'pandas.core.frame.DataFrame'>\n",
      "RangeIndex: 1565 entries, 0 to 1564\n",
      "Data columns (total 5 columns):\n",
      " #   Column             Non-Null Count  Dtype \n",
      "---  ------             --------------  ----- \n",
      " 0   user_id            1565 non-null   int64 \n",
      " 1   name               1565 non-null   object\n",
      " 2   age                1565 non-null   int64 \n",
      " 3   city               1565 non-null   object\n",
      " 4   subscription_type  1565 non-null   object\n",
      "dtypes: int64(2), object(3)\n",
      "memory usage: 61.3+ KB\n"
     ]
    }
   ],
   "source": [
    "users.info()"
   ]
  },
  {
   "cell_type": "markdown",
   "id": "bcef3bc0",
   "metadata": {},
   "source": [
    "***Описание данных о пользователях:***\n",
    "\n",
    "-\tuser_id — уникальный идентификатор пользователя\n",
    "-\tname — имя пользователя\n",
    "-\tage — возраст\n",
    "-\tcity — город\n",
    "-\tsubscription_type — тип подписки (free, ultra)"
   ]
  },
  {
   "cell_type": "markdown",
   "id": "75bdc784",
   "metadata": {},
   "source": [
    "***Наблюдаем корректность в наименованиях столбцов и типов данных о пользователях сервиса аренды самокатов.***"
   ]
  },
  {
   "cell_type": "code",
   "execution_count": 4,
   "id": "9ba27b0d",
   "metadata": {
    "scrolled": false
   },
   "outputs": [
    {
     "data": {
      "text/html": [
       "<div>\n",
       "<style scoped>\n",
       "    .dataframe tbody tr th:only-of-type {\n",
       "        vertical-align: middle;\n",
       "    }\n",
       "\n",
       "    .dataframe tbody tr th {\n",
       "        vertical-align: top;\n",
       "    }\n",
       "\n",
       "    .dataframe thead th {\n",
       "        text-align: right;\n",
       "    }\n",
       "</style>\n",
       "<table border=\"1\" class=\"dataframe\">\n",
       "  <thead>\n",
       "    <tr style=\"text-align: right;\">\n",
       "      <th></th>\n",
       "      <th>user_id</th>\n",
       "      <th>distance</th>\n",
       "      <th>duration</th>\n",
       "      <th>date</th>\n",
       "    </tr>\n",
       "  </thead>\n",
       "  <tbody>\n",
       "    <tr>\n",
       "      <th>0</th>\n",
       "      <td>1</td>\n",
       "      <td>4409.919140</td>\n",
       "      <td>25.599769</td>\n",
       "      <td>2021-01-01</td>\n",
       "    </tr>\n",
       "    <tr>\n",
       "      <th>1</th>\n",
       "      <td>1</td>\n",
       "      <td>2617.592153</td>\n",
       "      <td>15.816871</td>\n",
       "      <td>2021-01-18</td>\n",
       "    </tr>\n",
       "    <tr>\n",
       "      <th>2</th>\n",
       "      <td>1</td>\n",
       "      <td>754.159807</td>\n",
       "      <td>6.232113</td>\n",
       "      <td>2021-04-20</td>\n",
       "    </tr>\n",
       "    <tr>\n",
       "      <th>3</th>\n",
       "      <td>1</td>\n",
       "      <td>2694.783254</td>\n",
       "      <td>18.511000</td>\n",
       "      <td>2021-08-11</td>\n",
       "    </tr>\n",
       "    <tr>\n",
       "      <th>4</th>\n",
       "      <td>1</td>\n",
       "      <td>4028.687306</td>\n",
       "      <td>26.265803</td>\n",
       "      <td>2021-08-28</td>\n",
       "    </tr>\n",
       "    <tr>\n",
       "      <th>5</th>\n",
       "      <td>1</td>\n",
       "      <td>2770.890808</td>\n",
       "      <td>16.650138</td>\n",
       "      <td>2021-10-09</td>\n",
       "    </tr>\n",
       "    <tr>\n",
       "      <th>6</th>\n",
       "      <td>1</td>\n",
       "      <td>3039.020292</td>\n",
       "      <td>14.927879</td>\n",
       "      <td>2021-10-19</td>\n",
       "    </tr>\n",
       "    <tr>\n",
       "      <th>7</th>\n",
       "      <td>1</td>\n",
       "      <td>2842.118050</td>\n",
       "      <td>23.117468</td>\n",
       "      <td>2021-11-06</td>\n",
       "    </tr>\n",
       "    <tr>\n",
       "      <th>8</th>\n",
       "      <td>1</td>\n",
       "      <td>3412.690668</td>\n",
       "      <td>15.238072</td>\n",
       "      <td>2021-11-14</td>\n",
       "    </tr>\n",
       "    <tr>\n",
       "      <th>9</th>\n",
       "      <td>1</td>\n",
       "      <td>748.690645</td>\n",
       "      <td>15.041884</td>\n",
       "      <td>2021-11-22</td>\n",
       "    </tr>\n",
       "  </tbody>\n",
       "</table>\n",
       "</div>"
      ],
      "text/plain": [
       "   user_id     distance   duration        date\n",
       "0        1  4409.919140  25.599769  2021-01-01\n",
       "1        1  2617.592153  15.816871  2021-01-18\n",
       "2        1   754.159807   6.232113  2021-04-20\n",
       "3        1  2694.783254  18.511000  2021-08-11\n",
       "4        1  4028.687306  26.265803  2021-08-28\n",
       "5        1  2770.890808  16.650138  2021-10-09\n",
       "6        1  3039.020292  14.927879  2021-10-19\n",
       "7        1  2842.118050  23.117468  2021-11-06\n",
       "8        1  3412.690668  15.238072  2021-11-14\n",
       "9        1   748.690645  15.041884  2021-11-22"
      ]
     },
     "execution_count": 4,
     "metadata": {},
     "output_type": "execute_result"
    }
   ],
   "source": [
    "rides = pd.read_csv('/datasets/rides_go.csv')\n",
    "rides.head(10)"
   ]
  },
  {
   "cell_type": "code",
   "execution_count": 5,
   "id": "330550c4",
   "metadata": {
    "scrolled": true
   },
   "outputs": [
    {
     "name": "stdout",
     "output_type": "stream",
     "text": [
      "<class 'pandas.core.frame.DataFrame'>\n",
      "RangeIndex: 18068 entries, 0 to 18067\n",
      "Data columns (total 4 columns):\n",
      " #   Column    Non-Null Count  Dtype  \n",
      "---  ------    --------------  -----  \n",
      " 0   user_id   18068 non-null  int64  \n",
      " 1   distance  18068 non-null  float64\n",
      " 2   duration  18068 non-null  float64\n",
      " 3   date      18068 non-null  object \n",
      "dtypes: float64(2), int64(1), object(1)\n",
      "memory usage: 564.8+ KB\n"
     ]
    }
   ],
   "source": [
    "rides.info()"
   ]
  },
  {
   "cell_type": "markdown",
   "id": "9cfe2304",
   "metadata": {},
   "source": [
    "***Описание данных о поездках:***\n",
    "\n",
    "-\tuser_id — уникальный идентификатор пользователя\n",
    "-\tdistance — расстояние, которое пользователь проехал в текущей сессии (в метрах)\n",
    "-\tduration — продолжительность сессии (в минутах) — время с того момента, как пользователь нажал кнопку «Начать поездку» до момента, как он нажал кнопку «Завершить поездку»\n",
    "-\tdate — дата совершения поездки"
   ]
  },
  {
   "cell_type": "markdown",
   "id": "47128ff7",
   "metadata": {},
   "source": [
    "***Наблюдаем корректность в наименованиях столбцов. В дальнейшем целесообразно поменять тип данных в столбце даты совершения поездки (data) на соответствие типу даты pandas. В остальных столбцах корректно указан тип данных.***"
   ]
  },
  {
   "cell_type": "code",
   "execution_count": 6,
   "id": "d3423007",
   "metadata": {
    "scrolled": true
   },
   "outputs": [
    {
     "data": {
      "text/html": [
       "<div>\n",
       "<style scoped>\n",
       "    .dataframe tbody tr th:only-of-type {\n",
       "        vertical-align: middle;\n",
       "    }\n",
       "\n",
       "    .dataframe tbody tr th {\n",
       "        vertical-align: top;\n",
       "    }\n",
       "\n",
       "    .dataframe thead th {\n",
       "        text-align: right;\n",
       "    }\n",
       "</style>\n",
       "<table border=\"1\" class=\"dataframe\">\n",
       "  <thead>\n",
       "    <tr style=\"text-align: right;\">\n",
       "      <th></th>\n",
       "      <th>subscription_type</th>\n",
       "      <th>minute_price</th>\n",
       "      <th>start_ride_price</th>\n",
       "      <th>subscription_fee</th>\n",
       "    </tr>\n",
       "  </thead>\n",
       "  <tbody>\n",
       "    <tr>\n",
       "      <th>0</th>\n",
       "      <td>free</td>\n",
       "      <td>8</td>\n",
       "      <td>50</td>\n",
       "      <td>0</td>\n",
       "    </tr>\n",
       "    <tr>\n",
       "      <th>1</th>\n",
       "      <td>ultra</td>\n",
       "      <td>6</td>\n",
       "      <td>0</td>\n",
       "      <td>199</td>\n",
       "    </tr>\n",
       "  </tbody>\n",
       "</table>\n",
       "</div>"
      ],
      "text/plain": [
       "  subscription_type  minute_price  start_ride_price  subscription_fee\n",
       "0              free             8                50                 0\n",
       "1             ultra             6                 0               199"
      ]
     },
     "execution_count": 6,
     "metadata": {},
     "output_type": "execute_result"
    }
   ],
   "source": [
    "subscriptions = pd.read_csv('/datasets/subscriptions_go.csv')\n",
    "subscriptions.head(10)"
   ]
  },
  {
   "cell_type": "code",
   "execution_count": 7,
   "id": "cdce0725",
   "metadata": {
    "scrolled": false
   },
   "outputs": [
    {
     "name": "stdout",
     "output_type": "stream",
     "text": [
      "<class 'pandas.core.frame.DataFrame'>\n",
      "RangeIndex: 2 entries, 0 to 1\n",
      "Data columns (total 4 columns):\n",
      " #   Column             Non-Null Count  Dtype \n",
      "---  ------             --------------  ----- \n",
      " 0   subscription_type  2 non-null      object\n",
      " 1   minute_price       2 non-null      int64 \n",
      " 2   start_ride_price   2 non-null      int64 \n",
      " 3   subscription_fee   2 non-null      int64 \n",
      "dtypes: int64(3), object(1)\n",
      "memory usage: 192.0+ bytes\n"
     ]
    }
   ],
   "source": [
    "subscriptions.info()"
   ]
  },
  {
   "cell_type": "markdown",
   "id": "c6d6e112",
   "metadata": {},
   "source": [
    "***Описание данных о подписках:***\n",
    "\n",
    "-\tsubscription_type — тип подписки\n",
    "-\tminute_price — стоимость одной минуты поездки по данной подписке\n",
    "-\tstart_ride_price — стоимость начала поездки\n",
    "-\tsubscription_fee — стоимость ежемесячного платежа"
   ]
  },
  {
   "cell_type": "markdown",
   "id": "f561c2da",
   "metadata": {},
   "source": [
    "***Наблюдаем корректность в наименованиях столбцов и типов данных о подписках клиентов сервиса аренды самокатов.***"
   ]
  },
  {
   "cell_type": "markdown",
   "id": "92a9da45",
   "metadata": {},
   "source": [
    "## Шаг 2. Проведём предобработку данных"
   ]
  },
  {
   "cell_type": "markdown",
   "id": "029c7756",
   "metadata": {},
   "source": [
    "***Проверим наши таблицы на наличие пропусков и дубликатов.***"
   ]
  },
  {
   "cell_type": "code",
   "execution_count": 8,
   "id": "140745c4",
   "metadata": {},
   "outputs": [
    {
     "data": {
      "text/plain": [
       "user_id              0\n",
       "name                 0\n",
       "age                  0\n",
       "city                 0\n",
       "subscription_type    0\n",
       "dtype: int64"
      ]
     },
     "execution_count": 8,
     "metadata": {},
     "output_type": "execute_result"
    }
   ],
   "source": [
    "users.isna().sum()"
   ]
  },
  {
   "cell_type": "code",
   "execution_count": 9,
   "id": "3e078b79",
   "metadata": {},
   "outputs": [
    {
     "data": {
      "text/plain": [
       "user_id     0\n",
       "distance    0\n",
       "duration    0\n",
       "date        0\n",
       "dtype: int64"
      ]
     },
     "execution_count": 9,
     "metadata": {},
     "output_type": "execute_result"
    }
   ],
   "source": [
    "rides.isna().sum()"
   ]
  },
  {
   "cell_type": "code",
   "execution_count": 10,
   "id": "a0535c2f",
   "metadata": {
    "scrolled": true
   },
   "outputs": [
    {
     "data": {
      "text/plain": [
       "subscription_type    0\n",
       "minute_price         0\n",
       "start_ride_price     0\n",
       "subscription_fee     0\n",
       "dtype: int64"
      ]
     },
     "execution_count": 10,
     "metadata": {},
     "output_type": "execute_result"
    }
   ],
   "source": [
    "subscriptions.isna().sum()"
   ]
  },
  {
   "cell_type": "markdown",
   "id": "0c475fe3",
   "metadata": {},
   "source": [
    "***Пропусков в наших таблицах не наблюдаем.***"
   ]
  },
  {
   "cell_type": "code",
   "execution_count": 11,
   "id": "7309792c",
   "metadata": {},
   "outputs": [
    {
     "data": {
      "text/plain": [
       "31"
      ]
     },
     "execution_count": 11,
     "metadata": {},
     "output_type": "execute_result"
    }
   ],
   "source": [
    "users.duplicated().sum()"
   ]
  },
  {
   "cell_type": "code",
   "execution_count": 12,
   "id": "593d30d7",
   "metadata": {},
   "outputs": [],
   "source": [
    "users = users.drop_duplicates()"
   ]
  },
  {
   "cell_type": "code",
   "execution_count": 13,
   "id": "ac367f53",
   "metadata": {},
   "outputs": [
    {
     "data": {
      "text/plain": [
       "0"
      ]
     },
     "execution_count": 13,
     "metadata": {},
     "output_type": "execute_result"
    }
   ],
   "source": [
    "rides.duplicated().sum()"
   ]
  },
  {
   "cell_type": "code",
   "execution_count": 14,
   "id": "61301cf4",
   "metadata": {},
   "outputs": [
    {
     "data": {
      "text/plain": [
       "0"
      ]
     },
     "execution_count": 14,
     "metadata": {},
     "output_type": "execute_result"
    }
   ],
   "source": [
    "subscriptions.duplicated().sum()"
   ]
  },
  {
   "cell_type": "markdown",
   "id": "9795ccc4",
   "metadata": {},
   "source": [
    "***Обнаружили дубликаты в таблице данных о пользователях сервиса. Дубликаты удалили. В остальных таблицах дубликаты не обнаружены. Считаем нужным округлить дробные значения показателей дистанции и времени поездок.***"
   ]
  },
  {
   "cell_type": "markdown",
   "id": "e4c319b0",
   "metadata": {},
   "source": [
    "***Приведём данные о датах совершения поездок в столбце (data) в соответствие с типом даты pandas, который переводит строки в даты. Воспользуемся для этого методом to_datetime(). Проверим за какой период предоставлены данные. Создадим новый столбец с номером месяца на основе столбца date.***"
   ]
  },
  {
   "cell_type": "code",
   "execution_count": 15,
   "id": "4a1edf48",
   "metadata": {},
   "outputs": [
    {
     "data": {
      "text/plain": [
       "Timestamp('2021-01-01 00:00:00')"
      ]
     },
     "metadata": {},
     "output_type": "display_data"
    },
    {
     "data": {
      "text/plain": [
       "Timestamp('2021-12-30 00:00:00')"
      ]
     },
     "metadata": {},
     "output_type": "display_data"
    }
   ],
   "source": [
    "rides['date'] = pd.to_datetime(rides['date'], format='%Y-%m-%d')\n",
    "display(rides['date'].min(), rides['date'].max())"
   ]
  },
  {
   "cell_type": "code",
   "execution_count": 16,
   "id": "ee2cc31f",
   "metadata": {},
   "outputs": [
    {
     "name": "stdout",
     "output_type": "stream",
     "text": [
      "Проверим содержимое столбца с номерами месяцев: [ 1  2  3  4  5  6  7  8  9 10 11 12]\n"
     ]
    }
   ],
   "source": [
    "rides['date_month'] = rides['date'].dt.month\n",
    "print('Проверим содержимое столбца с номерами месяцев:', rides['date_month'].sort_values().unique())"
   ]
  },
  {
   "cell_type": "markdown",
   "id": "79d5e288",
   "metadata": {},
   "source": [
    "***Данные предоставлены за период с 1 января 2021 года по 30 декабря 2021 годов. В новом столбце отразили месяц в котором была совершена поездка.***"
   ]
  },
  {
   "cell_type": "markdown",
   "id": "29fc7c86",
   "metadata": {},
   "source": [
    "## Шаг 3. Проведём исследовательский анализ данных"
   ]
  },
  {
   "cell_type": "markdown",
   "id": "3fdde8ff",
   "metadata": {},
   "source": [
    "<font size=\"4\"><font color=blue>Изучим следующие параметры объектов:</font>"
   ]
  },
  {
   "cell_type": "markdown",
   "id": "971a6b3b",
   "metadata": {},
   "source": [
    "<font size=\"4\"><font color=blue>3.1 Проанализируем список городов используемых сервисом и исследуем их частоту встречаемости.</font>"
   ]
  },
  {
   "cell_type": "code",
   "execution_count": 17,
   "id": "54cf4bc7",
   "metadata": {
    "scrolled": false
   },
   "outputs": [
    {
     "data": {
      "text/plain": [
       "Пятигорск         219\n",
       "Екатеринбург      204\n",
       "Ростов-на-Дону    198\n",
       "Краснодар         193\n",
       "Сочи              189\n",
       "Омск              183\n",
       "Тюмень            180\n",
       "Москва            168\n",
       "Name: city, dtype: int64"
      ]
     },
     "execution_count": 17,
     "metadata": {},
     "output_type": "execute_result"
    }
   ],
   "source": [
    "users['city'].value_counts()"
   ]
  },
  {
   "cell_type": "markdown",
   "id": "903d656d",
   "metadata": {},
   "source": [
    "***Посмотрим на их процентное соотношение.***"
   ]
  },
  {
   "cell_type": "code",
   "execution_count": 18,
   "id": "7cca3de9",
   "metadata": {},
   "outputs": [
    {
     "data": {
      "image/png": "[encoded data removed]",
      "text/plain": [
       "<Figure size 720x432 with 1 Axes>"
      ]
     },
     "metadata": {
      "needs_background": "light"
     },
     "output_type": "display_data"
    }
   ],
   "source": [
    "all_users = len(users)\n",
    "city_users = users.groupby('city').size()/all_users\n",
    "city_users_sort = city_users.sort_values()\n",
    "\n",
    "\n",
    "\n",
    "schedule = city_users_sort.plot(kind='barh', color='blue', figsize=(10,6))\n",
    "\n",
    "plt.title('Соотношение пользователей сервиса по городам присутствия', fontsize=14, fontweight=\"bold\", color='blue')\n",
    "plt.xlabel('Количество пользователей, %', fontsize=14, fontweight=\"bold\", color='blue')\n",
    "plt.ylabel('Города присутствия сервиса', fontsize=14, fontweight=\"bold\", color='blue')\n",
    "\n",
    "percent = dict(city_users_sort)\n",
    "\n",
    "i = -0.1\n",
    "for row in percent:\n",
    "    schedule.text(percent[row]-0.02, i, str(round(percent[row]*100, 2)) + '%', \n",
    "            fontsize = 'large', fontweight='bold', color='white') \n",
    "    i += 1"
   ]
  },
  {
   "cell_type": "markdown",
   "id": "94506d7f",
   "metadata": {},
   "source": [
    "***Чаще всего в наших данных пользователей упоминается город Пятигорск 14.28% и реже всего Москва 10.95%.***"
   ]
  },
  {
   "cell_type": "markdown",
   "id": "22f34b17",
   "metadata": {},
   "source": [
    "<font size=\"4\"><font color=blue>3.2 Исследуем соотношение пользователей с подпиской и без подписки.</font>"
   ]
  },
  {
   "cell_type": "code",
   "execution_count": 19,
   "id": "b38f81fe",
   "metadata": {},
   "outputs": [
    {
     "data": {
      "text/plain": [
       "free     835\n",
       "ultra    699\n",
       "Name: subscription_type, dtype: int64"
      ]
     },
     "execution_count": 19,
     "metadata": {},
     "output_type": "execute_result"
    }
   ],
   "source": [
    "users['subscription_type'].value_counts()"
   ]
  },
  {
   "cell_type": "code",
   "execution_count": 20,
   "id": "48b2a8e9",
   "metadata": {
    "scrolled": true
   },
   "outputs": [
    {
     "data": {
      "image/png": "[encoded data removed]",
      "text/plain": [
       "<Figure size 360x360 with 1 Axes>"
      ]
     },
     "metadata": {},
     "output_type": "display_data"
    }
   ],
   "source": [
    "all_users = len(users)\n",
    "sub_users = users.groupby('subscription_type').size()/all_users\n",
    "sub_users_sort = sub_users.sort_values()\n",
    "schedule = sub_users_sort.plot(kind='pie', y='points', figsize=(5, 5), autopct='%0.1f%%', colors = ['blue', 'green'])\n",
    "\n",
    "plt.rc('font', size= 20 )\n",
    "plt.title('Соотношение пользователей сервиса с подпиской и без подписки, %', fontsize=14, fontweight=\"bold\", color='blue')\n",
    "plt.ylabel('Тип подписки сервиса', fontsize=14, fontweight=\"bold\", color='blue')\n",
    "\n",
    "None"
   ]
  },
  {
   "cell_type": "markdown",
   "id": "5e383d2f",
   "metadata": {},
   "source": [
    "***Среди предоставленных данных количество пользователей с подпиской составляет 45.6%, а без подписки 54.4%.***"
   ]
  },
  {
   "cell_type": "markdown",
   "id": "9cac73a2",
   "metadata": {},
   "source": [
    "<font size=\"4\"><font color=blue>3.3 Исследуем возраст пользователей сервиса самокатов.</font>"
   ]
  },
  {
   "cell_type": "code",
   "execution_count": 21,
   "id": "bd008d85",
   "metadata": {
    "scrolled": false
   },
   "outputs": [
    {
     "data": {
      "text/plain": [
       "count    1534.000000\n",
       "mean       24.903520\n",
       "std         4.572367\n",
       "min        12.000000\n",
       "25%        22.000000\n",
       "50%        25.000000\n",
       "75%        28.000000\n",
       "max        43.000000\n",
       "Name: age, dtype: float64"
      ]
     },
     "execution_count": 21,
     "metadata": {},
     "output_type": "execute_result"
    }
   ],
   "source": [
    "users['age'].describe()"
   ]
  },
  {
   "cell_type": "code",
   "execution_count": 22,
   "id": "7fc42dcc",
   "metadata": {},
   "outputs": [
    {
     "data": {
      "text/plain": [
       "25    145\n",
       "24    132\n",
       "26    131\n",
       "23    129\n",
       "27    119\n",
       "Name: age, dtype: int64"
      ]
     },
     "execution_count": 22,
     "metadata": {},
     "output_type": "execute_result"
    }
   ],
   "source": [
    "users['age'].value_counts().head()"
   ]
  },
  {
   "cell_type": "code",
   "execution_count": 23,
   "id": "ff7c0144",
   "metadata": {
    "scrolled": true
   },
   "outputs": [
    {
     "data": {
      "image/png": "[encoded data removed]",
      "text/plain": [
       "<Figure size 432x288 with 1 Axes>"
      ]
     },
     "metadata": {
      "needs_background": "light"
     },
     "output_type": "display_data"
    }
   ],
   "source": [
    "plt.hist(users['age'], color = \"blue\", bins=31)\n",
    "plt.title('Соотношение возраста пользователей и количества поездок', fontsize=14, fontweight=\"bold\", color='blue')\n",
    "plt.xlabel('Возраст пользователей', fontsize=14, fontweight=\"bold\", color='blue')\n",
    "plt.ylabel('Количество поездок', fontsize=14, fontweight=\"bold\", color='blue')\n",
    "plt.show()"
   ]
  },
  {
   "cell_type": "markdown",
   "id": "daf0d251",
   "metadata": {},
   "source": [
    "***Исследование показало, что возраст пользователей сервиса самокатов находится в диапазоне от 12 до 43 лет. Максимальным спросом у сервиса пользуется клиенты с возрастом 25 лет.***"
   ]
  },
  {
   "cell_type": "markdown",
   "id": "ba4bcf55",
   "metadata": {},
   "source": [
    "<font size=\"4\"><font color=blue>3.4 Исследуем расстояние, которое пользователь преодолел за одну поездку.</font>"
   ]
  },
  {
   "cell_type": "code",
   "execution_count": 24,
   "id": "3623b88f",
   "metadata": {
    "scrolled": true
   },
   "outputs": [
    {
     "data": {
      "text/plain": [
       "count    18068.000000\n",
       "mean      3070.659976\n",
       "std       1116.831209\n",
       "min          0.855683\n",
       "25%       2543.226360\n",
       "50%       3133.609994\n",
       "75%       3776.222735\n",
       "max       7211.007745\n",
       "Name: distance, dtype: float64"
      ]
     },
     "execution_count": 24,
     "metadata": {},
     "output_type": "execute_result"
    }
   ],
   "source": [
    "rides['distance'].describe()"
   ]
  },
  {
   "cell_type": "code",
   "execution_count": 25,
   "id": "396f1a70",
   "metadata": {
    "scrolled": false
   },
   "outputs": [
    {
     "data": {
      "image/png": "[encoded data removed]",
      "text/plain": [
       "<Figure size 432x288 with 1 Axes>"
      ]
     },
     "metadata": {
      "needs_background": "light"
     },
     "output_type": "display_data"
    }
   ],
   "source": [
    "plt.hist(rides['distance'], color = \"blue\", bins=100)\n",
    "plt.title('Соотношение расстояния поездок и их количества', fontsize=14, fontweight=\"bold\", color='blue')\n",
    "plt.xlabel('Расстояние поездок, м', fontsize=14, fontweight=\"bold\", color='blue')\n",
    "plt.ylabel('Количество поездок', fontsize=14, fontweight=\"bold\", color='blue')\n",
    "plt.show()"
   ]
  },
  {
   "cell_type": "code",
   "execution_count": 26,
   "id": "10b1751d",
   "metadata": {
    "scrolled": false
   },
   "outputs": [
    {
     "data": {
      "image/png": "[encoded data removed]",
      "text/plain": [
       "<Figure size 432x288 with 1 Axes>"
      ]
     },
     "metadata": {
      "needs_background": "light"
     },
     "output_type": "display_data"
    }
   ],
   "source": [
    "plt.hist(rides['distance'], color = \"blue\", bins=100, range=(0,1500))\n",
    "plt.title('Соотношение расстояния поездок и их количества', fontsize=14, fontweight=\"bold\", color='blue')\n",
    "plt.xlabel('Расстояние поездок, м', fontsize=14, fontweight=\"bold\", color='blue')\n",
    "plt.ylabel('Количество поездок', fontsize=14, fontweight=\"bold\", color='blue')\n",
    "plt.show()"
   ]
  },
  {
   "cell_type": "code",
   "execution_count": 27,
   "id": "b1967a6a",
   "metadata": {
    "scrolled": true
   },
   "outputs": [
    {
     "data": {
      "image/png": "[encoded data removed]",
      "text/plain": [
       "<Figure size 432x288 with 1 Axes>"
      ]
     },
     "metadata": {
      "needs_background": "light"
     },
     "output_type": "display_data"
    }
   ],
   "source": [
    "plt.hist(rides['distance'], color = \"blue\", bins=100, range=(1500,4500))\n",
    "plt.title('Соотношение расстояния поездок и их количества', fontsize=14, fontweight=\"bold\", color='blue')\n",
    "plt.xlabel('Расстояние поездок, м', fontsize=14, fontweight=\"bold\", color='blue')\n",
    "plt.ylabel('Количество поездок', fontsize=14, fontweight=\"bold\", color='blue')\n",
    "plt.show()"
   ]
  },
  {
   "cell_type": "markdown",
   "id": "c6308124",
   "metadata": {},
   "source": [
    "***Исследование показало, что мы имеем 2 значимых пика на гистограмме. Малый всплеск в районе около 700 м преодолеваемое клиентами сервиса и второй около 3200 метров.\\\n",
    "Допускаем, что первая группа со средним преодоливаемым расстоянием 700 м использует самокат, чтобы доехать до ближайшего пункта пересадки на другой транспорт (метро, автобус). А вторая группа принимает решение продолжать путь на большее расстояние до конечного пунтка назначения.***"
   ]
  },
  {
   "cell_type": "markdown",
   "id": "161b84d7",
   "metadata": {},
   "source": [
    "<font size=\"4\"><font color=blue>3.5 Рассмотрим продолжительность поездок.</font>"
   ]
  },
  {
   "cell_type": "code",
   "execution_count": 28,
   "id": "e5f2dfe4",
   "metadata": {},
   "outputs": [
    {
     "data": {
      "text/plain": [
       "count    18068.000000\n",
       "mean        17.805011\n",
       "std          6.091051\n",
       "min          0.500000\n",
       "25%         13.597563\n",
       "50%         17.678395\n",
       "75%         21.724800\n",
       "max         40.823963\n",
       "Name: duration, dtype: float64"
      ]
     },
     "execution_count": 28,
     "metadata": {},
     "output_type": "execute_result"
    }
   ],
   "source": [
    "rides['duration'].describe()"
   ]
  },
  {
   "cell_type": "code",
   "execution_count": 29,
   "id": "16f22963",
   "metadata": {
    "scrolled": true
   },
   "outputs": [
    {
     "data": {
      "image/png": "[encoded data removed]",
      "text/plain": [
       "<Figure size 432x288 with 1 Axes>"
      ]
     },
     "metadata": {
      "needs_background": "light"
     },
     "output_type": "display_data"
    }
   ],
   "source": [
    "plt.hist(rides['duration'], color = \"blue\", bins=100)\n",
    "plt.title('Соотношение времени поездок и их количества', fontsize=14, fontweight=\"bold\", color='blue')\n",
    "plt.xlabel('Время поездок, мин', fontsize=14, fontweight=\"bold\", color='blue')\n",
    "plt.ylabel('Количество поездок', fontsize=14, fontweight=\"bold\", color='blue')\n",
    "plt.show()"
   ]
  },
  {
   "cell_type": "markdown",
   "id": "f8bfdea9",
   "metadata": {},
   "source": [
    "***Гистограмма показала необычный всплеск вблизи нулевого \"0\" времени. Проанализируем детальней.***"
   ]
  },
  {
   "cell_type": "code",
   "execution_count": 30,
   "id": "c89ae55a",
   "metadata": {
    "scrolled": false
   },
   "outputs": [
    {
     "data": {
      "image/png": "[encoded data removed]",
      "text/plain": [
       "<Figure size 432x288 with 1 Axes>"
      ]
     },
     "metadata": {
      "needs_background": "light"
     },
     "output_type": "display_data"
    }
   ],
   "source": [
    "plt.hist(rides['duration'], color = \"blue\", bins=100, range=(0,1))\n",
    "plt.title('Соотношение времени поездок и их количества', fontsize=14, fontweight=\"bold\", color='blue')\n",
    "plt.xlabel('Время поездок, мин', fontsize=14, fontweight=\"bold\", color='blue')\n",
    "plt.ylabel('Количество поездок', fontsize=14, fontweight=\"bold\", color='blue')\n",
    "plt.show()"
   ]
  },
  {
   "cell_type": "markdown",
   "id": "348ba10e",
   "metadata": {},
   "source": [
    "***Значительное количество клиентов сервиса пользовались самокатом около половины минуты. Рассмотрим подробнее строки с этими поездками.***"
   ]
  },
  {
   "cell_type": "code",
   "execution_count": 31,
   "id": "a5d0f43b",
   "metadata": {},
   "outputs": [
    {
     "data": {
      "text/html": [
       "<div>\n",
       "<style scoped>\n",
       "    .dataframe tbody tr th:only-of-type {\n",
       "        vertical-align: middle;\n",
       "    }\n",
       "\n",
       "    .dataframe tbody tr th {\n",
       "        vertical-align: top;\n",
       "    }\n",
       "\n",
       "    .dataframe thead th {\n",
       "        text-align: right;\n",
       "    }\n",
       "</style>\n",
       "<table border=\"1\" class=\"dataframe\">\n",
       "  <thead>\n",
       "    <tr style=\"text-align: right;\">\n",
       "      <th></th>\n",
       "      <th>user_id</th>\n",
       "      <th>distance</th>\n",
       "      <th>duration</th>\n",
       "      <th>date</th>\n",
       "      <th>date_month</th>\n",
       "    </tr>\n",
       "  </thead>\n",
       "  <tbody>\n",
       "    <tr>\n",
       "      <th>6531</th>\n",
       "      <td>701</td>\n",
       "      <td>4196.445201</td>\n",
       "      <td>0.5</td>\n",
       "      <td>2021-08-31</td>\n",
       "      <td>8</td>\n",
       "    </tr>\n",
       "    <tr>\n",
       "      <th>6570</th>\n",
       "      <td>704</td>\n",
       "      <td>4830.824371</td>\n",
       "      <td>0.5</td>\n",
       "      <td>2021-10-14</td>\n",
       "      <td>10</td>\n",
       "    </tr>\n",
       "    <tr>\n",
       "      <th>6680</th>\n",
       "      <td>712</td>\n",
       "      <td>4684.004397</td>\n",
       "      <td>0.5</td>\n",
       "      <td>2021-03-04</td>\n",
       "      <td>3</td>\n",
       "    </tr>\n",
       "    <tr>\n",
       "      <th>6695</th>\n",
       "      <td>713</td>\n",
       "      <td>5215.642710</td>\n",
       "      <td>0.5</td>\n",
       "      <td>2021-02-25</td>\n",
       "      <td>2</td>\n",
       "    </tr>\n",
       "    <tr>\n",
       "      <th>6768</th>\n",
       "      <td>718</td>\n",
       "      <td>5197.436649</td>\n",
       "      <td>0.5</td>\n",
       "      <td>2021-02-11</td>\n",
       "      <td>2</td>\n",
       "    </tr>\n",
       "    <tr>\n",
       "      <th>6860</th>\n",
       "      <td>724</td>\n",
       "      <td>6225.520342</td>\n",
       "      <td>0.5</td>\n",
       "      <td>2021-12-16</td>\n",
       "      <td>12</td>\n",
       "    </tr>\n",
       "    <tr>\n",
       "      <th>6883</th>\n",
       "      <td>726</td>\n",
       "      <td>4452.491518</td>\n",
       "      <td>0.5</td>\n",
       "      <td>2021-03-01</td>\n",
       "      <td>3</td>\n",
       "    </tr>\n",
       "    <tr>\n",
       "      <th>7018</th>\n",
       "      <td>735</td>\n",
       "      <td>4406.954812</td>\n",
       "      <td>0.5</td>\n",
       "      <td>2021-04-13</td>\n",
       "      <td>4</td>\n",
       "    </tr>\n",
       "    <tr>\n",
       "      <th>7160</th>\n",
       "      <td>745</td>\n",
       "      <td>5286.167732</td>\n",
       "      <td>0.5</td>\n",
       "      <td>2021-08-17</td>\n",
       "      <td>8</td>\n",
       "    </tr>\n",
       "    <tr>\n",
       "      <th>7364</th>\n",
       "      <td>760</td>\n",
       "      <td>4881.391865</td>\n",
       "      <td>0.5</td>\n",
       "      <td>2021-08-29</td>\n",
       "      <td>8</td>\n",
       "    </tr>\n",
       "  </tbody>\n",
       "</table>\n",
       "</div>"
      ],
      "text/plain": [
       "      user_id     distance  duration       date  date_month\n",
       "6531      701  4196.445201       0.5 2021-08-31           8\n",
       "6570      704  4830.824371       0.5 2021-10-14          10\n",
       "6680      712  4684.004397       0.5 2021-03-04           3\n",
       "6695      713  5215.642710       0.5 2021-02-25           2\n",
       "6768      718  5197.436649       0.5 2021-02-11           2\n",
       "6860      724  6225.520342       0.5 2021-12-16          12\n",
       "6883      726  4452.491518       0.5 2021-03-01           3\n",
       "7018      735  4406.954812       0.5 2021-04-13           4\n",
       "7160      745  5286.167732       0.5 2021-08-17           8\n",
       "7364      760  4881.391865       0.5 2021-08-29           8"
      ]
     },
     "execution_count": 31,
     "metadata": {},
     "output_type": "execute_result"
    }
   ],
   "source": [
    "rides.head(10)\n",
    "rides[rides['duration'] < 1].head(10)"
   ]
  },
  {
   "cell_type": "markdown",
   "id": "c72b5c8b",
   "metadata": {},
   "source": [
    "***Несмотря на указанное потраченное время 0.5 минут, расстояние пройденное при поездках было значительное. Это аномальная ошибка, требующая внести коррективы в указание времени поездок. Возьмем для поездок более 1 минуты среднее отношение расстояния поездок к их времени. И используем этот коэффициент для замены аномальных значений.***"
   ]
  },
  {
   "cell_type": "code",
   "execution_count": 32,
   "id": "38c36084",
   "metadata": {},
   "outputs": [
    {
     "name": "stdout",
     "output_type": "stream",
     "text": [
      "Доля поездок с ошибкой указания времени составляет: 0.53 %\n"
     ]
    }
   ],
   "source": [
    "print('Доля поездок с ошибкой указания времени составляет:', \n",
    "      (rides.loc[rides['duration'] < 1, 'duration'].count()/rides['duration'].count()*100).round(2),'%')"
   ]
  },
  {
   "cell_type": "code",
   "execution_count": 33,
   "id": "159209e1",
   "metadata": {},
   "outputs": [
    {
     "data": {
      "text/plain": [
       "176.91526708769788"
      ]
     },
     "execution_count": 33,
     "metadata": {},
     "output_type": "execute_result"
    }
   ],
   "source": [
    "rides_div = rides.loc[rides['duration'] >= 1, 'distance'] / rides.loc[rides['duration'] >= 1, 'duration']\n",
    "k = rides_div.mean()\n",
    "k"
   ]
  },
  {
   "cell_type": "code",
   "execution_count": 34,
   "id": "38ff0bce",
   "metadata": {},
   "outputs": [
    {
     "data": {
      "text/plain": [
       "2.0356324681963884"
      ]
     },
     "execution_count": 34,
     "metadata": {},
     "output_type": "execute_result"
    }
   ],
   "source": [
    "rides.loc[rides['duration'] < 1, 'duration'] = rides.loc[rides['duration'] < 1, 'distance'] / k\n",
    "rides['duration'].min()"
   ]
  },
  {
   "cell_type": "markdown",
   "id": "cb72195c",
   "metadata": {},
   "source": [
    "***Аномальные ошибочные значения были выевлены и они составляли 0.53% от общего числа поездок. Аномалии заменены. Поездок со временем менее 1 минуты в таблице устранены. Минимальное время поездки после исправления 2 минуты. Видимо программное обеспечение самоката фиксировало пройденное расстояние, но по ошибке выдавало время поездки 0.5 минут.***"
   ]
  },
  {
   "cell_type": "code",
   "execution_count": 35,
   "id": "e3455bc8",
   "metadata": {
    "scrolled": false
   },
   "outputs": [
    {
     "data": {
      "image/png": "[encoded data removed]",
      "text/plain": [
       "<Figure size 432x288 with 1 Axes>"
      ]
     },
     "metadata": {
      "needs_background": "light"
     },
     "output_type": "display_data"
    }
   ],
   "source": [
    "plt.hist(rides['duration'], color = \"blue\", bins=200, range=(1,35))\n",
    "plt.title('Соотношение времени поездок и их количества', fontsize=14, fontweight=\"bold\", color='blue')\n",
    "plt.xlabel('Время поездок, мин', fontsize=14, fontweight=\"bold\", color='blue')\n",
    "plt.ylabel('Количество поездок', fontsize=14, fontweight=\"bold\", color='blue')\n",
    "plt.show()"
   ]
  },
  {
   "cell_type": "markdown",
   "id": "52df372a",
   "metadata": {},
   "source": [
    "***Анализ графика показал, что самым распространненым можно считать продолжительность поездки около 18 минут.***"
   ]
  },
  {
   "cell_type": "markdown",
   "id": "299d9f11",
   "metadata": {},
   "source": [
    "## Шаг 4. Проведём объединение данных"
   ]
  },
  {
   "cell_type": "markdown",
   "id": "8ad33de0",
   "metadata": {},
   "source": [
    "<font size=\"4\"><font color=blue>4.1 Объединим данные о пользователях, поездках и подписках в один датафрейм. Для этого воспользуйтесь методом merge().</font>"
   ]
  },
  {
   "cell_type": "code",
   "execution_count": 36,
   "id": "815925f5",
   "metadata": {},
   "outputs": [
    {
     "data": {
      "text/html": [
       "<div>\n",
       "<style scoped>\n",
       "    .dataframe tbody tr th:only-of-type {\n",
       "        vertical-align: middle;\n",
       "    }\n",
       "\n",
       "    .dataframe tbody tr th {\n",
       "        vertical-align: top;\n",
       "    }\n",
       "\n",
       "    .dataframe thead th {\n",
       "        text-align: right;\n",
       "    }\n",
       "</style>\n",
       "<table border=\"1\" class=\"dataframe\">\n",
       "  <thead>\n",
       "    <tr style=\"text-align: right;\">\n",
       "      <th></th>\n",
       "      <th>user_id</th>\n",
       "      <th>distance</th>\n",
       "      <th>duration</th>\n",
       "      <th>date</th>\n",
       "      <th>date_month</th>\n",
       "      <th>name</th>\n",
       "      <th>age</th>\n",
       "      <th>city</th>\n",
       "      <th>subscription_type</th>\n",
       "    </tr>\n",
       "  </thead>\n",
       "  <tbody>\n",
       "    <tr>\n",
       "      <th>0</th>\n",
       "      <td>1</td>\n",
       "      <td>4409.919140</td>\n",
       "      <td>25.599769</td>\n",
       "      <td>2021-01-01</td>\n",
       "      <td>1</td>\n",
       "      <td>Кира</td>\n",
       "      <td>22</td>\n",
       "      <td>Тюмень</td>\n",
       "      <td>ultra</td>\n",
       "    </tr>\n",
       "    <tr>\n",
       "      <th>1</th>\n",
       "      <td>1</td>\n",
       "      <td>2617.592153</td>\n",
       "      <td>15.816871</td>\n",
       "      <td>2021-01-18</td>\n",
       "      <td>1</td>\n",
       "      <td>Кира</td>\n",
       "      <td>22</td>\n",
       "      <td>Тюмень</td>\n",
       "      <td>ultra</td>\n",
       "    </tr>\n",
       "    <tr>\n",
       "      <th>2</th>\n",
       "      <td>1</td>\n",
       "      <td>754.159807</td>\n",
       "      <td>6.232113</td>\n",
       "      <td>2021-04-20</td>\n",
       "      <td>4</td>\n",
       "      <td>Кира</td>\n",
       "      <td>22</td>\n",
       "      <td>Тюмень</td>\n",
       "      <td>ultra</td>\n",
       "    </tr>\n",
       "    <tr>\n",
       "      <th>3</th>\n",
       "      <td>1</td>\n",
       "      <td>2694.783254</td>\n",
       "      <td>18.511000</td>\n",
       "      <td>2021-08-11</td>\n",
       "      <td>8</td>\n",
       "      <td>Кира</td>\n",
       "      <td>22</td>\n",
       "      <td>Тюмень</td>\n",
       "      <td>ultra</td>\n",
       "    </tr>\n",
       "    <tr>\n",
       "      <th>4</th>\n",
       "      <td>1</td>\n",
       "      <td>4028.687306</td>\n",
       "      <td>26.265803</td>\n",
       "      <td>2021-08-28</td>\n",
       "      <td>8</td>\n",
       "      <td>Кира</td>\n",
       "      <td>22</td>\n",
       "      <td>Тюмень</td>\n",
       "      <td>ultra</td>\n",
       "    </tr>\n",
       "  </tbody>\n",
       "</table>\n",
       "</div>"
      ],
      "text/plain": [
       "   user_id     distance   duration       date  date_month  name  age    city  \\\n",
       "0        1  4409.919140  25.599769 2021-01-01           1  Кира   22  Тюмень   \n",
       "1        1  2617.592153  15.816871 2021-01-18           1  Кира   22  Тюмень   \n",
       "2        1   754.159807   6.232113 2021-04-20           4  Кира   22  Тюмень   \n",
       "3        1  2694.783254  18.511000 2021-08-11           8  Кира   22  Тюмень   \n",
       "4        1  4028.687306  26.265803 2021-08-28           8  Кира   22  Тюмень   \n",
       "\n",
       "  subscription_type  \n",
       "0             ultra  \n",
       "1             ultra  \n",
       "2             ultra  \n",
       "3             ultra  \n",
       "4             ultra  "
      ]
     },
     "execution_count": 36,
     "metadata": {},
     "output_type": "execute_result"
    }
   ],
   "source": [
    "scoot = rides.merge(users, on='user_id', how='left')\n",
    "scoot.head()"
   ]
  },
  {
   "cell_type": "code",
   "execution_count": 37,
   "id": "a8b4c9f4",
   "metadata": {
    "scrolled": false
   },
   "outputs": [
    {
     "data": {
      "text/html": [
       "<div>\n",
       "<style scoped>\n",
       "    .dataframe tbody tr th:only-of-type {\n",
       "        vertical-align: middle;\n",
       "    }\n",
       "\n",
       "    .dataframe tbody tr th {\n",
       "        vertical-align: top;\n",
       "    }\n",
       "\n",
       "    .dataframe thead th {\n",
       "        text-align: right;\n",
       "    }\n",
       "</style>\n",
       "<table border=\"1\" class=\"dataframe\">\n",
       "  <thead>\n",
       "    <tr style=\"text-align: right;\">\n",
       "      <th></th>\n",
       "      <th>user_id</th>\n",
       "      <th>distance</th>\n",
       "      <th>duration</th>\n",
       "      <th>date</th>\n",
       "      <th>date_month</th>\n",
       "      <th>name</th>\n",
       "      <th>age</th>\n",
       "      <th>city</th>\n",
       "      <th>subscription_type</th>\n",
       "      <th>minute_price</th>\n",
       "      <th>start_ride_price</th>\n",
       "      <th>subscription_fee</th>\n",
       "    </tr>\n",
       "  </thead>\n",
       "  <tbody>\n",
       "    <tr>\n",
       "      <th>0</th>\n",
       "      <td>1</td>\n",
       "      <td>4409.919140</td>\n",
       "      <td>25.599769</td>\n",
       "      <td>2021-01-01</td>\n",
       "      <td>1</td>\n",
       "      <td>Кира</td>\n",
       "      <td>22</td>\n",
       "      <td>Тюмень</td>\n",
       "      <td>ultra</td>\n",
       "      <td>6</td>\n",
       "      <td>0</td>\n",
       "      <td>199</td>\n",
       "    </tr>\n",
       "    <tr>\n",
       "      <th>1</th>\n",
       "      <td>1</td>\n",
       "      <td>2617.592153</td>\n",
       "      <td>15.816871</td>\n",
       "      <td>2021-01-18</td>\n",
       "      <td>1</td>\n",
       "      <td>Кира</td>\n",
       "      <td>22</td>\n",
       "      <td>Тюмень</td>\n",
       "      <td>ultra</td>\n",
       "      <td>6</td>\n",
       "      <td>0</td>\n",
       "      <td>199</td>\n",
       "    </tr>\n",
       "    <tr>\n",
       "      <th>2</th>\n",
       "      <td>1</td>\n",
       "      <td>754.159807</td>\n",
       "      <td>6.232113</td>\n",
       "      <td>2021-04-20</td>\n",
       "      <td>4</td>\n",
       "      <td>Кира</td>\n",
       "      <td>22</td>\n",
       "      <td>Тюмень</td>\n",
       "      <td>ultra</td>\n",
       "      <td>6</td>\n",
       "      <td>0</td>\n",
       "      <td>199</td>\n",
       "    </tr>\n",
       "    <tr>\n",
       "      <th>3</th>\n",
       "      <td>1</td>\n",
       "      <td>2694.783254</td>\n",
       "      <td>18.511000</td>\n",
       "      <td>2021-08-11</td>\n",
       "      <td>8</td>\n",
       "      <td>Кира</td>\n",
       "      <td>22</td>\n",
       "      <td>Тюмень</td>\n",
       "      <td>ultra</td>\n",
       "      <td>6</td>\n",
       "      <td>0</td>\n",
       "      <td>199</td>\n",
       "    </tr>\n",
       "    <tr>\n",
       "      <th>4</th>\n",
       "      <td>1</td>\n",
       "      <td>4028.687306</td>\n",
       "      <td>26.265803</td>\n",
       "      <td>2021-08-28</td>\n",
       "      <td>8</td>\n",
       "      <td>Кира</td>\n",
       "      <td>22</td>\n",
       "      <td>Тюмень</td>\n",
       "      <td>ultra</td>\n",
       "      <td>6</td>\n",
       "      <td>0</td>\n",
       "      <td>199</td>\n",
       "    </tr>\n",
       "  </tbody>\n",
       "</table>\n",
       "</div>"
      ],
      "text/plain": [
       "   user_id     distance   duration       date  date_month  name  age    city  \\\n",
       "0        1  4409.919140  25.599769 2021-01-01           1  Кира   22  Тюмень   \n",
       "1        1  2617.592153  15.816871 2021-01-18           1  Кира   22  Тюмень   \n",
       "2        1   754.159807   6.232113 2021-04-20           4  Кира   22  Тюмень   \n",
       "3        1  2694.783254  18.511000 2021-08-11           8  Кира   22  Тюмень   \n",
       "4        1  4028.687306  26.265803 2021-08-28           8  Кира   22  Тюмень   \n",
       "\n",
       "  subscription_type  minute_price  start_ride_price  subscription_fee  \n",
       "0             ultra             6                 0               199  \n",
       "1             ultra             6                 0               199  \n",
       "2             ultra             6                 0               199  \n",
       "3             ultra             6                 0               199  \n",
       "4             ultra             6                 0               199  "
      ]
     },
     "execution_count": 37,
     "metadata": {},
     "output_type": "execute_result"
    }
   ],
   "source": [
    "scooter = scoot.merge(subscriptions, on='subscription_type', how='left')\n",
    "scooter.head()"
   ]
  },
  {
   "cell_type": "code",
   "execution_count": 38,
   "id": "6cf74254",
   "metadata": {},
   "outputs": [
    {
     "name": "stdout",
     "output_type": "stream",
     "text": [
      "Количество строк в данных о пользователях: 1534\n",
      "Количество строк в данных о поездках: 18068\n",
      "Количество строк в данных о подписках: 2\n",
      "Количество строк после объединения: 18068\n"
     ]
    }
   ],
   "source": [
    "print('Количество строк в данных о пользователях:', len(users))\n",
    "print('Количество строк в данных о поездках:', len(rides))\n",
    "print('Количество строк в данных о подписках:', len(subscriptions))\n",
    "print('Количество строк после объединения:', len(scooter))"
   ]
  },
  {
   "cell_type": "markdown",
   "id": "e8765bc8",
   "metadata": {},
   "source": [
    "***Мы провели объединение корректно. Ничего не потеряли и лишнего не добавили.***"
   ]
  },
  {
   "cell_type": "markdown",
   "id": "1b5e6f2c",
   "metadata": {},
   "source": [
    "<font size=\"4\"><font color=blue>4.2 Создадим ещё два датафрейма из датафрейма, созданного на этапе 4.1:\\\n",
    "- c данными о пользователях без подписки;\n",
    "- с данными о пользователях с подпиской.\n",
    "</font>"
   ]
  },
  {
   "cell_type": "code",
   "execution_count": 39,
   "id": "06c71e33",
   "metadata": {
    "scrolled": true
   },
   "outputs": [
    {
     "data": {
      "text/plain": [
       "free     11568\n",
       "ultra     6500\n",
       "Name: subscription_type, dtype: int64"
      ]
     },
     "execution_count": 39,
     "metadata": {},
     "output_type": "execute_result"
    }
   ],
   "source": [
    "scooter['subscription_type'].value_counts()"
   ]
  },
  {
   "cell_type": "code",
   "execution_count": 40,
   "id": "75d3b75b",
   "metadata": {
    "scrolled": true
   },
   "outputs": [
    {
     "data": {
      "text/html": [
       "<div>\n",
       "<style scoped>\n",
       "    .dataframe tbody tr th:only-of-type {\n",
       "        vertical-align: middle;\n",
       "    }\n",
       "\n",
       "    .dataframe tbody tr th {\n",
       "        vertical-align: top;\n",
       "    }\n",
       "\n",
       "    .dataframe thead th {\n",
       "        text-align: right;\n",
       "    }\n",
       "</style>\n",
       "<table border=\"1\" class=\"dataframe\">\n",
       "  <thead>\n",
       "    <tr style=\"text-align: right;\">\n",
       "      <th></th>\n",
       "      <th>index</th>\n",
       "      <th>user_id</th>\n",
       "      <th>distance</th>\n",
       "      <th>duration</th>\n",
       "      <th>date</th>\n",
       "      <th>date_month</th>\n",
       "      <th>name</th>\n",
       "      <th>age</th>\n",
       "      <th>city</th>\n",
       "      <th>subscription_type</th>\n",
       "      <th>minute_price</th>\n",
       "      <th>start_ride_price</th>\n",
       "      <th>subscription_fee</th>\n",
       "    </tr>\n",
       "  </thead>\n",
       "  <tbody>\n",
       "    <tr>\n",
       "      <th>0</th>\n",
       "      <td>6500</td>\n",
       "      <td>700</td>\n",
       "      <td>2515.690719</td>\n",
       "      <td>14.944286</td>\n",
       "      <td>2021-01-02</td>\n",
       "      <td>1</td>\n",
       "      <td>Айдар</td>\n",
       "      <td>22</td>\n",
       "      <td>Омск</td>\n",
       "      <td>free</td>\n",
       "      <td>8</td>\n",
       "      <td>50</td>\n",
       "      <td>0</td>\n",
       "    </tr>\n",
       "    <tr>\n",
       "      <th>1</th>\n",
       "      <td>6501</td>\n",
       "      <td>700</td>\n",
       "      <td>846.932642</td>\n",
       "      <td>16.234663</td>\n",
       "      <td>2021-02-01</td>\n",
       "      <td>2</td>\n",
       "      <td>Айдар</td>\n",
       "      <td>22</td>\n",
       "      <td>Омск</td>\n",
       "      <td>free</td>\n",
       "      <td>8</td>\n",
       "      <td>50</td>\n",
       "      <td>0</td>\n",
       "    </tr>\n",
       "    <tr>\n",
       "      <th>2</th>\n",
       "      <td>6502</td>\n",
       "      <td>700</td>\n",
       "      <td>4004.434142</td>\n",
       "      <td>20.016628</td>\n",
       "      <td>2021-02-04</td>\n",
       "      <td>2</td>\n",
       "      <td>Айдар</td>\n",
       "      <td>22</td>\n",
       "      <td>Омск</td>\n",
       "      <td>free</td>\n",
       "      <td>8</td>\n",
       "      <td>50</td>\n",
       "      <td>0</td>\n",
       "    </tr>\n",
       "    <tr>\n",
       "      <th>3</th>\n",
       "      <td>6503</td>\n",
       "      <td>700</td>\n",
       "      <td>1205.911290</td>\n",
       "      <td>9.782872</td>\n",
       "      <td>2021-02-10</td>\n",
       "      <td>2</td>\n",
       "      <td>Айдар</td>\n",
       "      <td>22</td>\n",
       "      <td>Омск</td>\n",
       "      <td>free</td>\n",
       "      <td>8</td>\n",
       "      <td>50</td>\n",
       "      <td>0</td>\n",
       "    </tr>\n",
       "    <tr>\n",
       "      <th>4</th>\n",
       "      <td>6504</td>\n",
       "      <td>700</td>\n",
       "      <td>3047.379435</td>\n",
       "      <td>17.427673</td>\n",
       "      <td>2021-02-14</td>\n",
       "      <td>2</td>\n",
       "      <td>Айдар</td>\n",
       "      <td>22</td>\n",
       "      <td>Омск</td>\n",
       "      <td>free</td>\n",
       "      <td>8</td>\n",
       "      <td>50</td>\n",
       "      <td>0</td>\n",
       "    </tr>\n",
       "  </tbody>\n",
       "</table>\n",
       "</div>"
      ],
      "text/plain": [
       "   index  user_id     distance   duration       date  date_month   name  age  \\\n",
       "0   6500      700  2515.690719  14.944286 2021-01-02           1  Айдар   22   \n",
       "1   6501      700   846.932642  16.234663 2021-02-01           2  Айдар   22   \n",
       "2   6502      700  4004.434142  20.016628 2021-02-04           2  Айдар   22   \n",
       "3   6503      700  1205.911290   9.782872 2021-02-10           2  Айдар   22   \n",
       "4   6504      700  3047.379435  17.427673 2021-02-14           2  Айдар   22   \n",
       "\n",
       "   city subscription_type  minute_price  start_ride_price  subscription_fee  \n",
       "0  Омск              free             8                50                 0  \n",
       "1  Омск              free             8                50                 0  \n",
       "2  Омск              free             8                50                 0  \n",
       "3  Омск              free             8                50                 0  \n",
       "4  Омск              free             8                50                 0  "
      ]
     },
     "execution_count": 40,
     "metadata": {},
     "output_type": "execute_result"
    }
   ],
   "source": [
    "scooter_free = scooter[scooter['subscription_type'] == 'free'].reset_index() \n",
    "scooter_free.head()"
   ]
  },
  {
   "cell_type": "code",
   "execution_count": 41,
   "id": "13a79d5d",
   "metadata": {
    "scrolled": false
   },
   "outputs": [
    {
     "data": {
      "text/html": [
       "<div>\n",
       "<style scoped>\n",
       "    .dataframe tbody tr th:only-of-type {\n",
       "        vertical-align: middle;\n",
       "    }\n",
       "\n",
       "    .dataframe tbody tr th {\n",
       "        vertical-align: top;\n",
       "    }\n",
       "\n",
       "    .dataframe thead th {\n",
       "        text-align: right;\n",
       "    }\n",
       "</style>\n",
       "<table border=\"1\" class=\"dataframe\">\n",
       "  <thead>\n",
       "    <tr style=\"text-align: right;\">\n",
       "      <th></th>\n",
       "      <th>index</th>\n",
       "      <th>user_id</th>\n",
       "      <th>distance</th>\n",
       "      <th>duration</th>\n",
       "      <th>date</th>\n",
       "      <th>date_month</th>\n",
       "      <th>name</th>\n",
       "      <th>age</th>\n",
       "      <th>city</th>\n",
       "      <th>subscription_type</th>\n",
       "      <th>minute_price</th>\n",
       "      <th>start_ride_price</th>\n",
       "      <th>subscription_fee</th>\n",
       "    </tr>\n",
       "  </thead>\n",
       "  <tbody>\n",
       "    <tr>\n",
       "      <th>0</th>\n",
       "      <td>0</td>\n",
       "      <td>1</td>\n",
       "      <td>4409.919140</td>\n",
       "      <td>25.599769</td>\n",
       "      <td>2021-01-01</td>\n",
       "      <td>1</td>\n",
       "      <td>Кира</td>\n",
       "      <td>22</td>\n",
       "      <td>Тюмень</td>\n",
       "      <td>ultra</td>\n",
       "      <td>6</td>\n",
       "      <td>0</td>\n",
       "      <td>199</td>\n",
       "    </tr>\n",
       "    <tr>\n",
       "      <th>1</th>\n",
       "      <td>1</td>\n",
       "      <td>1</td>\n",
       "      <td>2617.592153</td>\n",
       "      <td>15.816871</td>\n",
       "      <td>2021-01-18</td>\n",
       "      <td>1</td>\n",
       "      <td>Кира</td>\n",
       "      <td>22</td>\n",
       "      <td>Тюмень</td>\n",
       "      <td>ultra</td>\n",
       "      <td>6</td>\n",
       "      <td>0</td>\n",
       "      <td>199</td>\n",
       "    </tr>\n",
       "    <tr>\n",
       "      <th>2</th>\n",
       "      <td>2</td>\n",
       "      <td>1</td>\n",
       "      <td>754.159807</td>\n",
       "      <td>6.232113</td>\n",
       "      <td>2021-04-20</td>\n",
       "      <td>4</td>\n",
       "      <td>Кира</td>\n",
       "      <td>22</td>\n",
       "      <td>Тюмень</td>\n",
       "      <td>ultra</td>\n",
       "      <td>6</td>\n",
       "      <td>0</td>\n",
       "      <td>199</td>\n",
       "    </tr>\n",
       "    <tr>\n",
       "      <th>3</th>\n",
       "      <td>3</td>\n",
       "      <td>1</td>\n",
       "      <td>2694.783254</td>\n",
       "      <td>18.511000</td>\n",
       "      <td>2021-08-11</td>\n",
       "      <td>8</td>\n",
       "      <td>Кира</td>\n",
       "      <td>22</td>\n",
       "      <td>Тюмень</td>\n",
       "      <td>ultra</td>\n",
       "      <td>6</td>\n",
       "      <td>0</td>\n",
       "      <td>199</td>\n",
       "    </tr>\n",
       "    <tr>\n",
       "      <th>4</th>\n",
       "      <td>4</td>\n",
       "      <td>1</td>\n",
       "      <td>4028.687306</td>\n",
       "      <td>26.265803</td>\n",
       "      <td>2021-08-28</td>\n",
       "      <td>8</td>\n",
       "      <td>Кира</td>\n",
       "      <td>22</td>\n",
       "      <td>Тюмень</td>\n",
       "      <td>ultra</td>\n",
       "      <td>6</td>\n",
       "      <td>0</td>\n",
       "      <td>199</td>\n",
       "    </tr>\n",
       "  </tbody>\n",
       "</table>\n",
       "</div>"
      ],
      "text/plain": [
       "   index  user_id     distance   duration       date  date_month  name  age  \\\n",
       "0      0        1  4409.919140  25.599769 2021-01-01           1  Кира   22   \n",
       "1      1        1  2617.592153  15.816871 2021-01-18           1  Кира   22   \n",
       "2      2        1   754.159807   6.232113 2021-04-20           4  Кира   22   \n",
       "3      3        1  2694.783254  18.511000 2021-08-11           8  Кира   22   \n",
       "4      4        1  4028.687306  26.265803 2021-08-28           8  Кира   22   \n",
       "\n",
       "     city subscription_type  minute_price  start_ride_price  subscription_fee  \n",
       "0  Тюмень             ultra             6                 0               199  \n",
       "1  Тюмень             ultra             6                 0               199  \n",
       "2  Тюмень             ultra             6                 0               199  \n",
       "3  Тюмень             ultra             6                 0               199  \n",
       "4  Тюмень             ultra             6                 0               199  "
      ]
     },
     "execution_count": 41,
     "metadata": {},
     "output_type": "execute_result"
    }
   ],
   "source": [
    "scooter_ultra = scooter[scooter['subscription_type'] == 'ultra'].reset_index()   \n",
    "scooter_ultra.head()"
   ]
  },
  {
   "cell_type": "markdown",
   "id": "6238cdac",
   "metadata": {},
   "source": [
    "<font size=\"4\"><font color=blue>4.3 Визуализирум информацию о расстоянии и времени поездок для пользователей обеих категорий.\n",
    "</font>"
   ]
  },
  {
   "cell_type": "code",
   "execution_count": 42,
   "id": "c0131efd",
   "metadata": {},
   "outputs": [
    {
     "data": {
      "image/png": "[encoded data removed]",
      "text/plain": [
       "<Figure size 432x288 with 1 Axes>"
      ]
     },
     "metadata": {
      "needs_background": "light"
     },
     "output_type": "display_data"
    }
   ],
   "source": [
    "plt.hist(scooter_free['distance'], color = \"blue\", bins=100)\n",
    "plt.title('Пользователи без подписки', fontsize=14, fontweight=\"bold\", color='blue')\n",
    "plt.xlabel('Расстояние поездок, м', fontsize=14, fontweight=\"bold\", color='blue')\n",
    "plt.ylabel('Количество поездок', fontsize=14, fontweight=\"bold\", color='blue')\n",
    "plt.show()"
   ]
  },
  {
   "cell_type": "code",
   "execution_count": 43,
   "id": "695cde6e",
   "metadata": {
    "scrolled": false
   },
   "outputs": [
    {
     "data": {
      "image/png": "[encoded data removed]",
      "text/plain": [
       "<Figure size 432x288 with 1 Axes>"
      ]
     },
     "metadata": {
      "needs_background": "light"
     },
     "output_type": "display_data"
    }
   ],
   "source": [
    "plt.hist(scooter_ultra['distance'], color = \"blue\", bins=100)\n",
    "plt.title('Пользователи с подпиской', fontsize=14, fontweight=\"bold\", color='blue')\n",
    "plt.xlabel('Расстояние поездок, м', fontsize=14, fontweight=\"bold\", color='blue')\n",
    "plt.ylabel('Количество поездок', fontsize=14, fontweight=\"bold\", color='blue')\n",
    "plt.show()"
   ]
  },
  {
   "cell_type": "code",
   "execution_count": 44,
   "id": "438edb7a",
   "metadata": {
    "scrolled": false
   },
   "outputs": [
    {
     "data": {
      "image/png": "[encoded data removed]",
      "text/plain": [
       "<Figure size 432x288 with 1 Axes>"
      ]
     },
     "metadata": {
      "needs_background": "light"
     },
     "output_type": "display_data"
    }
   ],
   "source": [
    "plt.hist(scooter_free['distance'], label='free' ,color = \"blue\", bins=100)\n",
    "plt.hist(scooter_ultra['distance'], label='ultra' , color = \"green\", bins=100)\n",
    "plt.title('Пользователи всего', fontsize=14, fontweight=\"bold\", color='blue')\n",
    "plt.xlabel('Расстояние поездок, м', fontsize=14, fontweight=\"bold\", color='blue')\n",
    "plt.ylabel('Количество поездок', fontsize=14, fontweight=\"bold\", color='blue')\n",
    "plt.legend(loc='upper right')\n",
    "plt.show()"
   ]
  },
  {
   "cell_type": "code",
   "execution_count": 45,
   "id": "f06103c9",
   "metadata": {
    "scrolled": true
   },
   "outputs": [
    {
     "data": {
      "image/png": "[encoded data removed]",
      "text/plain": [
       "<Figure size 432x288 with 1 Axes>"
      ]
     },
     "metadata": {
      "needs_background": "light"
     },
     "output_type": "display_data"
    }
   ],
   "source": [
    "plt.hist(scooter_free['duration'], color = \"blue\", bins=100)\n",
    "plt.title('Пользователи без подписки', fontsize=14, fontweight=\"bold\", color='blue')\n",
    "plt.xlabel('Время поездок, мин', fontsize=14, fontweight=\"bold\", color='blue')\n",
    "plt.ylabel('Количество поездок', fontsize=14, fontweight=\"bold\", color='blue')\n",
    "plt.show()"
   ]
  },
  {
   "cell_type": "code",
   "execution_count": 46,
   "id": "420be152",
   "metadata": {
    "scrolled": true
   },
   "outputs": [
    {
     "data": {
      "image/png": "[encoded data removed]",
      "text/plain": [
       "<Figure size 432x288 with 1 Axes>"
      ]
     },
     "metadata": {
      "needs_background": "light"
     },
     "output_type": "display_data"
    }
   ],
   "source": [
    "plt.hist(scooter_ultra['duration'], color = \"blue\", bins=100)\n",
    "plt.title('Пользователи с подпиской', fontsize=14, fontweight=\"bold\", color='blue')\n",
    "plt.xlabel('Время поездок, мин', fontsize=14, fontweight=\"bold\", color='blue')\n",
    "plt.ylabel('Количество поездок', fontsize=14, fontweight=\"bold\", color='blue')\n",
    "plt.show()"
   ]
  },
  {
   "cell_type": "code",
   "execution_count": 47,
   "id": "5dc68b2d",
   "metadata": {
    "scrolled": true
   },
   "outputs": [
    {
     "data": {
      "image/png": "[encoded data removed]",
      "text/plain": [
       "<Figure size 432x288 with 1 Axes>"
      ]
     },
     "metadata": {
      "needs_background": "light"
     },
     "output_type": "display_data"
    }
   ],
   "source": [
    "plt.hist(scooter_free['duration'], label='free' ,color = \"blue\", bins=100)\n",
    "plt.hist(scooter_ultra['duration'], label='ultra' , color = \"green\", bins=100)\n",
    "plt.title('Пользователи всего', fontsize=14, fontweight=\"bold\", color='blue')\n",
    "plt.xlabel('Время поездок, мин', fontsize=14, fontweight=\"bold\", color='blue')\n",
    "plt.ylabel('Количество поездок', fontsize=14, fontweight=\"bold\", color='blue')\n",
    "plt.legend(loc='upper right')\n",
    "plt.show()"
   ]
  },
  {
   "cell_type": "markdown",
   "id": "e418cce3",
   "metadata": {},
   "source": [
    "***Анализ информации о времени и расстояниях поездок пользователей с подпиской и без показал:***\n",
    "- клиенты с подпиской в основном не совершают поездки менее 500 метров"
   ]
  },
  {
   "cell_type": "markdown",
   "id": "b057a79d",
   "metadata": {},
   "source": [
    "## Шаг 5. Проведём подсчёт выручки"
   ]
  },
  {
   "cell_type": "markdown",
   "id": "83055199",
   "metadata": {},
   "source": [
    "<font size=\"4\"><font color=blue>5.1 Создадим датафрейм с агрегированными данными о поездках на основе датафрейма с объединёнными данными из шага 4: найдём суммарное расстояние, количество поездок и суммарное время для каждого пользователя за каждый месяц. Продолжительность каждой поездки в каждой строке исходного датафрейма для подсчёта стоимости округляем до следующего целого числа: например, значения 25.3, 25.5 и 26.0 должны быть преобразованы к 26.\n",
    "</font>"
   ]
  },
  {
   "cell_type": "code",
   "execution_count": 48,
   "id": "48b67530",
   "metadata": {
    "scrolled": true
   },
   "outputs": [
    {
     "data": {
      "text/html": [
       "<div>\n",
       "<style scoped>\n",
       "    .dataframe tbody tr th:only-of-type {\n",
       "        vertical-align: middle;\n",
       "    }\n",
       "\n",
       "    .dataframe tbody tr th {\n",
       "        vertical-align: top;\n",
       "    }\n",
       "\n",
       "    .dataframe thead tr th {\n",
       "        text-align: left;\n",
       "    }\n",
       "\n",
       "    .dataframe thead tr:last-of-type th {\n",
       "        text-align: right;\n",
       "    }\n",
       "</style>\n",
       "<table border=\"1\" class=\"dataframe\">\n",
       "  <thead>\n",
       "    <tr>\n",
       "      <th></th>\n",
       "      <th></th>\n",
       "      <th>subscription_type</th>\n",
       "      <th colspan=\"2\" halign=\"left\">distance</th>\n",
       "      <th>duration</th>\n",
       "    </tr>\n",
       "    <tr>\n",
       "      <th></th>\n",
       "      <th></th>\n",
       "      <th></th>\n",
       "      <th>len</th>\n",
       "      <th>sum</th>\n",
       "      <th>sum</th>\n",
       "    </tr>\n",
       "    <tr>\n",
       "      <th>user_id</th>\n",
       "      <th>date_month</th>\n",
       "      <th></th>\n",
       "      <th></th>\n",
       "      <th></th>\n",
       "      <th></th>\n",
       "    </tr>\n",
       "  </thead>\n",
       "  <tbody>\n",
       "    <tr>\n",
       "      <th rowspan=\"5\" valign=\"top\">1</th>\n",
       "      <th>1</th>\n",
       "      <td>ultra</td>\n",
       "      <td>2</td>\n",
       "      <td>7027.511294</td>\n",
       "      <td>42</td>\n",
       "    </tr>\n",
       "    <tr>\n",
       "      <th>4</th>\n",
       "      <td>ultra</td>\n",
       "      <td>1</td>\n",
       "      <td>754.159807</td>\n",
       "      <td>7</td>\n",
       "    </tr>\n",
       "    <tr>\n",
       "      <th>8</th>\n",
       "      <td>ultra</td>\n",
       "      <td>2</td>\n",
       "      <td>6723.470560</td>\n",
       "      <td>46</td>\n",
       "    </tr>\n",
       "    <tr>\n",
       "      <th>10</th>\n",
       "      <td>ultra</td>\n",
       "      <td>2</td>\n",
       "      <td>5809.911100</td>\n",
       "      <td>32</td>\n",
       "    </tr>\n",
       "    <tr>\n",
       "      <th>11</th>\n",
       "      <td>ultra</td>\n",
       "      <td>3</td>\n",
       "      <td>7003.499363</td>\n",
       "      <td>56</td>\n",
       "    </tr>\n",
       "  </tbody>\n",
       "</table>\n",
       "</div>"
      ],
      "text/plain": [
       "                   subscription_type distance              duration\n",
       "                                          len          sum      sum\n",
       "user_id date_month                                                 \n",
       "1       1                      ultra        2  7027.511294       42\n",
       "        4                      ultra        1   754.159807        7\n",
       "        8                      ultra        2  6723.470560       46\n",
       "        10                     ultra        2  5809.911100       32\n",
       "        11                     ultra        3  7003.499363       56"
      ]
     },
     "execution_count": 48,
     "metadata": {},
     "output_type": "execute_result"
    }
   ],
   "source": [
    "scooter['duration'] = np.ceil(scooter['duration'])\n",
    "scooter_all = pd.pivot_table(scooter,\n",
    "                       index=['user_id', 'date_month', 'subscription_type'],       \n",
    "                       values=['distance', 'duration'],\n",
    "                       aggfunc={'distance': [len, sum], 'duration': sum},\n",
    "                       fill_value=0)\n",
    "\n",
    "scooter_all.reset_index(inplace= True , level = ['subscription_type'])\n",
    "scooter_all.head()"
   ]
  },
  {
   "cell_type": "markdown",
   "id": "0abdac0c",
   "metadata": {},
   "source": [
    "<font size=\"4\"><font color=blue>5.2 В этот же датафрейм добавим столбец с помесячной выручкой, которую принёс каждый пользователь. Для этого обратимся к информации об условиях оплаты для подписчиков и тех, у кого нет подписки.\n",
    "</font>"
   ]
  },
  {
   "cell_type": "code",
   "execution_count": 49,
   "id": "282452ae",
   "metadata": {},
   "outputs": [
    {
     "data": {
      "text/html": [
       "<div>\n",
       "<style scoped>\n",
       "    .dataframe tbody tr th:only-of-type {\n",
       "        vertical-align: middle;\n",
       "    }\n",
       "\n",
       "    .dataframe tbody tr th {\n",
       "        vertical-align: top;\n",
       "    }\n",
       "\n",
       "    .dataframe thead tr th {\n",
       "        text-align: left;\n",
       "    }\n",
       "\n",
       "    .dataframe thead tr:last-of-type th {\n",
       "        text-align: right;\n",
       "    }\n",
       "</style>\n",
       "<table border=\"1\" class=\"dataframe\">\n",
       "  <thead>\n",
       "    <tr>\n",
       "      <th></th>\n",
       "      <th></th>\n",
       "      <th>subscription_type</th>\n",
       "      <th colspan=\"2\" halign=\"left\">distance</th>\n",
       "      <th>duration</th>\n",
       "      <th>price_month</th>\n",
       "    </tr>\n",
       "    <tr>\n",
       "      <th></th>\n",
       "      <th></th>\n",
       "      <th></th>\n",
       "      <th>len</th>\n",
       "      <th>sum</th>\n",
       "      <th>sum</th>\n",
       "      <th></th>\n",
       "    </tr>\n",
       "    <tr>\n",
       "      <th>user_id</th>\n",
       "      <th>date_month</th>\n",
       "      <th></th>\n",
       "      <th></th>\n",
       "      <th></th>\n",
       "      <th></th>\n",
       "      <th></th>\n",
       "    </tr>\n",
       "  </thead>\n",
       "  <tbody>\n",
       "    <tr>\n",
       "      <th rowspan=\"5\" valign=\"top\">1</th>\n",
       "      <th>1</th>\n",
       "      <td>ultra</td>\n",
       "      <td>2</td>\n",
       "      <td>7027.511294</td>\n",
       "      <td>42</td>\n",
       "      <td>451</td>\n",
       "    </tr>\n",
       "    <tr>\n",
       "      <th>4</th>\n",
       "      <td>ultra</td>\n",
       "      <td>1</td>\n",
       "      <td>754.159807</td>\n",
       "      <td>7</td>\n",
       "      <td>241</td>\n",
       "    </tr>\n",
       "    <tr>\n",
       "      <th>8</th>\n",
       "      <td>ultra</td>\n",
       "      <td>2</td>\n",
       "      <td>6723.470560</td>\n",
       "      <td>46</td>\n",
       "      <td>475</td>\n",
       "    </tr>\n",
       "    <tr>\n",
       "      <th>10</th>\n",
       "      <td>ultra</td>\n",
       "      <td>2</td>\n",
       "      <td>5809.911100</td>\n",
       "      <td>32</td>\n",
       "      <td>391</td>\n",
       "    </tr>\n",
       "    <tr>\n",
       "      <th>11</th>\n",
       "      <td>ultra</td>\n",
       "      <td>3</td>\n",
       "      <td>7003.499363</td>\n",
       "      <td>56</td>\n",
       "      <td>535</td>\n",
       "    </tr>\n",
       "  </tbody>\n",
       "</table>\n",
       "</div>"
      ],
      "text/plain": [
       "                   subscription_type distance              duration  \\\n",
       "                                          len          sum      sum   \n",
       "user_id date_month                                                    \n",
       "1       1                      ultra        2  7027.511294       42   \n",
       "        4                      ultra        1   754.159807        7   \n",
       "        8                      ultra        2  6723.470560       46   \n",
       "        10                     ultra        2  5809.911100       32   \n",
       "        11                     ultra        3  7003.499363       56   \n",
       "\n",
       "                   price_month  \n",
       "                                \n",
       "user_id date_month              \n",
       "1       1                  451  \n",
       "        4                  241  \n",
       "        8                  475  \n",
       "        10                 391  \n",
       "        11                 535  "
      ]
     },
     "execution_count": 49,
     "metadata": {},
     "output_type": "execute_result"
    }
   ],
   "source": [
    "a = 50 # без подписки стоимость старта (начала поездки) — 50 рублей\n",
    "b = 8 # без подписки стоимость одной минуты поездки\n",
    "c = 6 # с подпиской Ultra стоимость одной минуты поездки\n",
    "d = 199 # с подпиской Ultra абонентская плата — 199 рублей в месяц\n",
    "\n",
    "scooter_all['price_month'] = np.where(scooter_all['subscription_type'] == 'free', \n",
    "a*scooter_all['distance']['len'] + b*scooter_all['duration']['sum'], \n",
    "c*scooter_all['duration']['sum'] + d)\n",
    "\n",
    "scooter_all.head()"
   ]
  },
  {
   "cell_type": "markdown",
   "id": "2b3e57b9",
   "metadata": {},
   "source": [
    "## Шаг 6. Проведём  проверку гипотез"
   ]
  },
  {
   "cell_type": "markdown",
   "id": "acc6bc95",
   "metadata": {},
   "source": [
    "<font size=\"4\"><font color=blue>Продакт-менеджеры сервиса хотят увеличить количество пользователей с подпиской. Для этого они будут проводить различные акции, но сначала нужно выяснить несколько важных моментов.\n",
    "</font>"
   ]
  },
  {
   "cell_type": "markdown",
   "id": "339960e2",
   "metadata": {},
   "source": [
    "<font size=\"4\"><font color=blue>\n",
    "6.1 Важно понять, тратят ли пользователи с подпиской больше времени на поездки? Если да, то пользователи с подпиской могут быть «выгоднее» для компании. Проверим эту гипотезу. Используем исходные данные о продолжительности каждой сессии — отдельно для подписчиков и тех, у кого нет подписки.\n",
    "</font>"
   ]
  },
  {
   "cell_type": "markdown",
   "id": "5b860510",
   "metadata": {},
   "source": [
    "***Начнём с формулировки гипотезы. <font size=\"4\">_H₀_</font> всегда формулируется так, чтобы использовать знак равенства.\\\n",
    "<font size=\"4\">_H₀_</font> — средняя продолжительность поездки пользователей с подпиской равна средней продолжительности пользователей без подписки.\\\n",
    "<font size=\"4\">_H₁_</font>  — средняя продолжительность поездки пользователей с подпиской больше средней продолжительности пользователей без подписки.\\\n",
    "<font size=\"4\">_α=5%_</font>***"
   ]
  },
  {
   "cell_type": "code",
   "execution_count": 50,
   "id": "f26dc91c",
   "metadata": {},
   "outputs": [
    {
     "name": "stdout",
     "output_type": "stream",
     "text": [
      "средняя продолжительность поездки пользователей с подпиской:  18.54\n",
      "средняя продолжительность поездки пользователей без подписки:  17.62\n",
      "p-value: 3.4062883651171046e-23\n",
      "Отвергаем нулевую гипотезу\n"
     ]
    }
   ],
   "source": [
    "ultra_mean = scooter_ultra['duration']\n",
    "free_mean = scooter_free['duration']\n",
    "\n",
    "print('средняя продолжительность поездки пользователей с подпиской: ', ultra_mean.mean().round(2))\n",
    "print('средняя продолжительность поездки пользователей без подписки: ', free_mean.mean().round(2))\n",
    "\n",
    "alpha = 0.05\n",
    "\n",
    "results = st.ttest_ind(ultra_mean, free_mean, alternative='greater')\n",
    "\n",
    "print('p-value:', results.pvalue)\n",
    "\n",
    "if (results.pvalue < alpha):\n",
    "    print(\"Отвергаем нулевую гипотезу\")\n",
    "else:\n",
    "    print(\"Нет оснований отвергнуть нулевую гипотезу\")"
   ]
  },
  {
   "cell_type": "markdown",
   "id": "947f783a",
   "metadata": {},
   "source": [
    "***Полученное значение p-value (~3.4062883651171046e-23) меньше уровня значимости. Отвергаем нулевую гипотезу.  Альтернативная гипотеза верна, что средняя продолжительность поездки пользователей с подпиской больше средней продолжительности пользователей без подписки.***"
   ]
  },
  {
   "cell_type": "markdown",
   "id": "8f44b0a6",
   "metadata": {},
   "source": [
    "<font size=\"4\"><font color=blue>\n",
    "6.2 Расстояние одной поездки в 3130 метров — оптимальное с точки зрения износа самоката. Можно ли сказать, что расстояние, которое проезжают пользователи с подпиской за одну поездку, не превышает 3130 метров? Проверим эту гипотезу и сделаем выводы.\n",
    "</font>"
   ]
  },
  {
   "cell_type": "markdown",
   "id": "43a0644e",
   "metadata": {},
   "source": [
    "***Начнём с формулировки гипотезы.\\\n",
    "<font size=\"4\">_H₀_</font> — среднее расстояние одной поездки, которое проезжают пользователи с подпиской, равно 3130 метров.\\\n",
    "<font size=\"4\">_H₁_</font>  — среднее расстояние, которое проезжают пользователи с подпиской, более 3130 метров.\\\n",
    "<font size=\"4\">_α=5%_</font>***"
   ]
  },
  {
   "cell_type": "code",
   "execution_count": 51,
   "id": "69409134",
   "metadata": {},
   "outputs": [
    {
     "name": "stdout",
     "output_type": "stream",
     "text": [
      "p-value: 0.9195368847849785\n",
      "Нет оснований отвергнуть нулевую гипотезу\n"
     ]
    }
   ],
   "source": [
    "ultra_dis_mean = scooter_ultra['distance']\n",
    "dis_mean = 3130\n",
    "\n",
    "alpha = 0.05\n",
    "\n",
    "results = st.ttest_1samp(ultra_dis_mean, dis_mean, alternative='greater')\n",
    "\n",
    "print('p-value:', results.pvalue)\n",
    "\n",
    "if (results.pvalue < alpha):\n",
    "    print(\"Отвергаем нулевую гипотезу\")\n",
    "else:\n",
    "    print(\"Нет оснований отвергнуть нулевую гипотезу\")"
   ]
  },
  {
   "cell_type": "markdown",
   "id": "6d4149ee",
   "metadata": {},
   "source": [
    "***Полученное значение p-value (0.9195368847849785) больше уровня значимости. Нет оснований отвергать нулевую гипотезу. Значит верна гипотеза, что расстояние, которое проезжают пользователи с подпиской за одну поездку, не превышает 3130 метров.***"
   ]
  },
  {
   "cell_type": "markdown",
   "id": "608a5699",
   "metadata": {},
   "source": [
    "<font size=\"4\"><font color=blue>\n",
    "6.3. Проверим гипотезу о том, будет ли помесячная выручка от пользователей с подпиской по месяцам выше, чем выручка от пользователей без подписки. Сделаем вывод.\n",
    "</font>"
   ]
  },
  {
   "cell_type": "markdown",
   "id": "0e4a5d1b",
   "metadata": {},
   "source": [
    "***Начнём с формулировки гипотезы.\\\n",
    "<font size=\"4\">_H₀_</font> — помесячная выручка пользователей с подпиской равна выручке от пользователей без подписки.\\\n",
    "<font size=\"4\">_H₁_</font>  — помесячная выручка пользователей с подпиской выше, чем выручка от пользователей без подписки.\\\n",
    "<font size=\"4\">_α=5%_</font>***"
   ]
  },
  {
   "cell_type": "code",
   "execution_count": 52,
   "id": "64714c39",
   "metadata": {},
   "outputs": [
    {
     "name": "stdout",
     "output_type": "stream",
     "text": [
      "средняя годовая выручка от пользователей с подпиской:  362.79\n",
      "средняя годовая выручка от пользователей без подписки:  331.82\n",
      "p-value: 5.937346250845203e-26\n",
      "Отвергаем нулевую гипотезу\n"
     ]
    }
   ],
   "source": [
    "ultra_price_month = scooter_all.loc[scooter_all['subscription_type'] == 'ultra', 'price_month']\n",
    "free_price_month = scooter_all.loc[scooter_all['subscription_type'] == 'free', 'price_month']\n",
    "\n",
    "print('средняя годовая выручка от пользователей с подпиской: ', ultra_price_month.mean().round(2))\n",
    "print('средняя годовая выручка от пользователей без подписки: ', free_price_month.mean().round(2))\n",
    "\n",
    "alpha = 0.05\n",
    "\n",
    "results = st.ttest_ind(ultra_price_month, free_price_month, alternative='greater')\n",
    "\n",
    "print('p-value:', results.pvalue)\n",
    "\n",
    "if (results.pvalue < alpha):\n",
    "    print(\"Отвергаем нулевую гипотезу\")\n",
    "else:\n",
    "    print(\"Нет оснований отвергнуть нулевую гипотезу\")"
   ]
  },
  {
   "cell_type": "markdown",
   "id": "878a6fa2",
   "metadata": {},
   "source": [
    "***Полученное значение p-value (~5.937346250845203e-26) меньше уровня значимости. Отвергаем нулевую гипотезу. Верна альтернативная гипотеза, что помесячная выручка пользователей с подпиской выше, чем выручка от пользователей без подписки.***"
   ]
  },
  {
   "cell_type": "markdown",
   "id": "a75a38ec",
   "metadata": {},
   "source": [
    "<font size=\"4\"><font color=blue>\n",
    "6.4. Представим такую ситуацию: техническая команда сервиса обновила сервера, с которыми взаимодействует мобильное приложение. Она надеется, что из-за этого количество обращений в техподдержку значимо снизилось. Некоторый файл содержит для каждого пользователя данные о количестве обращений до обновления и после него. Какой тест нам понадобился бы для проверки этой гипотезы?\n",
    "</font>"
   ]
  },
  {
   "cell_type": "markdown",
   "id": "8d300776",
   "metadata": {},
   "source": [
    "***Начнём с формулировки гипотезы.\\\n",
    "Имеем некоторый файл, который содержит для каждого пользователя данные о количестве обращений до обновления и после него. Извлечем из него данные в дадасет <font size=\"4\">_Before_</font> о количестве обращений до обновления и в <font size=\"4\">_After_</font> после него.\\\n",
    "Начнём с формулировки гипотезы.\\\n",
    "<font size=\"4\">_H₀_</font> — количество обращений не изменилось.\\\n",
    "<font size=\"4\">_H₁_</font>  — количество обращений стало меньше после обновления сервера.\\\n",
    "<font size=\"4\">_α=5%_</font>***"
   ]
  },
  {
   "cell_type": "code",
   "execution_count": 53,
   "id": "f9db6e21",
   "metadata": {},
   "outputs": [
    {
     "name": "stdout",
     "output_type": "stream",
     "text": [
      "p-value: [0.29340576]\n",
      "Нет оснований отвергнуть нулевую гипотезу\n"
     ]
    }
   ],
   "source": [
    "before = pd.DataFrame(np.random.randint(0, 1000, (1000, 1)), columns=['name'])\n",
    "after = pd.DataFrame(np.random.randint(0, 1000, (1000, 1)), columns=['name'])\n",
    "\n",
    "alpha = 0.05\n",
    "\n",
    "results = st.ttest_rel(before, after, alternative='greater')\n",
    "\n",
    "print('p-value:', results.pvalue)\n",
    "\n",
    "if (results.pvalue < alpha):\n",
    "    print(\"Отвергаем нулевую гипотезу\")\n",
    "else:\n",
    "    print(\"Нет оснований отвергнуть нулевую гипотезу\")"
   ]
  },
  {
   "cell_type": "markdown",
   "id": "bebd8119",
   "metadata": {},
   "source": [
    "## Шаг 7. Решим задачи распределения"
   ]
  },
  {
   "cell_type": "markdown",
   "id": "4c547e51",
   "metadata": {},
   "source": [
    "<font size=\"4\"><font color=blue>7.1 Отделу маркетинга GoFast поставили задачу: нужно провести акцию с раздачей промокодов на один бесплатный месяц подписки, в рамках которой как минимум 100 существующих клиентов должны продлить эту подписку. То есть по завершении периода действия подписки пользователь может либо отказаться от неё, либо продлить, совершив соответствующий платёж. \n",
    "Эта акция уже проводилась ранее и по итогу выяснилось, что после бесплатного пробного периода подписку продлевают 10% пользователей. Выясним, какое минимальное количество промокодов нужно разослать, чтобы вероятность не выполнить план была примерно 5%. Подберём параметры распределения, описывающего эту ситуацию, построим график распределения и сформулируем ответ на вопрос о количестве промокодов.\n",
    "</font>"
   ]
  },
  {
   "cell_type": "markdown",
   "id": "26d17e17",
   "metadata": {},
   "source": [
    "***Подберём параметры распределения в цикле:***"
   ]
  },
  {
   "cell_type": "code",
   "execution_count": 54,
   "id": "f84546eb",
   "metadata": {},
   "outputs": [
    {
     "name": "stdout",
     "output_type": "stream",
     "text": [
      "n = 856\n",
      "85.60000000000001\n",
      "8.777243302996677\n"
     ]
    }
   ],
   "source": [
    "p = 0.1\n",
    "k = 100\n",
    "po = 0.05\n",
    "\n",
    "for n in range(k+1,k*100):\n",
    "    sigma = sqrt(n * p * (1 - p))\n",
    "    mu = n * p\n",
    "    distr = st.norm(mu, sigma)\n",
    "    if po < 1 - distr.cdf(k):\n",
    "        break \n",
    "\n",
    "print('n =', n)\n",
    "print(mu)\n",
    "print(sigma)"
   ]
  },
  {
   "cell_type": "markdown",
   "id": "910bf6b3",
   "metadata": {},
   "source": [
    "Мы посчитали параметры распределения:\\\n",
    "<font size=\"5\">$\\mu$</font> = 85.6\\\n",
    "<font size=\"5\">$\\sigma$</font> = 8.8"
   ]
  },
  {
   "cell_type": "code",
   "execution_count": 55,
   "id": "9c8113f9",
   "metadata": {},
   "outputs": [
    {
     "data": {
      "image/png": "[encoded data removed]",
      "text/plain": [
       "<Figure size 432x288 with 1 Axes>"
      ]
     },
     "metadata": {
      "needs_background": "light"
     },
     "output_type": "display_data"
    },
    {
     "name": "stdout",
     "output_type": "stream",
     "text": [
      "Условие хорошей аппроксимации выполняется\n"
     ]
    }
   ],
   "source": [
    "def linspace(start, stop, num):\n",
    "    step = (stop - start) / (num - 1)\n",
    "    result = []\n",
    "    for i in range(num):\n",
    "        result.append(start + step * i)\n",
    "    return result\n",
    "\n",
    "left = int(n * p - 4 * sqrt(n * p * (1 - p)))\n",
    "right = int(n * p + 4 * sqrt(n * p * (1 - p)))\n",
    " \n",
    "x = list(range(max(0, left), right))\n",
    "\n",
    "ax = plt.subplot()\n",
    "\n",
    "ax.plot(x, binom.pmf(x, n, p), 'bo', ms=5, label='вероятности биномиального распределения')\n",
    "ax.set_xticklabels([])\n",
    "\n",
    "x = linspace(left, right, 100)\n",
    "ax.plot(x, norm.pdf(x, mu, sigma), 'r-', lw=3, alpha=1, label='плотность вероятности нормального распределения')\n",
    "ax.set_xticklabels([])\n",
    "\n",
    "x_ticks = list(range(int(mu - 3 * sigma), int(mu + 3 * sigma), 1))\n",
    "ax.set_xticks(x_ticks)\n",
    "\n",
    "ax.legend(bbox_to_anchor=( 1.02 , 1 ), loc='upper left', borderaxespad= 0 )\n",
    "plt.show()\n",
    "\n",
    "if (mu - (3 * sigma) >= 0) and ((mu + (3 * sigma) <= n)):\n",
    "    print('Условие хорошей аппроксимации выполняется')\n",
    "else:\n",
    "    print('Условие хорошей аппроксимации не выполняется')"
   ]
  },
  {
   "cell_type": "markdown",
   "id": "78488e6d",
   "metadata": {},
   "source": [
    "***Мы подобрали в цикле параметры распределения, построили график и убедились в выполнении условия хорошей аппроксимации. Посчитали, что 856 это минимальное количество промокодов, которые нужно разослать, чтобы вероятность не выполнить план была примерно 5%.***"
   ]
  },
  {
   "cell_type": "markdown",
   "id": "208dc6cc",
   "metadata": {},
   "source": [
    "<font size=\"4\"><font color=blue>7.2 Отдел маркетинга рассылает клиентам push-уведомления в мобильном приложении. Клиенты могут открыть его или не открывать. Известно, что уведомления открывают около 40 % получивших клиентов. Отдел планирует разослать 1 млн уведомлений. С помощью аппроксимации построим примерный график распределения и оценим вероятность того, что уведомление откроют не более 399,5 тыс. пользователей.\n",
    "</font>"
   ]
  },
  {
   "cell_type": "markdown",
   "id": "75decb5f",
   "metadata": {},
   "source": [
    "***Апроксимируем биноминальное распределение нормальным и посчитаем:***"
   ]
  },
  {
   "cell_type": "code",
   "execution_count": 56,
   "id": "87c992e3",
   "metadata": {},
   "outputs": [
    {
     "data": {
      "image/png": "[encoded data removed]",
      "text/plain": [
       "<Figure size 432x288 with 1 Axes>"
      ]
     },
     "metadata": {
      "needs_background": "light"
     },
     "output_type": "display_data"
    },
    {
     "name": "stdout",
     "output_type": "stream",
     "text": [
      "Условие хорошей аппроксимации выполняется\n"
     ]
    }
   ],
   "source": [
    "def linspace(start, stop, num):\n",
    "    step = (stop - start) / (num - 1)\n",
    "    result = []\n",
    "    for i in range(num):\n",
    "        result.append(start + step * i)\n",
    "    return result\n",
    " \n",
    "n = 1000000\n",
    "p = 0.4\n",
    "\n",
    "left = int(n * p - 4 * sqrt(n * p * (1 - p)))\n",
    "right = int(n * p + 4 * sqrt(n * p * (1 - p)))\n",
    " \n",
    "x = list(range(max(0, left), right))\n",
    "\n",
    "ax = plt.subplot()\n",
    "\n",
    "ax.plot(x, binom.pmf(x, n, p), 'bo', ms=5, label='вероятности биномиального распределения')\n",
    "ax.set_xticklabels([])\n",
    "mu = n * p\n",
    "sigma = sqrt(n * p * (1 - p))\n",
    " \n",
    "x = linspace(left, right, 100)\n",
    "ax.plot(x, norm.pdf(x, mu, sigma), 'r-', lw=3, alpha=1, label='плотность вероятности нормального распределения')\n",
    "ax.set_xticklabels([]) \n",
    "x_ticks = list(range(int(mu - 3 * sigma), int(mu + 3 * sigma), 1))\n",
    "#ax.set_xticks(x_ticks)\n",
    "\n",
    "ax.legend(bbox_to_anchor=( 1.02 , 1 ), loc='upper left', borderaxespad= 0 )\n",
    "plt.show()\n",
    "\n",
    "if (mu - (3 * sigma) >= 0) and ((mu + (3 * sigma) <= n)):\n",
    "    print('Условие хорошей аппроксимации выполняется')\n",
    "else:\n",
    "    print('Условие хорошей аппроксимации не выполняется')"
   ]
  },
  {
   "cell_type": "code",
   "execution_count": 57,
   "id": "b5e06b3e",
   "metadata": {},
   "outputs": [
    {
     "name": "stdout",
     "output_type": "stream",
     "text": [
      "15.371708296369768 %\n"
     ]
    }
   ],
   "source": [
    "distr = st.norm(mu, sigma)\n",
    "\n",
    "result = distr.cdf(399500)\n",
    "\n",
    "print(result*100,'%')"
   ]
  },
  {
   "cell_type": "markdown",
   "id": "caf6f65b",
   "metadata": {},
   "source": [
    "***Построили график и убедились в выполнении условия хорошей аппроксимации. Посчитали, что вероятность того, что уведомление откроют не более 399,5 тыс. пользователей составляет около 15.37%.***"
   ]
  },
  {
   "cell_type": "markdown",
   "id": "5702ff52",
   "metadata": {},
   "source": [
    "## Общий вывод"
   ]
  },
  {
   "cell_type": "markdown",
   "id": "d4cc3533",
   "metadata": {},
   "source": [
    "<font size=\"4\"><font color=blue>Были проанализированы данные полученные из 3 файлов с информацией о пользователях, их поездках и подписках популярного сервиса аренды самокатов GoFast. Проведен аннализ данных на наличие пропусков и дубликатов. Проведены ииследования полученных данных с их визуализацией. Проверены ряд гипотез и решены задачи на распределения.\n",
    "\n",
    "- Данные предоставлены за период с 1 января 2021 года по 30 декабря 2021 годов. \n",
    "- Чаще всего в наших данных пользователей упоминается город Пятигорск 14.28% и реже всего Москва 10.95%;\n",
    "- Среди предоставленных данных количество пользователей с подпиской составляет 45.6%, а без подписки 54.4%;    \n",
    "- Исследование показало, что возраст пользователей сервиса самокатов находится в диапазоне от 12 до 43 лет. Максимальным спросом у сервиса пользуется клиенты с возрастом 25 лет;\n",
    "- Исследование на пройденное пользователями расстояния поездок показало, что мы имеем 2 значимых пика на гистограмме. Малый всплеск в районе около 700 м преодолеваемое клиентами сервиса и второй около 3200 метров. Допускаем, что первая группа со средним преодоливаемым расстоянием 700 м использует самокат, чтобы доехать до ближайшего пункта пересадки на другой транспорт (метро, автобус). А вторая группа принимает решение продолжать путь на большее расстояние до конечного пунтка назначения.\n",
    "- Исследование показало значительное количество поездок с указанным временем 0.5 минут. При этом расстояние пройденное при этих поездках было значительное. Аномальные ошибочные значения были выевлены и они составляли 0.53% от общего числа поездок. Аномалии заменены. Поездок со временем менее 1 минуты в таблице устранены. Минимальное время поездки после исправления 2 минуты. Видимо программное обеспечение самоката фиксировало пройденное расстояние, но по ошибке выдавало время поездки 0.5 минут.\n",
    "- Анализ графика показал, что самым распространненым можно считать продолжительность поездки около 18 минут;\n",
    "- Клиенты с подпиской в основном не совершают поездки менее 500 метров;\n",
    "- Определели, что средняя продолжительность времени поездок пользователей с подпиской выше, чем пользователи без подписки;\n",
    "- Выяснили, что помесячная выручка пользователей с подпиской выше, чем выручка от пользователей без подписки.\n",
    "</font>"
   ]
  }
 ],
 "metadata": {
  "ExecuteTimeLog": [
   {
    "duration": 451,
    "start_time": "2023-09-04T08:00:03.529Z"
   },
   {
    "duration": 130,
    "start_time": "2023-09-04T08:20:05.771Z"
   },
   {
    "duration": 68,
    "start_time": "2023-09-04T08:20:20.680Z"
   },
   {
    "duration": 193,
    "start_time": "2023-09-04T08:23:21.377Z"
   },
   {
    "duration": 79,
    "start_time": "2023-09-04T08:24:04.940Z"
   },
   {
    "duration": 76,
    "start_time": "2023-09-04T08:27:00.105Z"
   },
   {
    "duration": 75,
    "start_time": "2023-09-04T08:27:05.933Z"
   },
   {
    "duration": 92,
    "start_time": "2023-09-04T08:28:02.967Z"
   },
   {
    "duration": 72,
    "start_time": "2023-09-04T08:28:19.735Z"
   },
   {
    "duration": 72,
    "start_time": "2023-09-04T08:28:33.591Z"
   },
   {
    "duration": 84,
    "start_time": "2023-09-04T08:28:48.056Z"
   },
   {
    "duration": 71,
    "start_time": "2023-09-04T08:29:27.966Z"
   },
   {
    "duration": 72,
    "start_time": "2023-09-04T08:38:37.768Z"
   },
   {
    "duration": 3,
    "start_time": "2023-09-04T08:38:57.434Z"
   },
   {
    "duration": 33,
    "start_time": "2023-09-04T08:39:33.170Z"
   },
   {
    "duration": 45,
    "start_time": "2023-09-04T08:39:56.718Z"
   },
   {
    "duration": 32,
    "start_time": "2023-09-04T08:40:15.347Z"
   },
   {
    "duration": 14,
    "start_time": "2023-09-04T08:52:41.306Z"
   },
   {
    "duration": 50,
    "start_time": "2023-09-04T08:53:12.234Z"
   },
   {
    "duration": 12,
    "start_time": "2023-09-04T09:03:00.553Z"
   },
   {
    "duration": 10,
    "start_time": "2023-09-04T09:11:10.497Z"
   },
   {
    "duration": 7,
    "start_time": "2023-09-04T09:13:19.779Z"
   },
   {
    "duration": 452,
    "start_time": "2023-09-04T09:13:42.622Z"
   },
   {
    "duration": 3,
    "start_time": "2023-09-04T09:13:43.076Z"
   },
   {
    "duration": 54,
    "start_time": "2023-09-04T09:13:43.080Z"
   },
   {
    "duration": 11,
    "start_time": "2023-09-04T09:13:43.136Z"
   },
   {
    "duration": 42,
    "start_time": "2023-09-04T09:13:43.149Z"
   },
   {
    "duration": 11,
    "start_time": "2023-09-04T09:13:43.193Z"
   },
   {
    "duration": 20,
    "start_time": "2023-09-04T09:13:43.206Z"
   },
   {
    "duration": 8,
    "start_time": "2023-09-04T09:13:43.228Z"
   },
   {
    "duration": 11,
    "start_time": "2023-09-04T09:14:00.266Z"
   },
   {
    "duration": 6,
    "start_time": "2023-09-04T09:18:06.603Z"
   },
   {
    "duration": 378,
    "start_time": "2023-09-04T09:18:14.593Z"
   },
   {
    "duration": 2,
    "start_time": "2023-09-04T09:18:14.973Z"
   },
   {
    "duration": 49,
    "start_time": "2023-09-04T09:18:14.977Z"
   },
   {
    "duration": 12,
    "start_time": "2023-09-04T09:18:15.028Z"
   },
   {
    "duration": 98,
    "start_time": "2023-09-04T09:18:15.041Z"
   },
   {
    "duration": 42,
    "start_time": "2023-09-04T09:18:15.141Z"
   },
   {
    "duration": 39,
    "start_time": "2023-09-04T09:18:15.185Z"
   },
   {
    "duration": 8,
    "start_time": "2023-09-04T09:18:15.226Z"
   },
   {
    "duration": 11,
    "start_time": "2023-09-04T09:33:58.285Z"
   },
   {
    "duration": 11,
    "start_time": "2023-09-04T09:38:53.482Z"
   },
   {
    "duration": 14,
    "start_time": "2023-09-04T09:38:59.128Z"
   },
   {
    "duration": 8,
    "start_time": "2023-09-04T09:42:13.282Z"
   },
   {
    "duration": 7,
    "start_time": "2023-09-04T09:42:49.770Z"
   },
   {
    "duration": 8,
    "start_time": "2023-09-04T09:43:45.843Z"
   },
   {
    "duration": 6,
    "start_time": "2023-09-04T09:45:45.742Z"
   },
   {
    "duration": 8,
    "start_time": "2023-09-04T09:46:06.255Z"
   },
   {
    "duration": 5,
    "start_time": "2023-09-04T09:46:41.495Z"
   },
   {
    "duration": 5,
    "start_time": "2023-09-04T09:52:27.818Z"
   },
   {
    "duration": 16,
    "start_time": "2023-09-04T09:52:37.485Z"
   },
   {
    "duration": 7,
    "start_time": "2023-09-04T09:52:51.046Z"
   },
   {
    "duration": 7,
    "start_time": "2023-09-04T09:53:00.340Z"
   },
   {
    "duration": 6,
    "start_time": "2023-09-04T11:13:27.342Z"
   },
   {
    "duration": 5,
    "start_time": "2023-09-04T11:13:51.950Z"
   },
   {
    "duration": 4,
    "start_time": "2023-09-04T11:16:01.674Z"
   },
   {
    "duration": 5,
    "start_time": "2023-09-04T11:17:20.678Z"
   },
   {
    "duration": 433,
    "start_time": "2023-09-04T11:37:48.941Z"
   },
   {
    "duration": 3,
    "start_time": "2023-09-04T11:37:49.376Z"
   },
   {
    "duration": 50,
    "start_time": "2023-09-04T11:37:49.381Z"
   },
   {
    "duration": 12,
    "start_time": "2023-09-04T11:37:49.433Z"
   },
   {
    "duration": 43,
    "start_time": "2023-09-04T11:37:49.446Z"
   },
   {
    "duration": 16,
    "start_time": "2023-09-04T11:37:49.491Z"
   },
   {
    "duration": 65,
    "start_time": "2023-09-04T11:37:49.509Z"
   },
   {
    "duration": 13,
    "start_time": "2023-09-04T11:37:49.576Z"
   },
   {
    "duration": 14,
    "start_time": "2023-09-04T11:37:49.592Z"
   },
   {
    "duration": 12,
    "start_time": "2023-09-04T11:37:49.609Z"
   },
   {
    "duration": 34,
    "start_time": "2023-09-04T11:37:49.623Z"
   },
   {
    "duration": 23,
    "start_time": "2023-09-04T11:37:49.659Z"
   },
   {
    "duration": 11,
    "start_time": "2023-09-04T11:37:49.684Z"
   },
   {
    "duration": 19,
    "start_time": "2023-09-04T11:37:49.698Z"
   },
   {
    "duration": 5,
    "start_time": "2023-09-04T11:37:49.719Z"
   },
   {
    "duration": 22,
    "start_time": "2023-09-04T11:37:49.726Z"
   },
   {
    "duration": 12,
    "start_time": "2023-09-04T11:37:49.750Z"
   },
   {
    "duration": 77,
    "start_time": "2023-09-04T12:00:18.779Z"
   },
   {
    "duration": 7,
    "start_time": "2023-09-04T12:00:34.592Z"
   },
   {
    "duration": 6,
    "start_time": "2023-09-04T12:00:58.207Z"
   },
   {
    "duration": 8,
    "start_time": "2023-09-04T12:01:41.721Z"
   },
   {
    "duration": 682,
    "start_time": "2023-09-04T12:11:16.488Z"
   },
   {
    "duration": 245,
    "start_time": "2023-09-04T12:14:12.958Z"
   },
   {
    "duration": 210,
    "start_time": "2023-09-04T12:14:33.150Z"
   },
   {
    "duration": 216,
    "start_time": "2023-09-04T12:14:48.351Z"
   },
   {
    "duration": 17,
    "start_time": "2023-09-04T12:18:47.077Z"
   },
   {
    "duration": 13,
    "start_time": "2023-09-04T12:19:34.260Z"
   },
   {
    "duration": 232,
    "start_time": "2023-09-04T12:20:00.620Z"
   },
   {
    "duration": 194,
    "start_time": "2023-09-04T12:20:45.928Z"
   },
   {
    "duration": 151,
    "start_time": "2023-09-04T12:21:14.384Z"
   },
   {
    "duration": 163,
    "start_time": "2023-09-04T12:27:02.235Z"
   },
   {
    "duration": 53,
    "start_time": "2023-09-04T14:51:42.154Z"
   },
   {
    "duration": 7,
    "start_time": "2023-09-04T14:52:18.824Z"
   },
   {
    "duration": 7,
    "start_time": "2023-09-04T14:52:30.011Z"
   },
   {
    "duration": 396,
    "start_time": "2023-09-04T14:52:43.592Z"
   },
   {
    "duration": 3,
    "start_time": "2023-09-04T14:52:43.990Z"
   },
   {
    "duration": 117,
    "start_time": "2023-09-04T14:52:43.994Z"
   },
   {
    "duration": 18,
    "start_time": "2023-09-04T14:52:44.113Z"
   },
   {
    "duration": 83,
    "start_time": "2023-09-04T14:52:44.134Z"
   },
   {
    "duration": 12,
    "start_time": "2023-09-04T14:52:44.219Z"
   },
   {
    "duration": 66,
    "start_time": "2023-09-04T14:52:44.233Z"
   },
   {
    "duration": 12,
    "start_time": "2023-09-04T14:52:44.301Z"
   },
   {
    "duration": 16,
    "start_time": "2023-09-04T14:52:44.314Z"
   },
   {
    "duration": 30,
    "start_time": "2023-09-04T14:52:44.331Z"
   },
   {
    "duration": 11,
    "start_time": "2023-09-04T14:52:44.363Z"
   },
   {
    "duration": 21,
    "start_time": "2023-09-04T14:52:44.376Z"
   },
   {
    "duration": 14,
    "start_time": "2023-09-04T14:52:44.399Z"
   },
   {
    "duration": 9,
    "start_time": "2023-09-04T14:52:44.416Z"
   },
   {
    "duration": 10,
    "start_time": "2023-09-04T14:52:44.426Z"
   },
   {
    "duration": 27,
    "start_time": "2023-09-04T14:52:44.437Z"
   },
   {
    "duration": 23,
    "start_time": "2023-09-04T14:52:44.466Z"
   },
   {
    "duration": 14,
    "start_time": "2023-09-04T14:52:44.491Z"
   },
   {
    "duration": 711,
    "start_time": "2023-09-04T14:52:44.507Z"
   },
   {
    "duration": 227,
    "start_time": "2023-09-04T14:52:45.220Z"
   },
   {
    "duration": 82,
    "start_time": "2023-09-04T14:54:29.191Z"
   },
   {
    "duration": 441,
    "start_time": "2023-09-04T14:54:36.043Z"
   },
   {
    "duration": 3,
    "start_time": "2023-09-04T14:54:36.487Z"
   },
   {
    "duration": 66,
    "start_time": "2023-09-04T14:54:36.492Z"
   },
   {
    "duration": 12,
    "start_time": "2023-09-04T14:54:36.560Z"
   },
   {
    "duration": 57,
    "start_time": "2023-09-04T14:54:36.573Z"
   },
   {
    "duration": 14,
    "start_time": "2023-09-04T14:54:36.632Z"
   },
   {
    "duration": 60,
    "start_time": "2023-09-04T14:54:36.647Z"
   },
   {
    "duration": 27,
    "start_time": "2023-09-04T14:54:36.709Z"
   },
   {
    "duration": 15,
    "start_time": "2023-09-04T14:54:36.739Z"
   },
   {
    "duration": 38,
    "start_time": "2023-09-04T14:54:36.757Z"
   },
   {
    "duration": 15,
    "start_time": "2023-09-04T14:54:36.797Z"
   },
   {
    "duration": 34,
    "start_time": "2023-09-04T14:54:36.814Z"
   },
   {
    "duration": 22,
    "start_time": "2023-09-04T14:54:36.850Z"
   },
   {
    "duration": 33,
    "start_time": "2023-09-04T14:54:36.874Z"
   },
   {
    "duration": 15,
    "start_time": "2023-09-04T14:54:36.908Z"
   },
   {
    "duration": 16,
    "start_time": "2023-09-04T14:54:36.924Z"
   },
   {
    "duration": 93,
    "start_time": "2023-09-04T14:54:36.942Z"
   },
   {
    "duration": 0,
    "start_time": "2023-09-04T14:54:37.037Z"
   },
   {
    "duration": 0,
    "start_time": "2023-09-04T14:54:37.038Z"
   },
   {
    "duration": 0,
    "start_time": "2023-09-04T14:54:37.039Z"
   },
   {
    "duration": 9,
    "start_time": "2023-09-04T14:54:50.938Z"
   },
   {
    "duration": 410,
    "start_time": "2023-09-04T14:55:28.303Z"
   },
   {
    "duration": 3,
    "start_time": "2023-09-04T14:55:28.715Z"
   },
   {
    "duration": 55,
    "start_time": "2023-09-04T14:55:28.719Z"
   },
   {
    "duration": 12,
    "start_time": "2023-09-04T14:55:28.776Z"
   },
   {
    "duration": 38,
    "start_time": "2023-09-04T14:55:28.790Z"
   },
   {
    "duration": 14,
    "start_time": "2023-09-04T14:55:28.829Z"
   },
   {
    "duration": 31,
    "start_time": "2023-09-04T14:55:28.846Z"
   },
   {
    "duration": 11,
    "start_time": "2023-09-04T14:55:28.879Z"
   },
   {
    "duration": 14,
    "start_time": "2023-09-04T14:55:28.891Z"
   },
   {
    "duration": 10,
    "start_time": "2023-09-04T14:55:28.908Z"
   },
   {
    "duration": 7,
    "start_time": "2023-09-04T14:55:28.919Z"
   },
   {
    "duration": 7,
    "start_time": "2023-09-04T14:55:28.927Z"
   },
   {
    "duration": 17,
    "start_time": "2023-09-04T14:55:28.936Z"
   },
   {
    "duration": 19,
    "start_time": "2023-09-04T14:55:28.954Z"
   },
   {
    "duration": 8,
    "start_time": "2023-09-04T14:55:28.974Z"
   },
   {
    "duration": 22,
    "start_time": "2023-09-04T14:55:28.983Z"
   },
   {
    "duration": 9,
    "start_time": "2023-09-04T14:55:29.007Z"
   },
   {
    "duration": 8,
    "start_time": "2023-09-04T14:55:29.018Z"
   },
   {
    "duration": 522,
    "start_time": "2023-09-04T14:55:29.027Z"
   },
   {
    "duration": 174,
    "start_time": "2023-09-04T14:55:29.551Z"
   },
   {
    "duration": 220,
    "start_time": "2023-09-04T14:55:43.615Z"
   },
   {
    "duration": 164,
    "start_time": "2023-09-04T14:55:54.091Z"
   },
   {
    "duration": 183,
    "start_time": "2023-09-04T14:56:09.345Z"
   },
   {
    "duration": 183,
    "start_time": "2023-09-04T14:56:18.771Z"
   },
   {
    "duration": 190,
    "start_time": "2023-09-04T14:57:43.428Z"
   },
   {
    "duration": 186,
    "start_time": "2023-09-04T14:58:06.317Z"
   },
   {
    "duration": 191,
    "start_time": "2023-09-04T14:59:07.553Z"
   },
   {
    "duration": 167,
    "start_time": "2023-09-04T14:59:38.240Z"
   },
   {
    "duration": 197,
    "start_time": "2023-09-04T15:00:34.415Z"
   },
   {
    "duration": 205,
    "start_time": "2023-09-04T15:01:52.236Z"
   },
   {
    "duration": 181,
    "start_time": "2023-09-04T15:02:14.373Z"
   },
   {
    "duration": 201,
    "start_time": "2023-09-04T15:02:30.353Z"
   },
   {
    "duration": 206,
    "start_time": "2023-09-04T15:05:28.461Z"
   },
   {
    "duration": 198,
    "start_time": "2023-09-04T15:05:51.277Z"
   },
   {
    "duration": 6,
    "start_time": "2023-09-04T15:07:06.357Z"
   },
   {
    "duration": 477,
    "start_time": "2023-09-04T15:08:49.728Z"
   },
   {
    "duration": 3,
    "start_time": "2023-09-04T15:08:50.207Z"
   },
   {
    "duration": 57,
    "start_time": "2023-09-04T15:08:50.212Z"
   },
   {
    "duration": 13,
    "start_time": "2023-09-04T15:08:50.272Z"
   },
   {
    "duration": 80,
    "start_time": "2023-09-04T15:08:50.287Z"
   },
   {
    "duration": 14,
    "start_time": "2023-09-04T15:08:50.368Z"
   },
   {
    "duration": 35,
    "start_time": "2023-09-04T15:08:50.385Z"
   },
   {
    "duration": 11,
    "start_time": "2023-09-04T15:08:50.422Z"
   },
   {
    "duration": 17,
    "start_time": "2023-09-04T15:08:50.435Z"
   },
   {
    "duration": 27,
    "start_time": "2023-09-04T15:08:50.456Z"
   },
   {
    "duration": 25,
    "start_time": "2023-09-04T15:08:50.486Z"
   },
   {
    "duration": 26,
    "start_time": "2023-09-04T15:08:50.513Z"
   },
   {
    "duration": 26,
    "start_time": "2023-09-04T15:08:50.542Z"
   },
   {
    "duration": 12,
    "start_time": "2023-09-04T15:08:50.570Z"
   },
   {
    "duration": 6,
    "start_time": "2023-09-04T15:08:50.585Z"
   },
   {
    "duration": 19,
    "start_time": "2023-09-04T15:08:50.593Z"
   },
   {
    "duration": 31,
    "start_time": "2023-09-04T15:08:50.614Z"
   },
   {
    "duration": 7,
    "start_time": "2023-09-04T15:08:50.647Z"
   },
   {
    "duration": 543,
    "start_time": "2023-09-04T15:08:50.656Z"
   },
   {
    "duration": 7,
    "start_time": "2023-09-04T15:08:51.201Z"
   },
   {
    "duration": 149,
    "start_time": "2023-09-04T15:08:51.209Z"
   },
   {
    "duration": 7,
    "start_time": "2023-09-04T15:11:19.928Z"
   },
   {
    "duration": 192,
    "start_time": "2023-09-04T17:43:28.395Z"
   },
   {
    "duration": 201,
    "start_time": "2023-09-04T17:46:44.288Z"
   },
   {
    "duration": 184,
    "start_time": "2023-09-04T17:46:55.475Z"
   },
   {
    "duration": 240,
    "start_time": "2023-09-04T17:47:14.822Z"
   },
   {
    "duration": 185,
    "start_time": "2023-09-04T17:48:04.144Z"
   },
   {
    "duration": 198,
    "start_time": "2023-09-04T17:48:17.533Z"
   },
   {
    "duration": 191,
    "start_time": "2023-09-04T18:03:41.033Z"
   },
   {
    "duration": 205,
    "start_time": "2023-09-04T18:04:05.949Z"
   },
   {
    "duration": 194,
    "start_time": "2023-09-04T18:05:05.035Z"
   },
   {
    "duration": 197,
    "start_time": "2023-09-04T18:05:10.285Z"
   },
   {
    "duration": 188,
    "start_time": "2023-09-04T18:05:16.185Z"
   },
   {
    "duration": 258,
    "start_time": "2023-09-04T18:05:27.938Z"
   },
   {
    "duration": 213,
    "start_time": "2023-09-04T18:05:34.141Z"
   },
   {
    "duration": 196,
    "start_time": "2023-09-04T18:06:07.478Z"
   },
   {
    "duration": 372,
    "start_time": "2023-09-04T18:06:19.639Z"
   },
   {
    "duration": 196,
    "start_time": "2023-09-04T18:06:36.922Z"
   },
   {
    "duration": 203,
    "start_time": "2023-09-04T18:07:07.397Z"
   },
   {
    "duration": 194,
    "start_time": "2023-09-04T18:07:13.497Z"
   },
   {
    "duration": 187,
    "start_time": "2023-09-04T18:07:18.274Z"
   },
   {
    "duration": 208,
    "start_time": "2023-09-04T18:07:30.571Z"
   },
   {
    "duration": 226,
    "start_time": "2023-09-04T18:08:05.747Z"
   },
   {
    "duration": 219,
    "start_time": "2023-09-04T18:08:35.944Z"
   },
   {
    "duration": 207,
    "start_time": "2023-09-04T18:08:54.126Z"
   },
   {
    "duration": 207,
    "start_time": "2023-09-04T18:09:01.485Z"
   },
   {
    "duration": 220,
    "start_time": "2023-09-04T18:09:05.999Z"
   },
   {
    "duration": 279,
    "start_time": "2023-09-04T18:09:10.616Z"
   },
   {
    "duration": 212,
    "start_time": "2023-09-04T18:10:59.385Z"
   },
   {
    "duration": 202,
    "start_time": "2023-09-04T18:11:17.402Z"
   },
   {
    "duration": 207,
    "start_time": "2023-09-04T18:11:40.267Z"
   },
   {
    "duration": 190,
    "start_time": "2023-09-04T18:11:58.485Z"
   },
   {
    "duration": 197,
    "start_time": "2023-09-04T18:13:03.931Z"
   },
   {
    "duration": 198,
    "start_time": "2023-09-04T18:13:12.431Z"
   },
   {
    "duration": 218,
    "start_time": "2023-09-04T18:13:29.008Z"
   },
   {
    "duration": 195,
    "start_time": "2023-09-04T18:13:38.552Z"
   },
   {
    "duration": 79,
    "start_time": "2023-09-04T18:14:16.874Z"
   },
   {
    "duration": 195,
    "start_time": "2023-09-04T18:14:31.362Z"
   },
   {
    "duration": 122,
    "start_time": "2023-09-04T18:14:42.483Z"
   },
   {
    "duration": 211,
    "start_time": "2023-09-04T18:14:46.019Z"
   },
   {
    "duration": 291,
    "start_time": "2023-09-04T18:15:02.446Z"
   },
   {
    "duration": 190,
    "start_time": "2023-09-04T18:15:16.792Z"
   },
   {
    "duration": 192,
    "start_time": "2023-09-04T18:15:24.043Z"
   },
   {
    "duration": 188,
    "start_time": "2023-09-04T18:15:37.302Z"
   },
   {
    "duration": 187,
    "start_time": "2023-09-04T18:15:43.391Z"
   },
   {
    "duration": 189,
    "start_time": "2023-09-04T18:15:56.225Z"
   },
   {
    "duration": 205,
    "start_time": "2023-09-04T18:16:24.736Z"
   },
   {
    "duration": 320,
    "start_time": "2023-09-04T18:16:34.039Z"
   },
   {
    "duration": 198,
    "start_time": "2023-09-04T18:16:39.898Z"
   },
   {
    "duration": 242,
    "start_time": "2023-09-04T18:16:44.635Z"
   },
   {
    "duration": 188,
    "start_time": "2023-09-04T18:16:49.362Z"
   },
   {
    "duration": 327,
    "start_time": "2023-09-04T18:17:40.220Z"
   },
   {
    "duration": 227,
    "start_time": "2023-09-04T18:17:59.641Z"
   },
   {
    "duration": 190,
    "start_time": "2023-09-04T18:19:04.282Z"
   },
   {
    "duration": 213,
    "start_time": "2023-09-04T18:23:24.048Z"
   },
   {
    "duration": 128,
    "start_time": "2023-09-04T18:25:00.579Z"
   },
   {
    "duration": 128,
    "start_time": "2023-09-04T18:26:55.029Z"
   },
   {
    "duration": 118,
    "start_time": "2023-09-04T18:27:13.909Z"
   },
   {
    "duration": 125,
    "start_time": "2023-09-04T18:27:32.657Z"
   },
   {
    "duration": 124,
    "start_time": "2023-09-04T18:27:49.184Z"
   },
   {
    "duration": 120,
    "start_time": "2023-09-04T18:27:54.151Z"
   },
   {
    "duration": 124,
    "start_time": "2023-09-04T18:27:59.056Z"
   },
   {
    "duration": 217,
    "start_time": "2023-09-04T18:38:16.637Z"
   },
   {
    "duration": 189,
    "start_time": "2023-09-04T18:38:29.363Z"
   },
   {
    "duration": 97,
    "start_time": "2023-09-04T19:03:51.456Z"
   },
   {
    "duration": 96,
    "start_time": "2023-09-04T19:04:08.755Z"
   },
   {
    "duration": 193,
    "start_time": "2023-09-04T19:04:17.262Z"
   },
   {
    "duration": 205,
    "start_time": "2023-09-04T19:05:28.428Z"
   },
   {
    "duration": 187,
    "start_time": "2023-09-04T19:05:32.563Z"
   },
   {
    "duration": 9,
    "start_time": "2023-09-04T19:25:15.561Z"
   },
   {
    "duration": 120,
    "start_time": "2023-09-04T19:26:43.686Z"
   },
   {
    "duration": 131,
    "start_time": "2023-09-04T19:27:31.211Z"
   },
   {
    "duration": 133,
    "start_time": "2023-09-04T19:27:40.905Z"
   },
   {
    "duration": 527,
    "start_time": "2023-09-04T19:28:01.179Z"
   },
   {
    "duration": 4102,
    "start_time": "2023-09-04T19:28:19.312Z"
   },
   {
    "duration": 4154,
    "start_time": "2023-09-04T19:29:45.076Z"
   },
   {
    "duration": 432,
    "start_time": "2023-09-04T19:30:08.133Z"
   },
   {
    "duration": 3,
    "start_time": "2023-09-04T19:30:08.567Z"
   },
   {
    "duration": 51,
    "start_time": "2023-09-04T19:30:08.571Z"
   },
   {
    "duration": 12,
    "start_time": "2023-09-04T19:30:08.624Z"
   },
   {
    "duration": 54,
    "start_time": "2023-09-04T19:30:08.638Z"
   },
   {
    "duration": 11,
    "start_time": "2023-09-04T19:30:08.694Z"
   },
   {
    "duration": 48,
    "start_time": "2023-09-04T19:30:08.707Z"
   },
   {
    "duration": 12,
    "start_time": "2023-09-04T19:30:08.757Z"
   },
   {
    "duration": 7,
    "start_time": "2023-09-04T19:30:08.771Z"
   },
   {
    "duration": 27,
    "start_time": "2023-09-04T19:30:08.781Z"
   },
   {
    "duration": 54,
    "start_time": "2023-09-04T19:30:08.810Z"
   },
   {
    "duration": 9,
    "start_time": "2023-09-04T19:30:08.866Z"
   },
   {
    "duration": 10,
    "start_time": "2023-09-04T19:30:08.877Z"
   },
   {
    "duration": 17,
    "start_time": "2023-09-04T19:30:08.889Z"
   },
   {
    "duration": 8,
    "start_time": "2023-09-04T19:30:08.907Z"
   },
   {
    "duration": 16,
    "start_time": "2023-09-04T19:30:08.916Z"
   },
   {
    "duration": 10,
    "start_time": "2023-09-04T19:30:08.933Z"
   },
   {
    "duration": 16,
    "start_time": "2023-09-04T19:30:08.945Z"
   },
   {
    "duration": 506,
    "start_time": "2023-09-04T19:30:08.964Z"
   },
   {
    "duration": 7,
    "start_time": "2023-09-04T19:30:09.471Z"
   },
   {
    "duration": 137,
    "start_time": "2023-09-04T19:30:09.480Z"
   },
   {
    "duration": 0,
    "start_time": "2023-09-04T19:30:09.619Z"
   },
   {
    "duration": 0,
    "start_time": "2023-09-04T19:30:09.621Z"
   },
   {
    "duration": 11,
    "start_time": "2023-09-04T19:30:38.322Z"
   },
   {
    "duration": 160,
    "start_time": "2023-09-04T19:31:20.193Z"
   },
   {
    "duration": 157,
    "start_time": "2023-09-04T19:31:33.840Z"
   },
   {
    "duration": 144,
    "start_time": "2023-09-04T19:32:08.309Z"
   },
   {
    "duration": 4665,
    "start_time": "2023-09-04T19:32:38.664Z"
   },
   {
    "duration": 4569,
    "start_time": "2023-09-04T19:33:08.535Z"
   },
   {
    "duration": 1668,
    "start_time": "2023-09-04T19:34:14.933Z"
   },
   {
    "duration": 1729,
    "start_time": "2023-09-04T19:34:35.401Z"
   },
   {
    "duration": 14,
    "start_time": "2023-09-04T19:36:48.836Z"
   },
   {
    "duration": 13,
    "start_time": "2023-09-04T19:36:59.364Z"
   },
   {
    "duration": 1447,
    "start_time": "2023-09-04T19:37:47.643Z"
   },
   {
    "duration": 4,
    "start_time": "2023-09-04T19:37:49.092Z"
   },
   {
    "duration": 68,
    "start_time": "2023-09-04T19:37:49.098Z"
   },
   {
    "duration": 16,
    "start_time": "2023-09-04T19:37:49.169Z"
   },
   {
    "duration": 40,
    "start_time": "2023-09-04T19:37:49.187Z"
   },
   {
    "duration": 13,
    "start_time": "2023-09-04T19:37:49.229Z"
   },
   {
    "duration": 42,
    "start_time": "2023-09-04T19:37:49.244Z"
   },
   {
    "duration": 12,
    "start_time": "2023-09-04T19:37:49.288Z"
   },
   {
    "duration": 21,
    "start_time": "2023-09-04T19:37:49.302Z"
   },
   {
    "duration": 11,
    "start_time": "2023-09-04T19:37:49.326Z"
   },
   {
    "duration": 9,
    "start_time": "2023-09-04T19:37:49.339Z"
   },
   {
    "duration": 9,
    "start_time": "2023-09-04T19:37:49.354Z"
   },
   {
    "duration": 11,
    "start_time": "2023-09-04T19:37:49.368Z"
   },
   {
    "duration": 8,
    "start_time": "2023-09-04T19:37:49.385Z"
   },
   {
    "duration": 7,
    "start_time": "2023-09-04T19:37:49.395Z"
   },
   {
    "duration": 12,
    "start_time": "2023-09-04T19:37:49.405Z"
   },
   {
    "duration": 37,
    "start_time": "2023-09-04T19:37:49.418Z"
   },
   {
    "duration": 10,
    "start_time": "2023-09-04T19:37:49.457Z"
   },
   {
    "duration": 268,
    "start_time": "2023-09-04T19:37:49.469Z"
   },
   {
    "duration": 7,
    "start_time": "2023-09-04T19:37:49.738Z"
   },
   {
    "duration": 153,
    "start_time": "2023-09-04T19:37:49.746Z"
   },
   {
    "duration": 8,
    "start_time": "2023-09-04T19:37:49.901Z"
   },
   {
    "duration": 1627,
    "start_time": "2023-09-04T19:37:49.911Z"
   },
   {
    "duration": 1814,
    "start_time": "2023-09-04T19:37:51.540Z"
   },
   {
    "duration": 248,
    "start_time": "2023-09-04T19:38:04.343Z"
   },
   {
    "duration": 220,
    "start_time": "2023-09-04T19:38:39.345Z"
   },
   {
    "duration": 203,
    "start_time": "2023-09-04T19:39:40.730Z"
   },
   {
    "duration": 333,
    "start_time": "2023-09-04T19:39:48.259Z"
   },
   {
    "duration": 241,
    "start_time": "2023-09-04T19:40:00.342Z"
   },
   {
    "duration": 199,
    "start_time": "2023-09-04T19:41:59.640Z"
   },
   {
    "duration": 6,
    "start_time": "2023-09-04T19:50:37.531Z"
   },
   {
    "duration": 7,
    "start_time": "2023-09-04T19:50:59.570Z"
   },
   {
    "duration": 1407,
    "start_time": "2023-09-05T04:00:33.556Z"
   },
   {
    "duration": 3,
    "start_time": "2023-09-05T04:00:34.965Z"
   },
   {
    "duration": 110,
    "start_time": "2023-09-05T04:00:34.970Z"
   },
   {
    "duration": 12,
    "start_time": "2023-09-05T04:00:35.082Z"
   },
   {
    "duration": 100,
    "start_time": "2023-09-05T04:00:35.095Z"
   },
   {
    "duration": 13,
    "start_time": "2023-09-05T04:00:35.197Z"
   },
   {
    "duration": 70,
    "start_time": "2023-09-05T04:00:35.212Z"
   },
   {
    "duration": 10,
    "start_time": "2023-09-05T04:00:35.284Z"
   },
   {
    "duration": 16,
    "start_time": "2023-09-05T04:00:35.296Z"
   },
   {
    "duration": 15,
    "start_time": "2023-09-05T04:00:35.318Z"
   },
   {
    "duration": 7,
    "start_time": "2023-09-05T04:00:35.336Z"
   },
   {
    "duration": 16,
    "start_time": "2023-09-05T04:00:35.345Z"
   },
   {
    "duration": 6,
    "start_time": "2023-09-05T04:00:35.363Z"
   },
   {
    "duration": 15,
    "start_time": "2023-09-05T04:00:35.371Z"
   },
   {
    "duration": 35,
    "start_time": "2023-09-05T04:00:35.389Z"
   },
   {
    "duration": 15,
    "start_time": "2023-09-05T04:00:35.426Z"
   },
   {
    "duration": 25,
    "start_time": "2023-09-05T04:00:35.443Z"
   },
   {
    "duration": 15,
    "start_time": "2023-09-05T04:00:35.470Z"
   },
   {
    "duration": 221,
    "start_time": "2023-09-05T04:00:35.487Z"
   },
   {
    "duration": 10,
    "start_time": "2023-09-05T04:00:35.710Z"
   },
   {
    "duration": 127,
    "start_time": "2023-09-05T04:00:35.723Z"
   },
   {
    "duration": 8,
    "start_time": "2023-09-05T04:00:35.852Z"
   },
   {
    "duration": 10,
    "start_time": "2023-09-05T04:00:35.861Z"
   },
   {
    "duration": 190,
    "start_time": "2023-09-05T04:00:35.873Z"
   },
   {
    "duration": 224,
    "start_time": "2023-09-05T04:02:41.280Z"
   },
   {
    "duration": 180,
    "start_time": "2023-09-05T04:02:53.852Z"
   },
   {
    "duration": 122,
    "start_time": "2023-09-05T04:03:15.440Z"
   },
   {
    "duration": 179,
    "start_time": "2023-09-05T04:03:25.754Z"
   },
   {
    "duration": 186,
    "start_time": "2023-09-05T04:03:49.371Z"
   },
   {
    "duration": 136,
    "start_time": "2023-09-05T04:04:00.492Z"
   },
   {
    "duration": 289,
    "start_time": "2023-09-05T04:04:04.995Z"
   },
   {
    "duration": 13,
    "start_time": "2023-09-05T04:06:54.703Z"
   },
   {
    "duration": 7,
    "start_time": "2023-09-05T04:07:57.451Z"
   },
   {
    "duration": 189,
    "start_time": "2023-09-05T04:09:13.999Z"
   },
   {
    "duration": 1033,
    "start_time": "2023-09-05T04:09:33.397Z"
   },
   {
    "duration": 511,
    "start_time": "2023-09-05T04:15:22.806Z"
   },
   {
    "duration": 281,
    "start_time": "2023-09-05T04:18:05.031Z"
   },
   {
    "duration": 4,
    "start_time": "2023-09-05T04:20:52.870Z"
   },
   {
    "duration": 299,
    "start_time": "2023-09-05T04:21:02.787Z"
   },
   {
    "duration": 1803,
    "start_time": "2023-09-05T04:21:16.774Z"
   },
   {
    "duration": 306,
    "start_time": "2023-09-05T04:21:23.441Z"
   },
   {
    "duration": 460,
    "start_time": "2023-09-05T04:21:37.600Z"
   },
   {
    "duration": 286,
    "start_time": "2023-09-05T04:22:04.155Z"
   },
   {
    "duration": 277,
    "start_time": "2023-09-05T04:22:29.971Z"
   },
   {
    "duration": 10,
    "start_time": "2023-09-05T04:27:01.738Z"
   },
   {
    "duration": 293,
    "start_time": "2023-09-05T04:27:41.462Z"
   },
   {
    "duration": 1685,
    "start_time": "2023-09-05T04:27:46.460Z"
   },
   {
    "duration": 1016,
    "start_time": "2023-09-05T04:28:18.652Z"
   },
   {
    "duration": 714,
    "start_time": "2023-09-05T04:29:12.656Z"
   },
   {
    "duration": 838,
    "start_time": "2023-09-05T04:29:19.332Z"
   },
   {
    "duration": 152,
    "start_time": "2023-09-05T04:39:57.698Z"
   },
   {
    "duration": 745,
    "start_time": "2023-09-05T04:40:06.711Z"
   },
   {
    "duration": 663,
    "start_time": "2023-09-05T04:40:37.987Z"
   },
   {
    "duration": 817,
    "start_time": "2023-09-05T04:40:43.250Z"
   },
   {
    "duration": 699,
    "start_time": "2023-09-05T04:43:13.938Z"
   },
   {
    "duration": 899,
    "start_time": "2023-09-05T04:43:28.021Z"
   },
   {
    "duration": 28,
    "start_time": "2023-09-05T05:34:02.767Z"
   },
   {
    "duration": 21,
    "start_time": "2023-09-05T05:34:20.541Z"
   },
   {
    "duration": 39,
    "start_time": "2023-09-05T05:35:00.202Z"
   },
   {
    "duration": 19,
    "start_time": "2023-09-05T05:35:26.768Z"
   },
   {
    "duration": 33,
    "start_time": "2023-09-05T05:35:31.187Z"
   },
   {
    "duration": 34,
    "start_time": "2023-09-05T05:35:34.613Z"
   },
   {
    "duration": 20,
    "start_time": "2023-09-05T05:35:46.269Z"
   },
   {
    "duration": 18,
    "start_time": "2023-09-05T05:36:09.066Z"
   },
   {
    "duration": 20,
    "start_time": "2023-09-05T05:36:13.240Z"
   },
   {
    "duration": 30,
    "start_time": "2023-09-05T05:36:37.638Z"
   },
   {
    "duration": 39,
    "start_time": "2023-09-05T05:36:52.623Z"
   },
   {
    "duration": 9,
    "start_time": "2023-09-05T05:42:29.652Z"
   },
   {
    "duration": 9,
    "start_time": "2023-09-05T05:44:23.662Z"
   },
   {
    "duration": 31,
    "start_time": "2023-09-05T05:44:50.458Z"
   },
   {
    "duration": 8,
    "start_time": "2023-09-05T05:45:12.256Z"
   },
   {
    "duration": 30,
    "start_time": "2023-09-05T05:46:19.371Z"
   },
   {
    "duration": 63,
    "start_time": "2023-09-05T05:46:44.808Z"
   },
   {
    "duration": 27,
    "start_time": "2023-09-05T05:47:00.638Z"
   },
   {
    "duration": 1524,
    "start_time": "2023-09-05T05:48:17.462Z"
   },
   {
    "duration": 5,
    "start_time": "2023-09-05T05:48:18.988Z"
   },
   {
    "duration": 80,
    "start_time": "2023-09-05T05:48:18.994Z"
   },
   {
    "duration": 17,
    "start_time": "2023-09-05T05:48:19.077Z"
   },
   {
    "duration": 73,
    "start_time": "2023-09-05T05:48:19.096Z"
   },
   {
    "duration": 12,
    "start_time": "2023-09-05T05:48:19.171Z"
   },
   {
    "duration": 22,
    "start_time": "2023-09-05T05:48:19.186Z"
   },
   {
    "duration": 15,
    "start_time": "2023-09-05T05:48:19.217Z"
   },
   {
    "duration": 27,
    "start_time": "2023-09-05T05:48:19.234Z"
   },
   {
    "duration": 8,
    "start_time": "2023-09-05T05:48:19.270Z"
   },
   {
    "duration": 7,
    "start_time": "2023-09-05T05:48:19.279Z"
   },
   {
    "duration": 12,
    "start_time": "2023-09-05T05:48:19.287Z"
   },
   {
    "duration": 5,
    "start_time": "2023-09-05T05:48:19.301Z"
   },
   {
    "duration": 28,
    "start_time": "2023-09-05T05:48:19.307Z"
   },
   {
    "duration": 10,
    "start_time": "2023-09-05T05:48:19.339Z"
   },
   {
    "duration": 22,
    "start_time": "2023-09-05T05:48:19.354Z"
   },
   {
    "duration": 11,
    "start_time": "2023-09-05T05:48:19.378Z"
   },
   {
    "duration": 8,
    "start_time": "2023-09-05T05:48:19.391Z"
   },
   {
    "duration": 285,
    "start_time": "2023-09-05T05:48:19.400Z"
   },
   {
    "duration": 23,
    "start_time": "2023-09-05T05:48:19.688Z"
   },
   {
    "duration": 166,
    "start_time": "2023-09-05T05:48:19.713Z"
   },
   {
    "duration": 8,
    "start_time": "2023-09-05T05:48:19.881Z"
   },
   {
    "duration": 9,
    "start_time": "2023-09-05T05:48:19.890Z"
   },
   {
    "duration": 250,
    "start_time": "2023-09-05T05:48:19.900Z"
   },
   {
    "duration": 17,
    "start_time": "2023-09-05T05:48:20.152Z"
   },
   {
    "duration": 322,
    "start_time": "2023-09-05T05:48:20.172Z"
   },
   {
    "duration": 346,
    "start_time": "2023-09-05T05:48:20.497Z"
   },
   {
    "duration": 437,
    "start_time": "2023-09-05T05:48:20.849Z"
   },
   {
    "duration": 22,
    "start_time": "2023-09-05T05:48:21.288Z"
   },
   {
    "duration": 844,
    "start_time": "2023-09-05T05:48:21.320Z"
   },
   {
    "duration": 112,
    "start_time": "2023-09-05T05:48:22.170Z"
   },
   {
    "duration": 0,
    "start_time": "2023-09-05T05:48:22.284Z"
   },
   {
    "duration": 0,
    "start_time": "2023-09-05T05:48:22.285Z"
   },
   {
    "duration": 0,
    "start_time": "2023-09-05T05:48:22.286Z"
   },
   {
    "duration": 0,
    "start_time": "2023-09-05T05:48:22.289Z"
   },
   {
    "duration": 1444,
    "start_time": "2023-09-05T05:48:59.163Z"
   },
   {
    "duration": 11,
    "start_time": "2023-09-05T05:49:00.611Z"
   },
   {
    "duration": 120,
    "start_time": "2023-09-05T05:49:00.625Z"
   },
   {
    "duration": 16,
    "start_time": "2023-09-05T05:49:00.749Z"
   },
   {
    "duration": 102,
    "start_time": "2023-09-05T05:49:00.773Z"
   },
   {
    "duration": 13,
    "start_time": "2023-09-05T05:49:00.877Z"
   },
   {
    "duration": 53,
    "start_time": "2023-09-05T05:49:00.892Z"
   },
   {
    "duration": 15,
    "start_time": "2023-09-05T05:49:00.950Z"
   },
   {
    "duration": 36,
    "start_time": "2023-09-05T05:49:00.967Z"
   },
   {
    "duration": 45,
    "start_time": "2023-09-05T05:49:01.004Z"
   },
   {
    "duration": 71,
    "start_time": "2023-09-05T05:49:01.051Z"
   },
   {
    "duration": 54,
    "start_time": "2023-09-05T05:49:01.125Z"
   },
   {
    "duration": 24,
    "start_time": "2023-09-05T05:49:01.181Z"
   },
   {
    "duration": 63,
    "start_time": "2023-09-05T05:49:01.209Z"
   },
   {
    "duration": 31,
    "start_time": "2023-09-05T05:49:01.274Z"
   },
   {
    "duration": 68,
    "start_time": "2023-09-05T05:49:01.307Z"
   },
   {
    "duration": 48,
    "start_time": "2023-09-05T05:49:01.376Z"
   },
   {
    "duration": 44,
    "start_time": "2023-09-05T05:49:01.426Z"
   },
   {
    "duration": 340,
    "start_time": "2023-09-05T05:49:01.472Z"
   },
   {
    "duration": 6,
    "start_time": "2023-09-05T05:49:01.820Z"
   },
   {
    "duration": 251,
    "start_time": "2023-09-05T05:49:01.830Z"
   },
   {
    "duration": 10,
    "start_time": "2023-09-05T05:49:02.082Z"
   },
   {
    "duration": 48,
    "start_time": "2023-09-05T05:49:02.094Z"
   },
   {
    "duration": 226,
    "start_time": "2023-09-05T05:49:02.154Z"
   },
   {
    "duration": 14,
    "start_time": "2023-09-05T05:49:02.382Z"
   },
   {
    "duration": 387,
    "start_time": "2023-09-05T05:49:02.398Z"
   },
   {
    "duration": 386,
    "start_time": "2023-09-05T05:49:02.788Z"
   },
   {
    "duration": 397,
    "start_time": "2023-09-05T05:49:03.176Z"
   },
   {
    "duration": 11,
    "start_time": "2023-09-05T05:49:03.576Z"
   },
   {
    "duration": 808,
    "start_time": "2023-09-05T05:49:03.589Z"
   },
   {
    "duration": 839,
    "start_time": "2023-09-05T05:49:04.399Z"
   },
   {
    "duration": 916,
    "start_time": "2023-09-05T05:49:05.240Z"
   },
   {
    "duration": 27,
    "start_time": "2023-09-05T05:49:06.158Z"
   },
   {
    "duration": 32,
    "start_time": "2023-09-05T05:49:06.189Z"
   },
   {
    "duration": 214,
    "start_time": "2023-09-05T05:49:06.223Z"
   },
   {
    "duration": 11,
    "start_time": "2023-09-05T05:52:25.440Z"
   },
   {
    "duration": 40,
    "start_time": "2023-09-05T05:53:18.492Z"
   },
   {
    "duration": 32,
    "start_time": "2023-09-05T05:54:00.039Z"
   },
   {
    "duration": 21,
    "start_time": "2023-09-05T05:54:10.745Z"
   },
   {
    "duration": 18,
    "start_time": "2023-09-05T05:55:40.242Z"
   },
   {
    "duration": 127,
    "start_time": "2023-09-05T05:58:34.130Z"
   },
   {
    "duration": 35,
    "start_time": "2023-09-05T05:59:05.263Z"
   },
   {
    "duration": 42,
    "start_time": "2023-09-05T06:00:17.299Z"
   },
   {
    "duration": 29,
    "start_time": "2023-09-05T06:01:09.907Z"
   },
   {
    "duration": 24,
    "start_time": "2023-09-05T06:02:57.582Z"
   },
   {
    "duration": 35,
    "start_time": "2023-09-05T06:03:10.907Z"
   },
   {
    "duration": 31,
    "start_time": "2023-09-05T06:03:21.830Z"
   },
   {
    "duration": 31,
    "start_time": "2023-09-05T06:03:28.549Z"
   },
   {
    "duration": 1372,
    "start_time": "2023-09-05T06:03:39.330Z"
   },
   {
    "duration": 14,
    "start_time": "2023-09-05T06:03:40.704Z"
   },
   {
    "duration": 57,
    "start_time": "2023-09-05T06:03:40.721Z"
   },
   {
    "duration": 12,
    "start_time": "2023-09-05T06:03:40.781Z"
   },
   {
    "duration": 68,
    "start_time": "2023-09-05T06:03:40.795Z"
   },
   {
    "duration": 12,
    "start_time": "2023-09-05T06:03:40.864Z"
   },
   {
    "duration": 20,
    "start_time": "2023-09-05T06:03:40.878Z"
   },
   {
    "duration": 25,
    "start_time": "2023-09-05T06:03:40.901Z"
   },
   {
    "duration": 43,
    "start_time": "2023-09-05T06:03:40.928Z"
   },
   {
    "duration": 17,
    "start_time": "2023-09-05T06:03:40.975Z"
   },
   {
    "duration": 10,
    "start_time": "2023-09-05T06:03:40.994Z"
   },
   {
    "duration": 27,
    "start_time": "2023-09-05T06:03:41.006Z"
   },
   {
    "duration": 19,
    "start_time": "2023-09-05T06:03:41.043Z"
   },
   {
    "duration": 12,
    "start_time": "2023-09-05T06:03:41.064Z"
   },
   {
    "duration": 6,
    "start_time": "2023-09-05T06:03:41.077Z"
   },
   {
    "duration": 18,
    "start_time": "2023-09-05T06:03:41.085Z"
   },
   {
    "duration": 27,
    "start_time": "2023-09-05T06:03:41.106Z"
   },
   {
    "duration": 16,
    "start_time": "2023-09-05T06:03:41.147Z"
   },
   {
    "duration": 244,
    "start_time": "2023-09-05T06:03:41.165Z"
   },
   {
    "duration": 24,
    "start_time": "2023-09-05T06:03:41.411Z"
   },
   {
    "duration": 158,
    "start_time": "2023-09-05T06:03:41.443Z"
   },
   {
    "duration": 25,
    "start_time": "2023-09-05T06:03:41.603Z"
   },
   {
    "duration": 13,
    "start_time": "2023-09-05T06:03:41.633Z"
   },
   {
    "duration": 221,
    "start_time": "2023-09-05T06:03:41.652Z"
   },
   {
    "duration": 11,
    "start_time": "2023-09-05T06:03:41.875Z"
   },
   {
    "duration": 335,
    "start_time": "2023-09-05T06:03:41.888Z"
   },
   {
    "duration": 368,
    "start_time": "2023-09-05T06:03:42.228Z"
   },
   {
    "duration": 551,
    "start_time": "2023-09-05T06:03:42.601Z"
   },
   {
    "duration": 19,
    "start_time": "2023-09-05T06:03:43.159Z"
   },
   {
    "duration": 819,
    "start_time": "2023-09-05T06:03:43.181Z"
   },
   {
    "duration": 778,
    "start_time": "2023-09-05T06:03:44.002Z"
   },
   {
    "duration": 1003,
    "start_time": "2023-09-05T06:03:44.783Z"
   },
   {
    "duration": 50,
    "start_time": "2023-09-05T06:03:45.788Z"
   },
   {
    "duration": 33,
    "start_time": "2023-09-05T06:03:45.845Z"
   },
   {
    "duration": 16,
    "start_time": "2023-09-05T06:03:45.880Z"
   },
   {
    "duration": 65,
    "start_time": "2023-09-05T06:03:45.898Z"
   },
   {
    "duration": 20,
    "start_time": "2023-09-05T06:03:45.965Z"
   },
   {
    "duration": 486,
    "start_time": "2023-09-05T06:06:50.974Z"
   },
   {
    "duration": 390,
    "start_time": "2023-09-05T06:07:33.708Z"
   },
   {
    "duration": 763,
    "start_time": "2023-09-05T06:16:40.465Z"
   },
   {
    "duration": 512,
    "start_time": "2023-09-05T06:17:07.425Z"
   },
   {
    "duration": 583,
    "start_time": "2023-09-05T06:20:29.170Z"
   },
   {
    "duration": 537,
    "start_time": "2023-09-05T06:20:56.743Z"
   },
   {
    "duration": 528,
    "start_time": "2023-09-05T06:21:32.476Z"
   },
   {
    "duration": 498,
    "start_time": "2023-09-05T06:21:47.595Z"
   },
   {
    "duration": 374,
    "start_time": "2023-09-05T06:24:01.771Z"
   },
   {
    "duration": 395,
    "start_time": "2023-09-05T06:24:47.582Z"
   },
   {
    "duration": 767,
    "start_time": "2023-09-05T06:26:02.110Z"
   },
   {
    "duration": 116,
    "start_time": "2023-09-05T07:05:18.339Z"
   },
   {
    "duration": 52,
    "start_time": "2023-09-05T07:06:39.704Z"
   },
   {
    "duration": 42,
    "start_time": "2023-09-05T07:08:29.984Z"
   },
   {
    "duration": 17,
    "start_time": "2023-09-05T07:13:55.523Z"
   },
   {
    "duration": 22,
    "start_time": "2023-09-05T07:14:09.211Z"
   },
   {
    "duration": 18,
    "start_time": "2023-09-05T07:14:28.280Z"
   },
   {
    "duration": 17,
    "start_time": "2023-09-05T07:15:11.336Z"
   },
   {
    "duration": 1240,
    "start_time": "2023-09-05T07:15:33.320Z"
   },
   {
    "duration": 3,
    "start_time": "2023-09-05T07:15:34.562Z"
   },
   {
    "duration": 47,
    "start_time": "2023-09-05T07:15:34.567Z"
   },
   {
    "duration": 11,
    "start_time": "2023-09-05T07:15:34.617Z"
   },
   {
    "duration": 38,
    "start_time": "2023-09-05T07:15:34.630Z"
   },
   {
    "duration": 12,
    "start_time": "2023-09-05T07:15:34.669Z"
   },
   {
    "duration": 27,
    "start_time": "2023-09-05T07:15:34.683Z"
   },
   {
    "duration": 11,
    "start_time": "2023-09-05T07:15:34.712Z"
   },
   {
    "duration": 8,
    "start_time": "2023-09-05T07:15:34.724Z"
   },
   {
    "duration": 7,
    "start_time": "2023-09-05T07:15:34.735Z"
   },
   {
    "duration": 9,
    "start_time": "2023-09-05T07:15:34.744Z"
   },
   {
    "duration": 7,
    "start_time": "2023-09-05T07:15:34.754Z"
   },
   {
    "duration": 10,
    "start_time": "2023-09-05T07:15:34.762Z"
   },
   {
    "duration": 40,
    "start_time": "2023-09-05T07:15:34.774Z"
   },
   {
    "duration": 6,
    "start_time": "2023-09-05T07:15:34.815Z"
   },
   {
    "duration": 11,
    "start_time": "2023-09-05T07:15:34.823Z"
   },
   {
    "duration": 7,
    "start_time": "2023-09-05T07:15:34.835Z"
   },
   {
    "duration": 6,
    "start_time": "2023-09-05T07:15:34.844Z"
   },
   {
    "duration": 238,
    "start_time": "2023-09-05T07:15:34.852Z"
   },
   {
    "duration": 6,
    "start_time": "2023-09-05T07:15:35.092Z"
   },
   {
    "duration": 132,
    "start_time": "2023-09-05T07:15:35.109Z"
   },
   {
    "duration": 9,
    "start_time": "2023-09-05T07:15:35.243Z"
   },
   {
    "duration": 9,
    "start_time": "2023-09-05T07:15:35.254Z"
   },
   {
    "duration": 195,
    "start_time": "2023-09-05T07:15:35.265Z"
   },
   {
    "duration": 12,
    "start_time": "2023-09-05T07:15:35.462Z"
   },
   {
    "duration": 286,
    "start_time": "2023-09-05T07:15:35.477Z"
   },
   {
    "duration": 272,
    "start_time": "2023-09-05T07:15:35.765Z"
   },
   {
    "duration": 353,
    "start_time": "2023-09-05T07:15:36.040Z"
   },
   {
    "duration": 17,
    "start_time": "2023-09-05T07:15:36.395Z"
   },
   {
    "duration": 648,
    "start_time": "2023-09-05T07:15:36.414Z"
   },
   {
    "duration": 610,
    "start_time": "2023-09-05T07:15:37.064Z"
   },
   {
    "duration": 745,
    "start_time": "2023-09-05T07:15:37.675Z"
   },
   {
    "duration": 18,
    "start_time": "2023-09-05T07:15:38.421Z"
   },
   {
    "duration": 20,
    "start_time": "2023-09-05T07:15:38.441Z"
   },
   {
    "duration": 7,
    "start_time": "2023-09-05T07:15:38.462Z"
   },
   {
    "duration": 49,
    "start_time": "2023-09-05T07:15:38.471Z"
   },
   {
    "duration": 16,
    "start_time": "2023-09-05T07:15:38.522Z"
   },
   {
    "duration": 288,
    "start_time": "2023-09-05T07:15:38.540Z"
   },
   {
    "duration": 265,
    "start_time": "2023-09-05T07:15:38.829Z"
   },
   {
    "duration": 514,
    "start_time": "2023-09-05T07:15:39.095Z"
   },
   {
    "duration": 269,
    "start_time": "2023-09-05T07:15:39.611Z"
   },
   {
    "duration": 289,
    "start_time": "2023-09-05T07:15:39.881Z"
   },
   {
    "duration": 442,
    "start_time": "2023-09-05T07:15:40.172Z"
   },
   {
    "duration": 33,
    "start_time": "2023-09-05T07:15:40.617Z"
   },
   {
    "duration": 31,
    "start_time": "2023-09-05T07:17:09.356Z"
   },
   {
    "duration": 1395,
    "start_time": "2023-09-05T07:17:45.259Z"
   },
   {
    "duration": 2,
    "start_time": "2023-09-05T07:17:46.656Z"
   },
   {
    "duration": 44,
    "start_time": "2023-09-05T07:17:46.663Z"
   },
   {
    "duration": 12,
    "start_time": "2023-09-05T07:17:46.708Z"
   },
   {
    "duration": 38,
    "start_time": "2023-09-05T07:17:46.722Z"
   },
   {
    "duration": 11,
    "start_time": "2023-09-05T07:17:46.762Z"
   },
   {
    "duration": 20,
    "start_time": "2023-09-05T07:17:46.775Z"
   },
   {
    "duration": 13,
    "start_time": "2023-09-05T07:17:46.797Z"
   },
   {
    "duration": 7,
    "start_time": "2023-09-05T07:17:46.813Z"
   },
   {
    "duration": 17,
    "start_time": "2023-09-05T07:17:46.822Z"
   },
   {
    "duration": 6,
    "start_time": "2023-09-05T07:17:46.840Z"
   },
   {
    "duration": 7,
    "start_time": "2023-09-05T07:17:46.848Z"
   },
   {
    "duration": 18,
    "start_time": "2023-09-05T07:17:46.857Z"
   },
   {
    "duration": 10,
    "start_time": "2023-09-05T07:17:46.877Z"
   },
   {
    "duration": 23,
    "start_time": "2023-09-05T07:17:46.888Z"
   },
   {
    "duration": 11,
    "start_time": "2023-09-05T07:17:46.913Z"
   },
   {
    "duration": 12,
    "start_time": "2023-09-05T07:17:46.925Z"
   },
   {
    "duration": 6,
    "start_time": "2023-09-05T07:17:46.938Z"
   },
   {
    "duration": 224,
    "start_time": "2023-09-05T07:17:46.946Z"
   },
   {
    "duration": 6,
    "start_time": "2023-09-05T07:17:47.172Z"
   },
   {
    "duration": 126,
    "start_time": "2023-09-05T07:17:47.179Z"
   },
   {
    "duration": 11,
    "start_time": "2023-09-05T07:17:47.310Z"
   },
   {
    "duration": 18,
    "start_time": "2023-09-05T07:17:47.323Z"
   },
   {
    "duration": 189,
    "start_time": "2023-09-05T07:17:47.343Z"
   },
   {
    "duration": 8,
    "start_time": "2023-09-05T07:17:47.534Z"
   },
   {
    "duration": 272,
    "start_time": "2023-09-05T07:17:47.544Z"
   },
   {
    "duration": 264,
    "start_time": "2023-09-05T07:17:47.820Z"
   },
   {
    "duration": 343,
    "start_time": "2023-09-05T07:17:48.086Z"
   },
   {
    "duration": 9,
    "start_time": "2023-09-05T07:17:48.431Z"
   },
   {
    "duration": 680,
    "start_time": "2023-09-05T07:17:48.442Z"
   },
   {
    "duration": 602,
    "start_time": "2023-09-05T07:17:49.124Z"
   },
   {
    "duration": 765,
    "start_time": "2023-09-05T07:17:49.728Z"
   },
   {
    "duration": 25,
    "start_time": "2023-09-05T07:17:50.495Z"
   },
   {
    "duration": 30,
    "start_time": "2023-09-05T07:17:50.522Z"
   },
   {
    "duration": 8,
    "start_time": "2023-09-05T07:17:50.554Z"
   },
   {
    "duration": 32,
    "start_time": "2023-09-05T07:17:50.564Z"
   },
   {
    "duration": 27,
    "start_time": "2023-09-05T07:17:50.598Z"
   },
   {
    "duration": 277,
    "start_time": "2023-09-05T07:17:50.627Z"
   },
   {
    "duration": 252,
    "start_time": "2023-09-05T07:17:50.909Z"
   },
   {
    "duration": 503,
    "start_time": "2023-09-05T07:17:51.163Z"
   },
   {
    "duration": 253,
    "start_time": "2023-09-05T07:17:51.667Z"
   },
   {
    "duration": 270,
    "start_time": "2023-09-05T07:17:51.922Z"
   },
   {
    "duration": 481,
    "start_time": "2023-09-05T07:17:52.194Z"
   },
   {
    "duration": 47,
    "start_time": "2023-09-05T07:17:52.677Z"
   },
   {
    "duration": 50,
    "start_time": "2023-09-05T07:17:52.726Z"
   },
   {
    "duration": 51,
    "start_time": "2023-09-05T07:17:52.778Z"
   },
   {
    "duration": 35,
    "start_time": "2023-09-05T07:18:41.716Z"
   },
   {
    "duration": 113,
    "start_time": "2023-09-05T07:22:40.253Z"
   },
   {
    "duration": 41,
    "start_time": "2023-09-05T07:23:00.745Z"
   },
   {
    "duration": 36,
    "start_time": "2023-09-05T07:23:50.544Z"
   },
   {
    "duration": 90,
    "start_time": "2023-09-05T08:05:51.217Z"
   },
   {
    "duration": 7,
    "start_time": "2023-09-05T08:05:55.490Z"
   },
   {
    "duration": 6,
    "start_time": "2023-09-05T08:06:11.013Z"
   },
   {
    "duration": 1249,
    "start_time": "2023-09-05T08:06:17.606Z"
   },
   {
    "duration": 4,
    "start_time": "2023-09-05T08:06:18.857Z"
   },
   {
    "duration": 51,
    "start_time": "2023-09-05T08:06:18.862Z"
   },
   {
    "duration": 12,
    "start_time": "2023-09-05T08:06:18.916Z"
   },
   {
    "duration": 35,
    "start_time": "2023-09-05T08:06:18.930Z"
   },
   {
    "duration": 10,
    "start_time": "2023-09-05T08:06:18.967Z"
   },
   {
    "duration": 20,
    "start_time": "2023-09-05T08:06:18.979Z"
   },
   {
    "duration": 17,
    "start_time": "2023-09-05T08:06:19.000Z"
   },
   {
    "duration": 9,
    "start_time": "2023-09-05T08:06:19.019Z"
   },
   {
    "duration": 12,
    "start_time": "2023-09-05T08:06:19.031Z"
   },
   {
    "duration": 8,
    "start_time": "2023-09-05T08:06:19.045Z"
   },
   {
    "duration": 8,
    "start_time": "2023-09-05T08:06:19.054Z"
   },
   {
    "duration": 5,
    "start_time": "2023-09-05T08:06:19.064Z"
   },
   {
    "duration": 40,
    "start_time": "2023-09-05T08:06:19.070Z"
   },
   {
    "duration": 5,
    "start_time": "2023-09-05T08:06:19.112Z"
   },
   {
    "duration": 13,
    "start_time": "2023-09-05T08:06:19.118Z"
   },
   {
    "duration": 21,
    "start_time": "2023-09-05T08:06:19.132Z"
   },
   {
    "duration": 6,
    "start_time": "2023-09-05T08:06:19.155Z"
   },
   {
    "duration": 210,
    "start_time": "2023-09-05T08:06:19.162Z"
   },
   {
    "duration": 6,
    "start_time": "2023-09-05T08:06:19.374Z"
   },
   {
    "duration": 138,
    "start_time": "2023-09-05T08:06:19.382Z"
   },
   {
    "duration": 9,
    "start_time": "2023-09-05T08:06:19.522Z"
   },
   {
    "duration": 13,
    "start_time": "2023-09-05T08:06:19.532Z"
   },
   {
    "duration": 174,
    "start_time": "2023-09-05T08:06:19.563Z"
   },
   {
    "duration": 9,
    "start_time": "2023-09-05T08:06:19.739Z"
   },
   {
    "duration": 287,
    "start_time": "2023-09-05T08:06:19.750Z"
   },
   {
    "duration": 270,
    "start_time": "2023-09-05T08:06:20.038Z"
   },
   {
    "duration": 344,
    "start_time": "2023-09-05T08:06:20.311Z"
   },
   {
    "duration": 8,
    "start_time": "2023-09-05T08:06:20.657Z"
   },
   {
    "duration": 634,
    "start_time": "2023-09-05T08:06:20.667Z"
   },
   {
    "duration": 613,
    "start_time": "2023-09-05T08:06:21.303Z"
   },
   {
    "duration": 892,
    "start_time": "2023-09-05T08:06:21.918Z"
   },
   {
    "duration": 19,
    "start_time": "2023-09-05T08:06:22.812Z"
   },
   {
    "duration": 39,
    "start_time": "2023-09-05T08:06:22.833Z"
   },
   {
    "duration": 8,
    "start_time": "2023-09-05T08:06:22.874Z"
   },
   {
    "duration": 37,
    "start_time": "2023-09-05T08:06:22.884Z"
   },
   {
    "duration": 17,
    "start_time": "2023-09-05T08:06:22.923Z"
   },
   {
    "duration": 296,
    "start_time": "2023-09-05T08:06:22.942Z"
   },
   {
    "duration": 276,
    "start_time": "2023-09-05T08:06:23.240Z"
   },
   {
    "duration": 505,
    "start_time": "2023-09-05T08:06:23.518Z"
   },
   {
    "duration": 267,
    "start_time": "2023-09-05T08:06:24.025Z"
   },
   {
    "duration": 260,
    "start_time": "2023-09-05T08:06:24.294Z"
   },
   {
    "duration": 412,
    "start_time": "2023-09-05T08:06:24.555Z"
   },
   {
    "duration": 32,
    "start_time": "2023-09-05T08:06:24.969Z"
   },
   {
    "duration": 26,
    "start_time": "2023-09-05T08:06:25.010Z"
   },
   {
    "duration": 51,
    "start_time": "2023-09-05T08:06:25.038Z"
   },
   {
    "duration": 8,
    "start_time": "2023-09-05T08:06:25.109Z"
   },
   {
    "duration": 8,
    "start_time": "2023-09-05T08:06:47.418Z"
   },
   {
    "duration": 111,
    "start_time": "2023-09-05T08:56:00.739Z"
   },
   {
    "duration": 11,
    "start_time": "2023-09-05T08:56:13.620Z"
   },
   {
    "duration": 13,
    "start_time": "2023-09-05T08:56:51.810Z"
   },
   {
    "duration": 10,
    "start_time": "2023-09-05T08:57:14.363Z"
   },
   {
    "duration": 11,
    "start_time": "2023-09-05T08:59:13.711Z"
   },
   {
    "duration": 12,
    "start_time": "2023-09-05T09:00:02.977Z"
   },
   {
    "duration": 12,
    "start_time": "2023-09-05T09:17:11.280Z"
   },
   {
    "duration": 19,
    "start_time": "2023-09-05T09:17:20.736Z"
   },
   {
    "duration": 144,
    "start_time": "2023-09-05T09:24:39.590Z"
   },
   {
    "duration": 15,
    "start_time": "2023-09-05T09:26:17.336Z"
   },
   {
    "duration": 20,
    "start_time": "2023-09-05T09:26:39.014Z"
   },
   {
    "duration": 18,
    "start_time": "2023-09-05T09:28:34.109Z"
   },
   {
    "duration": 44,
    "start_time": "2023-09-05T09:34:28.431Z"
   },
   {
    "duration": 20,
    "start_time": "2023-09-05T09:55:31.100Z"
   },
   {
    "duration": 29,
    "start_time": "2023-09-05T09:56:08.604Z"
   },
   {
    "duration": 24,
    "start_time": "2023-09-05T09:57:53.711Z"
   },
   {
    "duration": 21,
    "start_time": "2023-09-05T09:58:53.309Z"
   },
   {
    "duration": 23,
    "start_time": "2023-09-05T09:59:20.298Z"
   },
   {
    "duration": 38,
    "start_time": "2023-09-05T10:10:49.023Z"
   },
   {
    "duration": 17,
    "start_time": "2023-09-05T10:11:58.660Z"
   },
   {
    "duration": 22,
    "start_time": "2023-09-05T10:13:05.447Z"
   },
   {
    "duration": 36,
    "start_time": "2023-09-05T10:19:28.716Z"
   },
   {
    "duration": 39,
    "start_time": "2023-09-05T10:19:37.976Z"
   },
   {
    "duration": 49,
    "start_time": "2023-09-05T10:25:50.182Z"
   },
   {
    "duration": 28,
    "start_time": "2023-09-05T10:35:17.874Z"
   },
   {
    "duration": 1759,
    "start_time": "2023-09-05T10:35:27.370Z"
   },
   {
    "duration": 78,
    "start_time": "2023-09-05T10:37:06.698Z"
   },
   {
    "duration": 89,
    "start_time": "2023-09-05T10:37:12.922Z"
   },
   {
    "duration": 33,
    "start_time": "2023-09-05T10:37:39.721Z"
   },
   {
    "duration": 28,
    "start_time": "2023-09-05T10:37:51.297Z"
   },
   {
    "duration": 31,
    "start_time": "2023-09-05T10:37:54.939Z"
   },
   {
    "duration": 31,
    "start_time": "2023-09-05T10:39:26.843Z"
   },
   {
    "duration": 90,
    "start_time": "2023-09-05T10:39:44.764Z"
   },
   {
    "duration": 33,
    "start_time": "2023-09-05T10:39:48.047Z"
   },
   {
    "duration": 5,
    "start_time": "2023-09-05T10:44:52.320Z"
   },
   {
    "duration": 31,
    "start_time": "2023-09-05T10:45:30.126Z"
   },
   {
    "duration": 1246,
    "start_time": "2023-09-05T10:47:24.329Z"
   },
   {
    "duration": 3,
    "start_time": "2023-09-05T10:47:25.577Z"
   },
   {
    "duration": 75,
    "start_time": "2023-09-05T10:47:25.581Z"
   },
   {
    "duration": 12,
    "start_time": "2023-09-05T10:47:25.657Z"
   },
   {
    "duration": 47,
    "start_time": "2023-09-05T10:47:25.671Z"
   },
   {
    "duration": 12,
    "start_time": "2023-09-05T10:47:25.723Z"
   },
   {
    "duration": 20,
    "start_time": "2023-09-05T10:47:25.736Z"
   },
   {
    "duration": 11,
    "start_time": "2023-09-05T10:47:25.758Z"
   },
   {
    "duration": 7,
    "start_time": "2023-09-05T10:47:25.770Z"
   },
   {
    "duration": 8,
    "start_time": "2023-09-05T10:47:25.779Z"
   },
   {
    "duration": 30,
    "start_time": "2023-09-05T10:47:25.788Z"
   },
   {
    "duration": 9,
    "start_time": "2023-09-05T10:47:25.820Z"
   },
   {
    "duration": 6,
    "start_time": "2023-09-05T10:47:25.830Z"
   },
   {
    "duration": 11,
    "start_time": "2023-09-05T10:47:25.839Z"
   },
   {
    "duration": 5,
    "start_time": "2023-09-05T10:47:25.852Z"
   },
   {
    "duration": 13,
    "start_time": "2023-09-05T10:47:25.859Z"
   },
   {
    "duration": 19,
    "start_time": "2023-09-05T10:47:25.873Z"
   },
   {
    "duration": 14,
    "start_time": "2023-09-05T10:47:25.912Z"
   },
   {
    "duration": 6,
    "start_time": "2023-09-05T10:47:25.928Z"
   },
   {
    "duration": 235,
    "start_time": "2023-09-05T10:47:25.936Z"
   },
   {
    "duration": 6,
    "start_time": "2023-09-05T10:47:26.173Z"
   },
   {
    "duration": 140,
    "start_time": "2023-09-05T10:47:26.181Z"
   },
   {
    "duration": 8,
    "start_time": "2023-09-05T10:47:26.327Z"
   },
   {
    "duration": 21,
    "start_time": "2023-09-05T10:47:26.337Z"
   },
   {
    "duration": 226,
    "start_time": "2023-09-05T10:47:26.360Z"
   },
   {
    "duration": 10,
    "start_time": "2023-09-05T10:47:26.588Z"
   },
   {
    "duration": 332,
    "start_time": "2023-09-05T10:47:26.600Z"
   },
   {
    "duration": 291,
    "start_time": "2023-09-05T10:47:26.934Z"
   },
   {
    "duration": 347,
    "start_time": "2023-09-05T10:47:27.227Z"
   },
   {
    "duration": 10,
    "start_time": "2023-09-05T10:47:27.576Z"
   },
   {
    "duration": 698,
    "start_time": "2023-09-05T10:47:27.588Z"
   },
   {
    "duration": 671,
    "start_time": "2023-09-05T10:47:28.287Z"
   },
   {
    "duration": 816,
    "start_time": "2023-09-05T10:47:28.960Z"
   },
   {
    "duration": 19,
    "start_time": "2023-09-05T10:47:29.779Z"
   },
   {
    "duration": 26,
    "start_time": "2023-09-05T10:47:29.814Z"
   },
   {
    "duration": 8,
    "start_time": "2023-09-05T10:47:29.843Z"
   },
   {
    "duration": 22,
    "start_time": "2023-09-05T10:47:29.853Z"
   },
   {
    "duration": 51,
    "start_time": "2023-09-05T10:47:29.877Z"
   },
   {
    "duration": 300,
    "start_time": "2023-09-05T10:47:29.930Z"
   },
   {
    "duration": 268,
    "start_time": "2023-09-05T10:47:30.232Z"
   },
   {
    "duration": 543,
    "start_time": "2023-09-05T10:47:30.511Z"
   },
   {
    "duration": 296,
    "start_time": "2023-09-05T10:47:31.056Z"
   },
   {
    "duration": 304,
    "start_time": "2023-09-05T10:47:31.354Z"
   },
   {
    "duration": 416,
    "start_time": "2023-09-05T10:47:31.660Z"
   },
   {
    "duration": 43,
    "start_time": "2023-09-05T10:47:32.078Z"
   },
   {
    "duration": 30,
    "start_time": "2023-09-05T10:47:32.127Z"
   },
   {
    "duration": 82,
    "start_time": "2023-09-05T10:47:32.159Z"
   },
   {
    "duration": 1865,
    "start_time": "2023-09-05T10:47:32.243Z"
   },
   {
    "duration": 0,
    "start_time": "2023-09-05T10:47:34.110Z"
   },
   {
    "duration": 0,
    "start_time": "2023-09-05T10:47:34.111Z"
   },
   {
    "duration": 0,
    "start_time": "2023-09-05T10:47:34.112Z"
   },
   {
    "duration": 0,
    "start_time": "2023-09-05T10:47:34.113Z"
   },
   {
    "duration": 0,
    "start_time": "2023-09-05T10:47:34.114Z"
   },
   {
    "duration": 1271,
    "start_time": "2023-09-05T11:05:06.734Z"
   },
   {
    "duration": 4,
    "start_time": "2023-09-05T11:05:08.008Z"
   },
   {
    "duration": 53,
    "start_time": "2023-09-05T11:05:08.014Z"
   },
   {
    "duration": 18,
    "start_time": "2023-09-05T11:05:08.071Z"
   },
   {
    "duration": 43,
    "start_time": "2023-09-05T11:05:08.092Z"
   },
   {
    "duration": 34,
    "start_time": "2023-09-05T11:05:08.137Z"
   },
   {
    "duration": 26,
    "start_time": "2023-09-05T11:05:08.173Z"
   },
   {
    "duration": 46,
    "start_time": "2023-09-05T11:05:08.201Z"
   },
   {
    "duration": 11,
    "start_time": "2023-09-05T11:05:08.249Z"
   },
   {
    "duration": 23,
    "start_time": "2023-09-05T11:05:08.265Z"
   },
   {
    "duration": 12,
    "start_time": "2023-09-05T11:05:08.292Z"
   },
   {
    "duration": 17,
    "start_time": "2023-09-05T11:05:08.306Z"
   },
   {
    "duration": 9,
    "start_time": "2023-09-05T11:05:08.326Z"
   },
   {
    "duration": 17,
    "start_time": "2023-09-05T11:05:08.338Z"
   },
   {
    "duration": 7,
    "start_time": "2023-09-05T11:05:08.358Z"
   },
   {
    "duration": 15,
    "start_time": "2023-09-05T11:05:08.367Z"
   },
   {
    "duration": 29,
    "start_time": "2023-09-05T11:05:08.386Z"
   },
   {
    "duration": 17,
    "start_time": "2023-09-05T11:05:08.417Z"
   },
   {
    "duration": 28,
    "start_time": "2023-09-05T11:05:08.436Z"
   },
   {
    "duration": 282,
    "start_time": "2023-09-05T11:05:08.466Z"
   },
   {
    "duration": 9,
    "start_time": "2023-09-05T11:05:08.750Z"
   },
   {
    "duration": 202,
    "start_time": "2023-09-05T11:05:08.761Z"
   },
   {
    "duration": 12,
    "start_time": "2023-09-05T11:05:08.965Z"
   },
   {
    "duration": 10,
    "start_time": "2023-09-05T11:05:08.979Z"
   },
   {
    "duration": 218,
    "start_time": "2023-09-05T11:05:08.991Z"
   },
   {
    "duration": 10,
    "start_time": "2023-09-05T11:05:09.211Z"
   },
   {
    "duration": 310,
    "start_time": "2023-09-05T11:05:09.223Z"
   },
   {
    "duration": 316,
    "start_time": "2023-09-05T11:05:09.538Z"
   },
   {
    "duration": 356,
    "start_time": "2023-09-05T11:05:09.856Z"
   },
   {
    "duration": 12,
    "start_time": "2023-09-05T11:05:10.215Z"
   },
   {
    "duration": 743,
    "start_time": "2023-09-05T11:05:10.229Z"
   },
   {
    "duration": 676,
    "start_time": "2023-09-05T11:05:10.974Z"
   },
   {
    "duration": 880,
    "start_time": "2023-09-05T11:05:11.653Z"
   },
   {
    "duration": 31,
    "start_time": "2023-09-05T11:05:12.535Z"
   },
   {
    "duration": 49,
    "start_time": "2023-09-05T11:05:12.569Z"
   },
   {
    "duration": 12,
    "start_time": "2023-09-05T11:05:12.620Z"
   },
   {
    "duration": 37,
    "start_time": "2023-09-05T11:05:12.634Z"
   },
   {
    "duration": 41,
    "start_time": "2023-09-05T11:05:12.674Z"
   },
   {
    "duration": 334,
    "start_time": "2023-09-05T11:05:12.718Z"
   },
   {
    "duration": 290,
    "start_time": "2023-09-05T11:05:13.054Z"
   },
   {
    "duration": 656,
    "start_time": "2023-09-05T11:05:13.346Z"
   },
   {
    "duration": 280,
    "start_time": "2023-09-05T11:05:14.010Z"
   },
   {
    "duration": 298,
    "start_time": "2023-09-05T11:05:14.291Z"
   },
   {
    "duration": 461,
    "start_time": "2023-09-05T11:05:14.592Z"
   },
   {
    "duration": 135,
    "start_time": "2023-09-05T11:05:15.055Z"
   },
   {
    "duration": 0,
    "start_time": "2023-09-05T11:05:15.192Z"
   },
   {
    "duration": 0,
    "start_time": "2023-09-05T11:05:15.194Z"
   },
   {
    "duration": 0,
    "start_time": "2023-09-05T11:05:15.196Z"
   },
   {
    "duration": 1,
    "start_time": "2023-09-05T11:05:15.197Z"
   },
   {
    "duration": 0,
    "start_time": "2023-09-05T11:05:15.200Z"
   },
   {
    "duration": 0,
    "start_time": "2023-09-05T11:05:15.201Z"
   },
   {
    "duration": 0,
    "start_time": "2023-09-05T11:05:15.209Z"
   },
   {
    "duration": 0,
    "start_time": "2023-09-05T11:05:15.211Z"
   },
   {
    "duration": 0,
    "start_time": "2023-09-05T11:05:15.212Z"
   },
   {
    "duration": 1293,
    "start_time": "2023-09-05T18:36:46.550Z"
   },
   {
    "duration": 5,
    "start_time": "2023-09-05T18:36:47.845Z"
   },
   {
    "duration": 104,
    "start_time": "2023-09-05T18:36:47.851Z"
   },
   {
    "duration": 10,
    "start_time": "2023-09-05T18:36:47.957Z"
   },
   {
    "duration": 95,
    "start_time": "2023-09-05T18:36:47.968Z"
   },
   {
    "duration": 10,
    "start_time": "2023-09-05T18:36:48.064Z"
   },
   {
    "duration": 83,
    "start_time": "2023-09-05T18:36:48.075Z"
   },
   {
    "duration": 9,
    "start_time": "2023-09-05T18:36:48.160Z"
   },
   {
    "duration": 9,
    "start_time": "2023-09-05T18:36:48.170Z"
   },
   {
    "duration": 12,
    "start_time": "2023-09-05T18:36:48.181Z"
   },
   {
    "duration": 14,
    "start_time": "2023-09-05T18:36:48.194Z"
   },
   {
    "duration": 8,
    "start_time": "2023-09-05T18:36:48.209Z"
   },
   {
    "duration": 7,
    "start_time": "2023-09-05T18:36:48.219Z"
   },
   {
    "duration": 9,
    "start_time": "2023-09-05T18:36:48.227Z"
   },
   {
    "duration": 12,
    "start_time": "2023-09-05T18:36:48.238Z"
   },
   {
    "duration": 100,
    "start_time": "2023-09-05T18:36:48.252Z"
   },
   {
    "duration": 0,
    "start_time": "2023-09-05T18:36:48.354Z"
   },
   {
    "duration": 0,
    "start_time": "2023-09-05T18:36:48.355Z"
   },
   {
    "duration": 0,
    "start_time": "2023-09-05T18:36:48.357Z"
   },
   {
    "duration": 0,
    "start_time": "2023-09-05T18:36:48.358Z"
   },
   {
    "duration": 0,
    "start_time": "2023-09-05T18:36:48.359Z"
   },
   {
    "duration": 0,
    "start_time": "2023-09-05T18:36:48.360Z"
   },
   {
    "duration": 0,
    "start_time": "2023-09-05T18:36:48.361Z"
   },
   {
    "duration": 0,
    "start_time": "2023-09-05T18:36:48.362Z"
   },
   {
    "duration": 0,
    "start_time": "2023-09-05T18:36:48.363Z"
   },
   {
    "duration": 0,
    "start_time": "2023-09-05T18:36:48.364Z"
   },
   {
    "duration": 0,
    "start_time": "2023-09-05T18:36:48.365Z"
   },
   {
    "duration": 0,
    "start_time": "2023-09-05T18:36:48.366Z"
   },
   {
    "duration": 0,
    "start_time": "2023-09-05T18:36:48.367Z"
   },
   {
    "duration": 0,
    "start_time": "2023-09-05T18:36:48.368Z"
   },
   {
    "duration": 0,
    "start_time": "2023-09-05T18:36:48.369Z"
   },
   {
    "duration": 0,
    "start_time": "2023-09-05T18:36:48.370Z"
   },
   {
    "duration": 0,
    "start_time": "2023-09-05T18:36:48.371Z"
   },
   {
    "duration": 0,
    "start_time": "2023-09-05T18:36:48.372Z"
   },
   {
    "duration": 0,
    "start_time": "2023-09-05T18:36:48.373Z"
   },
   {
    "duration": 0,
    "start_time": "2023-09-05T18:36:48.374Z"
   },
   {
    "duration": 0,
    "start_time": "2023-09-05T18:36:48.374Z"
   },
   {
    "duration": 0,
    "start_time": "2023-09-05T18:36:48.375Z"
   },
   {
    "duration": 0,
    "start_time": "2023-09-05T18:36:48.376Z"
   },
   {
    "duration": 0,
    "start_time": "2023-09-05T18:36:48.377Z"
   },
   {
    "duration": 0,
    "start_time": "2023-09-05T18:36:48.379Z"
   },
   {
    "duration": 0,
    "start_time": "2023-09-05T18:36:48.380Z"
   },
   {
    "duration": 0,
    "start_time": "2023-09-05T18:36:48.381Z"
   },
   {
    "duration": 0,
    "start_time": "2023-09-05T18:36:48.382Z"
   },
   {
    "duration": 0,
    "start_time": "2023-09-05T18:36:48.382Z"
   },
   {
    "duration": 0,
    "start_time": "2023-09-05T18:36:48.383Z"
   },
   {
    "duration": 0,
    "start_time": "2023-09-05T18:36:48.384Z"
   },
   {
    "duration": 0,
    "start_time": "2023-09-05T18:36:48.386Z"
   },
   {
    "duration": 0,
    "start_time": "2023-09-05T18:36:48.387Z"
   },
   {
    "duration": 0,
    "start_time": "2023-09-05T18:36:48.388Z"
   },
   {
    "duration": 0,
    "start_time": "2023-09-05T18:36:48.389Z"
   },
   {
    "duration": 0,
    "start_time": "2023-09-05T18:36:48.390Z"
   },
   {
    "duration": 0,
    "start_time": "2023-09-05T18:36:48.390Z"
   },
   {
    "duration": 0,
    "start_time": "2023-09-05T18:36:48.391Z"
   },
   {
    "duration": 0,
    "start_time": "2023-09-05T18:36:48.392Z"
   },
   {
    "duration": 1109,
    "start_time": "2023-09-05T18:38:31.214Z"
   },
   {
    "duration": 3,
    "start_time": "2023-09-05T18:38:32.325Z"
   },
   {
    "duration": 45,
    "start_time": "2023-09-05T18:38:32.330Z"
   },
   {
    "duration": 10,
    "start_time": "2023-09-05T18:38:32.376Z"
   },
   {
    "duration": 61,
    "start_time": "2023-09-05T18:38:32.388Z"
   },
   {
    "duration": 13,
    "start_time": "2023-09-05T18:38:32.450Z"
   },
   {
    "duration": 43,
    "start_time": "2023-09-05T18:38:32.465Z"
   },
   {
    "duration": 10,
    "start_time": "2023-09-05T18:38:32.510Z"
   },
   {
    "duration": 7,
    "start_time": "2023-09-05T18:38:32.522Z"
   },
   {
    "duration": 7,
    "start_time": "2023-09-05T18:38:32.531Z"
   },
   {
    "duration": 15,
    "start_time": "2023-09-05T18:38:32.539Z"
   },
   {
    "duration": 12,
    "start_time": "2023-09-05T18:38:32.555Z"
   },
   {
    "duration": 9,
    "start_time": "2023-09-05T18:38:32.568Z"
   },
   {
    "duration": 7,
    "start_time": "2023-09-05T18:38:32.580Z"
   },
   {
    "duration": 4,
    "start_time": "2023-09-05T18:38:32.588Z"
   },
   {
    "duration": 29,
    "start_time": "2023-09-05T18:38:32.593Z"
   },
   {
    "duration": 10,
    "start_time": "2023-09-05T18:38:32.623Z"
   },
   {
    "duration": 12,
    "start_time": "2023-09-05T18:38:32.634Z"
   },
   {
    "duration": 5,
    "start_time": "2023-09-05T18:38:32.648Z"
   },
   {
    "duration": 8,
    "start_time": "2023-09-05T18:38:32.654Z"
   },
   {
    "duration": 173,
    "start_time": "2023-09-05T18:38:32.664Z"
   },
   {
    "duration": 12,
    "start_time": "2023-09-05T18:38:32.838Z"
   },
   {
    "duration": 113,
    "start_time": "2023-09-05T18:38:32.852Z"
   },
   {
    "duration": 7,
    "start_time": "2023-09-05T18:38:32.966Z"
   },
   {
    "duration": 5,
    "start_time": "2023-09-05T18:38:32.975Z"
   },
   {
    "duration": 149,
    "start_time": "2023-09-05T18:38:32.982Z"
   },
   {
    "duration": 7,
    "start_time": "2023-09-05T18:38:33.133Z"
   },
   {
    "duration": 246,
    "start_time": "2023-09-05T18:38:33.141Z"
   },
   {
    "duration": 213,
    "start_time": "2023-09-05T18:38:33.388Z"
   },
   {
    "duration": 278,
    "start_time": "2023-09-05T18:38:33.603Z"
   },
   {
    "duration": 8,
    "start_time": "2023-09-05T18:38:33.882Z"
   },
   {
    "duration": 531,
    "start_time": "2023-09-05T18:38:33.892Z"
   },
   {
    "duration": 525,
    "start_time": "2023-09-05T18:38:34.424Z"
   },
   {
    "duration": 599,
    "start_time": "2023-09-05T18:38:34.950Z"
   },
   {
    "duration": 15,
    "start_time": "2023-09-05T18:38:35.551Z"
   },
   {
    "duration": 44,
    "start_time": "2023-09-05T18:38:35.567Z"
   },
   {
    "duration": 6,
    "start_time": "2023-09-05T18:38:35.612Z"
   },
   {
    "duration": 19,
    "start_time": "2023-09-05T18:38:35.619Z"
   },
   {
    "duration": 13,
    "start_time": "2023-09-05T18:38:35.639Z"
   },
   {
    "duration": 213,
    "start_time": "2023-09-05T18:38:35.653Z"
   },
   {
    "duration": 256,
    "start_time": "2023-09-05T18:38:35.869Z"
   },
   {
    "duration": 465,
    "start_time": "2023-09-05T18:38:36.127Z"
   },
   {
    "duration": 218,
    "start_time": "2023-09-05T18:38:36.593Z"
   },
   {
    "duration": 218,
    "start_time": "2023-09-05T18:38:36.813Z"
   },
   {
    "duration": 330,
    "start_time": "2023-09-05T18:38:37.032Z"
   },
   {
    "duration": 98,
    "start_time": "2023-09-05T18:38:37.364Z"
   },
   {
    "duration": 0,
    "start_time": "2023-09-05T18:38:37.464Z"
   },
   {
    "duration": 0,
    "start_time": "2023-09-05T18:38:37.466Z"
   },
   {
    "duration": 0,
    "start_time": "2023-09-05T18:38:37.467Z"
   },
   {
    "duration": 0,
    "start_time": "2023-09-05T18:38:37.467Z"
   },
   {
    "duration": 0,
    "start_time": "2023-09-05T18:38:37.469Z"
   },
   {
    "duration": 0,
    "start_time": "2023-09-05T18:38:37.470Z"
   },
   {
    "duration": 0,
    "start_time": "2023-09-05T18:38:37.471Z"
   },
   {
    "duration": 0,
    "start_time": "2023-09-05T18:38:37.472Z"
   },
   {
    "duration": 0,
    "start_time": "2023-09-05T18:38:37.474Z"
   },
   {
    "duration": 10,
    "start_time": "2023-09-05T18:40:43.970Z"
   },
   {
    "duration": 1155,
    "start_time": "2023-09-05T18:42:30.832Z"
   },
   {
    "duration": 3,
    "start_time": "2023-09-05T18:42:31.989Z"
   },
   {
    "duration": 61,
    "start_time": "2023-09-05T18:42:31.993Z"
   },
   {
    "duration": 13,
    "start_time": "2023-09-05T18:42:32.056Z"
   },
   {
    "duration": 50,
    "start_time": "2023-09-05T18:42:32.070Z"
   },
   {
    "duration": 11,
    "start_time": "2023-09-05T18:42:32.121Z"
   },
   {
    "duration": 19,
    "start_time": "2023-09-05T18:42:32.134Z"
   },
   {
    "duration": 9,
    "start_time": "2023-09-05T18:42:32.155Z"
   },
   {
    "duration": 27,
    "start_time": "2023-09-05T18:42:32.165Z"
   },
   {
    "duration": 30,
    "start_time": "2023-09-05T18:42:32.194Z"
   },
   {
    "duration": 21,
    "start_time": "2023-09-05T18:42:32.226Z"
   },
   {
    "duration": 45,
    "start_time": "2023-09-05T18:42:32.248Z"
   },
   {
    "duration": 44,
    "start_time": "2023-09-05T18:42:32.294Z"
   },
   {
    "duration": 28,
    "start_time": "2023-09-05T18:42:32.340Z"
   },
   {
    "duration": 12,
    "start_time": "2023-09-05T18:42:32.370Z"
   },
   {
    "duration": 9,
    "start_time": "2023-09-05T18:42:32.384Z"
   },
   {
    "duration": 30,
    "start_time": "2023-09-05T18:42:32.395Z"
   },
   {
    "duration": 32,
    "start_time": "2023-09-05T18:42:32.426Z"
   },
   {
    "duration": 29,
    "start_time": "2023-09-05T18:42:32.460Z"
   },
   {
    "duration": 32,
    "start_time": "2023-09-05T18:42:32.490Z"
   },
   {
    "duration": 214,
    "start_time": "2023-09-05T18:42:32.524Z"
   },
   {
    "duration": 10,
    "start_time": "2023-09-05T18:42:32.740Z"
   },
   {
    "duration": 111,
    "start_time": "2023-09-05T18:42:32.752Z"
   },
   {
    "duration": 7,
    "start_time": "2023-09-05T18:42:32.864Z"
   },
   {
    "duration": 30,
    "start_time": "2023-09-05T18:42:32.873Z"
   },
   {
    "duration": 191,
    "start_time": "2023-09-05T18:42:32.905Z"
   },
   {
    "duration": 7,
    "start_time": "2023-09-05T18:42:33.098Z"
   },
   {
    "duration": 221,
    "start_time": "2023-09-05T18:42:33.108Z"
   },
   {
    "duration": 218,
    "start_time": "2023-09-05T18:42:33.331Z"
   },
   {
    "duration": 287,
    "start_time": "2023-09-05T18:42:33.551Z"
   },
   {
    "duration": 10,
    "start_time": "2023-09-05T18:42:33.840Z"
   },
   {
    "duration": 530,
    "start_time": "2023-09-05T18:42:33.851Z"
   },
   {
    "duration": 528,
    "start_time": "2023-09-05T18:42:34.382Z"
   },
   {
    "duration": 615,
    "start_time": "2023-09-05T18:42:34.911Z"
   },
   {
    "duration": 22,
    "start_time": "2023-09-05T18:42:35.528Z"
   },
   {
    "duration": 53,
    "start_time": "2023-09-05T18:42:35.551Z"
   },
   {
    "duration": 23,
    "start_time": "2023-09-05T18:42:35.606Z"
   },
   {
    "duration": 28,
    "start_time": "2023-09-05T18:42:35.630Z"
   },
   {
    "duration": 20,
    "start_time": "2023-09-05T18:42:35.659Z"
   },
   {
    "duration": 210,
    "start_time": "2023-09-05T18:42:35.680Z"
   },
   {
    "duration": 206,
    "start_time": "2023-09-05T18:42:35.892Z"
   },
   {
    "duration": 514,
    "start_time": "2023-09-05T18:42:36.099Z"
   },
   {
    "duration": 217,
    "start_time": "2023-09-05T18:42:36.614Z"
   },
   {
    "duration": 225,
    "start_time": "2023-09-05T18:42:36.833Z"
   },
   {
    "duration": 323,
    "start_time": "2023-09-05T18:42:37.060Z"
   },
   {
    "duration": 96,
    "start_time": "2023-09-05T18:42:37.384Z"
   },
   {
    "duration": 0,
    "start_time": "2023-09-05T18:42:37.481Z"
   },
   {
    "duration": 0,
    "start_time": "2023-09-05T18:42:37.482Z"
   },
   {
    "duration": 0,
    "start_time": "2023-09-05T18:42:37.483Z"
   },
   {
    "duration": 0,
    "start_time": "2023-09-05T18:42:37.483Z"
   },
   {
    "duration": 0,
    "start_time": "2023-09-05T18:42:37.484Z"
   },
   {
    "duration": 0,
    "start_time": "2023-09-05T18:42:37.485Z"
   },
   {
    "duration": 0,
    "start_time": "2023-09-05T18:42:37.486Z"
   },
   {
    "duration": 0,
    "start_time": "2023-09-05T18:42:37.487Z"
   },
   {
    "duration": 0,
    "start_time": "2023-09-05T18:42:37.487Z"
   },
   {
    "duration": 1186,
    "start_time": "2023-09-05T18:43:18.626Z"
   },
   {
    "duration": 4,
    "start_time": "2023-09-05T18:43:19.814Z"
   },
   {
    "duration": 47,
    "start_time": "2023-09-05T18:43:19.819Z"
   },
   {
    "duration": 11,
    "start_time": "2023-09-05T18:43:19.869Z"
   },
   {
    "duration": 35,
    "start_time": "2023-09-05T18:43:19.881Z"
   },
   {
    "duration": 9,
    "start_time": "2023-09-05T18:43:19.918Z"
   },
   {
    "duration": 25,
    "start_time": "2023-09-05T18:43:19.929Z"
   },
   {
    "duration": 9,
    "start_time": "2023-09-05T18:43:19.955Z"
   },
   {
    "duration": 9,
    "start_time": "2023-09-05T18:43:19.966Z"
   },
   {
    "duration": 9,
    "start_time": "2023-09-05T18:43:19.977Z"
   },
   {
    "duration": 7,
    "start_time": "2023-09-05T18:43:19.987Z"
   },
   {
    "duration": 6,
    "start_time": "2023-09-05T18:43:19.995Z"
   },
   {
    "duration": 4,
    "start_time": "2023-09-05T18:43:20.002Z"
   },
   {
    "duration": 12,
    "start_time": "2023-09-05T18:43:20.008Z"
   },
   {
    "duration": 31,
    "start_time": "2023-09-05T18:43:20.021Z"
   },
   {
    "duration": 3,
    "start_time": "2023-09-05T18:43:20.053Z"
   },
   {
    "duration": 14,
    "start_time": "2023-09-05T18:43:20.057Z"
   },
   {
    "duration": 12,
    "start_time": "2023-09-05T18:43:20.072Z"
   },
   {
    "duration": 6,
    "start_time": "2023-09-05T18:43:20.086Z"
   },
   {
    "duration": 5,
    "start_time": "2023-09-05T18:43:20.094Z"
   },
   {
    "duration": 237,
    "start_time": "2023-09-05T18:43:20.100Z"
   },
   {
    "duration": 12,
    "start_time": "2023-09-05T18:43:20.339Z"
   },
   {
    "duration": 125,
    "start_time": "2023-09-05T18:43:20.353Z"
   },
   {
    "duration": 10,
    "start_time": "2023-09-05T18:43:20.480Z"
   },
   {
    "duration": 7,
    "start_time": "2023-09-05T18:43:20.491Z"
   },
   {
    "duration": 157,
    "start_time": "2023-09-05T18:43:20.499Z"
   },
   {
    "duration": 9,
    "start_time": "2023-09-05T18:43:20.657Z"
   },
   {
    "duration": 253,
    "start_time": "2023-09-05T18:43:20.671Z"
   },
   {
    "duration": 229,
    "start_time": "2023-09-05T18:43:20.925Z"
   },
   {
    "duration": 296,
    "start_time": "2023-09-05T18:43:21.156Z"
   },
   {
    "duration": 7,
    "start_time": "2023-09-05T18:43:21.454Z"
   },
   {
    "duration": 520,
    "start_time": "2023-09-05T18:43:21.463Z"
   },
   {
    "duration": 540,
    "start_time": "2023-09-05T18:43:21.985Z"
   },
   {
    "duration": 627,
    "start_time": "2023-09-05T18:43:22.526Z"
   },
   {
    "duration": 17,
    "start_time": "2023-09-05T18:43:23.155Z"
   },
   {
    "duration": 16,
    "start_time": "2023-09-05T18:43:23.173Z"
   },
   {
    "duration": 5,
    "start_time": "2023-09-05T18:43:23.191Z"
   },
   {
    "duration": 21,
    "start_time": "2023-09-05T18:43:23.198Z"
   },
   {
    "duration": 36,
    "start_time": "2023-09-05T18:43:23.220Z"
   },
   {
    "duration": 221,
    "start_time": "2023-09-05T18:43:23.258Z"
   },
   {
    "duration": 233,
    "start_time": "2023-09-05T18:43:23.481Z"
   },
   {
    "duration": 422,
    "start_time": "2023-09-05T18:43:23.715Z"
   },
   {
    "duration": 218,
    "start_time": "2023-09-05T18:43:24.139Z"
   },
   {
    "duration": 227,
    "start_time": "2023-09-05T18:43:24.358Z"
   },
   {
    "duration": 327,
    "start_time": "2023-09-05T18:43:24.586Z"
   },
   {
    "duration": 100,
    "start_time": "2023-09-05T18:43:24.915Z"
   },
   {
    "duration": 0,
    "start_time": "2023-09-05T18:43:25.017Z"
   },
   {
    "duration": 0,
    "start_time": "2023-09-05T18:43:25.018Z"
   },
   {
    "duration": 0,
    "start_time": "2023-09-05T18:43:25.019Z"
   },
   {
    "duration": 0,
    "start_time": "2023-09-05T18:43:25.020Z"
   },
   {
    "duration": 0,
    "start_time": "2023-09-05T18:43:25.021Z"
   },
   {
    "duration": 0,
    "start_time": "2023-09-05T18:43:25.022Z"
   },
   {
    "duration": 0,
    "start_time": "2023-09-05T18:43:25.023Z"
   },
   {
    "duration": 0,
    "start_time": "2023-09-05T18:43:25.024Z"
   },
   {
    "duration": 0,
    "start_time": "2023-09-05T18:43:25.025Z"
   },
   {
    "duration": 12,
    "start_time": "2023-09-05T19:01:13.459Z"
   },
   {
    "duration": 42,
    "start_time": "2023-09-05T19:03:42.472Z"
   },
   {
    "duration": 31,
    "start_time": "2023-09-05T19:04:05.264Z"
   },
   {
    "duration": 31,
    "start_time": "2023-09-05T19:05:49.018Z"
   },
   {
    "duration": 107,
    "start_time": "2023-09-05T19:07:51.022Z"
   },
   {
    "duration": 111,
    "start_time": "2023-09-05T19:08:54.687Z"
   },
   {
    "duration": 21,
    "start_time": "2023-09-05T19:11:39.774Z"
   },
   {
    "duration": 14,
    "start_time": "2023-09-05T19:14:28.665Z"
   },
   {
    "duration": 89,
    "start_time": "2023-09-05T19:15:33.484Z"
   },
   {
    "duration": 109,
    "start_time": "2023-09-05T19:18:05.973Z"
   },
   {
    "duration": 87,
    "start_time": "2023-09-05T19:22:37.548Z"
   },
   {
    "duration": 22,
    "start_time": "2023-09-05T19:31:34.071Z"
   },
   {
    "duration": 106,
    "start_time": "2023-09-05T19:42:33.673Z"
   },
   {
    "duration": 79,
    "start_time": "2023-09-05T19:46:18.873Z"
   },
   {
    "duration": 1346,
    "start_time": "2023-09-05T19:46:32.370Z"
   },
   {
    "duration": 1179,
    "start_time": "2023-09-05T19:47:34.129Z"
   },
   {
    "duration": 3,
    "start_time": "2023-09-05T19:47:35.309Z"
   },
   {
    "duration": 52,
    "start_time": "2023-09-05T19:47:35.313Z"
   },
   {
    "duration": 10,
    "start_time": "2023-09-05T19:47:35.367Z"
   },
   {
    "duration": 103,
    "start_time": "2023-09-05T19:47:35.378Z"
   },
   {
    "duration": 11,
    "start_time": "2023-09-05T19:47:35.483Z"
   },
   {
    "duration": 27,
    "start_time": "2023-09-05T19:47:35.495Z"
   },
   {
    "duration": 9,
    "start_time": "2023-09-05T19:47:35.524Z"
   },
   {
    "duration": 13,
    "start_time": "2023-09-05T19:47:35.534Z"
   },
   {
    "duration": 20,
    "start_time": "2023-09-05T19:47:35.551Z"
   },
   {
    "duration": 33,
    "start_time": "2023-09-05T19:47:35.573Z"
   },
   {
    "duration": 21,
    "start_time": "2023-09-05T19:47:35.608Z"
   },
   {
    "duration": 42,
    "start_time": "2023-09-05T19:47:35.631Z"
   },
   {
    "duration": 22,
    "start_time": "2023-09-05T19:47:35.675Z"
   },
   {
    "duration": 27,
    "start_time": "2023-09-05T19:47:35.698Z"
   },
   {
    "duration": 38,
    "start_time": "2023-09-05T19:47:35.726Z"
   },
   {
    "duration": 30,
    "start_time": "2023-09-05T19:47:35.766Z"
   },
   {
    "duration": 41,
    "start_time": "2023-09-05T19:47:35.797Z"
   },
   {
    "duration": 51,
    "start_time": "2023-09-05T19:47:35.840Z"
   },
   {
    "duration": 26,
    "start_time": "2023-09-05T19:47:35.893Z"
   },
   {
    "duration": 251,
    "start_time": "2023-09-05T19:47:35.921Z"
   },
   {
    "duration": 5,
    "start_time": "2023-09-05T19:47:36.174Z"
   },
   {
    "duration": 139,
    "start_time": "2023-09-05T19:47:36.181Z"
   },
   {
    "duration": 7,
    "start_time": "2023-09-05T19:47:36.323Z"
   },
   {
    "duration": 20,
    "start_time": "2023-09-05T19:47:36.332Z"
   },
   {
    "duration": 155,
    "start_time": "2023-09-05T19:47:36.354Z"
   },
   {
    "duration": 8,
    "start_time": "2023-09-05T19:47:36.511Z"
   },
   {
    "duration": 262,
    "start_time": "2023-09-05T19:47:36.521Z"
   },
   {
    "duration": 247,
    "start_time": "2023-09-05T19:47:36.785Z"
   },
   {
    "duration": 305,
    "start_time": "2023-09-05T19:47:37.034Z"
   },
   {
    "duration": 22,
    "start_time": "2023-09-05T19:47:37.341Z"
   },
   {
    "duration": 534,
    "start_time": "2023-09-05T19:47:37.365Z"
   },
   {
    "duration": 540,
    "start_time": "2023-09-05T19:47:37.900Z"
   },
   {
    "duration": 677,
    "start_time": "2023-09-05T19:47:38.442Z"
   },
   {
    "duration": 18,
    "start_time": "2023-09-05T19:47:39.121Z"
   },
   {
    "duration": 24,
    "start_time": "2023-09-05T19:47:39.157Z"
   },
   {
    "duration": 6,
    "start_time": "2023-09-05T19:47:39.183Z"
   },
   {
    "duration": 26,
    "start_time": "2023-09-05T19:47:39.191Z"
   },
   {
    "duration": 17,
    "start_time": "2023-09-05T19:47:39.218Z"
   },
   {
    "duration": 260,
    "start_time": "2023-09-05T19:47:39.237Z"
   },
   {
    "duration": 257,
    "start_time": "2023-09-05T19:47:39.498Z"
   },
   {
    "duration": 471,
    "start_time": "2023-09-05T19:47:39.757Z"
   },
   {
    "duration": 235,
    "start_time": "2023-09-05T19:47:40.229Z"
   },
   {
    "duration": 223,
    "start_time": "2023-09-05T19:47:40.468Z"
   },
   {
    "duration": 361,
    "start_time": "2023-09-05T19:47:40.693Z"
   },
   {
    "duration": 100,
    "start_time": "2023-09-05T19:47:41.055Z"
   },
   {
    "duration": 1403,
    "start_time": "2023-09-05T19:47:41.157Z"
   },
   {
    "duration": 0,
    "start_time": "2023-09-05T19:47:42.563Z"
   },
   {
    "duration": 0,
    "start_time": "2023-09-05T19:47:42.567Z"
   },
   {
    "duration": 0,
    "start_time": "2023-09-05T19:47:42.569Z"
   },
   {
    "duration": 1132,
    "start_time": "2023-09-05T19:48:37.633Z"
   },
   {
    "duration": 76,
    "start_time": "2023-09-05T19:53:46.533Z"
   },
   {
    "duration": 108,
    "start_time": "2023-09-05T20:00:06.576Z"
   },
   {
    "duration": 1348,
    "start_time": "2023-09-05T20:00:28.944Z"
   },
   {
    "duration": 1308,
    "start_time": "2023-09-05T20:00:55.446Z"
   },
   {
    "duration": 4,
    "start_time": "2023-09-05T20:00:56.756Z"
   },
   {
    "duration": 44,
    "start_time": "2023-09-05T20:00:56.762Z"
   },
   {
    "duration": 12,
    "start_time": "2023-09-05T20:00:56.807Z"
   },
   {
    "duration": 39,
    "start_time": "2023-09-05T20:00:56.821Z"
   },
   {
    "duration": 11,
    "start_time": "2023-09-05T20:00:56.862Z"
   },
   {
    "duration": 31,
    "start_time": "2023-09-05T20:00:56.875Z"
   },
   {
    "duration": 10,
    "start_time": "2023-09-05T20:00:56.908Z"
   },
   {
    "duration": 8,
    "start_time": "2023-09-05T20:00:56.919Z"
   },
   {
    "duration": 25,
    "start_time": "2023-09-05T20:00:56.929Z"
   },
   {
    "duration": 44,
    "start_time": "2023-09-05T20:00:56.955Z"
   },
   {
    "duration": 28,
    "start_time": "2023-09-05T20:00:57.001Z"
   },
   {
    "duration": 15,
    "start_time": "2023-09-05T20:00:57.031Z"
   },
   {
    "duration": 21,
    "start_time": "2023-09-05T20:00:57.049Z"
   },
   {
    "duration": 6,
    "start_time": "2023-09-05T20:00:57.072Z"
   },
   {
    "duration": 23,
    "start_time": "2023-09-05T20:00:57.080Z"
   },
   {
    "duration": 12,
    "start_time": "2023-09-05T20:00:57.105Z"
   },
   {
    "duration": 44,
    "start_time": "2023-09-05T20:00:57.118Z"
   },
   {
    "duration": 24,
    "start_time": "2023-09-05T20:00:57.165Z"
   },
   {
    "duration": 6,
    "start_time": "2023-09-05T20:00:57.191Z"
   },
   {
    "duration": 203,
    "start_time": "2023-09-05T20:00:57.198Z"
   },
   {
    "duration": 6,
    "start_time": "2023-09-05T20:00:57.403Z"
   },
   {
    "duration": 135,
    "start_time": "2023-09-05T20:00:57.410Z"
   },
   {
    "duration": 9,
    "start_time": "2023-09-05T20:00:57.549Z"
   },
   {
    "duration": 13,
    "start_time": "2023-09-05T20:00:57.560Z"
   },
   {
    "duration": 183,
    "start_time": "2023-09-05T20:00:57.574Z"
   },
   {
    "duration": 9,
    "start_time": "2023-09-05T20:00:57.759Z"
   },
   {
    "duration": 275,
    "start_time": "2023-09-05T20:00:57.770Z"
   },
   {
    "duration": 247,
    "start_time": "2023-09-05T20:00:58.049Z"
   },
   {
    "duration": 325,
    "start_time": "2023-09-05T20:00:58.298Z"
   },
   {
    "duration": 10,
    "start_time": "2023-09-05T20:00:58.625Z"
   },
   {
    "duration": 663,
    "start_time": "2023-09-05T20:00:58.637Z"
   },
   {
    "duration": 575,
    "start_time": "2023-09-05T20:00:59.301Z"
   },
   {
    "duration": 787,
    "start_time": "2023-09-05T20:00:59.878Z"
   },
   {
    "duration": 19,
    "start_time": "2023-09-05T20:01:00.667Z"
   },
   {
    "duration": 74,
    "start_time": "2023-09-05T20:01:00.687Z"
   },
   {
    "duration": 41,
    "start_time": "2023-09-05T20:01:00.763Z"
   },
   {
    "duration": 77,
    "start_time": "2023-09-05T20:01:00.806Z"
   },
   {
    "duration": 122,
    "start_time": "2023-09-05T20:01:00.884Z"
   },
   {
    "duration": 344,
    "start_time": "2023-09-05T20:01:01.008Z"
   },
   {
    "duration": 242,
    "start_time": "2023-09-05T20:01:01.355Z"
   },
   {
    "duration": 466,
    "start_time": "2023-09-05T20:01:01.599Z"
   },
   {
    "duration": 315,
    "start_time": "2023-09-05T20:01:02.067Z"
   },
   {
    "duration": 272,
    "start_time": "2023-09-05T20:01:02.384Z"
   },
   {
    "duration": 377,
    "start_time": "2023-09-05T20:01:02.657Z"
   },
   {
    "duration": 108,
    "start_time": "2023-09-05T20:01:03.035Z"
   },
   {
    "duration": 1685,
    "start_time": "2023-09-05T20:01:03.150Z"
   },
   {
    "duration": 0,
    "start_time": "2023-09-05T20:01:04.836Z"
   },
   {
    "duration": 0,
    "start_time": "2023-09-05T20:01:04.837Z"
   },
   {
    "duration": 0,
    "start_time": "2023-09-05T20:01:04.838Z"
   },
   {
    "duration": 0,
    "start_time": "2023-09-05T20:01:04.839Z"
   },
   {
    "duration": 0,
    "start_time": "2023-09-05T20:01:04.840Z"
   },
   {
    "duration": 1418,
    "start_time": "2023-09-05T20:16:51.645Z"
   },
   {
    "duration": 103,
    "start_time": "2023-09-05T20:17:04.267Z"
   },
   {
    "duration": 1324,
    "start_time": "2023-09-05T20:17:15.405Z"
   },
   {
    "duration": 91,
    "start_time": "2023-09-05T20:19:50.797Z"
   },
   {
    "duration": 81,
    "start_time": "2023-09-05T20:21:25.973Z"
   },
   {
    "duration": 114,
    "start_time": "2023-09-05T20:21:37.363Z"
   },
   {
    "duration": 101,
    "start_time": "2023-09-05T20:22:38.511Z"
   },
   {
    "duration": 86,
    "start_time": "2023-09-05T20:45:11.622Z"
   },
   {
    "duration": 115,
    "start_time": "2023-09-05T20:45:29.674Z"
   },
   {
    "duration": 14,
    "start_time": "2023-09-05T20:47:48.779Z"
   },
   {
    "duration": 18,
    "start_time": "2023-09-05T20:48:03.235Z"
   },
   {
    "duration": 17,
    "start_time": "2023-09-05T20:48:07.574Z"
   },
   {
    "duration": 1096,
    "start_time": "2023-09-05T20:48:13.435Z"
   },
   {
    "duration": 3,
    "start_time": "2023-09-05T20:48:14.533Z"
   },
   {
    "duration": 45,
    "start_time": "2023-09-05T20:48:14.537Z"
   },
   {
    "duration": 10,
    "start_time": "2023-09-05T20:48:14.583Z"
   },
   {
    "duration": 33,
    "start_time": "2023-09-05T20:48:14.595Z"
   },
   {
    "duration": 10,
    "start_time": "2023-09-05T20:48:14.629Z"
   },
   {
    "duration": 21,
    "start_time": "2023-09-05T20:48:14.641Z"
   },
   {
    "duration": 9,
    "start_time": "2023-09-05T20:48:14.664Z"
   },
   {
    "duration": 7,
    "start_time": "2023-09-05T20:48:14.675Z"
   },
   {
    "duration": 6,
    "start_time": "2023-09-05T20:48:14.684Z"
   },
   {
    "duration": 7,
    "start_time": "2023-09-05T20:48:14.691Z"
   },
   {
    "duration": 6,
    "start_time": "2023-09-05T20:48:14.699Z"
   },
   {
    "duration": 5,
    "start_time": "2023-09-05T20:48:14.706Z"
   },
   {
    "duration": 38,
    "start_time": "2023-09-05T20:48:14.714Z"
   },
   {
    "duration": 5,
    "start_time": "2023-09-05T20:48:14.753Z"
   },
   {
    "duration": 7,
    "start_time": "2023-09-05T20:48:14.759Z"
   },
   {
    "duration": 9,
    "start_time": "2023-09-05T20:48:14.767Z"
   },
   {
    "duration": 10,
    "start_time": "2023-09-05T20:48:14.777Z"
   },
   {
    "duration": 6,
    "start_time": "2023-09-05T20:48:14.788Z"
   },
   {
    "duration": 5,
    "start_time": "2023-09-05T20:48:14.795Z"
   },
   {
    "duration": 209,
    "start_time": "2023-09-05T20:48:14.801Z"
   },
   {
    "duration": 5,
    "start_time": "2023-09-05T20:48:15.011Z"
   },
   {
    "duration": 133,
    "start_time": "2023-09-05T20:48:15.018Z"
   },
   {
    "duration": 8,
    "start_time": "2023-09-05T20:48:15.152Z"
   },
   {
    "duration": 10,
    "start_time": "2023-09-05T20:48:15.162Z"
   },
   {
    "duration": 145,
    "start_time": "2023-09-05T20:48:15.174Z"
   },
   {
    "duration": 8,
    "start_time": "2023-09-05T20:48:15.320Z"
   },
   {
    "duration": 228,
    "start_time": "2023-09-05T20:48:15.329Z"
   },
   {
    "duration": 224,
    "start_time": "2023-09-05T20:48:15.559Z"
   },
   {
    "duration": 287,
    "start_time": "2023-09-05T20:48:15.784Z"
   },
   {
    "duration": 8,
    "start_time": "2023-09-05T20:48:16.072Z"
   },
   {
    "duration": 635,
    "start_time": "2023-09-05T20:48:16.081Z"
   },
   {
    "duration": 525,
    "start_time": "2023-09-05T20:48:16.717Z"
   },
   {
    "duration": 648,
    "start_time": "2023-09-05T20:48:17.249Z"
   },
   {
    "duration": 17,
    "start_time": "2023-09-05T20:48:17.898Z"
   },
   {
    "duration": 103,
    "start_time": "2023-09-05T20:48:17.916Z"
   },
   {
    "duration": 0,
    "start_time": "2023-09-05T20:48:18.021Z"
   },
   {
    "duration": 0,
    "start_time": "2023-09-05T20:48:18.022Z"
   },
   {
    "duration": 0,
    "start_time": "2023-09-05T20:48:18.024Z"
   },
   {
    "duration": 0,
    "start_time": "2023-09-05T20:48:18.025Z"
   },
   {
    "duration": 0,
    "start_time": "2023-09-05T20:48:18.027Z"
   },
   {
    "duration": 0,
    "start_time": "2023-09-05T20:48:18.028Z"
   },
   {
    "duration": 0,
    "start_time": "2023-09-05T20:48:18.029Z"
   },
   {
    "duration": 0,
    "start_time": "2023-09-05T20:48:18.049Z"
   },
   {
    "duration": 0,
    "start_time": "2023-09-05T20:48:18.051Z"
   },
   {
    "duration": 0,
    "start_time": "2023-09-05T20:48:18.052Z"
   },
   {
    "duration": 0,
    "start_time": "2023-09-05T20:48:18.053Z"
   },
   {
    "duration": 0,
    "start_time": "2023-09-05T20:48:18.054Z"
   },
   {
    "duration": 0,
    "start_time": "2023-09-05T20:48:18.055Z"
   },
   {
    "duration": 0,
    "start_time": "2023-09-05T20:48:18.056Z"
   },
   {
    "duration": 0,
    "start_time": "2023-09-05T20:48:18.057Z"
   },
   {
    "duration": 0,
    "start_time": "2023-09-05T20:48:18.058Z"
   },
   {
    "duration": 0,
    "start_time": "2023-09-05T20:48:18.059Z"
   },
   {
    "duration": 0,
    "start_time": "2023-09-05T20:48:18.060Z"
   },
   {
    "duration": 0,
    "start_time": "2023-09-05T20:48:18.062Z"
   },
   {
    "duration": 22,
    "start_time": "2023-09-05T20:48:38.443Z"
   },
   {
    "duration": 1084,
    "start_time": "2023-09-05T20:49:48.860Z"
   },
   {
    "duration": 3,
    "start_time": "2023-09-05T20:49:49.946Z"
   },
   {
    "duration": 50,
    "start_time": "2023-09-05T20:49:49.951Z"
   },
   {
    "duration": 10,
    "start_time": "2023-09-05T20:49:50.003Z"
   },
   {
    "duration": 62,
    "start_time": "2023-09-05T20:49:50.014Z"
   },
   {
    "duration": 34,
    "start_time": "2023-09-05T20:49:50.078Z"
   },
   {
    "duration": 38,
    "start_time": "2023-09-05T20:49:50.114Z"
   },
   {
    "duration": 10,
    "start_time": "2023-09-05T20:49:50.154Z"
   },
   {
    "duration": 44,
    "start_time": "2023-09-05T20:49:50.165Z"
   },
   {
    "duration": 26,
    "start_time": "2023-09-05T20:49:50.212Z"
   },
   {
    "duration": 10,
    "start_time": "2023-09-05T20:49:50.240Z"
   },
   {
    "duration": 54,
    "start_time": "2023-09-05T20:49:50.252Z"
   },
   {
    "duration": 20,
    "start_time": "2023-09-05T20:49:50.308Z"
   },
   {
    "duration": 56,
    "start_time": "2023-09-05T20:49:50.330Z"
   },
   {
    "duration": 50,
    "start_time": "2023-09-05T20:49:50.387Z"
   },
   {
    "duration": 29,
    "start_time": "2023-09-05T20:49:50.438Z"
   },
   {
    "duration": 37,
    "start_time": "2023-09-05T20:49:50.469Z"
   },
   {
    "duration": 26,
    "start_time": "2023-09-05T20:49:50.508Z"
   },
   {
    "duration": 22,
    "start_time": "2023-09-05T20:49:50.536Z"
   },
   {
    "duration": 34,
    "start_time": "2023-09-05T20:49:50.560Z"
   },
   {
    "duration": 179,
    "start_time": "2023-09-05T20:49:50.597Z"
   },
   {
    "duration": 5,
    "start_time": "2023-09-05T20:49:50.778Z"
   },
   {
    "duration": 132,
    "start_time": "2023-09-05T20:49:50.784Z"
   },
   {
    "duration": 8,
    "start_time": "2023-09-05T20:49:50.917Z"
   },
   {
    "duration": 13,
    "start_time": "2023-09-05T20:49:50.927Z"
   },
   {
    "duration": 169,
    "start_time": "2023-09-05T20:49:50.942Z"
   },
   {
    "duration": 7,
    "start_time": "2023-09-05T20:49:51.113Z"
   },
   {
    "duration": 245,
    "start_time": "2023-09-05T20:49:51.124Z"
   },
   {
    "duration": 236,
    "start_time": "2023-09-05T20:49:51.370Z"
   },
   {
    "duration": 292,
    "start_time": "2023-09-05T20:49:51.608Z"
   },
   {
    "duration": 8,
    "start_time": "2023-09-05T20:49:51.901Z"
   },
   {
    "duration": 619,
    "start_time": "2023-09-05T20:49:51.910Z"
   },
   {
    "duration": 529,
    "start_time": "2023-09-05T20:49:52.531Z"
   },
   {
    "duration": 634,
    "start_time": "2023-09-05T20:49:53.061Z"
   },
   {
    "duration": 16,
    "start_time": "2023-09-05T20:49:53.697Z"
   },
   {
    "duration": 28,
    "start_time": "2023-09-05T20:49:53.715Z"
   },
   {
    "duration": 17,
    "start_time": "2023-09-05T20:49:53.744Z"
   },
   {
    "duration": 22,
    "start_time": "2023-09-05T20:49:53.763Z"
   },
   {
    "duration": 14,
    "start_time": "2023-09-05T20:49:53.787Z"
   },
   {
    "duration": 231,
    "start_time": "2023-09-05T20:49:53.802Z"
   },
   {
    "duration": 217,
    "start_time": "2023-09-05T20:49:54.034Z"
   },
   {
    "duration": 453,
    "start_time": "2023-09-05T20:49:54.253Z"
   },
   {
    "duration": 226,
    "start_time": "2023-09-05T20:49:54.708Z"
   },
   {
    "duration": 224,
    "start_time": "2023-09-05T20:49:54.935Z"
   },
   {
    "duration": 348,
    "start_time": "2023-09-05T20:49:55.161Z"
   },
   {
    "duration": 113,
    "start_time": "2023-09-05T20:49:55.510Z"
   },
   {
    "duration": 195,
    "start_time": "2023-09-05T20:49:55.625Z"
   },
   {
    "duration": 0,
    "start_time": "2023-09-05T20:49:55.822Z"
   },
   {
    "duration": 0,
    "start_time": "2023-09-05T20:49:55.824Z"
   },
   {
    "duration": 0,
    "start_time": "2023-09-05T20:49:55.826Z"
   },
   {
    "duration": 0,
    "start_time": "2023-09-05T20:49:55.827Z"
   },
   {
    "duration": 0,
    "start_time": "2023-09-05T20:49:55.829Z"
   },
   {
    "duration": 0,
    "start_time": "2023-09-05T20:49:55.830Z"
   },
   {
    "duration": 0,
    "start_time": "2023-09-05T20:49:55.831Z"
   },
   {
    "duration": 0,
    "start_time": "2023-09-05T20:49:55.833Z"
   },
   {
    "duration": 130,
    "start_time": "2023-09-05T20:50:17.248Z"
   },
   {
    "duration": 105,
    "start_time": "2023-09-05T20:50:34.996Z"
   },
   {
    "duration": 117,
    "start_time": "2023-09-05T20:50:46.423Z"
   },
   {
    "duration": 1550,
    "start_time": "2023-09-05T20:51:01.522Z"
   },
   {
    "duration": 99,
    "start_time": "2023-09-05T20:51:29.924Z"
   },
   {
    "duration": 88,
    "start_time": "2023-09-05T20:54:56.978Z"
   },
   {
    "duration": 80,
    "start_time": "2023-09-05T20:55:58.500Z"
   },
   {
    "duration": 84,
    "start_time": "2023-09-05T20:56:11.278Z"
   },
   {
    "duration": 89,
    "start_time": "2023-09-05T20:56:21.488Z"
   },
   {
    "duration": 91,
    "start_time": "2023-09-05T20:57:03.194Z"
   },
   {
    "duration": 97,
    "start_time": "2023-09-05T21:08:38.615Z"
   },
   {
    "duration": 99,
    "start_time": "2023-09-05T21:09:37.909Z"
   },
   {
    "duration": 94,
    "start_time": "2023-09-05T21:10:15.213Z"
   },
   {
    "duration": 102,
    "start_time": "2023-09-05T21:10:47.078Z"
   },
   {
    "duration": 100,
    "start_time": "2023-09-05T21:10:51.049Z"
   },
   {
    "duration": 26,
    "start_time": "2023-09-05T21:11:36.331Z"
   },
   {
    "duration": 12,
    "start_time": "2023-09-05T21:12:26.647Z"
   },
   {
    "duration": 16,
    "start_time": "2023-09-05T21:13:02.770Z"
   },
   {
    "duration": 16,
    "start_time": "2023-09-05T21:13:17.865Z"
   },
   {
    "duration": 16,
    "start_time": "2023-09-05T21:14:52.942Z"
   },
   {
    "duration": 15,
    "start_time": "2023-09-05T21:14:58.261Z"
   },
   {
    "duration": 15,
    "start_time": "2023-09-05T21:16:27.361Z"
   },
   {
    "duration": 18,
    "start_time": "2023-09-05T21:17:50.845Z"
   },
   {
    "duration": 91,
    "start_time": "2023-09-06T07:14:50.443Z"
   },
   {
    "duration": 11,
    "start_time": "2023-09-06T07:14:53.372Z"
   },
   {
    "duration": 1948,
    "start_time": "2023-09-06T07:15:04.675Z"
   },
   {
    "duration": 3,
    "start_time": "2023-09-06T07:15:06.625Z"
   },
   {
    "duration": 159,
    "start_time": "2023-09-06T07:15:06.629Z"
   },
   {
    "duration": 18,
    "start_time": "2023-09-06T07:15:06.790Z"
   },
   {
    "duration": 147,
    "start_time": "2023-09-06T07:15:06.811Z"
   },
   {
    "duration": 28,
    "start_time": "2023-09-06T07:15:06.963Z"
   },
   {
    "duration": 133,
    "start_time": "2023-09-06T07:15:06.998Z"
   },
   {
    "duration": 22,
    "start_time": "2023-09-06T07:15:07.134Z"
   },
   {
    "duration": 20,
    "start_time": "2023-09-06T07:15:07.159Z"
   },
   {
    "duration": 18,
    "start_time": "2023-09-06T07:15:07.182Z"
   },
   {
    "duration": 19,
    "start_time": "2023-09-06T07:15:07.206Z"
   },
   {
    "duration": 9,
    "start_time": "2023-09-06T07:15:07.227Z"
   },
   {
    "duration": 54,
    "start_time": "2023-09-06T07:15:07.237Z"
   },
   {
    "duration": 12,
    "start_time": "2023-09-06T07:15:07.300Z"
   },
   {
    "duration": 18,
    "start_time": "2023-09-06T07:15:07.314Z"
   },
   {
    "duration": 42,
    "start_time": "2023-09-06T07:15:07.337Z"
   },
   {
    "duration": 27,
    "start_time": "2023-09-06T07:15:07.387Z"
   },
   {
    "duration": 15,
    "start_time": "2023-09-06T07:15:07.422Z"
   },
   {
    "duration": 326,
    "start_time": "2023-09-06T07:15:07.439Z"
   },
   {
    "duration": 9,
    "start_time": "2023-09-06T07:15:07.767Z"
   },
   {
    "duration": 163,
    "start_time": "2023-09-06T07:15:07.778Z"
   },
   {
    "duration": 36,
    "start_time": "2023-09-06T07:15:07.943Z"
   },
   {
    "duration": 7,
    "start_time": "2023-09-06T07:15:07.982Z"
   },
   {
    "duration": 229,
    "start_time": "2023-09-06T07:15:07.993Z"
   },
   {
    "duration": 10,
    "start_time": "2023-09-06T07:15:08.223Z"
   },
   {
    "duration": 361,
    "start_time": "2023-09-06T07:15:08.246Z"
   },
   {
    "duration": 354,
    "start_time": "2023-09-06T07:15:08.612Z"
   },
   {
    "duration": 464,
    "start_time": "2023-09-06T07:15:08.968Z"
   },
   {
    "duration": 30,
    "start_time": "2023-09-06T07:15:09.434Z"
   },
   {
    "duration": 923,
    "start_time": "2023-09-06T07:15:09.473Z"
   },
   {
    "duration": 813,
    "start_time": "2023-09-06T07:15:10.401Z"
   },
   {
    "duration": 1056,
    "start_time": "2023-09-06T07:15:11.216Z"
   },
   {
    "duration": 36,
    "start_time": "2023-09-06T07:15:12.278Z"
   },
   {
    "duration": 22,
    "start_time": "2023-09-06T07:15:12.316Z"
   },
   {
    "duration": 21,
    "start_time": "2023-09-06T07:15:12.340Z"
   },
   {
    "duration": 38,
    "start_time": "2023-09-06T07:15:12.363Z"
   },
   {
    "duration": 21,
    "start_time": "2023-09-06T07:15:12.403Z"
   },
   {
    "duration": 387,
    "start_time": "2023-09-06T07:15:12.426Z"
   },
   {
    "duration": 476,
    "start_time": "2023-09-06T07:15:12.816Z"
   },
   {
    "duration": 724,
    "start_time": "2023-09-06T07:15:13.299Z"
   },
   {
    "duration": 362,
    "start_time": "2023-09-06T07:15:14.028Z"
   },
   {
    "duration": 346,
    "start_time": "2023-09-06T07:15:14.397Z"
   },
   {
    "duration": 566,
    "start_time": "2023-09-06T07:15:14.750Z"
   },
   {
    "duration": 244,
    "start_time": "2023-09-06T07:15:15.320Z"
   },
   {
    "duration": 43,
    "start_time": "2023-09-06T07:15:15.568Z"
   },
   {
    "duration": 52,
    "start_time": "2023-09-06T07:15:50.337Z"
   },
   {
    "duration": 40,
    "start_time": "2023-09-06T07:16:07.148Z"
   },
   {
    "duration": 127,
    "start_time": "2023-09-06T07:16:19.891Z"
   },
   {
    "duration": 50,
    "start_time": "2023-09-06T07:16:35.535Z"
   },
   {
    "duration": 181,
    "start_time": "2023-09-06T07:17:35.615Z"
   },
   {
    "duration": 36,
    "start_time": "2023-09-06T07:17:46.061Z"
   },
   {
    "duration": 30,
    "start_time": "2023-09-06T07:19:34.145Z"
   },
   {
    "duration": 6,
    "start_time": "2023-09-06T08:12:24.377Z"
   },
   {
    "duration": 2587,
    "start_time": "2023-09-06T08:21:11.035Z"
   },
   {
    "duration": 168,
    "start_time": "2023-09-06T08:21:39.461Z"
   },
   {
    "duration": 12,
    "start_time": "2023-09-06T08:27:02.415Z"
   },
   {
    "duration": 17,
    "start_time": "2023-09-06T08:27:10.511Z"
   },
   {
    "duration": 14,
    "start_time": "2023-09-06T08:27:27.318Z"
   },
   {
    "duration": 11,
    "start_time": "2023-09-06T08:27:53.033Z"
   },
   {
    "duration": 25,
    "start_time": "2023-09-06T08:29:05.348Z"
   },
   {
    "duration": 23,
    "start_time": "2023-09-06T08:29:50.840Z"
   },
   {
    "duration": 27,
    "start_time": "2023-09-06T08:37:35.428Z"
   },
   {
    "duration": 29,
    "start_time": "2023-09-06T08:40:02.150Z"
   },
   {
    "duration": 20,
    "start_time": "2023-09-06T08:40:22.907Z"
   },
   {
    "duration": 128,
    "start_time": "2023-09-06T08:41:24.310Z"
   },
   {
    "duration": 30,
    "start_time": "2023-09-06T08:41:38.634Z"
   },
   {
    "duration": 21,
    "start_time": "2023-09-06T08:42:36.830Z"
   },
   {
    "duration": 22,
    "start_time": "2023-09-06T08:42:53.093Z"
   },
   {
    "duration": 26,
    "start_time": "2023-09-06T08:44:37.987Z"
   },
   {
    "duration": 21,
    "start_time": "2023-09-06T08:44:46.594Z"
   },
   {
    "duration": 39,
    "start_time": "2023-09-06T08:46:45.142Z"
   },
   {
    "duration": 14,
    "start_time": "2023-09-06T08:47:40.989Z"
   },
   {
    "duration": 18,
    "start_time": "2023-09-06T08:52:36.189Z"
   },
   {
    "duration": 16,
    "start_time": "2023-09-06T08:56:58.800Z"
   },
   {
    "duration": 18,
    "start_time": "2023-09-06T09:17:54.002Z"
   },
   {
    "duration": 23,
    "start_time": "2023-09-06T09:18:29.062Z"
   },
   {
    "duration": 17,
    "start_time": "2023-09-06T09:19:40.990Z"
   },
   {
    "duration": 16,
    "start_time": "2023-09-06T09:43:36.881Z"
   },
   {
    "duration": 25,
    "start_time": "2023-09-06T09:44:00.437Z"
   },
   {
    "duration": 8,
    "start_time": "2023-09-06T09:44:48.497Z"
   },
   {
    "duration": 16,
    "start_time": "2023-09-06T09:48:24.379Z"
   },
   {
    "duration": 12,
    "start_time": "2023-09-06T09:48:45.416Z"
   },
   {
    "duration": 1281,
    "start_time": "2023-09-06T09:49:24.509Z"
   },
   {
    "duration": 3,
    "start_time": "2023-09-06T09:49:25.792Z"
   },
   {
    "duration": 68,
    "start_time": "2023-09-06T09:49:25.796Z"
   },
   {
    "duration": 12,
    "start_time": "2023-09-06T09:49:25.866Z"
   },
   {
    "duration": 52,
    "start_time": "2023-09-06T09:49:25.879Z"
   },
   {
    "duration": 13,
    "start_time": "2023-09-06T09:49:25.932Z"
   },
   {
    "duration": 46,
    "start_time": "2023-09-06T09:49:25.948Z"
   },
   {
    "duration": 11,
    "start_time": "2023-09-06T09:49:25.996Z"
   },
   {
    "duration": 49,
    "start_time": "2023-09-06T09:49:26.009Z"
   },
   {
    "duration": 11,
    "start_time": "2023-09-06T09:49:26.063Z"
   },
   {
    "duration": 24,
    "start_time": "2023-09-06T09:49:26.076Z"
   },
   {
    "duration": 18,
    "start_time": "2023-09-06T09:49:26.101Z"
   },
   {
    "duration": 19,
    "start_time": "2023-09-06T09:49:26.120Z"
   },
   {
    "duration": 38,
    "start_time": "2023-09-06T09:49:26.142Z"
   },
   {
    "duration": 8,
    "start_time": "2023-09-06T09:49:26.183Z"
   },
   {
    "duration": 29,
    "start_time": "2023-09-06T09:49:26.194Z"
   },
   {
    "duration": 15,
    "start_time": "2023-09-06T09:49:26.225Z"
   },
   {
    "duration": 11,
    "start_time": "2023-09-06T09:49:26.242Z"
   },
   {
    "duration": 236,
    "start_time": "2023-09-06T09:49:26.257Z"
   },
   {
    "duration": 8,
    "start_time": "2023-09-06T09:49:26.495Z"
   },
   {
    "duration": 167,
    "start_time": "2023-09-06T09:49:26.505Z"
   },
   {
    "duration": 9,
    "start_time": "2023-09-06T09:49:26.674Z"
   },
   {
    "duration": 35,
    "start_time": "2023-09-06T09:49:26.685Z"
   },
   {
    "duration": 178,
    "start_time": "2023-09-06T09:49:26.721Z"
   },
   {
    "duration": 9,
    "start_time": "2023-09-06T09:49:26.901Z"
   },
   {
    "duration": 306,
    "start_time": "2023-09-06T09:49:26.911Z"
   },
   {
    "duration": 296,
    "start_time": "2023-09-06T09:49:27.219Z"
   },
   {
    "duration": 370,
    "start_time": "2023-09-06T09:49:27.518Z"
   },
   {
    "duration": 10,
    "start_time": "2023-09-06T09:49:27.889Z"
   },
   {
    "duration": 719,
    "start_time": "2023-09-06T09:49:27.900Z"
   },
   {
    "duration": 709,
    "start_time": "2023-09-06T09:49:28.621Z"
   },
   {
    "duration": 794,
    "start_time": "2023-09-06T09:49:29.332Z"
   },
   {
    "duration": 33,
    "start_time": "2023-09-06T09:49:30.128Z"
   },
   {
    "duration": 41,
    "start_time": "2023-09-06T09:49:30.165Z"
   },
   {
    "duration": 40,
    "start_time": "2023-09-06T09:49:30.208Z"
   },
   {
    "duration": 47,
    "start_time": "2023-09-06T09:49:30.250Z"
   },
   {
    "duration": 45,
    "start_time": "2023-09-06T09:49:30.299Z"
   },
   {
    "duration": 341,
    "start_time": "2023-09-06T09:49:30.346Z"
   },
   {
    "duration": 302,
    "start_time": "2023-09-06T09:49:30.689Z"
   },
   {
    "duration": 616,
    "start_time": "2023-09-06T09:49:30.994Z"
   },
   {
    "duration": 307,
    "start_time": "2023-09-06T09:49:31.612Z"
   },
   {
    "duration": 320,
    "start_time": "2023-09-06T09:49:31.921Z"
   },
   {
    "duration": 771,
    "start_time": "2023-09-06T09:49:32.248Z"
   },
   {
    "duration": 145,
    "start_time": "2023-09-06T09:49:33.021Z"
   },
   {
    "duration": 20,
    "start_time": "2023-09-06T09:49:33.168Z"
   },
   {
    "duration": 31,
    "start_time": "2023-09-06T09:49:33.190Z"
   },
   {
    "duration": 21,
    "start_time": "2023-09-06T09:49:33.223Z"
   },
   {
    "duration": 11,
    "start_time": "2023-09-06T09:51:43.096Z"
   },
   {
    "duration": 13,
    "start_time": "2023-09-06T09:52:00.554Z"
   },
   {
    "duration": 99,
    "start_time": "2023-09-06T10:23:10.937Z"
   },
   {
    "duration": 21,
    "start_time": "2023-09-06T10:23:25.518Z"
   },
   {
    "duration": 21,
    "start_time": "2023-09-06T10:24:01.734Z"
   },
   {
    "duration": 120,
    "start_time": "2023-09-06T10:51:04.940Z"
   },
   {
    "duration": 7,
    "start_time": "2023-09-06T10:59:16.621Z"
   },
   {
    "duration": 11,
    "start_time": "2023-09-06T11:03:11.071Z"
   },
   {
    "duration": 7,
    "start_time": "2023-09-06T11:03:56.558Z"
   },
   {
    "duration": 11,
    "start_time": "2023-09-06T11:06:23.666Z"
   },
   {
    "duration": 10,
    "start_time": "2023-09-06T11:06:35.022Z"
   },
   {
    "duration": 10,
    "start_time": "2023-09-06T11:06:50.499Z"
   },
   {
    "duration": 1287,
    "start_time": "2023-09-06T11:07:27.435Z"
   },
   {
    "duration": 3,
    "start_time": "2023-09-06T11:07:28.723Z"
   },
   {
    "duration": 102,
    "start_time": "2023-09-06T11:07:28.728Z"
   },
   {
    "duration": 12,
    "start_time": "2023-09-06T11:07:28.832Z"
   },
   {
    "duration": 58,
    "start_time": "2023-09-06T11:07:28.845Z"
   },
   {
    "duration": 12,
    "start_time": "2023-09-06T11:07:28.904Z"
   },
   {
    "duration": 37,
    "start_time": "2023-09-06T11:07:28.917Z"
   },
   {
    "duration": 14,
    "start_time": "2023-09-06T11:07:28.956Z"
   },
   {
    "duration": 9,
    "start_time": "2023-09-06T11:07:28.972Z"
   },
   {
    "duration": 12,
    "start_time": "2023-09-06T11:07:28.985Z"
   },
   {
    "duration": 7,
    "start_time": "2023-09-06T11:07:28.999Z"
   },
   {
    "duration": 10,
    "start_time": "2023-09-06T11:07:29.008Z"
   },
   {
    "duration": 31,
    "start_time": "2023-09-06T11:07:29.020Z"
   },
   {
    "duration": 41,
    "start_time": "2023-09-06T11:07:29.052Z"
   },
   {
    "duration": 9,
    "start_time": "2023-09-06T11:07:29.094Z"
   },
   {
    "duration": 16,
    "start_time": "2023-09-06T11:07:29.105Z"
   },
   {
    "duration": 36,
    "start_time": "2023-09-06T11:07:29.123Z"
   },
   {
    "duration": 17,
    "start_time": "2023-09-06T11:07:29.161Z"
   },
   {
    "duration": 233,
    "start_time": "2023-09-06T11:07:29.179Z"
   },
   {
    "duration": 6,
    "start_time": "2023-09-06T11:07:29.413Z"
   },
   {
    "duration": 157,
    "start_time": "2023-09-06T11:07:29.420Z"
   },
   {
    "duration": 9,
    "start_time": "2023-09-06T11:07:29.578Z"
   },
   {
    "duration": 82,
    "start_time": "2023-09-06T11:07:29.588Z"
   },
   {
    "duration": 194,
    "start_time": "2023-09-06T11:07:29.672Z"
   },
   {
    "duration": 9,
    "start_time": "2023-09-06T11:07:29.874Z"
   },
   {
    "duration": 304,
    "start_time": "2023-09-06T11:07:29.885Z"
   },
   {
    "duration": 313,
    "start_time": "2023-09-06T11:07:30.190Z"
   },
   {
    "duration": 376,
    "start_time": "2023-09-06T11:07:30.506Z"
   },
   {
    "duration": 10,
    "start_time": "2023-09-06T11:07:30.883Z"
   },
   {
    "duration": 758,
    "start_time": "2023-09-06T11:07:30.895Z"
   },
   {
    "duration": 727,
    "start_time": "2023-09-06T11:07:31.655Z"
   },
   {
    "duration": 824,
    "start_time": "2023-09-06T11:07:32.385Z"
   },
   {
    "duration": 18,
    "start_time": "2023-09-06T11:07:33.211Z"
   },
   {
    "duration": 38,
    "start_time": "2023-09-06T11:07:33.231Z"
   },
   {
    "duration": 9,
    "start_time": "2023-09-06T11:07:33.273Z"
   },
   {
    "duration": 38,
    "start_time": "2023-09-06T11:07:33.284Z"
   },
   {
    "duration": 40,
    "start_time": "2023-09-06T11:07:33.324Z"
   },
   {
    "duration": 294,
    "start_time": "2023-09-06T11:07:33.365Z"
   },
   {
    "duration": 271,
    "start_time": "2023-09-06T11:07:33.668Z"
   },
   {
    "duration": 554,
    "start_time": "2023-09-06T11:07:33.940Z"
   },
   {
    "duration": 313,
    "start_time": "2023-09-06T11:07:34.496Z"
   },
   {
    "duration": 300,
    "start_time": "2023-09-06T11:07:34.812Z"
   },
   {
    "duration": 513,
    "start_time": "2023-09-06T11:07:35.114Z"
   },
   {
    "duration": 152,
    "start_time": "2023-09-06T11:07:35.633Z"
   },
   {
    "duration": 44,
    "start_time": "2023-09-06T11:07:35.787Z"
   },
   {
    "duration": 281,
    "start_time": "2023-09-06T11:07:35.833Z"
   },
   {
    "duration": 52,
    "start_time": "2023-09-06T11:07:36.116Z"
   },
   {
    "duration": 47,
    "start_time": "2023-09-06T11:07:36.170Z"
   },
   {
    "duration": 126,
    "start_time": "2023-09-06T11:07:36.219Z"
   },
   {
    "duration": 3,
    "start_time": "2023-09-06T11:07:50.943Z"
   },
   {
    "duration": 1232,
    "start_time": "2023-09-06T11:07:56.707Z"
   },
   {
    "duration": 3,
    "start_time": "2023-09-06T11:07:57.941Z"
   },
   {
    "duration": 53,
    "start_time": "2023-09-06T11:07:57.955Z"
   },
   {
    "duration": 11,
    "start_time": "2023-09-06T11:07:58.010Z"
   },
   {
    "duration": 54,
    "start_time": "2023-09-06T11:07:58.023Z"
   },
   {
    "duration": 11,
    "start_time": "2023-09-06T11:07:58.079Z"
   },
   {
    "duration": 25,
    "start_time": "2023-09-06T11:07:58.092Z"
   },
   {
    "duration": 13,
    "start_time": "2023-09-06T11:07:58.118Z"
   },
   {
    "duration": 17,
    "start_time": "2023-09-06T11:07:58.134Z"
   },
   {
    "duration": 26,
    "start_time": "2023-09-06T11:07:58.154Z"
   },
   {
    "duration": 23,
    "start_time": "2023-09-06T11:07:58.181Z"
   },
   {
    "duration": 12,
    "start_time": "2023-09-06T11:07:58.206Z"
   },
   {
    "duration": 6,
    "start_time": "2023-09-06T11:07:58.219Z"
   },
   {
    "duration": 10,
    "start_time": "2023-09-06T11:07:58.226Z"
   },
   {
    "duration": 6,
    "start_time": "2023-09-06T11:07:58.237Z"
   },
   {
    "duration": 28,
    "start_time": "2023-09-06T11:07:58.245Z"
   },
   {
    "duration": 12,
    "start_time": "2023-09-06T11:07:58.277Z"
   },
   {
    "duration": 6,
    "start_time": "2023-09-06T11:07:58.291Z"
   },
   {
    "duration": 227,
    "start_time": "2023-09-06T11:07:58.298Z"
   },
   {
    "duration": 7,
    "start_time": "2023-09-06T11:07:58.526Z"
   },
   {
    "duration": 150,
    "start_time": "2023-09-06T11:07:58.534Z"
   },
   {
    "duration": 8,
    "start_time": "2023-09-06T11:07:58.686Z"
   },
   {
    "duration": 9,
    "start_time": "2023-09-06T11:07:58.696Z"
   },
   {
    "duration": 198,
    "start_time": "2023-09-06T11:07:58.706Z"
   },
   {
    "duration": 8,
    "start_time": "2023-09-06T11:07:58.906Z"
   },
   {
    "duration": 321,
    "start_time": "2023-09-06T11:07:58.916Z"
   },
   {
    "duration": 317,
    "start_time": "2023-09-06T11:07:59.238Z"
   },
   {
    "duration": 380,
    "start_time": "2023-09-06T11:07:59.561Z"
   },
   {
    "duration": 26,
    "start_time": "2023-09-06T11:07:59.943Z"
   },
   {
    "duration": 717,
    "start_time": "2023-09-06T11:07:59.976Z"
   },
   {
    "duration": 710,
    "start_time": "2023-09-06T11:08:00.695Z"
   },
   {
    "duration": 827,
    "start_time": "2023-09-06T11:08:01.407Z"
   },
   {
    "duration": 39,
    "start_time": "2023-09-06T11:08:02.236Z"
   },
   {
    "duration": 20,
    "start_time": "2023-09-06T11:08:02.277Z"
   },
   {
    "duration": 36,
    "start_time": "2023-09-06T11:08:02.299Z"
   },
   {
    "duration": 58,
    "start_time": "2023-09-06T11:08:02.336Z"
   },
   {
    "duration": 21,
    "start_time": "2023-09-06T11:08:02.396Z"
   },
   {
    "duration": 322,
    "start_time": "2023-09-06T11:08:02.419Z"
   },
   {
    "duration": 293,
    "start_time": "2023-09-06T11:08:02.742Z"
   },
   {
    "duration": 560,
    "start_time": "2023-09-06T11:08:03.037Z"
   },
   {
    "duration": 310,
    "start_time": "2023-09-06T11:08:03.599Z"
   },
   {
    "duration": 314,
    "start_time": "2023-09-06T11:08:03.911Z"
   },
   {
    "duration": 466,
    "start_time": "2023-09-06T11:08:04.227Z"
   },
   {
    "duration": 138,
    "start_time": "2023-09-06T11:08:04.695Z"
   },
   {
    "duration": 43,
    "start_time": "2023-09-06T11:08:04.835Z"
   },
   {
    "duration": 26,
    "start_time": "2023-09-06T11:08:04.880Z"
   },
   {
    "duration": 14,
    "start_time": "2023-09-06T11:08:04.908Z"
   },
   {
    "duration": 44,
    "start_time": "2023-09-06T11:08:04.924Z"
   },
   {
    "duration": 145,
    "start_time": "2023-09-06T11:08:04.970Z"
   },
   {
    "duration": 10,
    "start_time": "2023-09-06T11:09:06.385Z"
   },
   {
    "duration": 11,
    "start_time": "2023-09-06T11:09:52.476Z"
   },
   {
    "duration": 11,
    "start_time": "2023-09-06T11:13:20.836Z"
   },
   {
    "duration": 11,
    "start_time": "2023-09-06T11:14:30.402Z"
   },
   {
    "duration": 9,
    "start_time": "2023-09-06T11:14:44.288Z"
   },
   {
    "duration": 10,
    "start_time": "2023-09-06T11:15:06.798Z"
   },
   {
    "duration": 10,
    "start_time": "2023-09-06T11:15:18.674Z"
   },
   {
    "duration": 358,
    "start_time": "2023-09-06T11:18:21.924Z"
   },
   {
    "duration": 335,
    "start_time": "2023-09-06T11:18:28.772Z"
   },
   {
    "duration": 16,
    "start_time": "2023-09-06T11:18:59.569Z"
   },
   {
    "duration": 12,
    "start_time": "2023-09-06T11:23:39.613Z"
   },
   {
    "duration": 1329,
    "start_time": "2023-09-06T11:24:20.370Z"
   },
   {
    "duration": 3,
    "start_time": "2023-09-06T11:24:21.701Z"
   },
   {
    "duration": 79,
    "start_time": "2023-09-06T11:24:21.706Z"
   },
   {
    "duration": 13,
    "start_time": "2023-09-06T11:24:21.787Z"
   },
   {
    "duration": 54,
    "start_time": "2023-09-06T11:24:21.802Z"
   },
   {
    "duration": 21,
    "start_time": "2023-09-06T11:24:21.857Z"
   },
   {
    "duration": 27,
    "start_time": "2023-09-06T11:24:21.879Z"
   },
   {
    "duration": 10,
    "start_time": "2023-09-06T11:24:21.908Z"
   },
   {
    "duration": 30,
    "start_time": "2023-09-06T11:24:21.920Z"
   },
   {
    "duration": 28,
    "start_time": "2023-09-06T11:24:21.951Z"
   },
   {
    "duration": 15,
    "start_time": "2023-09-06T11:24:21.981Z"
   },
   {
    "duration": 15,
    "start_time": "2023-09-06T11:24:21.998Z"
   },
   {
    "duration": 13,
    "start_time": "2023-09-06T11:24:22.015Z"
   },
   {
    "duration": 27,
    "start_time": "2023-09-06T11:24:22.031Z"
   },
   {
    "duration": 6,
    "start_time": "2023-09-06T11:24:22.060Z"
   },
   {
    "duration": 13,
    "start_time": "2023-09-06T11:24:22.068Z"
   },
   {
    "duration": 23,
    "start_time": "2023-09-06T11:24:22.083Z"
   },
   {
    "duration": 28,
    "start_time": "2023-09-06T11:24:22.107Z"
   },
   {
    "duration": 260,
    "start_time": "2023-09-06T11:24:22.137Z"
   },
   {
    "duration": 6,
    "start_time": "2023-09-06T11:24:22.399Z"
   },
   {
    "duration": 174,
    "start_time": "2023-09-06T11:24:22.406Z"
   },
   {
    "duration": 8,
    "start_time": "2023-09-06T11:24:22.583Z"
   },
   {
    "duration": 16,
    "start_time": "2023-09-06T11:24:22.592Z"
   },
   {
    "duration": 223,
    "start_time": "2023-09-06T11:24:22.610Z"
   },
   {
    "duration": 22,
    "start_time": "2023-09-06T11:24:22.835Z"
   },
   {
    "duration": 325,
    "start_time": "2023-09-06T11:24:22.860Z"
   },
   {
    "duration": 309,
    "start_time": "2023-09-06T11:24:23.187Z"
   },
   {
    "duration": 388,
    "start_time": "2023-09-06T11:24:23.498Z"
   },
   {
    "duration": 10,
    "start_time": "2023-09-06T11:24:23.888Z"
   },
   {
    "duration": 777,
    "start_time": "2023-09-06T11:24:23.900Z"
   },
   {
    "duration": 734,
    "start_time": "2023-09-06T11:24:24.679Z"
   },
   {
    "duration": 890,
    "start_time": "2023-09-06T11:24:25.415Z"
   },
   {
    "duration": 18,
    "start_time": "2023-09-06T11:24:26.307Z"
   },
   {
    "duration": 44,
    "start_time": "2023-09-06T11:24:26.327Z"
   },
   {
    "duration": 12,
    "start_time": "2023-09-06T11:24:26.373Z"
   },
   {
    "duration": 46,
    "start_time": "2023-09-06T11:24:26.387Z"
   },
   {
    "duration": 30,
    "start_time": "2023-09-06T11:24:26.435Z"
   },
   {
    "duration": 305,
    "start_time": "2023-09-06T11:24:26.473Z"
   },
   {
    "duration": 297,
    "start_time": "2023-09-06T11:24:26.780Z"
   },
   {
    "duration": 612,
    "start_time": "2023-09-06T11:24:27.078Z"
   },
   {
    "duration": 313,
    "start_time": "2023-09-06T11:24:27.694Z"
   },
   {
    "duration": 313,
    "start_time": "2023-09-06T11:24:28.009Z"
   },
   {
    "duration": 469,
    "start_time": "2023-09-06T11:24:28.324Z"
   },
   {
    "duration": 137,
    "start_time": "2023-09-06T11:24:28.794Z"
   },
   {
    "duration": 38,
    "start_time": "2023-09-06T11:24:28.932Z"
   },
   {
    "duration": 18,
    "start_time": "2023-09-06T11:24:28.973Z"
   },
   {
    "duration": 29,
    "start_time": "2023-09-06T11:24:28.992Z"
   },
   {
    "duration": 48,
    "start_time": "2023-09-06T11:24:29.023Z"
   },
   {
    "duration": 136,
    "start_time": "2023-09-06T11:24:29.074Z"
   },
   {
    "duration": 8,
    "start_time": "2023-09-06T11:24:58.804Z"
   },
   {
    "duration": 8,
    "start_time": "2023-09-06T11:25:02.973Z"
   },
   {
    "duration": 14,
    "start_time": "2023-09-06T11:25:05.557Z"
   },
   {
    "duration": 10,
    "start_time": "2023-09-06T11:25:08.269Z"
   },
   {
    "duration": 9,
    "start_time": "2023-09-06T11:25:17.574Z"
   },
   {
    "duration": 10,
    "start_time": "2023-09-06T11:25:23.975Z"
   },
   {
    "duration": 7,
    "start_time": "2023-09-06T11:26:22.730Z"
   },
   {
    "duration": 7,
    "start_time": "2023-09-06T11:27:33.715Z"
   },
   {
    "duration": 10,
    "start_time": "2023-09-06T11:27:38.262Z"
   },
   {
    "duration": 9,
    "start_time": "2023-09-06T11:27:41.920Z"
   },
   {
    "duration": 7,
    "start_time": "2023-09-06T11:27:44.626Z"
   },
   {
    "duration": 15,
    "start_time": "2023-09-06T11:27:46.651Z"
   },
   {
    "duration": 8,
    "start_time": "2023-09-06T11:27:49.118Z"
   },
   {
    "duration": 7,
    "start_time": "2023-09-06T11:28:03.685Z"
   },
   {
    "duration": 13,
    "start_time": "2023-09-06T11:28:08.161Z"
   },
   {
    "duration": 12,
    "start_time": "2023-09-06T11:28:15.484Z"
   },
   {
    "duration": 8,
    "start_time": "2023-09-06T11:28:18.602Z"
   },
   {
    "duration": 7,
    "start_time": "2023-09-06T11:28:20.888Z"
   },
   {
    "duration": 10,
    "start_time": "2023-09-06T11:28:27.545Z"
   },
   {
    "duration": 7,
    "start_time": "2023-09-06T11:28:30.596Z"
   },
   {
    "duration": 7,
    "start_time": "2023-09-06T11:28:33.124Z"
   },
   {
    "duration": 7,
    "start_time": "2023-09-06T11:28:35.587Z"
   },
   {
    "duration": 12,
    "start_time": "2023-09-06T11:28:44.645Z"
   },
   {
    "duration": 7,
    "start_time": "2023-09-06T11:28:49.203Z"
   },
   {
    "duration": 8,
    "start_time": "2023-09-06T11:28:51.723Z"
   },
   {
    "duration": 13,
    "start_time": "2023-09-06T11:28:54.255Z"
   },
   {
    "duration": 7,
    "start_time": "2023-09-06T11:33:43.934Z"
   },
   {
    "duration": 52,
    "start_time": "2023-09-06T17:28:07.034Z"
   },
   {
    "duration": 11,
    "start_time": "2023-09-06T17:28:10.277Z"
   },
   {
    "duration": 1260,
    "start_time": "2023-09-06T17:28:16.777Z"
   },
   {
    "duration": 3,
    "start_time": "2023-09-06T17:28:18.039Z"
   },
   {
    "duration": 115,
    "start_time": "2023-09-06T17:28:18.043Z"
   },
   {
    "duration": 10,
    "start_time": "2023-09-06T17:28:18.160Z"
   },
   {
    "duration": 110,
    "start_time": "2023-09-06T17:28:18.171Z"
   },
   {
    "duration": 10,
    "start_time": "2023-09-06T17:28:18.283Z"
   },
   {
    "duration": 73,
    "start_time": "2023-09-06T17:28:18.294Z"
   },
   {
    "duration": 10,
    "start_time": "2023-09-06T17:28:18.369Z"
   },
   {
    "duration": 124,
    "start_time": "2023-09-06T17:28:18.381Z"
   },
   {
    "duration": 81,
    "start_time": "2023-09-06T17:28:18.507Z"
   },
   {
    "duration": 35,
    "start_time": "2023-09-06T17:28:18.589Z"
   },
   {
    "duration": 39,
    "start_time": "2023-09-06T17:28:18.625Z"
   },
   {
    "duration": 14,
    "start_time": "2023-09-06T17:28:18.667Z"
   },
   {
    "duration": 59,
    "start_time": "2023-09-06T17:28:18.682Z"
   },
   {
    "duration": 34,
    "start_time": "2023-09-06T17:28:18.743Z"
   },
   {
    "duration": 25,
    "start_time": "2023-09-06T17:28:18.778Z"
   },
   {
    "duration": 58,
    "start_time": "2023-09-06T17:28:18.804Z"
   },
   {
    "duration": 42,
    "start_time": "2023-09-06T17:28:18.864Z"
   },
   {
    "duration": 237,
    "start_time": "2023-09-06T17:28:18.908Z"
   },
   {
    "duration": 5,
    "start_time": "2023-09-06T17:28:19.147Z"
   },
   {
    "duration": 182,
    "start_time": "2023-09-06T17:28:19.153Z"
   },
   {
    "duration": 9,
    "start_time": "2023-09-06T17:28:19.336Z"
   },
   {
    "duration": 103,
    "start_time": "2023-09-06T17:28:19.347Z"
   },
   {
    "duration": 204,
    "start_time": "2023-09-06T17:28:19.452Z"
   },
   {
    "duration": 8,
    "start_time": "2023-09-06T17:28:19.658Z"
   },
   {
    "duration": 318,
    "start_time": "2023-09-06T17:28:19.668Z"
   },
   {
    "duration": 265,
    "start_time": "2023-09-06T17:28:19.988Z"
   },
   {
    "duration": 388,
    "start_time": "2023-09-06T17:28:20.256Z"
   },
   {
    "duration": 8,
    "start_time": "2023-09-06T17:28:20.646Z"
   },
   {
    "duration": 621,
    "start_time": "2023-09-06T17:28:20.656Z"
   },
   {
    "duration": 588,
    "start_time": "2023-09-06T17:28:21.278Z"
   },
   {
    "duration": 728,
    "start_time": "2023-09-06T17:28:21.867Z"
   },
   {
    "duration": 37,
    "start_time": "2023-09-06T17:28:22.597Z"
   },
   {
    "duration": 170,
    "start_time": "2023-09-06T17:28:22.636Z"
   },
   {
    "duration": 102,
    "start_time": "2023-09-06T17:28:22.808Z"
   },
   {
    "duration": 140,
    "start_time": "2023-09-06T17:28:22.912Z"
   },
   {
    "duration": 41,
    "start_time": "2023-09-06T17:28:23.053Z"
   },
   {
    "duration": 297,
    "start_time": "2023-09-06T17:28:23.096Z"
   },
   {
    "duration": 248,
    "start_time": "2023-09-06T17:28:23.395Z"
   },
   {
    "duration": 496,
    "start_time": "2023-09-06T17:28:23.645Z"
   },
   {
    "duration": 253,
    "start_time": "2023-09-06T17:28:24.142Z"
   },
   {
    "duration": 283,
    "start_time": "2023-09-06T17:28:24.397Z"
   },
   {
    "duration": 392,
    "start_time": "2023-09-06T17:28:24.682Z"
   },
   {
    "duration": 123,
    "start_time": "2023-09-06T17:28:25.076Z"
   },
   {
    "duration": 33,
    "start_time": "2023-09-06T17:28:25.201Z"
   },
   {
    "duration": 17,
    "start_time": "2023-09-06T17:28:25.236Z"
   },
   {
    "duration": 120,
    "start_time": "2023-09-06T17:28:25.254Z"
   },
   {
    "duration": 21,
    "start_time": "2023-09-06T17:28:25.376Z"
   },
   {
    "duration": 44,
    "start_time": "2023-09-06T17:28:25.399Z"
   },
   {
    "duration": 9,
    "start_time": "2023-09-06T17:29:21.853Z"
   },
   {
    "duration": 16,
    "start_time": "2023-09-06T17:30:29.980Z"
   },
   {
    "duration": 24,
    "start_time": "2023-09-06T17:30:43.814Z"
   },
   {
    "duration": 7,
    "start_time": "2023-09-06T17:31:46.381Z"
   },
   {
    "duration": 8,
    "start_time": "2023-09-06T17:32:34.901Z"
   },
   {
    "duration": 7,
    "start_time": "2023-09-06T17:32:43.480Z"
   },
   {
    "duration": 6,
    "start_time": "2023-09-06T17:32:46.518Z"
   },
   {
    "duration": 7,
    "start_time": "2023-09-06T17:34:53.187Z"
   },
   {
    "duration": 99,
    "start_time": "2023-09-06T17:36:18.013Z"
   },
   {
    "duration": 7,
    "start_time": "2023-09-06T17:38:15.838Z"
   },
   {
    "duration": 7,
    "start_time": "2023-09-06T17:38:57.890Z"
   },
   {
    "duration": 7,
    "start_time": "2023-09-06T17:39:01.780Z"
   },
   {
    "duration": 6,
    "start_time": "2023-09-06T17:39:04.498Z"
   },
   {
    "duration": 9,
    "start_time": "2023-09-06T18:56:59.708Z"
   },
   {
    "duration": 3,
    "start_time": "2023-09-06T18:58:44.711Z"
   },
   {
    "duration": 1142,
    "start_time": "2023-09-06T18:59:02.477Z"
   },
   {
    "duration": 2,
    "start_time": "2023-09-06T18:59:03.624Z"
   },
   {
    "duration": 41,
    "start_time": "2023-09-06T18:59:03.628Z"
   },
   {
    "duration": 11,
    "start_time": "2023-09-06T18:59:03.671Z"
   },
   {
    "duration": 40,
    "start_time": "2023-09-06T18:59:03.683Z"
   },
   {
    "duration": 10,
    "start_time": "2023-09-06T18:59:03.724Z"
   },
   {
    "duration": 31,
    "start_time": "2023-09-06T18:59:03.736Z"
   },
   {
    "duration": 10,
    "start_time": "2023-09-06T18:59:03.768Z"
   },
   {
    "duration": 15,
    "start_time": "2023-09-06T18:59:03.779Z"
   },
   {
    "duration": 8,
    "start_time": "2023-09-06T18:59:03.797Z"
   },
   {
    "duration": 9,
    "start_time": "2023-09-06T18:59:03.806Z"
   },
   {
    "duration": 7,
    "start_time": "2023-09-06T18:59:03.817Z"
   },
   {
    "duration": 4,
    "start_time": "2023-09-06T18:59:03.826Z"
   },
   {
    "duration": 14,
    "start_time": "2023-09-06T18:59:03.832Z"
   },
   {
    "duration": 8,
    "start_time": "2023-09-06T18:59:03.847Z"
   },
   {
    "duration": 12,
    "start_time": "2023-09-06T18:59:03.857Z"
   },
   {
    "duration": 6,
    "start_time": "2023-09-06T18:59:03.871Z"
   },
   {
    "duration": 6,
    "start_time": "2023-09-06T18:59:03.879Z"
   },
   {
    "duration": 213,
    "start_time": "2023-09-06T18:59:03.886Z"
   },
   {
    "duration": 5,
    "start_time": "2023-09-06T18:59:04.101Z"
   },
   {
    "duration": 118,
    "start_time": "2023-09-06T18:59:04.108Z"
   },
   {
    "duration": 8,
    "start_time": "2023-09-06T18:59:04.228Z"
   },
   {
    "duration": 22,
    "start_time": "2023-09-06T18:59:04.237Z"
   },
   {
    "duration": 154,
    "start_time": "2023-09-06T18:59:04.261Z"
   },
   {
    "duration": 13,
    "start_time": "2023-09-06T18:59:04.417Z"
   },
   {
    "duration": 233,
    "start_time": "2023-09-06T18:59:04.432Z"
   },
   {
    "duration": 236,
    "start_time": "2023-09-06T18:59:04.667Z"
   },
   {
    "duration": 309,
    "start_time": "2023-09-06T18:59:04.906Z"
   },
   {
    "duration": 14,
    "start_time": "2023-09-06T18:59:05.217Z"
   },
   {
    "duration": 570,
    "start_time": "2023-09-06T18:59:05.234Z"
   },
   {
    "duration": 630,
    "start_time": "2023-09-06T18:59:05.806Z"
   },
   {
    "duration": 663,
    "start_time": "2023-09-06T18:59:06.439Z"
   },
   {
    "duration": 23,
    "start_time": "2023-09-06T18:59:07.103Z"
   },
   {
    "duration": 26,
    "start_time": "2023-09-06T18:59:07.128Z"
   },
   {
    "duration": 48,
    "start_time": "2023-09-06T18:59:07.156Z"
   },
   {
    "duration": 40,
    "start_time": "2023-09-06T18:59:07.205Z"
   },
   {
    "duration": 19,
    "start_time": "2023-09-06T18:59:07.247Z"
   },
   {
    "duration": 249,
    "start_time": "2023-09-06T18:59:07.267Z"
   },
   {
    "duration": 234,
    "start_time": "2023-09-06T18:59:07.518Z"
   },
   {
    "duration": 467,
    "start_time": "2023-09-06T18:59:07.754Z"
   },
   {
    "duration": 247,
    "start_time": "2023-09-06T18:59:08.224Z"
   },
   {
    "duration": 247,
    "start_time": "2023-09-06T18:59:08.473Z"
   },
   {
    "duration": 392,
    "start_time": "2023-09-06T18:59:08.724Z"
   },
   {
    "duration": 109,
    "start_time": "2023-09-06T18:59:09.123Z"
   },
   {
    "duration": 20,
    "start_time": "2023-09-06T18:59:09.234Z"
   },
   {
    "duration": 63,
    "start_time": "2023-09-06T18:59:09.256Z"
   },
   {
    "duration": 138,
    "start_time": "2023-09-06T18:59:09.321Z"
   },
   {
    "duration": 161,
    "start_time": "2023-09-06T18:59:09.460Z"
   },
   {
    "duration": 112,
    "start_time": "2023-09-06T18:59:09.623Z"
   },
   {
    "duration": 69,
    "start_time": "2023-09-06T18:59:09.737Z"
   },
   {
    "duration": 141,
    "start_time": "2023-09-06T18:59:09.807Z"
   },
   {
    "duration": 3,
    "start_time": "2023-09-06T19:00:15.417Z"
   },
   {
    "duration": 1191,
    "start_time": "2023-09-06T19:00:21.638Z"
   },
   {
    "duration": 2,
    "start_time": "2023-09-06T19:00:22.831Z"
   },
   {
    "duration": 63,
    "start_time": "2023-09-06T19:00:22.834Z"
   },
   {
    "duration": 59,
    "start_time": "2023-09-06T19:00:22.899Z"
   },
   {
    "duration": 49,
    "start_time": "2023-09-06T19:00:22.960Z"
   },
   {
    "duration": 11,
    "start_time": "2023-09-06T19:00:23.011Z"
   },
   {
    "duration": 21,
    "start_time": "2023-09-06T19:00:23.024Z"
   },
   {
    "duration": 10,
    "start_time": "2023-09-06T19:00:23.046Z"
   },
   {
    "duration": 30,
    "start_time": "2023-09-06T19:00:23.058Z"
   },
   {
    "duration": 32,
    "start_time": "2023-09-06T19:00:23.090Z"
   },
   {
    "duration": 29,
    "start_time": "2023-09-06T19:00:23.123Z"
   },
   {
    "duration": 33,
    "start_time": "2023-09-06T19:00:23.153Z"
   },
   {
    "duration": 20,
    "start_time": "2023-09-06T19:00:23.187Z"
   },
   {
    "duration": 19,
    "start_time": "2023-09-06T19:00:23.210Z"
   },
   {
    "duration": 14,
    "start_time": "2023-09-06T19:00:23.231Z"
   },
   {
    "duration": 31,
    "start_time": "2023-09-06T19:00:23.246Z"
   },
   {
    "duration": 20,
    "start_time": "2023-09-06T19:00:23.278Z"
   },
   {
    "duration": 24,
    "start_time": "2023-09-06T19:00:23.300Z"
   },
   {
    "duration": 214,
    "start_time": "2023-09-06T19:00:23.326Z"
   },
   {
    "duration": 6,
    "start_time": "2023-09-06T19:00:23.542Z"
   },
   {
    "duration": 137,
    "start_time": "2023-09-06T19:00:23.550Z"
   },
   {
    "duration": 8,
    "start_time": "2023-09-06T19:00:23.689Z"
   },
   {
    "duration": 18,
    "start_time": "2023-09-06T19:00:23.699Z"
   },
   {
    "duration": 174,
    "start_time": "2023-09-06T19:00:23.718Z"
   },
   {
    "duration": 9,
    "start_time": "2023-09-06T19:00:23.894Z"
   },
   {
    "duration": 250,
    "start_time": "2023-09-06T19:00:23.905Z"
   },
   {
    "duration": 241,
    "start_time": "2023-09-06T19:00:24.157Z"
   },
   {
    "duration": 330,
    "start_time": "2023-09-06T19:00:24.400Z"
   },
   {
    "duration": 8,
    "start_time": "2023-09-06T19:00:24.733Z"
   },
   {
    "duration": 714,
    "start_time": "2023-09-06T19:00:24.743Z"
   },
   {
    "duration": 711,
    "start_time": "2023-09-06T19:00:25.459Z"
   },
   {
    "duration": 728,
    "start_time": "2023-09-06T19:00:26.172Z"
   },
   {
    "duration": 33,
    "start_time": "2023-09-06T19:00:26.902Z"
   },
   {
    "duration": 17,
    "start_time": "2023-09-06T19:00:26.937Z"
   },
   {
    "duration": 10,
    "start_time": "2023-09-06T19:00:26.956Z"
   },
   {
    "duration": 24,
    "start_time": "2023-09-06T19:00:26.967Z"
   },
   {
    "duration": 15,
    "start_time": "2023-09-06T19:00:26.993Z"
   },
   {
    "duration": 239,
    "start_time": "2023-09-06T19:00:27.025Z"
   },
   {
    "duration": 229,
    "start_time": "2023-09-06T19:00:27.265Z"
   },
   {
    "duration": 489,
    "start_time": "2023-09-06T19:00:27.496Z"
   },
   {
    "duration": 240,
    "start_time": "2023-09-06T19:00:27.988Z"
   },
   {
    "duration": 253,
    "start_time": "2023-09-06T19:00:28.230Z"
   },
   {
    "duration": 384,
    "start_time": "2023-09-06T19:00:28.485Z"
   },
   {
    "duration": 122,
    "start_time": "2023-09-06T19:00:28.871Z"
   },
   {
    "duration": 32,
    "start_time": "2023-09-06T19:00:28.995Z"
   },
   {
    "duration": 18,
    "start_time": "2023-09-06T19:00:29.029Z"
   },
   {
    "duration": 34,
    "start_time": "2023-09-06T19:00:29.049Z"
   },
   {
    "duration": 40,
    "start_time": "2023-09-06T19:00:29.085Z"
   },
   {
    "duration": 76,
    "start_time": "2023-09-06T19:00:29.126Z"
   },
   {
    "duration": 35,
    "start_time": "2023-09-06T19:00:29.204Z"
   },
   {
    "duration": 116,
    "start_time": "2023-09-06T19:00:29.241Z"
   },
   {
    "duration": 5,
    "start_time": "2023-09-06T19:01:50.078Z"
   },
   {
    "duration": 122,
    "start_time": "2023-09-06T19:47:23.421Z"
   },
   {
    "duration": 1184,
    "start_time": "2023-09-06T19:47:53.604Z"
   },
   {
    "duration": 2,
    "start_time": "2023-09-06T19:47:54.790Z"
   },
   {
    "duration": 47,
    "start_time": "2023-09-06T19:47:54.794Z"
   },
   {
    "duration": 12,
    "start_time": "2023-09-06T19:47:54.843Z"
   },
   {
    "duration": 43,
    "start_time": "2023-09-06T19:47:54.856Z"
   },
   {
    "duration": 10,
    "start_time": "2023-09-06T19:47:54.901Z"
   },
   {
    "duration": 42,
    "start_time": "2023-09-06T19:47:54.913Z"
   },
   {
    "duration": 15,
    "start_time": "2023-09-06T19:47:54.956Z"
   },
   {
    "duration": 22,
    "start_time": "2023-09-06T19:47:54.972Z"
   },
   {
    "duration": 42,
    "start_time": "2023-09-06T19:47:54.996Z"
   },
   {
    "duration": 19,
    "start_time": "2023-09-06T19:47:55.040Z"
   },
   {
    "duration": 14,
    "start_time": "2023-09-06T19:47:55.060Z"
   },
   {
    "duration": 54,
    "start_time": "2023-09-06T19:47:55.075Z"
   },
   {
    "duration": 41,
    "start_time": "2023-09-06T19:47:55.130Z"
   },
   {
    "duration": 12,
    "start_time": "2023-09-06T19:47:55.173Z"
   },
   {
    "duration": 12,
    "start_time": "2023-09-06T19:47:55.186Z"
   },
   {
    "duration": 7,
    "start_time": "2023-09-06T19:47:55.199Z"
   },
   {
    "duration": 6,
    "start_time": "2023-09-06T19:47:55.207Z"
   },
   {
    "duration": 177,
    "start_time": "2023-09-06T19:47:55.215Z"
   },
   {
    "duration": 6,
    "start_time": "2023-09-06T19:47:55.394Z"
   },
   {
    "duration": 121,
    "start_time": "2023-09-06T19:47:55.402Z"
   },
   {
    "duration": 8,
    "start_time": "2023-09-06T19:47:55.524Z"
   },
   {
    "duration": 5,
    "start_time": "2023-09-06T19:47:55.534Z"
   },
   {
    "duration": 165,
    "start_time": "2023-09-06T19:47:55.540Z"
   },
   {
    "duration": 20,
    "start_time": "2023-09-06T19:47:55.706Z"
   },
   {
    "duration": 270,
    "start_time": "2023-09-06T19:47:55.728Z"
   },
   {
    "duration": 263,
    "start_time": "2023-09-06T19:47:56.000Z"
   },
   {
    "duration": 317,
    "start_time": "2023-09-06T19:47:56.266Z"
   },
   {
    "duration": 8,
    "start_time": "2023-09-06T19:47:56.585Z"
   },
   {
    "duration": 591,
    "start_time": "2023-09-06T19:47:56.595Z"
   },
   {
    "duration": 554,
    "start_time": "2023-09-06T19:47:57.187Z"
   },
   {
    "duration": 664,
    "start_time": "2023-09-06T19:47:57.742Z"
   },
   {
    "duration": 28,
    "start_time": "2023-09-06T19:47:58.407Z"
   },
   {
    "duration": 16,
    "start_time": "2023-09-06T19:47:58.437Z"
   },
   {
    "duration": 6,
    "start_time": "2023-09-06T19:47:58.454Z"
   },
   {
    "duration": 17,
    "start_time": "2023-09-06T19:47:58.462Z"
   },
   {
    "duration": 13,
    "start_time": "2023-09-06T19:47:58.481Z"
   },
   {
    "duration": 265,
    "start_time": "2023-09-06T19:47:58.496Z"
   },
   {
    "duration": 236,
    "start_time": "2023-09-06T19:47:58.763Z"
   },
   {
    "duration": 443,
    "start_time": "2023-09-06T19:47:59.001Z"
   },
   {
    "duration": 230,
    "start_time": "2023-09-06T19:47:59.446Z"
   },
   {
    "duration": 252,
    "start_time": "2023-09-06T19:47:59.678Z"
   },
   {
    "duration": 380,
    "start_time": "2023-09-06T19:47:59.932Z"
   },
   {
    "duration": 132,
    "start_time": "2023-09-06T19:48:00.314Z"
   },
   {
    "duration": 21,
    "start_time": "2023-09-06T19:48:00.448Z"
   },
   {
    "duration": 122,
    "start_time": "2023-09-06T19:48:00.471Z"
   },
   {
    "duration": 0,
    "start_time": "2023-09-06T19:48:00.595Z"
   },
   {
    "duration": 0,
    "start_time": "2023-09-06T19:48:00.596Z"
   },
   {
    "duration": 0,
    "start_time": "2023-09-06T19:48:00.598Z"
   },
   {
    "duration": 0,
    "start_time": "2023-09-06T19:48:00.599Z"
   },
   {
    "duration": 0,
    "start_time": "2023-09-06T19:48:00.601Z"
   },
   {
    "duration": 0,
    "start_time": "2023-09-06T19:48:00.623Z"
   },
   {
    "duration": 0,
    "start_time": "2023-09-06T19:48:00.625Z"
   },
   {
    "duration": 24,
    "start_time": "2023-09-06T19:48:47.723Z"
   },
   {
    "duration": 1234,
    "start_time": "2023-09-06T19:54:27.817Z"
   },
   {
    "duration": 3,
    "start_time": "2023-09-06T19:54:29.053Z"
   },
   {
    "duration": 41,
    "start_time": "2023-09-06T19:54:29.057Z"
   },
   {
    "duration": 15,
    "start_time": "2023-09-06T19:54:29.101Z"
   },
   {
    "duration": 49,
    "start_time": "2023-09-06T19:54:29.118Z"
   },
   {
    "duration": 19,
    "start_time": "2023-09-06T19:54:29.169Z"
   },
   {
    "duration": 24,
    "start_time": "2023-09-06T19:54:29.190Z"
   },
   {
    "duration": 9,
    "start_time": "2023-09-06T19:54:29.216Z"
   },
   {
    "duration": 8,
    "start_time": "2023-09-06T19:54:29.226Z"
   },
   {
    "duration": 9,
    "start_time": "2023-09-06T19:54:29.236Z"
   },
   {
    "duration": 5,
    "start_time": "2023-09-06T19:54:29.247Z"
   },
   {
    "duration": 7,
    "start_time": "2023-09-06T19:54:29.254Z"
   },
   {
    "duration": 5,
    "start_time": "2023-09-06T19:54:29.263Z"
   },
   {
    "duration": 9,
    "start_time": "2023-09-06T19:54:29.270Z"
   },
   {
    "duration": 5,
    "start_time": "2023-09-06T19:54:29.281Z"
   },
   {
    "duration": 11,
    "start_time": "2023-09-06T19:54:29.325Z"
   },
   {
    "duration": 8,
    "start_time": "2023-09-06T19:54:29.337Z"
   },
   {
    "duration": 5,
    "start_time": "2023-09-06T19:54:29.347Z"
   },
   {
    "duration": 211,
    "start_time": "2023-09-06T19:54:29.353Z"
   },
   {
    "duration": 6,
    "start_time": "2023-09-06T19:54:29.566Z"
   },
   {
    "duration": 181,
    "start_time": "2023-09-06T19:54:29.574Z"
   },
   {
    "duration": 7,
    "start_time": "2023-09-06T19:54:29.757Z"
   },
   {
    "duration": 6,
    "start_time": "2023-09-06T19:54:29.766Z"
   },
   {
    "duration": 167,
    "start_time": "2023-09-06T19:54:29.774Z"
   },
   {
    "duration": 9,
    "start_time": "2023-09-06T19:54:29.943Z"
   },
   {
    "duration": 276,
    "start_time": "2023-09-06T19:54:29.953Z"
   },
   {
    "duration": 304,
    "start_time": "2023-09-06T19:54:30.231Z"
   },
   {
    "duration": 336,
    "start_time": "2023-09-06T19:54:30.539Z"
   },
   {
    "duration": 9,
    "start_time": "2023-09-06T19:54:30.877Z"
   },
   {
    "duration": 636,
    "start_time": "2023-09-06T19:54:30.888Z"
   },
   {
    "duration": 563,
    "start_time": "2023-09-06T19:54:31.526Z"
   },
   {
    "duration": 717,
    "start_time": "2023-09-06T19:54:32.091Z"
   },
   {
    "duration": 24,
    "start_time": "2023-09-06T19:54:32.809Z"
   },
   {
    "duration": 17,
    "start_time": "2023-09-06T19:54:32.834Z"
   },
   {
    "duration": 6,
    "start_time": "2023-09-06T19:54:32.853Z"
   },
   {
    "duration": 40,
    "start_time": "2023-09-06T19:54:32.860Z"
   },
   {
    "duration": 60,
    "start_time": "2023-09-06T19:54:32.902Z"
   },
   {
    "duration": 258,
    "start_time": "2023-09-06T19:54:32.964Z"
   },
   {
    "duration": 241,
    "start_time": "2023-09-06T19:54:33.224Z"
   },
   {
    "duration": 479,
    "start_time": "2023-09-06T19:54:33.467Z"
   },
   {
    "duration": 243,
    "start_time": "2023-09-06T19:54:33.948Z"
   },
   {
    "duration": 257,
    "start_time": "2023-09-06T19:54:34.193Z"
   },
   {
    "duration": 368,
    "start_time": "2023-09-06T19:54:34.451Z"
   },
   {
    "duration": 115,
    "start_time": "2023-09-06T19:54:34.824Z"
   },
   {
    "duration": 19,
    "start_time": "2023-09-06T19:54:34.941Z"
   },
   {
    "duration": 55,
    "start_time": "2023-09-06T19:54:34.962Z"
   },
   {
    "duration": 107,
    "start_time": "2023-09-06T19:54:35.018Z"
   },
   {
    "duration": 66,
    "start_time": "2023-09-06T19:54:35.127Z"
   },
   {
    "duration": 75,
    "start_time": "2023-09-06T19:54:35.194Z"
   },
   {
    "duration": 116,
    "start_time": "2023-09-06T19:54:35.271Z"
   },
   {
    "duration": 312,
    "start_time": "2023-09-06T19:54:35.389Z"
   },
   {
    "duration": 247,
    "start_time": "2023-09-06T19:54:35.702Z"
   },
   {
    "duration": 10,
    "start_time": "2023-09-06T19:54:35.951Z"
   },
   {
    "duration": 32952,
    "start_time": "2023-09-06T19:55:28.555Z"
   },
   {
    "duration": 34567,
    "start_time": "2023-09-06T20:01:45.943Z"
   },
   {
    "duration": 5,
    "start_time": "2023-09-06T20:03:28.416Z"
   },
   {
    "duration": 5,
    "start_time": "2023-09-06T20:09:20.188Z"
   },
   {
    "duration": 182,
    "start_time": "2023-09-06T21:16:07.916Z"
   },
   {
    "duration": 5,
    "start_time": "2023-09-06T21:19:19.627Z"
   },
   {
    "duration": 4,
    "start_time": "2023-09-06T21:19:34.443Z"
   },
   {
    "duration": 4,
    "start_time": "2023-09-06T21:20:11.175Z"
   },
   {
    "duration": 5,
    "start_time": "2023-09-06T21:20:58.147Z"
   },
   {
    "duration": 74,
    "start_time": "2023-09-07T06:23:24.601Z"
   },
   {
    "duration": 6,
    "start_time": "2023-09-07T06:23:37.960Z"
   },
   {
    "duration": 12,
    "start_time": "2023-09-07T06:23:41.735Z"
   },
   {
    "duration": 1475,
    "start_time": "2023-09-07T06:23:57.112Z"
   },
   {
    "duration": 3,
    "start_time": "2023-09-07T06:23:58.589Z"
   },
   {
    "duration": 318,
    "start_time": "2023-09-07T06:23:58.593Z"
   },
   {
    "duration": 15,
    "start_time": "2023-09-07T06:23:58.914Z"
   },
   {
    "duration": 117,
    "start_time": "2023-09-07T06:23:58.931Z"
   },
   {
    "duration": 12,
    "start_time": "2023-09-07T06:23:59.050Z"
   },
   {
    "duration": 67,
    "start_time": "2023-09-07T06:23:59.064Z"
   },
   {
    "duration": 10,
    "start_time": "2023-09-07T06:23:59.132Z"
   },
   {
    "duration": 34,
    "start_time": "2023-09-07T06:23:59.144Z"
   },
   {
    "duration": 11,
    "start_time": "2023-09-07T06:23:59.180Z"
   },
   {
    "duration": 6,
    "start_time": "2023-09-07T06:23:59.193Z"
   },
   {
    "duration": 22,
    "start_time": "2023-09-07T06:23:59.200Z"
   },
   {
    "duration": 8,
    "start_time": "2023-09-07T06:23:59.224Z"
   },
   {
    "duration": 11,
    "start_time": "2023-09-07T06:23:59.234Z"
   },
   {
    "duration": 10,
    "start_time": "2023-09-07T06:23:59.246Z"
   },
   {
    "duration": 20,
    "start_time": "2023-09-07T06:23:59.258Z"
   },
   {
    "duration": 7,
    "start_time": "2023-09-07T06:23:59.280Z"
   },
   {
    "duration": 22,
    "start_time": "2023-09-07T06:23:59.289Z"
   },
   {
    "duration": 214,
    "start_time": "2023-09-07T06:23:59.313Z"
   },
   {
    "duration": 7,
    "start_time": "2023-09-07T06:23:59.529Z"
   },
   {
    "duration": 290,
    "start_time": "2023-09-07T06:23:59.538Z"
   },
   {
    "duration": 8,
    "start_time": "2023-09-07T06:23:59.830Z"
   },
   {
    "duration": 75,
    "start_time": "2023-09-07T06:23:59.840Z"
   },
   {
    "duration": 220,
    "start_time": "2023-09-07T06:23:59.916Z"
   },
   {
    "duration": 9,
    "start_time": "2023-09-07T06:24:00.138Z"
   },
   {
    "duration": 287,
    "start_time": "2023-09-07T06:24:00.148Z"
   },
   {
    "duration": 289,
    "start_time": "2023-09-07T06:24:00.437Z"
   },
   {
    "duration": 361,
    "start_time": "2023-09-07T06:24:00.731Z"
   },
   {
    "duration": 18,
    "start_time": "2023-09-07T06:24:01.094Z"
   },
   {
    "duration": 970,
    "start_time": "2023-09-07T06:24:01.115Z"
   },
   {
    "duration": 690,
    "start_time": "2023-09-07T06:24:02.087Z"
   },
   {
    "duration": 789,
    "start_time": "2023-09-07T06:24:02.778Z"
   },
   {
    "duration": 20,
    "start_time": "2023-09-07T06:24:03.569Z"
   },
   {
    "duration": 32,
    "start_time": "2023-09-07T06:24:03.601Z"
   },
   {
    "duration": 7,
    "start_time": "2023-09-07T06:24:03.635Z"
   },
   {
    "duration": 26,
    "start_time": "2023-09-07T06:24:03.644Z"
   },
   {
    "duration": 44,
    "start_time": "2023-09-07T06:24:03.671Z"
   },
   {
    "duration": 274,
    "start_time": "2023-09-07T06:24:03.717Z"
   },
   {
    "duration": 283,
    "start_time": "2023-09-07T06:24:03.993Z"
   },
   {
    "duration": 658,
    "start_time": "2023-09-07T06:24:04.278Z"
   },
   {
    "duration": 280,
    "start_time": "2023-09-07T06:24:04.938Z"
   },
   {
    "duration": 277,
    "start_time": "2023-09-07T06:24:05.220Z"
   },
   {
    "duration": 433,
    "start_time": "2023-09-07T06:24:05.498Z"
   },
   {
    "duration": 135,
    "start_time": "2023-09-07T06:24:05.933Z"
   },
   {
    "duration": 21,
    "start_time": "2023-09-07T06:24:06.070Z"
   },
   {
    "duration": 28,
    "start_time": "2023-09-07T06:24:06.092Z"
   },
   {
    "duration": 10,
    "start_time": "2023-09-07T06:24:06.122Z"
   },
   {
    "duration": 46,
    "start_time": "2023-09-07T06:24:06.134Z"
   },
   {
    "duration": 37,
    "start_time": "2023-09-07T06:24:06.183Z"
   },
   {
    "duration": 17,
    "start_time": "2023-09-07T06:24:06.222Z"
   },
   {
    "duration": 224,
    "start_time": "2023-09-07T06:24:06.242Z"
   },
   {
    "duration": 4,
    "start_time": "2023-09-07T06:24:06.468Z"
   },
   {
    "duration": 37810,
    "start_time": "2023-09-07T06:24:06.474Z"
   },
   {
    "duration": 5,
    "start_time": "2023-09-07T06:24:44.286Z"
   },
   {
    "duration": 131,
    "start_time": "2023-09-07T06:33:34.095Z"
   },
   {
    "duration": 105,
    "start_time": "2023-09-07T06:34:04.127Z"
   },
   {
    "duration": 19,
    "start_time": "2023-09-07T06:34:15.996Z"
   },
   {
    "duration": 172,
    "start_time": "2023-09-07T06:39:54.154Z"
   },
   {
    "duration": 77,
    "start_time": "2023-09-07T06:47:35.688Z"
   },
   {
    "duration": 4,
    "start_time": "2023-09-07T06:47:49.817Z"
   },
   {
    "duration": 95,
    "start_time": "2023-09-07T06:50:25.644Z"
   },
   {
    "duration": 126,
    "start_time": "2023-09-07T06:50:57.061Z"
   },
   {
    "duration": 2111,
    "start_time": "2023-09-07T07:00:04.164Z"
   },
   {
    "duration": 5,
    "start_time": "2023-09-07T07:02:02.714Z"
   },
   {
    "duration": 4,
    "start_time": "2023-09-07T07:02:27.664Z"
   },
   {
    "duration": 110,
    "start_time": "2023-09-07T07:13:51.177Z"
   },
   {
    "duration": 107,
    "start_time": "2023-09-07T07:14:03.839Z"
   },
   {
    "duration": 131,
    "start_time": "2023-09-07T07:14:11.060Z"
   },
   {
    "duration": 4,
    "start_time": "2023-09-07T07:25:59.563Z"
   },
   {
    "duration": 1422,
    "start_time": "2023-09-07T07:31:04.317Z"
   },
   {
    "duration": 3,
    "start_time": "2023-09-07T07:31:05.742Z"
   },
   {
    "duration": 104,
    "start_time": "2023-09-07T07:31:05.748Z"
   },
   {
    "duration": 30,
    "start_time": "2023-09-07T07:31:05.855Z"
   },
   {
    "duration": 72,
    "start_time": "2023-09-07T07:31:05.888Z"
   },
   {
    "duration": 12,
    "start_time": "2023-09-07T07:31:05.962Z"
   },
   {
    "duration": 34,
    "start_time": "2023-09-07T07:31:05.976Z"
   },
   {
    "duration": 42,
    "start_time": "2023-09-07T07:31:06.013Z"
   },
   {
    "duration": 37,
    "start_time": "2023-09-07T07:31:06.057Z"
   },
   {
    "duration": 23,
    "start_time": "2023-09-07T07:31:06.097Z"
   },
   {
    "duration": 19,
    "start_time": "2023-09-07T07:31:06.121Z"
   },
   {
    "duration": 22,
    "start_time": "2023-09-07T07:31:06.142Z"
   },
   {
    "duration": 15,
    "start_time": "2023-09-07T07:31:06.166Z"
   },
   {
    "duration": 38,
    "start_time": "2023-09-07T07:31:06.182Z"
   },
   {
    "duration": 37,
    "start_time": "2023-09-07T07:31:06.222Z"
   },
   {
    "duration": 15,
    "start_time": "2023-09-07T07:31:06.261Z"
   },
   {
    "duration": 9,
    "start_time": "2023-09-07T07:31:06.278Z"
   },
   {
    "duration": 8,
    "start_time": "2023-09-07T07:31:06.289Z"
   },
   {
    "duration": 261,
    "start_time": "2023-09-07T07:31:06.299Z"
   },
   {
    "duration": 6,
    "start_time": "2023-09-07T07:31:06.562Z"
   },
   {
    "duration": 178,
    "start_time": "2023-09-07T07:31:06.570Z"
   },
   {
    "duration": 8,
    "start_time": "2023-09-07T07:31:06.750Z"
   },
   {
    "duration": 15,
    "start_time": "2023-09-07T07:31:06.759Z"
   },
   {
    "duration": 188,
    "start_time": "2023-09-07T07:31:06.775Z"
   },
   {
    "duration": 9,
    "start_time": "2023-09-07T07:31:06.965Z"
   },
   {
    "duration": 342,
    "start_time": "2023-09-07T07:31:06.976Z"
   },
   {
    "duration": 308,
    "start_time": "2023-09-07T07:31:07.320Z"
   },
   {
    "duration": 387,
    "start_time": "2023-09-07T07:31:07.632Z"
   },
   {
    "duration": 9,
    "start_time": "2023-09-07T07:31:08.021Z"
   },
   {
    "duration": 748,
    "start_time": "2023-09-07T07:31:08.032Z"
   },
   {
    "duration": 682,
    "start_time": "2023-09-07T07:31:08.782Z"
   },
   {
    "duration": 816,
    "start_time": "2023-09-07T07:31:09.467Z"
   },
   {
    "duration": 34,
    "start_time": "2023-09-07T07:31:10.284Z"
   },
   {
    "duration": 21,
    "start_time": "2023-09-07T07:31:10.320Z"
   },
   {
    "duration": 20,
    "start_time": "2023-09-07T07:31:10.342Z"
   },
   {
    "duration": 88,
    "start_time": "2023-09-07T07:31:10.363Z"
   },
   {
    "duration": 32,
    "start_time": "2023-09-07T07:31:10.453Z"
   },
   {
    "duration": 298,
    "start_time": "2023-09-07T07:31:10.486Z"
   },
   {
    "duration": 277,
    "start_time": "2023-09-07T07:31:10.786Z"
   },
   {
    "duration": 580,
    "start_time": "2023-09-07T07:31:11.065Z"
   },
   {
    "duration": 320,
    "start_time": "2023-09-07T07:31:11.647Z"
   },
   {
    "duration": 358,
    "start_time": "2023-09-07T07:31:11.969Z"
   },
   {
    "duration": 490,
    "start_time": "2023-09-07T07:31:12.329Z"
   },
   {
    "duration": 137,
    "start_time": "2023-09-07T07:31:12.821Z"
   },
   {
    "duration": 23,
    "start_time": "2023-09-07T07:31:12.960Z"
   },
   {
    "duration": 22,
    "start_time": "2023-09-07T07:31:13.003Z"
   },
   {
    "duration": 29,
    "start_time": "2023-09-07T07:31:13.027Z"
   },
   {
    "duration": 29,
    "start_time": "2023-09-07T07:31:13.057Z"
   },
   {
    "duration": 28,
    "start_time": "2023-09-07T07:31:13.088Z"
   },
   {
    "duration": 17,
    "start_time": "2023-09-07T07:31:13.118Z"
   },
   {
    "duration": 231,
    "start_time": "2023-09-07T07:31:13.137Z"
   },
   {
    "duration": 6,
    "start_time": "2023-09-07T07:31:13.370Z"
   },
   {
    "duration": 40617,
    "start_time": "2023-09-07T07:31:13.377Z"
   },
   {
    "duration": 18,
    "start_time": "2023-09-07T07:31:53.995Z"
   },
   {
    "duration": 5,
    "start_time": "2023-09-07T07:35:21.728Z"
   },
   {
    "duration": 6,
    "start_time": "2023-09-07T07:38:15.115Z"
   },
   {
    "duration": 6,
    "start_time": "2023-09-07T07:38:20.229Z"
   },
   {
    "duration": 1343,
    "start_time": "2023-09-07T07:38:57.539Z"
   },
   {
    "duration": 3,
    "start_time": "2023-09-07T07:38:58.884Z"
   },
   {
    "duration": 63,
    "start_time": "2023-09-07T07:38:58.889Z"
   },
   {
    "duration": 16,
    "start_time": "2023-09-07T07:38:58.954Z"
   },
   {
    "duration": 60,
    "start_time": "2023-09-07T07:38:58.972Z"
   },
   {
    "duration": 15,
    "start_time": "2023-09-07T07:38:59.034Z"
   },
   {
    "duration": 30,
    "start_time": "2023-09-07T07:38:59.050Z"
   },
   {
    "duration": 18,
    "start_time": "2023-09-07T07:38:59.082Z"
   },
   {
    "duration": 17,
    "start_time": "2023-09-07T07:38:59.105Z"
   },
   {
    "duration": 30,
    "start_time": "2023-09-07T07:38:59.125Z"
   },
   {
    "duration": 63,
    "start_time": "2023-09-07T07:38:59.157Z"
   },
   {
    "duration": 73,
    "start_time": "2023-09-07T07:38:59.222Z"
   },
   {
    "duration": 223,
    "start_time": "2023-09-07T07:38:59.297Z"
   },
   {
    "duration": 21,
    "start_time": "2023-09-07T07:38:59.523Z"
   },
   {
    "duration": 6,
    "start_time": "2023-09-07T07:38:59.546Z"
   },
   {
    "duration": 22,
    "start_time": "2023-09-07T07:38:59.554Z"
   },
   {
    "duration": 28,
    "start_time": "2023-09-07T07:38:59.578Z"
   },
   {
    "duration": 16,
    "start_time": "2023-09-07T07:38:59.607Z"
   },
   {
    "duration": 237,
    "start_time": "2023-09-07T07:38:59.625Z"
   },
   {
    "duration": 10,
    "start_time": "2023-09-07T07:38:59.864Z"
   },
   {
    "duration": 184,
    "start_time": "2023-09-07T07:38:59.876Z"
   },
   {
    "duration": 11,
    "start_time": "2023-09-07T07:39:00.062Z"
   },
   {
    "duration": 76,
    "start_time": "2023-09-07T07:39:00.075Z"
   },
   {
    "duration": 237,
    "start_time": "2023-09-07T07:39:00.154Z"
   },
   {
    "duration": 247,
    "start_time": "2023-09-07T07:39:00.393Z"
   },
   {
    "duration": 728,
    "start_time": "2023-09-07T07:39:00.642Z"
   },
   {
    "duration": 303,
    "start_time": "2023-09-07T07:39:01.372Z"
   },
   {
    "duration": 1137,
    "start_time": "2023-09-07T07:39:01.679Z"
   },
   {
    "duration": 11,
    "start_time": "2023-09-07T07:39:02.818Z"
   },
   {
    "duration": 1150,
    "start_time": "2023-09-07T07:39:02.830Z"
   },
   {
    "duration": 812,
    "start_time": "2023-09-07T07:39:03.981Z"
   },
   {
    "duration": 858,
    "start_time": "2023-09-07T07:39:04.795Z"
   },
   {
    "duration": 19,
    "start_time": "2023-09-07T07:39:05.655Z"
   },
   {
    "duration": 41,
    "start_time": "2023-09-07T07:39:05.676Z"
   },
   {
    "duration": 10,
    "start_time": "2023-09-07T07:39:05.719Z"
   },
   {
    "duration": 44,
    "start_time": "2023-09-07T07:39:05.731Z"
   },
   {
    "duration": 19,
    "start_time": "2023-09-07T07:39:05.777Z"
   },
   {
    "duration": 284,
    "start_time": "2023-09-07T07:39:05.798Z"
   },
   {
    "duration": 283,
    "start_time": "2023-09-07T07:39:06.084Z"
   },
   {
    "duration": 568,
    "start_time": "2023-09-07T07:39:06.369Z"
   },
   {
    "duration": 306,
    "start_time": "2023-09-07T07:39:06.939Z"
   },
   {
    "duration": 320,
    "start_time": "2023-09-07T07:39:07.247Z"
   },
   {
    "duration": 477,
    "start_time": "2023-09-07T07:39:07.569Z"
   },
   {
    "duration": 135,
    "start_time": "2023-09-07T07:39:08.049Z"
   },
   {
    "duration": 33,
    "start_time": "2023-09-07T07:39:08.186Z"
   },
   {
    "duration": 23,
    "start_time": "2023-09-07T07:39:08.221Z"
   },
   {
    "duration": 50,
    "start_time": "2023-09-07T07:39:08.246Z"
   },
   {
    "duration": 54,
    "start_time": "2023-09-07T07:39:08.297Z"
   },
   {
    "duration": 45,
    "start_time": "2023-09-07T07:39:08.353Z"
   },
   {
    "duration": 34,
    "start_time": "2023-09-07T07:39:08.400Z"
   },
   {
    "duration": 305,
    "start_time": "2023-09-07T07:39:08.436Z"
   },
   {
    "duration": 5,
    "start_time": "2023-09-07T07:39:08.743Z"
   },
   {
    "duration": 39415,
    "start_time": "2023-09-07T07:39:08.750Z"
   },
   {
    "duration": 5,
    "start_time": "2023-09-07T07:39:48.167Z"
   },
   {
    "duration": 4,
    "start_time": "2023-09-07T08:21:34.114Z"
   },
   {
    "duration": 4,
    "start_time": "2023-09-07T08:21:52.043Z"
   },
   {
    "duration": 108,
    "start_time": "2023-09-07T08:22:03.213Z"
   },
   {
    "duration": 12,
    "start_time": "2023-09-07T08:23:31.375Z"
   },
   {
    "duration": 10,
    "start_time": "2023-09-07T08:25:43.391Z"
   },
   {
    "duration": 10,
    "start_time": "2023-09-07T08:25:53.680Z"
   },
   {
    "duration": 3,
    "start_time": "2023-09-07T08:28:42.584Z"
   },
   {
    "duration": 772,
    "start_time": "2023-09-07T08:29:03.615Z"
   },
   {
    "duration": 6,
    "start_time": "2023-09-07T08:29:16.836Z"
   },
   {
    "duration": 6,
    "start_time": "2023-09-07T08:30:19.830Z"
   },
   {
    "duration": 4,
    "start_time": "2023-09-07T08:32:26.591Z"
   },
   {
    "duration": 40476,
    "start_time": "2023-09-07T08:51:00.872Z"
   },
   {
    "duration": 42035,
    "start_time": "2023-09-07T09:01:17.156Z"
   },
   {
    "duration": 38782,
    "start_time": "2023-09-07T09:57:56.353Z"
   },
   {
    "duration": 131,
    "start_time": "2023-09-07T09:58:51.659Z"
   },
   {
    "duration": 6700,
    "start_time": "2023-09-07T10:01:58.112Z"
   },
   {
    "duration": 220,
    "start_time": "2023-09-07T10:02:27.910Z"
   },
   {
    "duration": 219,
    "start_time": "2023-09-07T10:03:23.358Z"
   },
   {
    "duration": 38106,
    "start_time": "2023-09-07T10:03:41.974Z"
   },
   {
    "duration": 1350,
    "start_time": "2023-09-07T10:05:44.513Z"
   },
   {
    "duration": 3,
    "start_time": "2023-09-07T10:05:45.866Z"
   },
   {
    "duration": 58,
    "start_time": "2023-09-07T10:05:45.870Z"
   },
   {
    "duration": 13,
    "start_time": "2023-09-07T10:05:45.931Z"
   },
   {
    "duration": 67,
    "start_time": "2023-09-07T10:05:45.946Z"
   },
   {
    "duration": 12,
    "start_time": "2023-09-07T10:05:46.015Z"
   },
   {
    "duration": 54,
    "start_time": "2023-09-07T10:05:46.028Z"
   },
   {
    "duration": 10,
    "start_time": "2023-09-07T10:05:46.084Z"
   },
   {
    "duration": 19,
    "start_time": "2023-09-07T10:05:46.096Z"
   },
   {
    "duration": 7,
    "start_time": "2023-09-07T10:05:46.119Z"
   },
   {
    "duration": 14,
    "start_time": "2023-09-07T10:05:46.128Z"
   },
   {
    "duration": 11,
    "start_time": "2023-09-07T10:05:46.144Z"
   },
   {
    "duration": 10,
    "start_time": "2023-09-07T10:05:46.157Z"
   },
   {
    "duration": 9,
    "start_time": "2023-09-07T10:05:46.169Z"
   },
   {
    "duration": 13,
    "start_time": "2023-09-07T10:05:46.180Z"
   },
   {
    "duration": 27,
    "start_time": "2023-09-07T10:05:46.194Z"
   },
   {
    "duration": 16,
    "start_time": "2023-09-07T10:05:46.222Z"
   },
   {
    "duration": 25,
    "start_time": "2023-09-07T10:05:46.240Z"
   },
   {
    "duration": 230,
    "start_time": "2023-09-07T10:05:46.266Z"
   },
   {
    "duration": 10,
    "start_time": "2023-09-07T10:05:46.497Z"
   },
   {
    "duration": 142,
    "start_time": "2023-09-07T10:05:46.509Z"
   },
   {
    "duration": 9,
    "start_time": "2023-09-07T10:05:46.653Z"
   },
   {
    "duration": 24,
    "start_time": "2023-09-07T10:05:46.663Z"
   },
   {
    "duration": 228,
    "start_time": "2023-09-07T10:05:46.688Z"
   },
   {
    "duration": 9,
    "start_time": "2023-09-07T10:05:46.918Z"
   },
   {
    "duration": 292,
    "start_time": "2023-09-07T10:05:46.928Z"
   },
   {
    "duration": 295,
    "start_time": "2023-09-07T10:05:47.222Z"
   },
   {
    "duration": 348,
    "start_time": "2023-09-07T10:05:47.521Z"
   },
   {
    "duration": 9,
    "start_time": "2023-09-07T10:05:47.871Z"
   },
   {
    "duration": 680,
    "start_time": "2023-09-07T10:05:47.882Z"
   },
   {
    "duration": 653,
    "start_time": "2023-09-07T10:05:48.565Z"
   },
   {
    "duration": 774,
    "start_time": "2023-09-07T10:05:49.219Z"
   },
   {
    "duration": 28,
    "start_time": "2023-09-07T10:05:49.995Z"
   },
   {
    "duration": 59,
    "start_time": "2023-09-07T10:05:50.024Z"
   },
   {
    "duration": 33,
    "start_time": "2023-09-07T10:05:50.084Z"
   },
   {
    "duration": 59,
    "start_time": "2023-09-07T10:05:50.119Z"
   },
   {
    "duration": 20,
    "start_time": "2023-09-07T10:05:50.180Z"
   },
   {
    "duration": 275,
    "start_time": "2023-09-07T10:05:50.213Z"
   },
   {
    "duration": 275,
    "start_time": "2023-09-07T10:05:50.490Z"
   },
   {
    "duration": 541,
    "start_time": "2023-09-07T10:05:50.767Z"
   },
   {
    "duration": 287,
    "start_time": "2023-09-07T10:05:51.314Z"
   },
   {
    "duration": 294,
    "start_time": "2023-09-07T10:05:51.603Z"
   },
   {
    "duration": 440,
    "start_time": "2023-09-07T10:05:51.901Z"
   },
   {
    "duration": 136,
    "start_time": "2023-09-07T10:05:52.343Z"
   },
   {
    "duration": 44,
    "start_time": "2023-09-07T10:05:52.481Z"
   },
   {
    "duration": 30,
    "start_time": "2023-09-07T10:05:52.527Z"
   },
   {
    "duration": 16,
    "start_time": "2023-09-07T10:05:52.559Z"
   },
   {
    "duration": 28,
    "start_time": "2023-09-07T10:05:52.577Z"
   },
   {
    "duration": 19,
    "start_time": "2023-09-07T10:05:52.607Z"
   },
   {
    "duration": 21,
    "start_time": "2023-09-07T10:05:52.627Z"
   },
   {
    "duration": 820,
    "start_time": "2023-09-07T10:05:52.650Z"
   },
   {
    "duration": 5,
    "start_time": "2023-09-07T10:05:53.472Z"
   },
   {
    "duration": 209,
    "start_time": "2023-09-07T10:05:53.478Z"
   },
   {
    "duration": 5,
    "start_time": "2023-09-07T10:05:53.689Z"
   },
   {
    "duration": 6542,
    "start_time": "2023-09-07T10:06:39.523Z"
   },
   {
    "duration": 37980,
    "start_time": "2023-09-07T10:07:07.281Z"
   },
   {
    "duration": 1637,
    "start_time": "2023-09-07T10:08:16.437Z"
   },
   {
    "duration": 3,
    "start_time": "2023-09-07T10:08:18.076Z"
   },
   {
    "duration": 74,
    "start_time": "2023-09-07T10:08:18.081Z"
   },
   {
    "duration": 15,
    "start_time": "2023-09-07T10:08:18.158Z"
   },
   {
    "duration": 67,
    "start_time": "2023-09-07T10:08:18.175Z"
   },
   {
    "duration": 13,
    "start_time": "2023-09-07T10:08:18.243Z"
   },
   {
    "duration": 36,
    "start_time": "2023-09-07T10:08:18.257Z"
   },
   {
    "duration": 22,
    "start_time": "2023-09-07T10:08:18.295Z"
   },
   {
    "duration": 24,
    "start_time": "2023-09-07T10:08:18.321Z"
   },
   {
    "duration": 23,
    "start_time": "2023-09-07T10:08:18.348Z"
   },
   {
    "duration": 11,
    "start_time": "2023-09-07T10:08:18.372Z"
   },
   {
    "duration": 19,
    "start_time": "2023-09-07T10:08:18.385Z"
   },
   {
    "duration": 14,
    "start_time": "2023-09-07T10:08:18.406Z"
   },
   {
    "duration": 24,
    "start_time": "2023-09-07T10:08:18.422Z"
   },
   {
    "duration": 5,
    "start_time": "2023-09-07T10:08:18.448Z"
   },
   {
    "duration": 32,
    "start_time": "2023-09-07T10:08:18.455Z"
   },
   {
    "duration": 18,
    "start_time": "2023-09-07T10:08:18.489Z"
   },
   {
    "duration": 20,
    "start_time": "2023-09-07T10:08:18.513Z"
   },
   {
    "duration": 269,
    "start_time": "2023-09-07T10:08:18.536Z"
   },
   {
    "duration": 7,
    "start_time": "2023-09-07T10:08:18.808Z"
   },
   {
    "duration": 149,
    "start_time": "2023-09-07T10:08:18.817Z"
   },
   {
    "duration": 10,
    "start_time": "2023-09-07T10:08:18.967Z"
   },
   {
    "duration": 28,
    "start_time": "2023-09-07T10:08:18.979Z"
   },
   {
    "duration": 191,
    "start_time": "2023-09-07T10:08:19.013Z"
   },
   {
    "duration": 22,
    "start_time": "2023-09-07T10:08:19.211Z"
   },
   {
    "duration": 296,
    "start_time": "2023-09-07T10:08:19.235Z"
   },
   {
    "duration": 311,
    "start_time": "2023-09-07T10:08:19.534Z"
   },
   {
    "duration": 398,
    "start_time": "2023-09-07T10:08:19.849Z"
   },
   {
    "duration": 10,
    "start_time": "2023-09-07T10:08:20.249Z"
   },
   {
    "duration": 753,
    "start_time": "2023-09-07T10:08:20.260Z"
   },
   {
    "duration": 696,
    "start_time": "2023-09-07T10:08:21.014Z"
   },
   {
    "duration": 858,
    "start_time": "2023-09-07T10:08:21.715Z"
   },
   {
    "duration": 31,
    "start_time": "2023-09-07T10:08:22.575Z"
   },
   {
    "duration": 30,
    "start_time": "2023-09-07T10:08:22.608Z"
   },
   {
    "duration": 7,
    "start_time": "2023-09-07T10:08:22.640Z"
   },
   {
    "duration": 41,
    "start_time": "2023-09-07T10:08:22.649Z"
   },
   {
    "duration": 41,
    "start_time": "2023-09-07T10:08:22.691Z"
   },
   {
    "duration": 296,
    "start_time": "2023-09-07T10:08:22.734Z"
   },
   {
    "duration": 302,
    "start_time": "2023-09-07T10:08:23.033Z"
   },
   {
    "duration": 592,
    "start_time": "2023-09-07T10:08:23.337Z"
   },
   {
    "duration": 306,
    "start_time": "2023-09-07T10:08:23.931Z"
   },
   {
    "duration": 332,
    "start_time": "2023-09-07T10:08:24.239Z"
   },
   {
    "duration": 565,
    "start_time": "2023-09-07T10:08:24.573Z"
   },
   {
    "duration": 140,
    "start_time": "2023-09-07T10:08:25.140Z"
   },
   {
    "duration": 33,
    "start_time": "2023-09-07T10:08:25.282Z"
   },
   {
    "duration": 20,
    "start_time": "2023-09-07T10:08:25.318Z"
   },
   {
    "duration": 11,
    "start_time": "2023-09-07T10:08:25.340Z"
   },
   {
    "duration": 28,
    "start_time": "2023-09-07T10:08:25.353Z"
   },
   {
    "duration": 17,
    "start_time": "2023-09-07T10:08:25.408Z"
   },
   {
    "duration": 14,
    "start_time": "2023-09-07T10:08:25.429Z"
   },
   {
    "duration": 271,
    "start_time": "2023-09-07T10:08:25.445Z"
   },
   {
    "duration": 7,
    "start_time": "2023-09-07T10:08:25.719Z"
   },
   {
    "duration": 221,
    "start_time": "2023-09-07T10:08:25.728Z"
   },
   {
    "duration": 5,
    "start_time": "2023-09-07T10:08:25.950Z"
   },
   {
    "duration": 1302,
    "start_time": "2023-09-07T10:11:54.952Z"
   },
   {
    "duration": 3,
    "start_time": "2023-09-07T10:11:56.257Z"
   },
   {
    "duration": 85,
    "start_time": "2023-09-07T10:11:56.262Z"
   },
   {
    "duration": 13,
    "start_time": "2023-09-07T10:11:56.350Z"
   },
   {
    "duration": 114,
    "start_time": "2023-09-07T10:11:56.365Z"
   },
   {
    "duration": 61,
    "start_time": "2023-09-07T10:11:56.481Z"
   },
   {
    "duration": 46,
    "start_time": "2023-09-07T10:11:56.545Z"
   },
   {
    "duration": 18,
    "start_time": "2023-09-07T10:11:56.592Z"
   },
   {
    "duration": 31,
    "start_time": "2023-09-07T10:11:56.614Z"
   },
   {
    "duration": 19,
    "start_time": "2023-09-07T10:11:56.650Z"
   },
   {
    "duration": 23,
    "start_time": "2023-09-07T10:11:56.671Z"
   },
   {
    "duration": 25,
    "start_time": "2023-09-07T10:11:56.696Z"
   },
   {
    "duration": 41,
    "start_time": "2023-09-07T10:11:56.723Z"
   },
   {
    "duration": 17,
    "start_time": "2023-09-07T10:11:56.766Z"
   },
   {
    "duration": 24,
    "start_time": "2023-09-07T10:11:56.785Z"
   },
   {
    "duration": 32,
    "start_time": "2023-09-07T10:11:56.818Z"
   },
   {
    "duration": 12,
    "start_time": "2023-09-07T10:11:56.852Z"
   },
   {
    "duration": 24,
    "start_time": "2023-09-07T10:11:56.866Z"
   },
   {
    "duration": 245,
    "start_time": "2023-09-07T10:11:56.892Z"
   },
   {
    "duration": 6,
    "start_time": "2023-09-07T10:11:57.139Z"
   },
   {
    "duration": 171,
    "start_time": "2023-09-07T10:11:57.147Z"
   },
   {
    "duration": 16,
    "start_time": "2023-09-07T10:11:57.320Z"
   },
   {
    "duration": 13,
    "start_time": "2023-09-07T10:11:57.338Z"
   },
   {
    "duration": 203,
    "start_time": "2023-09-07T10:11:57.353Z"
   },
   {
    "duration": 9,
    "start_time": "2023-09-07T10:11:57.558Z"
   },
   {
    "duration": 321,
    "start_time": "2023-09-07T10:11:57.569Z"
   },
   {
    "duration": 296,
    "start_time": "2023-09-07T10:11:57.891Z"
   },
   {
    "duration": 397,
    "start_time": "2023-09-07T10:11:58.191Z"
   },
   {
    "duration": 24,
    "start_time": "2023-09-07T10:11:58.590Z"
   },
   {
    "duration": 722,
    "start_time": "2023-09-07T10:11:58.615Z"
   },
   {
    "duration": 665,
    "start_time": "2023-09-07T10:11:59.339Z"
   },
   {
    "duration": 770,
    "start_time": "2023-09-07T10:12:00.006Z"
   },
   {
    "duration": 38,
    "start_time": "2023-09-07T10:12:00.778Z"
   },
   {
    "duration": 213,
    "start_time": "2023-09-07T10:12:00.818Z"
   },
   {
    "duration": 46,
    "start_time": "2023-09-07T10:12:01.033Z"
   },
   {
    "duration": 71,
    "start_time": "2023-09-07T10:12:01.081Z"
   },
   {
    "duration": 46,
    "start_time": "2023-09-07T10:12:01.154Z"
   },
   {
    "duration": 335,
    "start_time": "2023-09-07T10:12:01.204Z"
   },
   {
    "duration": 295,
    "start_time": "2023-09-07T10:12:01.541Z"
   },
   {
    "duration": 608,
    "start_time": "2023-09-07T10:12:01.838Z"
   },
   {
    "duration": 363,
    "start_time": "2023-09-07T10:12:02.448Z"
   },
   {
    "duration": 299,
    "start_time": "2023-09-07T10:12:02.813Z"
   },
   {
    "duration": 473,
    "start_time": "2023-09-07T10:12:03.114Z"
   },
   {
    "duration": 137,
    "start_time": "2023-09-07T10:12:03.589Z"
   },
   {
    "duration": 20,
    "start_time": "2023-09-07T10:12:03.728Z"
   },
   {
    "duration": 15,
    "start_time": "2023-09-07T10:12:03.750Z"
   },
   {
    "duration": 40,
    "start_time": "2023-09-07T10:12:03.767Z"
   },
   {
    "duration": 22,
    "start_time": "2023-09-07T10:12:03.809Z"
   },
   {
    "duration": 32,
    "start_time": "2023-09-07T10:12:03.833Z"
   },
   {
    "duration": 13,
    "start_time": "2023-09-07T10:12:03.867Z"
   },
   {
    "duration": 272,
    "start_time": "2023-09-07T10:12:03.881Z"
   },
   {
    "duration": 5,
    "start_time": "2023-09-07T10:12:04.155Z"
   },
   {
    "duration": 247,
    "start_time": "2023-09-07T10:12:04.162Z"
   },
   {
    "duration": 8,
    "start_time": "2023-09-07T10:12:04.411Z"
   },
   {
    "duration": 1376,
    "start_time": "2023-09-07T10:12:44.274Z"
   },
   {
    "duration": 3,
    "start_time": "2023-09-07T10:12:45.653Z"
   },
   {
    "duration": 91,
    "start_time": "2023-09-07T10:12:45.657Z"
   },
   {
    "duration": 13,
    "start_time": "2023-09-07T10:12:45.750Z"
   },
   {
    "duration": 44,
    "start_time": "2023-09-07T10:12:45.765Z"
   },
   {
    "duration": 18,
    "start_time": "2023-09-07T10:12:45.811Z"
   },
   {
    "duration": 40,
    "start_time": "2023-09-07T10:12:45.832Z"
   },
   {
    "duration": 13,
    "start_time": "2023-09-07T10:12:45.874Z"
   },
   {
    "duration": 18,
    "start_time": "2023-09-07T10:12:45.889Z"
   },
   {
    "duration": 14,
    "start_time": "2023-09-07T10:12:45.921Z"
   },
   {
    "duration": 9,
    "start_time": "2023-09-07T10:12:45.937Z"
   },
   {
    "duration": 19,
    "start_time": "2023-09-07T10:12:45.949Z"
   },
   {
    "duration": 11,
    "start_time": "2023-09-07T10:12:45.970Z"
   },
   {
    "duration": 25,
    "start_time": "2023-09-07T10:12:45.983Z"
   },
   {
    "duration": 12,
    "start_time": "2023-09-07T10:12:46.011Z"
   },
   {
    "duration": 30,
    "start_time": "2023-09-07T10:12:46.025Z"
   },
   {
    "duration": 18,
    "start_time": "2023-09-07T10:12:46.057Z"
   },
   {
    "duration": 54,
    "start_time": "2023-09-07T10:12:46.077Z"
   },
   {
    "duration": 246,
    "start_time": "2023-09-07T10:12:46.133Z"
   },
   {
    "duration": 7,
    "start_time": "2023-09-07T10:12:46.381Z"
   },
   {
    "duration": 159,
    "start_time": "2023-09-07T10:12:46.389Z"
   },
   {
    "duration": 10,
    "start_time": "2023-09-07T10:12:46.550Z"
   },
   {
    "duration": 7,
    "start_time": "2023-09-07T10:12:46.562Z"
   },
   {
    "duration": 223,
    "start_time": "2023-09-07T10:12:46.572Z"
   },
   {
    "duration": 22,
    "start_time": "2023-09-07T10:12:46.797Z"
   },
   {
    "duration": 319,
    "start_time": "2023-09-07T10:12:46.826Z"
   },
   {
    "duration": 348,
    "start_time": "2023-09-07T10:12:47.147Z"
   },
   {
    "duration": 400,
    "start_time": "2023-09-07T10:12:47.504Z"
   },
   {
    "duration": 23,
    "start_time": "2023-09-07T10:12:47.909Z"
   },
   {
    "duration": 718,
    "start_time": "2023-09-07T10:12:47.934Z"
   },
   {
    "duration": 713,
    "start_time": "2023-09-07T10:12:48.655Z"
   },
   {
    "duration": 913,
    "start_time": "2023-09-07T10:12:49.371Z"
   },
   {
    "duration": 34,
    "start_time": "2023-09-07T10:12:50.287Z"
   },
   {
    "duration": 23,
    "start_time": "2023-09-07T10:12:50.323Z"
   },
   {
    "duration": 12,
    "start_time": "2023-09-07T10:12:50.348Z"
   },
   {
    "duration": 59,
    "start_time": "2023-09-07T10:12:50.362Z"
   },
   {
    "duration": 24,
    "start_time": "2023-09-07T10:12:50.423Z"
   },
   {
    "duration": 322,
    "start_time": "2023-09-07T10:12:50.449Z"
   },
   {
    "duration": 305,
    "start_time": "2023-09-07T10:12:50.772Z"
   },
   {
    "duration": 594,
    "start_time": "2023-09-07T10:12:51.078Z"
   },
   {
    "duration": 320,
    "start_time": "2023-09-07T10:12:51.674Z"
   },
   {
    "duration": 334,
    "start_time": "2023-09-07T10:12:51.995Z"
   },
   {
    "duration": 464,
    "start_time": "2023-09-07T10:12:52.331Z"
   },
   {
    "duration": 146,
    "start_time": "2023-09-07T10:12:52.797Z"
   },
   {
    "duration": 22,
    "start_time": "2023-09-07T10:12:52.945Z"
   },
   {
    "duration": 33,
    "start_time": "2023-09-07T10:12:52.969Z"
   },
   {
    "duration": 17,
    "start_time": "2023-09-07T10:12:53.005Z"
   },
   {
    "duration": 35,
    "start_time": "2023-09-07T10:12:53.024Z"
   },
   {
    "duration": 25,
    "start_time": "2023-09-07T10:12:53.061Z"
   },
   {
    "duration": 31,
    "start_time": "2023-09-07T10:12:53.087Z"
   },
   {
    "duration": 277,
    "start_time": "2023-09-07T10:12:53.120Z"
   },
   {
    "duration": 13,
    "start_time": "2023-09-07T10:12:53.398Z"
   },
   {
    "duration": 333,
    "start_time": "2023-09-07T10:12:53.413Z"
   },
   {
    "duration": 5,
    "start_time": "2023-09-07T10:12:53.747Z"
   },
   {
    "duration": 1703,
    "start_time": "2023-09-07T10:13:42.548Z"
   },
   {
    "duration": 3,
    "start_time": "2023-09-07T10:13:44.254Z"
   },
   {
    "duration": 73,
    "start_time": "2023-09-07T10:13:44.258Z"
   },
   {
    "duration": 13,
    "start_time": "2023-09-07T10:13:44.339Z"
   },
   {
    "duration": 45,
    "start_time": "2023-09-07T10:13:44.354Z"
   },
   {
    "duration": 17,
    "start_time": "2023-09-07T10:13:44.401Z"
   },
   {
    "duration": 24,
    "start_time": "2023-09-07T10:13:44.421Z"
   },
   {
    "duration": 11,
    "start_time": "2023-09-07T10:13:44.447Z"
   },
   {
    "duration": 25,
    "start_time": "2023-09-07T10:13:44.459Z"
   },
   {
    "duration": 35,
    "start_time": "2023-09-07T10:13:44.487Z"
   },
   {
    "duration": 37,
    "start_time": "2023-09-07T10:13:44.527Z"
   },
   {
    "duration": 12,
    "start_time": "2023-09-07T10:13:44.575Z"
   },
   {
    "duration": 13,
    "start_time": "2023-09-07T10:13:44.589Z"
   },
   {
    "duration": 38,
    "start_time": "2023-09-07T10:13:44.606Z"
   },
   {
    "duration": 6,
    "start_time": "2023-09-07T10:13:44.646Z"
   },
   {
    "duration": 23,
    "start_time": "2023-09-07T10:13:44.654Z"
   },
   {
    "duration": 9,
    "start_time": "2023-09-07T10:13:44.679Z"
   },
   {
    "duration": 9,
    "start_time": "2023-09-07T10:13:44.690Z"
   },
   {
    "duration": 279,
    "start_time": "2023-09-07T10:13:44.701Z"
   },
   {
    "duration": 7,
    "start_time": "2023-09-07T10:13:44.982Z"
   },
   {
    "duration": 177,
    "start_time": "2023-09-07T10:13:45.001Z"
   },
   {
    "duration": 8,
    "start_time": "2023-09-07T10:13:45.180Z"
   },
   {
    "duration": 34,
    "start_time": "2023-09-07T10:13:45.189Z"
   },
   {
    "duration": 197,
    "start_time": "2023-09-07T10:13:45.225Z"
   },
   {
    "duration": 12,
    "start_time": "2023-09-07T10:13:45.429Z"
   },
   {
    "duration": 286,
    "start_time": "2023-09-07T10:13:45.443Z"
   },
   {
    "duration": 299,
    "start_time": "2023-09-07T10:13:45.731Z"
   },
   {
    "duration": 378,
    "start_time": "2023-09-07T10:13:46.034Z"
   },
   {
    "duration": 12,
    "start_time": "2023-09-07T10:13:46.414Z"
   },
   {
    "duration": 729,
    "start_time": "2023-09-07T10:13:46.429Z"
   },
   {
    "duration": 709,
    "start_time": "2023-09-07T10:13:47.161Z"
   },
   {
    "duration": 874,
    "start_time": "2023-09-07T10:13:47.872Z"
   },
   {
    "duration": 21,
    "start_time": "2023-09-07T10:13:48.748Z"
   },
   {
    "duration": 43,
    "start_time": "2023-09-07T10:13:48.771Z"
   },
   {
    "duration": 12,
    "start_time": "2023-09-07T10:13:48.816Z"
   },
   {
    "duration": 40,
    "start_time": "2023-09-07T10:13:48.830Z"
   },
   {
    "duration": 17,
    "start_time": "2023-09-07T10:13:48.873Z"
   },
   {
    "duration": 307,
    "start_time": "2023-09-07T10:13:48.892Z"
   },
   {
    "duration": 290,
    "start_time": "2023-09-07T10:13:49.205Z"
   },
   {
    "duration": 570,
    "start_time": "2023-09-07T10:13:49.501Z"
   },
   {
    "duration": 304,
    "start_time": "2023-09-07T10:13:50.073Z"
   },
   {
    "duration": 313,
    "start_time": "2023-09-07T10:13:50.379Z"
   },
   {
    "duration": 427,
    "start_time": "2023-09-07T10:13:50.705Z"
   },
   {
    "duration": 132,
    "start_time": "2023-09-07T10:13:51.133Z"
   },
   {
    "duration": 39,
    "start_time": "2023-09-07T10:13:51.267Z"
   },
   {
    "duration": 33,
    "start_time": "2023-09-07T10:13:51.308Z"
   },
   {
    "duration": 223,
    "start_time": "2023-09-07T10:13:51.343Z"
   },
   {
    "duration": 53,
    "start_time": "2023-09-07T10:13:51.569Z"
   },
   {
    "duration": 36,
    "start_time": "2023-09-07T10:13:51.625Z"
   },
   {
    "duration": 16,
    "start_time": "2023-09-07T10:13:51.662Z"
   },
   {
    "duration": 252,
    "start_time": "2023-09-07T10:13:51.680Z"
   },
   {
    "duration": 6,
    "start_time": "2023-09-07T10:13:51.933Z"
   },
   {
    "duration": 215,
    "start_time": "2023-09-07T10:13:51.940Z"
   },
   {
    "duration": 4,
    "start_time": "2023-09-07T10:13:52.157Z"
   },
   {
    "duration": 1475,
    "start_time": "2023-09-07T10:14:17.893Z"
   },
   {
    "duration": 4,
    "start_time": "2023-09-07T10:14:19.370Z"
   },
   {
    "duration": 69,
    "start_time": "2023-09-07T10:14:19.375Z"
   },
   {
    "duration": 13,
    "start_time": "2023-09-07T10:14:19.447Z"
   },
   {
    "duration": 74,
    "start_time": "2023-09-07T10:14:19.463Z"
   },
   {
    "duration": 15,
    "start_time": "2023-09-07T10:14:19.540Z"
   },
   {
    "duration": 32,
    "start_time": "2023-09-07T10:14:19.557Z"
   },
   {
    "duration": 26,
    "start_time": "2023-09-07T10:14:19.591Z"
   },
   {
    "duration": 27,
    "start_time": "2023-09-07T10:14:19.619Z"
   },
   {
    "duration": 14,
    "start_time": "2023-09-07T10:14:19.649Z"
   },
   {
    "duration": 47,
    "start_time": "2023-09-07T10:14:19.665Z"
   },
   {
    "duration": 46,
    "start_time": "2023-09-07T10:14:19.718Z"
   },
   {
    "duration": 26,
    "start_time": "2023-09-07T10:14:19.766Z"
   },
   {
    "duration": 29,
    "start_time": "2023-09-07T10:14:19.794Z"
   },
   {
    "duration": 42,
    "start_time": "2023-09-07T10:14:19.824Z"
   },
   {
    "duration": 33,
    "start_time": "2023-09-07T10:14:19.868Z"
   },
   {
    "duration": 35,
    "start_time": "2023-09-07T10:14:19.903Z"
   },
   {
    "duration": 107,
    "start_time": "2023-09-07T10:14:19.940Z"
   },
   {
    "duration": 277,
    "start_time": "2023-09-07T10:14:20.050Z"
   },
   {
    "duration": 7,
    "start_time": "2023-09-07T10:14:20.329Z"
   },
   {
    "duration": 162,
    "start_time": "2023-09-07T10:14:20.337Z"
   },
   {
    "duration": 17,
    "start_time": "2023-09-07T10:14:20.501Z"
   },
   {
    "duration": 28,
    "start_time": "2023-09-07T10:14:20.520Z"
   },
   {
    "duration": 204,
    "start_time": "2023-09-07T10:14:20.551Z"
   },
   {
    "duration": 10,
    "start_time": "2023-09-07T10:14:20.757Z"
   },
   {
    "duration": 308,
    "start_time": "2023-09-07T10:14:20.769Z"
   },
   {
    "duration": 316,
    "start_time": "2023-09-07T10:14:21.079Z"
   },
   {
    "duration": 415,
    "start_time": "2023-09-07T10:14:21.404Z"
   },
   {
    "duration": 10,
    "start_time": "2023-09-07T10:14:21.821Z"
   },
   {
    "duration": 708,
    "start_time": "2023-09-07T10:14:21.832Z"
   },
   {
    "duration": 692,
    "start_time": "2023-09-07T10:14:22.543Z"
   },
   {
    "duration": 855,
    "start_time": "2023-09-07T10:14:23.237Z"
   },
   {
    "duration": 32,
    "start_time": "2023-09-07T10:14:24.094Z"
   },
   {
    "duration": 41,
    "start_time": "2023-09-07T10:14:24.128Z"
   },
   {
    "duration": 8,
    "start_time": "2023-09-07T10:14:24.171Z"
   },
   {
    "duration": 57,
    "start_time": "2023-09-07T10:14:24.181Z"
   },
   {
    "duration": 19,
    "start_time": "2023-09-07T10:14:24.240Z"
   },
   {
    "duration": 300,
    "start_time": "2023-09-07T10:14:24.261Z"
   },
   {
    "duration": 336,
    "start_time": "2023-09-07T10:14:24.563Z"
   },
   {
    "duration": 586,
    "start_time": "2023-09-07T10:14:24.901Z"
   },
   {
    "duration": 330,
    "start_time": "2023-09-07T10:14:25.490Z"
   },
   {
    "duration": 302,
    "start_time": "2023-09-07T10:14:25.822Z"
   },
   {
    "duration": 437,
    "start_time": "2023-09-07T10:14:26.126Z"
   },
   {
    "duration": 155,
    "start_time": "2023-09-07T10:14:26.565Z"
   },
   {
    "duration": 22,
    "start_time": "2023-09-07T10:14:26.722Z"
   },
   {
    "duration": 23,
    "start_time": "2023-09-07T10:14:26.746Z"
   },
   {
    "duration": 36,
    "start_time": "2023-09-07T10:14:26.771Z"
   },
   {
    "duration": 33,
    "start_time": "2023-09-07T10:14:26.812Z"
   },
   {
    "duration": 13,
    "start_time": "2023-09-07T10:14:26.848Z"
   },
   {
    "duration": 5,
    "start_time": "2023-09-07T10:14:26.862Z"
   },
   {
    "duration": 257,
    "start_time": "2023-09-07T10:14:26.869Z"
   },
   {
    "duration": 6,
    "start_time": "2023-09-07T10:14:27.128Z"
   },
   {
    "duration": 219,
    "start_time": "2023-09-07T10:14:27.136Z"
   },
   {
    "duration": 6,
    "start_time": "2023-09-07T10:14:27.357Z"
   },
   {
    "duration": 1398,
    "start_time": "2023-09-07T10:15:13.013Z"
   },
   {
    "duration": 3,
    "start_time": "2023-09-07T10:15:14.414Z"
   },
   {
    "duration": 69,
    "start_time": "2023-09-07T10:15:14.419Z"
   },
   {
    "duration": 21,
    "start_time": "2023-09-07T10:15:14.491Z"
   },
   {
    "duration": 212,
    "start_time": "2023-09-07T10:15:14.520Z"
   },
   {
    "duration": 16,
    "start_time": "2023-09-07T10:15:14.734Z"
   },
   {
    "duration": 57,
    "start_time": "2023-09-07T10:15:14.752Z"
   },
   {
    "duration": 51,
    "start_time": "2023-09-07T10:15:14.811Z"
   },
   {
    "duration": 43,
    "start_time": "2023-09-07T10:15:14.864Z"
   },
   {
    "duration": 37,
    "start_time": "2023-09-07T10:15:14.910Z"
   },
   {
    "duration": 21,
    "start_time": "2023-09-07T10:15:14.949Z"
   },
   {
    "duration": 82,
    "start_time": "2023-09-07T10:15:14.972Z"
   },
   {
    "duration": 25,
    "start_time": "2023-09-07T10:15:15.056Z"
   },
   {
    "duration": 50,
    "start_time": "2023-09-07T10:15:15.083Z"
   },
   {
    "duration": 42,
    "start_time": "2023-09-07T10:15:15.135Z"
   },
   {
    "duration": 67,
    "start_time": "2023-09-07T10:15:15.179Z"
   },
   {
    "duration": 69,
    "start_time": "2023-09-07T10:15:15.248Z"
   },
   {
    "duration": 50,
    "start_time": "2023-09-07T10:15:15.319Z"
   },
   {
    "duration": 273,
    "start_time": "2023-09-07T10:15:15.372Z"
   },
   {
    "duration": 7,
    "start_time": "2023-09-07T10:15:15.647Z"
   },
   {
    "duration": 173,
    "start_time": "2023-09-07T10:15:15.656Z"
   },
   {
    "duration": 11,
    "start_time": "2023-09-07T10:15:15.831Z"
   },
   {
    "duration": 11,
    "start_time": "2023-09-07T10:15:15.843Z"
   },
   {
    "duration": 208,
    "start_time": "2023-09-07T10:15:15.855Z"
   },
   {
    "duration": 12,
    "start_time": "2023-09-07T10:15:16.065Z"
   },
   {
    "duration": 341,
    "start_time": "2023-09-07T10:15:16.079Z"
   },
   {
    "duration": 319,
    "start_time": "2023-09-07T10:15:16.422Z"
   },
   {
    "duration": 380,
    "start_time": "2023-09-07T10:15:16.744Z"
   },
   {
    "duration": 10,
    "start_time": "2023-09-07T10:15:17.125Z"
   },
   {
    "duration": 680,
    "start_time": "2023-09-07T10:15:17.136Z"
   },
   {
    "duration": 658,
    "start_time": "2023-09-07T10:15:17.818Z"
   },
   {
    "duration": 839,
    "start_time": "2023-09-07T10:15:18.478Z"
   },
   {
    "duration": 21,
    "start_time": "2023-09-07T10:15:19.318Z"
   },
   {
    "duration": 21,
    "start_time": "2023-09-07T10:15:19.341Z"
   },
   {
    "duration": 8,
    "start_time": "2023-09-07T10:15:19.364Z"
   },
   {
    "duration": 47,
    "start_time": "2023-09-07T10:15:19.374Z"
   },
   {
    "duration": 23,
    "start_time": "2023-09-07T10:15:19.424Z"
   },
   {
    "duration": 306,
    "start_time": "2023-09-07T10:15:19.449Z"
   },
   {
    "duration": 287,
    "start_time": "2023-09-07T10:15:19.757Z"
   },
   {
    "duration": 674,
    "start_time": "2023-09-07T10:15:20.046Z"
   },
   {
    "duration": 297,
    "start_time": "2023-09-07T10:15:20.722Z"
   },
   {
    "duration": 311,
    "start_time": "2023-09-07T10:15:21.021Z"
   },
   {
    "duration": 439,
    "start_time": "2023-09-07T10:15:21.334Z"
   },
   {
    "duration": 135,
    "start_time": "2023-09-07T10:15:21.774Z"
   },
   {
    "duration": 28,
    "start_time": "2023-09-07T10:15:21.911Z"
   },
   {
    "duration": 22,
    "start_time": "2023-09-07T10:15:21.941Z"
   },
   {
    "duration": 48,
    "start_time": "2023-09-07T10:15:21.965Z"
   },
   {
    "duration": 40,
    "start_time": "2023-09-07T10:15:22.018Z"
   },
   {
    "duration": 31,
    "start_time": "2023-09-07T10:15:22.060Z"
   },
   {
    "duration": 42,
    "start_time": "2023-09-07T10:15:22.093Z"
   },
   {
    "duration": 272,
    "start_time": "2023-09-07T10:15:22.137Z"
   },
   {
    "duration": 7,
    "start_time": "2023-09-07T10:15:22.413Z"
   },
   {
    "duration": 215,
    "start_time": "2023-09-07T10:15:22.422Z"
   },
   {
    "duration": 5,
    "start_time": "2023-09-07T10:15:22.639Z"
   },
   {
    "duration": 1382,
    "start_time": "2023-09-07T10:15:59.683Z"
   },
   {
    "duration": 3,
    "start_time": "2023-09-07T10:16:01.067Z"
   },
   {
    "duration": 68,
    "start_time": "2023-09-07T10:16:01.072Z"
   },
   {
    "duration": 14,
    "start_time": "2023-09-07T10:16:01.142Z"
   },
   {
    "duration": 91,
    "start_time": "2023-09-07T10:16:01.158Z"
   },
   {
    "duration": 24,
    "start_time": "2023-09-07T10:16:01.251Z"
   },
   {
    "duration": 57,
    "start_time": "2023-09-07T10:16:01.278Z"
   },
   {
    "duration": 52,
    "start_time": "2023-09-07T10:16:01.336Z"
   },
   {
    "duration": 64,
    "start_time": "2023-09-07T10:16:01.390Z"
   },
   {
    "duration": 65,
    "start_time": "2023-09-07T10:16:01.456Z"
   },
   {
    "duration": 93,
    "start_time": "2023-09-07T10:16:01.523Z"
   },
   {
    "duration": 52,
    "start_time": "2023-09-07T10:16:01.618Z"
   },
   {
    "duration": 47,
    "start_time": "2023-09-07T10:16:01.672Z"
   },
   {
    "duration": 62,
    "start_time": "2023-09-07T10:16:01.721Z"
   },
   {
    "duration": 32,
    "start_time": "2023-09-07T10:16:01.786Z"
   },
   {
    "duration": 96,
    "start_time": "2023-09-07T10:16:01.820Z"
   },
   {
    "duration": 115,
    "start_time": "2023-09-07T10:16:01.918Z"
   },
   {
    "duration": 159,
    "start_time": "2023-09-07T10:16:02.035Z"
   },
   {
    "duration": 479,
    "start_time": "2023-09-07T10:16:02.196Z"
   },
   {
    "duration": 29,
    "start_time": "2023-09-07T10:16:02.677Z"
   },
   {
    "duration": 254,
    "start_time": "2023-09-07T10:16:02.713Z"
   },
   {
    "duration": 8,
    "start_time": "2023-09-07T10:16:02.969Z"
   },
   {
    "duration": 19,
    "start_time": "2023-09-07T10:16:02.979Z"
   },
   {
    "duration": 181,
    "start_time": "2023-09-07T10:16:03.001Z"
   },
   {
    "duration": 25,
    "start_time": "2023-09-07T10:16:03.184Z"
   },
   {
    "duration": 269,
    "start_time": "2023-09-07T10:16:03.215Z"
   },
   {
    "duration": 291,
    "start_time": "2023-09-07T10:16:03.487Z"
   },
   {
    "duration": 371,
    "start_time": "2023-09-07T10:16:03.781Z"
   },
   {
    "duration": 9,
    "start_time": "2023-09-07T10:16:04.154Z"
   },
   {
    "duration": 794,
    "start_time": "2023-09-07T10:16:04.165Z"
   },
   {
    "duration": 678,
    "start_time": "2023-09-07T10:16:04.961Z"
   },
   {
    "duration": 827,
    "start_time": "2023-09-07T10:16:05.641Z"
   },
   {
    "duration": 19,
    "start_time": "2023-09-07T10:16:06.470Z"
   },
   {
    "duration": 43,
    "start_time": "2023-09-07T10:16:06.490Z"
   },
   {
    "duration": 85,
    "start_time": "2023-09-07T10:16:06.536Z"
   },
   {
    "duration": 96,
    "start_time": "2023-09-07T10:16:06.622Z"
   },
   {
    "duration": 25,
    "start_time": "2023-09-07T10:16:06.720Z"
   },
   {
    "duration": 288,
    "start_time": "2023-09-07T10:16:06.747Z"
   },
   {
    "duration": 286,
    "start_time": "2023-09-07T10:16:07.037Z"
   },
   {
    "duration": 540,
    "start_time": "2023-09-07T10:16:07.325Z"
   },
   {
    "duration": 285,
    "start_time": "2023-09-07T10:16:07.866Z"
   },
   {
    "duration": 519,
    "start_time": "2023-09-07T10:16:08.152Z"
   },
   {
    "duration": 472,
    "start_time": "2023-09-07T10:16:08.673Z"
   },
   {
    "duration": 136,
    "start_time": "2023-09-07T10:16:09.147Z"
   },
   {
    "duration": 42,
    "start_time": "2023-09-07T10:16:09.285Z"
   },
   {
    "duration": 392,
    "start_time": "2023-09-07T10:16:09.330Z"
   },
   {
    "duration": 138,
    "start_time": "2023-09-07T10:16:09.724Z"
   },
   {
    "duration": 29,
    "start_time": "2023-09-07T10:16:09.864Z"
   },
   {
    "duration": 70,
    "start_time": "2023-09-07T10:16:09.895Z"
   },
   {
    "duration": 19,
    "start_time": "2023-09-07T10:16:09.967Z"
   },
   {
    "duration": 280,
    "start_time": "2023-09-07T10:16:09.988Z"
   },
   {
    "duration": 5,
    "start_time": "2023-09-07T10:16:10.270Z"
   },
   {
    "duration": 247,
    "start_time": "2023-09-07T10:16:10.278Z"
   },
   {
    "duration": 7,
    "start_time": "2023-09-07T10:16:10.527Z"
   },
   {
    "duration": 1344,
    "start_time": "2023-09-07T10:17:12.192Z"
   },
   {
    "duration": 3,
    "start_time": "2023-09-07T10:17:13.538Z"
   },
   {
    "duration": 46,
    "start_time": "2023-09-07T10:17:13.543Z"
   },
   {
    "duration": 22,
    "start_time": "2023-09-07T10:17:13.591Z"
   },
   {
    "duration": 37,
    "start_time": "2023-09-07T10:17:13.615Z"
   },
   {
    "duration": 10,
    "start_time": "2023-09-07T10:17:13.654Z"
   },
   {
    "duration": 26,
    "start_time": "2023-09-07T10:17:13.666Z"
   },
   {
    "duration": 23,
    "start_time": "2023-09-07T10:17:13.694Z"
   },
   {
    "duration": 12,
    "start_time": "2023-09-07T10:17:13.720Z"
   },
   {
    "duration": 11,
    "start_time": "2023-09-07T10:17:13.734Z"
   },
   {
    "duration": 7,
    "start_time": "2023-09-07T10:17:13.747Z"
   },
   {
    "duration": 11,
    "start_time": "2023-09-07T10:17:13.755Z"
   },
   {
    "duration": 6,
    "start_time": "2023-09-07T10:17:13.768Z"
   },
   {
    "duration": 19,
    "start_time": "2023-09-07T10:17:13.776Z"
   },
   {
    "duration": 19,
    "start_time": "2023-09-07T10:17:13.796Z"
   },
   {
    "duration": 38,
    "start_time": "2023-09-07T10:17:13.816Z"
   },
   {
    "duration": 42,
    "start_time": "2023-09-07T10:17:13.856Z"
   },
   {
    "duration": 67,
    "start_time": "2023-09-07T10:17:13.899Z"
   },
   {
    "duration": 328,
    "start_time": "2023-09-07T10:17:13.968Z"
   },
   {
    "duration": 14,
    "start_time": "2023-09-07T10:17:14.301Z"
   },
   {
    "duration": 162,
    "start_time": "2023-09-07T10:17:14.316Z"
   },
   {
    "duration": 9,
    "start_time": "2023-09-07T10:17:14.481Z"
   },
   {
    "duration": 51,
    "start_time": "2023-09-07T10:17:14.491Z"
   },
   {
    "duration": 257,
    "start_time": "2023-09-07T10:17:14.545Z"
   },
   {
    "duration": 11,
    "start_time": "2023-09-07T10:17:14.813Z"
   },
   {
    "duration": 287,
    "start_time": "2023-09-07T10:17:14.826Z"
   },
   {
    "duration": 268,
    "start_time": "2023-09-07T10:17:15.115Z"
   },
   {
    "duration": 369,
    "start_time": "2023-09-07T10:17:15.386Z"
   },
   {
    "duration": 9,
    "start_time": "2023-09-07T10:17:15.757Z"
   },
   {
    "duration": 659,
    "start_time": "2023-09-07T10:17:15.767Z"
   },
   {
    "duration": 630,
    "start_time": "2023-09-07T10:17:16.428Z"
   },
   {
    "duration": 771,
    "start_time": "2023-09-07T10:17:17.059Z"
   },
   {
    "duration": 20,
    "start_time": "2023-09-07T10:17:17.832Z"
   },
   {
    "duration": 36,
    "start_time": "2023-09-07T10:17:17.855Z"
   },
   {
    "duration": 46,
    "start_time": "2023-09-07T10:17:17.893Z"
   },
   {
    "duration": 50,
    "start_time": "2023-09-07T10:17:17.940Z"
   },
   {
    "duration": 32,
    "start_time": "2023-09-07T10:17:17.992Z"
   },
   {
    "duration": 293,
    "start_time": "2023-09-07T10:17:18.026Z"
   },
   {
    "duration": 282,
    "start_time": "2023-09-07T10:17:18.321Z"
   },
   {
    "duration": 550,
    "start_time": "2023-09-07T10:17:18.606Z"
   },
   {
    "duration": 312,
    "start_time": "2023-09-07T10:17:19.158Z"
   },
   {
    "duration": 293,
    "start_time": "2023-09-07T10:17:19.472Z"
   },
   {
    "duration": 429,
    "start_time": "2023-09-07T10:17:19.767Z"
   },
   {
    "duration": 131,
    "start_time": "2023-09-07T10:17:20.200Z"
   },
   {
    "duration": 20,
    "start_time": "2023-09-07T10:17:20.333Z"
   },
   {
    "duration": 28,
    "start_time": "2023-09-07T10:17:20.355Z"
   },
   {
    "duration": 50,
    "start_time": "2023-09-07T10:17:20.385Z"
   },
   {
    "duration": 73,
    "start_time": "2023-09-07T10:17:20.437Z"
   },
   {
    "duration": 47,
    "start_time": "2023-09-07T10:17:20.513Z"
   },
   {
    "duration": 50,
    "start_time": "2023-09-07T10:17:20.562Z"
   },
   {
    "duration": 256,
    "start_time": "2023-09-07T10:17:20.613Z"
   },
   {
    "duration": 6,
    "start_time": "2023-09-07T10:17:20.871Z"
   },
   {
    "duration": 226,
    "start_time": "2023-09-07T10:17:20.879Z"
   },
   {
    "duration": 5,
    "start_time": "2023-09-07T10:17:21.114Z"
   },
   {
    "duration": 1318,
    "start_time": "2023-09-07T10:18:12.215Z"
   },
   {
    "duration": 3,
    "start_time": "2023-09-07T10:18:13.535Z"
   },
   {
    "duration": 42,
    "start_time": "2023-09-07T10:18:13.540Z"
   },
   {
    "duration": 12,
    "start_time": "2023-09-07T10:18:13.584Z"
   },
   {
    "duration": 45,
    "start_time": "2023-09-07T10:18:13.599Z"
   },
   {
    "duration": 15,
    "start_time": "2023-09-07T10:18:13.646Z"
   },
   {
    "duration": 23,
    "start_time": "2023-09-07T10:18:13.663Z"
   },
   {
    "duration": 12,
    "start_time": "2023-09-07T10:18:13.687Z"
   },
   {
    "duration": 18,
    "start_time": "2023-09-07T10:18:13.701Z"
   },
   {
    "duration": 11,
    "start_time": "2023-09-07T10:18:13.721Z"
   },
   {
    "duration": 18,
    "start_time": "2023-09-07T10:18:13.733Z"
   },
   {
    "duration": 18,
    "start_time": "2023-09-07T10:18:13.753Z"
   },
   {
    "duration": 140,
    "start_time": "2023-09-07T10:18:13.773Z"
   },
   {
    "duration": 110,
    "start_time": "2023-09-07T10:18:13.916Z"
   },
   {
    "duration": 196,
    "start_time": "2023-09-07T10:18:14.028Z"
   },
   {
    "duration": 48,
    "start_time": "2023-09-07T10:18:14.226Z"
   },
   {
    "duration": 19,
    "start_time": "2023-09-07T10:18:14.275Z"
   },
   {
    "duration": 21,
    "start_time": "2023-09-07T10:18:14.296Z"
   },
   {
    "duration": 225,
    "start_time": "2023-09-07T10:18:14.319Z"
   },
   {
    "duration": 8,
    "start_time": "2023-09-07T10:18:14.546Z"
   },
   {
    "duration": 170,
    "start_time": "2023-09-07T10:18:14.555Z"
   },
   {
    "duration": 11,
    "start_time": "2023-09-07T10:18:14.727Z"
   },
   {
    "duration": 31,
    "start_time": "2023-09-07T10:18:14.740Z"
   },
   {
    "duration": 213,
    "start_time": "2023-09-07T10:18:14.772Z"
   },
   {
    "duration": 20,
    "start_time": "2023-09-07T10:18:14.986Z"
   },
   {
    "duration": 355,
    "start_time": "2023-09-07T10:18:15.008Z"
   },
   {
    "duration": 277,
    "start_time": "2023-09-07T10:18:15.365Z"
   },
   {
    "duration": 353,
    "start_time": "2023-09-07T10:18:15.644Z"
   },
   {
    "duration": 12,
    "start_time": "2023-09-07T10:18:16.002Z"
   },
   {
    "duration": 684,
    "start_time": "2023-09-07T10:18:16.017Z"
   },
   {
    "duration": 655,
    "start_time": "2023-09-07T10:18:16.703Z"
   },
   {
    "duration": 786,
    "start_time": "2023-09-07T10:18:17.360Z"
   },
   {
    "duration": 19,
    "start_time": "2023-09-07T10:18:18.147Z"
   },
   {
    "duration": 46,
    "start_time": "2023-09-07T10:18:18.168Z"
   },
   {
    "duration": 8,
    "start_time": "2023-09-07T10:18:18.216Z"
   },
   {
    "duration": 39,
    "start_time": "2023-09-07T10:18:18.225Z"
   },
   {
    "duration": 63,
    "start_time": "2023-09-07T10:18:18.266Z"
   },
   {
    "duration": 289,
    "start_time": "2023-09-07T10:18:18.331Z"
   },
   {
    "duration": 296,
    "start_time": "2023-09-07T10:18:18.622Z"
   },
   {
    "duration": 528,
    "start_time": "2023-09-07T10:18:18.920Z"
   },
   {
    "duration": 283,
    "start_time": "2023-09-07T10:18:19.453Z"
   },
   {
    "duration": 294,
    "start_time": "2023-09-07T10:18:19.738Z"
   },
   {
    "duration": 433,
    "start_time": "2023-09-07T10:18:20.034Z"
   },
   {
    "duration": 134,
    "start_time": "2023-09-07T10:18:20.469Z"
   },
   {
    "duration": 26,
    "start_time": "2023-09-07T10:18:20.605Z"
   },
   {
    "duration": 17,
    "start_time": "2023-09-07T10:18:20.633Z"
   },
   {
    "duration": 31,
    "start_time": "2023-09-07T10:18:20.651Z"
   },
   {
    "duration": 45,
    "start_time": "2023-09-07T10:18:20.684Z"
   },
   {
    "duration": 41,
    "start_time": "2023-09-07T10:18:20.731Z"
   },
   {
    "duration": 52,
    "start_time": "2023-09-07T10:18:20.774Z"
   },
   {
    "duration": 296,
    "start_time": "2023-09-07T10:18:20.828Z"
   },
   {
    "duration": 5,
    "start_time": "2023-09-07T10:18:21.126Z"
   },
   {
    "duration": 240,
    "start_time": "2023-09-07T10:18:21.132Z"
   },
   {
    "duration": 5,
    "start_time": "2023-09-07T10:18:21.374Z"
   },
   {
    "duration": 1384,
    "start_time": "2023-09-07T10:19:23.440Z"
   },
   {
    "duration": 8,
    "start_time": "2023-09-07T10:19:24.827Z"
   },
   {
    "duration": 53,
    "start_time": "2023-09-07T10:19:24.837Z"
   },
   {
    "duration": 31,
    "start_time": "2023-09-07T10:19:24.893Z"
   },
   {
    "duration": 42,
    "start_time": "2023-09-07T10:19:24.927Z"
   },
   {
    "duration": 13,
    "start_time": "2023-09-07T10:19:24.971Z"
   },
   {
    "duration": 43,
    "start_time": "2023-09-07T10:19:24.986Z"
   },
   {
    "duration": 11,
    "start_time": "2023-09-07T10:19:25.030Z"
   },
   {
    "duration": 26,
    "start_time": "2023-09-07T10:19:25.043Z"
   },
   {
    "duration": 27,
    "start_time": "2023-09-07T10:19:25.072Z"
   },
   {
    "duration": 12,
    "start_time": "2023-09-07T10:19:25.105Z"
   },
   {
    "duration": 11,
    "start_time": "2023-09-07T10:19:25.119Z"
   },
   {
    "duration": 5,
    "start_time": "2023-09-07T10:19:25.132Z"
   },
   {
    "duration": 9,
    "start_time": "2023-09-07T10:19:25.139Z"
   },
   {
    "duration": 11,
    "start_time": "2023-09-07T10:19:25.150Z"
   },
   {
    "duration": 22,
    "start_time": "2023-09-07T10:19:25.163Z"
   },
   {
    "duration": 13,
    "start_time": "2023-09-07T10:19:25.202Z"
   },
   {
    "duration": 31,
    "start_time": "2023-09-07T10:19:25.216Z"
   },
   {
    "duration": 238,
    "start_time": "2023-09-07T10:19:25.250Z"
   },
   {
    "duration": 21,
    "start_time": "2023-09-07T10:19:25.490Z"
   },
   {
    "duration": 138,
    "start_time": "2023-09-07T10:19:25.516Z"
   },
   {
    "duration": 8,
    "start_time": "2023-09-07T10:19:25.656Z"
   },
   {
    "duration": 14,
    "start_time": "2023-09-07T10:19:25.666Z"
   },
   {
    "duration": 211,
    "start_time": "2023-09-07T10:19:25.682Z"
   },
   {
    "duration": 13,
    "start_time": "2023-09-07T10:19:25.895Z"
   },
   {
    "duration": 321,
    "start_time": "2023-09-07T10:19:25.913Z"
   },
   {
    "duration": 304,
    "start_time": "2023-09-07T10:19:26.237Z"
   },
   {
    "duration": 386,
    "start_time": "2023-09-07T10:19:26.546Z"
   },
   {
    "duration": 10,
    "start_time": "2023-09-07T10:19:26.934Z"
   },
   {
    "duration": 723,
    "start_time": "2023-09-07T10:19:26.945Z"
   },
   {
    "duration": 694,
    "start_time": "2023-09-07T10:19:27.670Z"
   },
   {
    "duration": 914,
    "start_time": "2023-09-07T10:19:28.366Z"
   },
   {
    "duration": 41,
    "start_time": "2023-09-07T10:19:29.282Z"
   },
   {
    "duration": 25,
    "start_time": "2023-09-07T10:19:29.325Z"
   },
   {
    "duration": 8,
    "start_time": "2023-09-07T10:19:29.351Z"
   },
   {
    "duration": 52,
    "start_time": "2023-09-07T10:19:29.361Z"
   },
   {
    "duration": 22,
    "start_time": "2023-09-07T10:19:29.415Z"
   },
   {
    "duration": 314,
    "start_time": "2023-09-07T10:19:29.438Z"
   },
   {
    "duration": 301,
    "start_time": "2023-09-07T10:19:29.755Z"
   },
   {
    "duration": 584,
    "start_time": "2023-09-07T10:19:30.058Z"
   },
   {
    "duration": 303,
    "start_time": "2023-09-07T10:19:30.644Z"
   },
   {
    "duration": 321,
    "start_time": "2023-09-07T10:19:30.948Z"
   },
   {
    "duration": 486,
    "start_time": "2023-09-07T10:19:31.271Z"
   },
   {
    "duration": 157,
    "start_time": "2023-09-07T10:19:31.759Z"
   },
   {
    "duration": 30,
    "start_time": "2023-09-07T10:19:31.920Z"
   },
   {
    "duration": 31,
    "start_time": "2023-09-07T10:19:31.953Z"
   },
   {
    "duration": 59,
    "start_time": "2023-09-07T10:19:31.986Z"
   },
   {
    "duration": 74,
    "start_time": "2023-09-07T10:19:32.047Z"
   },
   {
    "duration": 191,
    "start_time": "2023-09-07T10:19:32.124Z"
   },
   {
    "duration": 18,
    "start_time": "2023-09-07T10:19:32.320Z"
   },
   {
    "duration": 211,
    "start_time": "2023-09-07T10:19:32.340Z"
   },
   {
    "duration": 6,
    "start_time": "2023-09-07T10:19:32.553Z"
   },
   {
    "duration": 114,
    "start_time": "2023-09-07T10:19:32.560Z"
   },
   {
    "duration": 5,
    "start_time": "2023-09-07T10:19:32.676Z"
   },
   {
    "duration": 1363,
    "start_time": "2023-09-07T10:19:57.959Z"
   },
   {
    "duration": 3,
    "start_time": "2023-09-07T10:19:59.326Z"
   },
   {
    "duration": 92,
    "start_time": "2023-09-07T10:19:59.331Z"
   },
   {
    "duration": 33,
    "start_time": "2023-09-07T10:19:59.425Z"
   },
   {
    "duration": 97,
    "start_time": "2023-09-07T10:19:59.461Z"
   },
   {
    "duration": 113,
    "start_time": "2023-09-07T10:19:59.560Z"
   },
   {
    "duration": 172,
    "start_time": "2023-09-07T10:19:59.676Z"
   },
   {
    "duration": 40,
    "start_time": "2023-09-07T10:19:59.850Z"
   },
   {
    "duration": 82,
    "start_time": "2023-09-07T10:19:59.892Z"
   },
   {
    "duration": 158,
    "start_time": "2023-09-07T10:19:59.976Z"
   },
   {
    "duration": 195,
    "start_time": "2023-09-07T10:20:00.136Z"
   },
   {
    "duration": 293,
    "start_time": "2023-09-07T10:20:00.333Z"
   },
   {
    "duration": 106,
    "start_time": "2023-09-07T10:20:00.628Z"
   },
   {
    "duration": 85,
    "start_time": "2023-09-07T10:20:00.738Z"
   },
   {
    "duration": 188,
    "start_time": "2023-09-07T10:20:00.826Z"
   },
   {
    "duration": 102,
    "start_time": "2023-09-07T10:20:01.015Z"
   },
   {
    "duration": 91,
    "start_time": "2023-09-07T10:20:01.119Z"
   },
   {
    "duration": 73,
    "start_time": "2023-09-07T10:20:01.212Z"
   },
   {
    "duration": 438,
    "start_time": "2023-09-07T10:20:01.286Z"
   },
   {
    "duration": 8,
    "start_time": "2023-09-07T10:20:01.730Z"
   },
   {
    "duration": 636,
    "start_time": "2023-09-07T10:20:01.740Z"
   },
   {
    "duration": 56,
    "start_time": "2023-09-07T10:20:02.378Z"
   },
   {
    "duration": 215,
    "start_time": "2023-09-07T10:20:02.436Z"
   },
   {
    "duration": 584,
    "start_time": "2023-09-07T10:20:02.653Z"
   },
   {
    "duration": 9,
    "start_time": "2023-09-07T10:20:03.240Z"
   },
   {
    "duration": 456,
    "start_time": "2023-09-07T10:20:03.251Z"
   },
   {
    "duration": 325,
    "start_time": "2023-09-07T10:20:03.709Z"
   },
   {
    "duration": 540,
    "start_time": "2023-09-07T10:20:04.035Z"
   },
   {
    "duration": 27,
    "start_time": "2023-09-07T10:20:04.578Z"
   },
   {
    "duration": 984,
    "start_time": "2023-09-07T10:20:04.607Z"
   },
   {
    "duration": 698,
    "start_time": "2023-09-07T10:20:05.592Z"
   },
   {
    "duration": 834,
    "start_time": "2023-09-07T10:20:06.291Z"
   },
   {
    "duration": 20,
    "start_time": "2023-09-07T10:20:07.132Z"
   },
   {
    "duration": 267,
    "start_time": "2023-09-07T10:20:07.154Z"
   },
   {
    "duration": 67,
    "start_time": "2023-09-07T10:20:07.424Z"
   },
   {
    "duration": 85,
    "start_time": "2023-09-07T10:20:07.493Z"
   },
   {
    "duration": 19,
    "start_time": "2023-09-07T10:20:07.580Z"
   },
   {
    "duration": 347,
    "start_time": "2023-09-07T10:20:07.601Z"
   },
   {
    "duration": 294,
    "start_time": "2023-09-07T10:20:07.950Z"
   },
   {
    "duration": 618,
    "start_time": "2023-09-07T10:20:08.246Z"
   },
   {
    "duration": 298,
    "start_time": "2023-09-07T10:20:08.868Z"
   },
   {
    "duration": 818,
    "start_time": "2023-09-07T10:20:09.168Z"
   },
   {
    "duration": 483,
    "start_time": "2023-09-07T10:20:09.988Z"
   },
   {
    "duration": 141,
    "start_time": "2023-09-07T10:20:10.473Z"
   },
   {
    "duration": 836,
    "start_time": "2023-09-07T10:20:10.617Z"
   },
   {
    "duration": 119,
    "start_time": "2023-09-07T10:20:11.454Z"
   },
   {
    "duration": 53,
    "start_time": "2023-09-07T10:20:11.574Z"
   },
   {
    "duration": 43,
    "start_time": "2023-09-07T10:20:11.629Z"
   },
   {
    "duration": 72,
    "start_time": "2023-09-07T10:20:11.674Z"
   },
   {
    "duration": 89,
    "start_time": "2023-09-07T10:20:11.747Z"
   },
   {
    "duration": 531,
    "start_time": "2023-09-07T10:20:11.838Z"
   },
   {
    "duration": 249,
    "start_time": "2023-09-07T10:20:12.371Z"
   },
   {
    "duration": 468,
    "start_time": "2023-09-07T10:20:12.623Z"
   },
   {
    "duration": 10,
    "start_time": "2023-09-07T10:20:13.093Z"
   },
   {
    "duration": 1323,
    "start_time": "2023-09-07T10:21:09.817Z"
   },
   {
    "duration": 4,
    "start_time": "2023-09-07T10:21:11.143Z"
   },
   {
    "duration": 65,
    "start_time": "2023-09-07T10:21:11.149Z"
   },
   {
    "duration": 13,
    "start_time": "2023-09-07T10:21:11.217Z"
   },
   {
    "duration": 42,
    "start_time": "2023-09-07T10:21:11.233Z"
   },
   {
    "duration": 14,
    "start_time": "2023-09-07T10:21:11.276Z"
   },
   {
    "duration": 26,
    "start_time": "2023-09-07T10:21:11.303Z"
   },
   {
    "duration": 10,
    "start_time": "2023-09-07T10:21:11.331Z"
   },
   {
    "duration": 13,
    "start_time": "2023-09-07T10:21:11.343Z"
   },
   {
    "duration": 18,
    "start_time": "2023-09-07T10:21:11.357Z"
   },
   {
    "duration": 8,
    "start_time": "2023-09-07T10:21:11.377Z"
   },
   {
    "duration": 29,
    "start_time": "2023-09-07T10:21:11.386Z"
   },
   {
    "duration": 9,
    "start_time": "2023-09-07T10:21:11.417Z"
   },
   {
    "duration": 29,
    "start_time": "2023-09-07T10:21:11.429Z"
   },
   {
    "duration": 8,
    "start_time": "2023-09-07T10:21:11.460Z"
   },
   {
    "duration": 15,
    "start_time": "2023-09-07T10:21:11.469Z"
   },
   {
    "duration": 11,
    "start_time": "2023-09-07T10:21:11.486Z"
   },
   {
    "duration": 10,
    "start_time": "2023-09-07T10:21:11.499Z"
   },
   {
    "duration": 237,
    "start_time": "2023-09-07T10:21:11.512Z"
   },
   {
    "duration": 7,
    "start_time": "2023-09-07T10:21:11.750Z"
   },
   {
    "duration": 170,
    "start_time": "2023-09-07T10:21:11.759Z"
   },
   {
    "duration": 11,
    "start_time": "2023-09-07T10:21:11.931Z"
   },
   {
    "duration": 10,
    "start_time": "2023-09-07T10:21:11.943Z"
   },
   {
    "duration": 202,
    "start_time": "2023-09-07T10:21:11.955Z"
   },
   {
    "duration": 9,
    "start_time": "2023-09-07T10:21:12.159Z"
   },
   {
    "duration": 342,
    "start_time": "2023-09-07T10:21:12.170Z"
   },
   {
    "duration": 303,
    "start_time": "2023-09-07T10:21:12.514Z"
   },
   {
    "duration": 361,
    "start_time": "2023-09-07T10:21:12.820Z"
   },
   {
    "duration": 19,
    "start_time": "2023-09-07T10:21:13.183Z"
   },
   {
    "duration": 774,
    "start_time": "2023-09-07T10:21:13.205Z"
   },
   {
    "duration": 689,
    "start_time": "2023-09-07T10:21:13.981Z"
   },
   {
    "duration": 860,
    "start_time": "2023-09-07T10:21:14.673Z"
   },
   {
    "duration": 19,
    "start_time": "2023-09-07T10:21:15.535Z"
   },
   {
    "duration": 25,
    "start_time": "2023-09-07T10:21:15.555Z"
   },
   {
    "duration": 28,
    "start_time": "2023-09-07T10:21:15.582Z"
   },
   {
    "duration": 19,
    "start_time": "2023-09-07T10:21:15.618Z"
   },
   {
    "duration": 37,
    "start_time": "2023-09-07T10:21:15.639Z"
   },
   {
    "duration": 276,
    "start_time": "2023-09-07T10:21:15.678Z"
   },
   {
    "duration": 287,
    "start_time": "2023-09-07T10:21:15.956Z"
   },
   {
    "duration": 569,
    "start_time": "2023-09-07T10:21:16.245Z"
   },
   {
    "duration": 306,
    "start_time": "2023-09-07T10:21:16.818Z"
   },
   {
    "duration": 314,
    "start_time": "2023-09-07T10:21:17.126Z"
   },
   {
    "duration": 465,
    "start_time": "2023-09-07T10:21:17.441Z"
   },
   {
    "duration": 139,
    "start_time": "2023-09-07T10:21:17.919Z"
   },
   {
    "duration": 23,
    "start_time": "2023-09-07T10:21:18.060Z"
   },
   {
    "duration": 34,
    "start_time": "2023-09-07T10:21:18.085Z"
   },
   {
    "duration": 57,
    "start_time": "2023-09-07T10:21:18.121Z"
   },
   {
    "duration": 36,
    "start_time": "2023-09-07T10:21:18.180Z"
   },
   {
    "duration": 36,
    "start_time": "2023-09-07T10:21:18.218Z"
   },
   {
    "duration": 11,
    "start_time": "2023-09-07T10:21:18.256Z"
   },
   {
    "duration": 313,
    "start_time": "2023-09-07T10:21:18.270Z"
   },
   {
    "duration": 15,
    "start_time": "2023-09-07T10:21:18.586Z"
   },
   {
    "duration": 239,
    "start_time": "2023-09-07T10:21:18.611Z"
   },
   {
    "duration": 5,
    "start_time": "2023-09-07T10:21:18.853Z"
   },
   {
    "duration": 1367,
    "start_time": "2023-09-07T10:31:33.235Z"
   },
   {
    "duration": 47,
    "start_time": "2023-09-07T10:31:34.610Z"
   },
   {
    "duration": 166,
    "start_time": "2023-09-07T10:31:34.659Z"
   },
   {
    "duration": 77,
    "start_time": "2023-09-07T10:31:34.827Z"
   },
   {
    "duration": 15,
    "start_time": "2023-09-07T10:31:34.907Z"
   },
   {
    "duration": 33,
    "start_time": "2023-09-07T10:31:34.925Z"
   },
   {
    "duration": 18,
    "start_time": "2023-09-07T10:31:34.960Z"
   },
   {
    "duration": 15,
    "start_time": "2023-09-07T10:31:34.981Z"
   },
   {
    "duration": 49,
    "start_time": "2023-09-07T10:31:35.013Z"
   },
   {
    "duration": 112,
    "start_time": "2023-09-07T10:31:35.066Z"
   },
   {
    "duration": 61,
    "start_time": "2023-09-07T10:31:35.180Z"
   },
   {
    "duration": 34,
    "start_time": "2023-09-07T10:31:35.243Z"
   },
   {
    "duration": 32,
    "start_time": "2023-09-07T10:31:35.279Z"
   },
   {
    "duration": 32,
    "start_time": "2023-09-07T10:31:35.312Z"
   },
   {
    "duration": 36,
    "start_time": "2023-09-07T10:31:35.345Z"
   },
   {
    "duration": 43,
    "start_time": "2023-09-07T10:31:35.383Z"
   },
   {
    "duration": 16,
    "start_time": "2023-09-07T10:31:35.432Z"
   },
   {
    "duration": 262,
    "start_time": "2023-09-07T10:31:35.451Z"
   },
   {
    "duration": 14,
    "start_time": "2023-09-07T10:31:35.716Z"
   },
   {
    "duration": 172,
    "start_time": "2023-09-07T10:31:35.733Z"
   },
   {
    "duration": 21,
    "start_time": "2023-09-07T10:31:35.907Z"
   },
   {
    "duration": 22,
    "start_time": "2023-09-07T10:31:35.932Z"
   },
   {
    "duration": 259,
    "start_time": "2023-09-07T10:31:35.957Z"
   },
   {
    "duration": 17,
    "start_time": "2023-09-07T10:31:36.218Z"
   },
   {
    "duration": 344,
    "start_time": "2023-09-07T10:31:36.237Z"
   },
   {
    "duration": 333,
    "start_time": "2023-09-07T10:31:36.583Z"
   },
   {
    "duration": 429,
    "start_time": "2023-09-07T10:31:36.919Z"
   },
   {
    "duration": 10,
    "start_time": "2023-09-07T10:31:37.353Z"
   },
   {
    "duration": 808,
    "start_time": "2023-09-07T10:31:37.365Z"
   },
   {
    "duration": 839,
    "start_time": "2023-09-07T10:31:38.175Z"
   },
   {
    "duration": 887,
    "start_time": "2023-09-07T10:31:39.016Z"
   },
   {
    "duration": 33,
    "start_time": "2023-09-07T10:31:39.908Z"
   },
   {
    "duration": 38,
    "start_time": "2023-09-07T10:31:39.943Z"
   },
   {
    "duration": 34,
    "start_time": "2023-09-07T10:31:39.984Z"
   },
   {
    "duration": 28,
    "start_time": "2023-09-07T10:31:40.024Z"
   },
   {
    "duration": 17,
    "start_time": "2023-09-07T10:31:40.053Z"
   },
   {
    "duration": 336,
    "start_time": "2023-09-07T10:31:40.072Z"
   },
   {
    "duration": 365,
    "start_time": "2023-09-07T10:31:40.412Z"
   },
   {
    "duration": 609,
    "start_time": "2023-09-07T10:31:40.779Z"
   },
   {
    "duration": 330,
    "start_time": "2023-09-07T10:31:41.389Z"
   },
   {
    "duration": 311,
    "start_time": "2023-09-07T10:31:41.722Z"
   },
   {
    "duration": 465,
    "start_time": "2023-09-07T10:31:42.037Z"
   },
   {
    "duration": 169,
    "start_time": "2023-09-07T10:31:42.506Z"
   },
   {
    "duration": 36,
    "start_time": "2023-09-07T10:31:42.678Z"
   },
   {
    "duration": 28,
    "start_time": "2023-09-07T10:31:42.716Z"
   },
   {
    "duration": 12,
    "start_time": "2023-09-07T10:31:42.746Z"
   },
   {
    "duration": 16,
    "start_time": "2023-09-07T10:31:42.760Z"
   },
   {
    "duration": 10,
    "start_time": "2023-09-07T10:31:42.804Z"
   },
   {
    "duration": 8,
    "start_time": "2023-09-07T10:31:42.816Z"
   },
   {
    "duration": 304,
    "start_time": "2023-09-07T10:31:42.826Z"
   },
   {
    "duration": 6,
    "start_time": "2023-09-07T10:31:43.136Z"
   },
   {
    "duration": 244,
    "start_time": "2023-09-07T10:31:43.145Z"
   },
   {
    "duration": 5,
    "start_time": "2023-09-07T10:31:43.390Z"
   },
   {
    "duration": 1324,
    "start_time": "2023-09-07T14:30:34.713Z"
   },
   {
    "duration": 102,
    "start_time": "2023-09-07T14:30:36.039Z"
   },
   {
    "duration": 13,
    "start_time": "2023-09-07T14:30:36.142Z"
   },
   {
    "duration": 142,
    "start_time": "2023-09-07T14:30:36.157Z"
   },
   {
    "duration": 26,
    "start_time": "2023-09-07T14:30:36.302Z"
   },
   {
    "duration": 56,
    "start_time": "2023-09-07T14:30:36.331Z"
   },
   {
    "duration": 10,
    "start_time": "2023-09-07T14:30:36.389Z"
   },
   {
    "duration": 70,
    "start_time": "2023-09-07T14:30:36.403Z"
   },
   {
    "duration": 74,
    "start_time": "2023-09-07T14:30:36.474Z"
   },
   {
    "duration": 34,
    "start_time": "2023-09-07T14:30:36.550Z"
   },
   {
    "duration": 37,
    "start_time": "2023-09-07T14:30:36.586Z"
   },
   {
    "duration": 68,
    "start_time": "2023-09-07T14:30:36.625Z"
   },
   {
    "duration": 41,
    "start_time": "2023-09-07T14:30:36.694Z"
   },
   {
    "duration": 41,
    "start_time": "2023-09-07T14:30:36.738Z"
   },
   {
    "duration": 52,
    "start_time": "2023-09-07T14:30:36.780Z"
   },
   {
    "duration": 12,
    "start_time": "2023-09-07T14:30:36.833Z"
   },
   {
    "duration": 79,
    "start_time": "2023-09-07T14:30:36.846Z"
   },
   {
    "duration": 240,
    "start_time": "2023-09-07T14:30:36.926Z"
   },
   {
    "duration": 7,
    "start_time": "2023-09-07T14:30:37.167Z"
   },
   {
    "duration": 172,
    "start_time": "2023-09-07T14:30:37.176Z"
   },
   {
    "duration": 10,
    "start_time": "2023-09-07T14:30:37.350Z"
   },
   {
    "duration": 18,
    "start_time": "2023-09-07T14:30:37.362Z"
   },
   {
    "duration": 214,
    "start_time": "2023-09-07T14:30:37.382Z"
   },
   {
    "duration": 31,
    "start_time": "2023-09-07T14:30:37.598Z"
   },
   {
    "duration": 323,
    "start_time": "2023-09-07T14:30:37.631Z"
   },
   {
    "duration": 323,
    "start_time": "2023-09-07T14:30:37.955Z"
   },
   {
    "duration": 433,
    "start_time": "2023-09-07T14:30:38.281Z"
   },
   {
    "duration": 11,
    "start_time": "2023-09-07T14:30:38.716Z"
   },
   {
    "duration": 716,
    "start_time": "2023-09-07T14:30:38.731Z"
   },
   {
    "duration": 739,
    "start_time": "2023-09-07T14:30:39.449Z"
   },
   {
    "duration": 855,
    "start_time": "2023-09-07T14:30:40.190Z"
   },
   {
    "duration": 19,
    "start_time": "2023-09-07T14:30:41.046Z"
   },
   {
    "duration": 49,
    "start_time": "2023-09-07T14:30:41.067Z"
   },
   {
    "duration": 10,
    "start_time": "2023-09-07T14:30:41.127Z"
   },
   {
    "duration": 26,
    "start_time": "2023-09-07T14:30:41.139Z"
   },
   {
    "duration": 23,
    "start_time": "2023-09-07T14:30:41.167Z"
   },
   {
    "duration": 318,
    "start_time": "2023-09-07T14:30:41.193Z"
   },
   {
    "duration": 297,
    "start_time": "2023-09-07T14:30:41.515Z"
   },
   {
    "duration": 594,
    "start_time": "2023-09-07T14:30:41.821Z"
   },
   {
    "duration": 333,
    "start_time": "2023-09-07T14:30:42.420Z"
   },
   {
    "duration": 304,
    "start_time": "2023-09-07T14:30:42.757Z"
   },
   {
    "duration": 481,
    "start_time": "2023-09-07T14:30:43.062Z"
   },
   {
    "duration": 138,
    "start_time": "2023-09-07T14:30:43.544Z"
   },
   {
    "duration": 37,
    "start_time": "2023-09-07T14:30:43.684Z"
   },
   {
    "duration": 49,
    "start_time": "2023-09-07T14:30:43.725Z"
   },
   {
    "duration": 10,
    "start_time": "2023-09-07T14:30:43.776Z"
   },
   {
    "duration": 24,
    "start_time": "2023-09-07T14:30:43.788Z"
   },
   {
    "duration": 15,
    "start_time": "2023-09-07T14:30:43.819Z"
   },
   {
    "duration": 8,
    "start_time": "2023-09-07T14:30:43.835Z"
   },
   {
    "duration": 280,
    "start_time": "2023-09-07T14:30:43.845Z"
   },
   {
    "duration": 8,
    "start_time": "2023-09-07T14:30:44.126Z"
   },
   {
    "duration": 218,
    "start_time": "2023-09-07T14:30:44.135Z"
   },
   {
    "duration": 6,
    "start_time": "2023-09-07T14:30:44.355Z"
   },
   {
    "duration": 20,
    "start_time": "2023-09-07T14:34:57.429Z"
   },
   {
    "duration": 13,
    "start_time": "2023-09-07T14:37:21.538Z"
   },
   {
    "duration": 13,
    "start_time": "2023-09-07T14:41:54.041Z"
   },
   {
    "duration": 25,
    "start_time": "2023-09-07T14:43:15.987Z"
   },
   {
    "duration": 18,
    "start_time": "2023-09-07T14:43:37.433Z"
   },
   {
    "duration": 17,
    "start_time": "2023-09-07T14:43:41.547Z"
   },
   {
    "duration": 13,
    "start_time": "2023-09-07T14:43:49.639Z"
   },
   {
    "duration": 870,
    "start_time": "2023-09-07T14:43:58.828Z"
   },
   {
    "duration": 44,
    "start_time": "2023-09-07T14:44:14.684Z"
   },
   {
    "duration": 611,
    "start_time": "2023-09-07T14:44:21.772Z"
   },
   {
    "duration": 18,
    "start_time": "2023-09-07T14:44:29.658Z"
   },
   {
    "duration": 22,
    "start_time": "2023-09-07T14:44:53.525Z"
   },
   {
    "duration": 13,
    "start_time": "2023-09-07T14:44:58.181Z"
   },
   {
    "duration": 15,
    "start_time": "2023-09-07T14:45:12.236Z"
   },
   {
    "duration": 1381,
    "start_time": "2023-09-07T14:48:01.146Z"
   },
   {
    "duration": 50,
    "start_time": "2023-09-07T14:48:02.540Z"
   },
   {
    "duration": 31,
    "start_time": "2023-09-07T14:48:02.592Z"
   },
   {
    "duration": 97,
    "start_time": "2023-09-07T14:48:02.628Z"
   },
   {
    "duration": 20,
    "start_time": "2023-09-07T14:48:02.733Z"
   },
   {
    "duration": 29,
    "start_time": "2023-09-07T14:48:02.755Z"
   },
   {
    "duration": 42,
    "start_time": "2023-09-07T14:48:02.786Z"
   },
   {
    "duration": 29,
    "start_time": "2023-09-07T14:48:02.830Z"
   },
   {
    "duration": 31,
    "start_time": "2023-09-07T14:48:02.861Z"
   },
   {
    "duration": 22,
    "start_time": "2023-09-07T14:48:02.894Z"
   },
   {
    "duration": 16,
    "start_time": "2023-09-07T14:48:02.918Z"
   },
   {
    "duration": 33,
    "start_time": "2023-09-07T14:48:02.936Z"
   },
   {
    "duration": 24,
    "start_time": "2023-09-07T14:48:02.971Z"
   },
   {
    "duration": 20,
    "start_time": "2023-09-07T14:48:02.998Z"
   },
   {
    "duration": 22,
    "start_time": "2023-09-07T14:48:03.026Z"
   },
   {
    "duration": 18,
    "start_time": "2023-09-07T14:48:03.050Z"
   },
   {
    "duration": 6,
    "start_time": "2023-09-07T14:48:03.070Z"
   },
   {
    "duration": 268,
    "start_time": "2023-09-07T14:48:03.078Z"
   },
   {
    "duration": 6,
    "start_time": "2023-09-07T14:48:03.347Z"
   },
   {
    "duration": 162,
    "start_time": "2023-09-07T14:48:03.354Z"
   },
   {
    "duration": 21,
    "start_time": "2023-09-07T14:48:03.522Z"
   },
   {
    "duration": 14,
    "start_time": "2023-09-07T14:48:03.545Z"
   },
   {
    "duration": 227,
    "start_time": "2023-09-07T14:48:03.561Z"
   },
   {
    "duration": 22,
    "start_time": "2023-09-07T14:48:03.790Z"
   },
   {
    "duration": 307,
    "start_time": "2023-09-07T14:48:03.814Z"
   },
   {
    "duration": 329,
    "start_time": "2023-09-07T14:48:04.125Z"
   },
   {
    "duration": 455,
    "start_time": "2023-09-07T14:48:04.456Z"
   },
   {
    "duration": 27,
    "start_time": "2023-09-07T14:48:04.913Z"
   },
   {
    "duration": 790,
    "start_time": "2023-09-07T14:48:04.946Z"
   },
   {
    "duration": 753,
    "start_time": "2023-09-07T14:48:05.742Z"
   },
   {
    "duration": 900,
    "start_time": "2023-09-07T14:48:06.507Z"
   },
   {
    "duration": 32,
    "start_time": "2023-09-07T14:48:07.413Z"
   },
   {
    "duration": 25,
    "start_time": "2023-09-07T14:48:07.447Z"
   },
   {
    "duration": 8,
    "start_time": "2023-09-07T14:48:07.474Z"
   },
   {
    "duration": 59,
    "start_time": "2023-09-07T14:48:07.483Z"
   },
   {
    "duration": 38,
    "start_time": "2023-09-07T14:48:07.544Z"
   },
   {
    "duration": 308,
    "start_time": "2023-09-07T14:48:07.584Z"
   },
   {
    "duration": 298,
    "start_time": "2023-09-07T14:48:07.893Z"
   },
   {
    "duration": 614,
    "start_time": "2023-09-07T14:48:08.193Z"
   },
   {
    "duration": 307,
    "start_time": "2023-09-07T14:48:08.809Z"
   },
   {
    "duration": 345,
    "start_time": "2023-09-07T14:48:09.121Z"
   },
   {
    "duration": 499,
    "start_time": "2023-09-07T14:48:09.468Z"
   },
   {
    "duration": 166,
    "start_time": "2023-09-07T14:48:09.969Z"
   },
   {
    "duration": 25,
    "start_time": "2023-09-07T14:48:10.137Z"
   },
   {
    "duration": 35,
    "start_time": "2023-09-07T14:48:10.163Z"
   },
   {
    "duration": 74,
    "start_time": "2023-09-07T14:48:10.200Z"
   },
   {
    "duration": 74,
    "start_time": "2023-09-07T14:48:10.276Z"
   },
   {
    "duration": 42,
    "start_time": "2023-09-07T14:48:10.352Z"
   },
   {
    "duration": 53,
    "start_time": "2023-09-07T14:48:10.396Z"
   },
   {
    "duration": 42,
    "start_time": "2023-09-07T14:48:10.450Z"
   },
   {
    "duration": 387,
    "start_time": "2023-09-07T14:48:10.493Z"
   },
   {
    "duration": 4,
    "start_time": "2023-09-07T14:48:10.882Z"
   },
   {
    "duration": 264,
    "start_time": "2023-09-07T14:48:10.888Z"
   },
   {
    "duration": 5,
    "start_time": "2023-09-07T14:48:11.153Z"
   },
   {
    "duration": 193,
    "start_time": "2023-09-07T16:31:16.443Z"
   },
   {
    "duration": 164,
    "start_time": "2023-09-07T16:32:23.719Z"
   },
   {
    "duration": 329,
    "start_time": "2023-09-07T16:37:57.707Z"
   },
   {
    "duration": 100,
    "start_time": "2023-09-07T16:38:01.910Z"
   },
   {
    "duration": 1494,
    "start_time": "2023-09-07T16:38:14.684Z"
   },
   {
    "duration": 94,
    "start_time": "2023-09-07T16:38:16.180Z"
   },
   {
    "duration": 12,
    "start_time": "2023-09-07T16:38:16.276Z"
   },
   {
    "duration": 79,
    "start_time": "2023-09-07T16:38:16.290Z"
   },
   {
    "duration": 12,
    "start_time": "2023-09-07T16:38:16.370Z"
   },
   {
    "duration": 71,
    "start_time": "2023-09-07T16:38:16.383Z"
   },
   {
    "duration": 12,
    "start_time": "2023-09-07T16:38:16.456Z"
   },
   {
    "duration": 5,
    "start_time": "2023-09-07T16:38:16.470Z"
   },
   {
    "duration": 14,
    "start_time": "2023-09-07T16:38:16.477Z"
   },
   {
    "duration": 5,
    "start_time": "2023-09-07T16:38:16.494Z"
   },
   {
    "duration": 7,
    "start_time": "2023-09-07T16:38:16.501Z"
   },
   {
    "duration": 5,
    "start_time": "2023-09-07T16:38:16.509Z"
   },
   {
    "duration": 38,
    "start_time": "2023-09-07T16:38:16.515Z"
   },
   {
    "duration": 5,
    "start_time": "2023-09-07T16:38:16.555Z"
   },
   {
    "duration": 12,
    "start_time": "2023-09-07T16:38:16.561Z"
   },
   {
    "duration": 7,
    "start_time": "2023-09-07T16:38:16.574Z"
   },
   {
    "duration": 6,
    "start_time": "2023-09-07T16:38:16.583Z"
   },
   {
    "duration": 246,
    "start_time": "2023-09-07T16:38:16.590Z"
   },
   {
    "duration": 153,
    "start_time": "2023-09-07T16:38:16.838Z"
   },
   {
    "duration": 0,
    "start_time": "2023-09-07T16:38:16.994Z"
   },
   {
    "duration": 0,
    "start_time": "2023-09-07T16:38:16.995Z"
   },
   {
    "duration": 0,
    "start_time": "2023-09-07T16:38:16.996Z"
   },
   {
    "duration": 0,
    "start_time": "2023-09-07T16:38:16.998Z"
   },
   {
    "duration": 0,
    "start_time": "2023-09-07T16:38:16.999Z"
   },
   {
    "duration": 0,
    "start_time": "2023-09-07T16:38:17.000Z"
   },
   {
    "duration": 0,
    "start_time": "2023-09-07T16:38:17.001Z"
   },
   {
    "duration": 0,
    "start_time": "2023-09-07T16:38:17.002Z"
   },
   {
    "duration": 0,
    "start_time": "2023-09-07T16:38:17.003Z"
   },
   {
    "duration": 0,
    "start_time": "2023-09-07T16:38:17.005Z"
   },
   {
    "duration": 0,
    "start_time": "2023-09-07T16:38:17.006Z"
   },
   {
    "duration": 0,
    "start_time": "2023-09-07T16:38:17.007Z"
   },
   {
    "duration": 0,
    "start_time": "2023-09-07T16:38:17.007Z"
   },
   {
    "duration": 0,
    "start_time": "2023-09-07T16:38:17.008Z"
   },
   {
    "duration": 0,
    "start_time": "2023-09-07T16:38:17.010Z"
   },
   {
    "duration": 0,
    "start_time": "2023-09-07T16:38:17.011Z"
   },
   {
    "duration": 0,
    "start_time": "2023-09-07T16:38:17.012Z"
   },
   {
    "duration": 0,
    "start_time": "2023-09-07T16:38:17.013Z"
   },
   {
    "duration": 0,
    "start_time": "2023-09-07T16:38:17.014Z"
   },
   {
    "duration": 0,
    "start_time": "2023-09-07T16:38:17.016Z"
   },
   {
    "duration": 0,
    "start_time": "2023-09-07T16:38:17.017Z"
   },
   {
    "duration": 0,
    "start_time": "2023-09-07T16:38:17.018Z"
   },
   {
    "duration": 0,
    "start_time": "2023-09-07T16:38:17.019Z"
   },
   {
    "duration": 0,
    "start_time": "2023-09-07T16:38:17.020Z"
   },
   {
    "duration": 0,
    "start_time": "2023-09-07T16:38:17.021Z"
   },
   {
    "duration": 0,
    "start_time": "2023-09-07T16:38:17.022Z"
   },
   {
    "duration": 0,
    "start_time": "2023-09-07T16:38:17.024Z"
   },
   {
    "duration": 0,
    "start_time": "2023-09-07T16:38:17.025Z"
   },
   {
    "duration": 0,
    "start_time": "2023-09-07T16:38:17.026Z"
   },
   {
    "duration": 0,
    "start_time": "2023-09-07T16:38:17.026Z"
   },
   {
    "duration": 0,
    "start_time": "2023-09-07T16:38:17.028Z"
   },
   {
    "duration": 0,
    "start_time": "2023-09-07T16:38:17.029Z"
   },
   {
    "duration": 0,
    "start_time": "2023-09-07T16:38:17.047Z"
   },
   {
    "duration": 0,
    "start_time": "2023-09-07T16:38:17.048Z"
   },
   {
    "duration": 0,
    "start_time": "2023-09-07T16:38:17.049Z"
   },
   {
    "duration": 0,
    "start_time": "2023-09-07T16:38:17.050Z"
   },
   {
    "duration": 196,
    "start_time": "2023-09-07T16:41:23.725Z"
   },
   {
    "duration": 196,
    "start_time": "2023-09-07T16:42:56.515Z"
   },
   {
    "duration": 204,
    "start_time": "2023-09-07T16:45:26.478Z"
   },
   {
    "duration": 98,
    "start_time": "2023-09-07T16:46:40.465Z"
   },
   {
    "duration": 206,
    "start_time": "2023-09-07T16:46:49.284Z"
   },
   {
    "duration": 228,
    "start_time": "2023-09-07T16:47:42.050Z"
   },
   {
    "duration": 215,
    "start_time": "2023-09-07T16:51:59.045Z"
   },
   {
    "duration": 223,
    "start_time": "2023-09-07T16:52:18.089Z"
   },
   {
    "duration": 1231,
    "start_time": "2023-09-07T16:52:33.381Z"
   },
   {
    "duration": 37,
    "start_time": "2023-09-07T16:52:34.614Z"
   },
   {
    "duration": 12,
    "start_time": "2023-09-07T16:52:34.653Z"
   },
   {
    "duration": 44,
    "start_time": "2023-09-07T16:52:34.667Z"
   },
   {
    "duration": 12,
    "start_time": "2023-09-07T16:52:34.713Z"
   },
   {
    "duration": 29,
    "start_time": "2023-09-07T16:52:34.726Z"
   },
   {
    "duration": 10,
    "start_time": "2023-09-07T16:52:34.757Z"
   },
   {
    "duration": 25,
    "start_time": "2023-09-07T16:52:34.769Z"
   },
   {
    "duration": 19,
    "start_time": "2023-09-07T16:52:34.795Z"
   },
   {
    "duration": 22,
    "start_time": "2023-09-07T16:52:34.816Z"
   },
   {
    "duration": 22,
    "start_time": "2023-09-07T16:52:34.839Z"
   },
   {
    "duration": 19,
    "start_time": "2023-09-07T16:52:34.862Z"
   },
   {
    "duration": 22,
    "start_time": "2023-09-07T16:52:34.882Z"
   },
   {
    "duration": 13,
    "start_time": "2023-09-07T16:52:34.906Z"
   },
   {
    "duration": 20,
    "start_time": "2023-09-07T16:52:34.921Z"
   },
   {
    "duration": 11,
    "start_time": "2023-09-07T16:52:34.943Z"
   },
   {
    "duration": 6,
    "start_time": "2023-09-07T16:52:34.956Z"
   },
   {
    "duration": 262,
    "start_time": "2023-09-07T16:52:34.963Z"
   },
   {
    "duration": 7,
    "start_time": "2023-09-07T16:52:35.227Z"
   },
   {
    "duration": 174,
    "start_time": "2023-09-07T16:52:35.236Z"
   },
   {
    "duration": 9,
    "start_time": "2023-09-07T16:52:35.413Z"
   },
   {
    "duration": 23,
    "start_time": "2023-09-07T16:52:35.424Z"
   },
   {
    "duration": 195,
    "start_time": "2023-09-07T16:52:35.449Z"
   },
   {
    "duration": 9,
    "start_time": "2023-09-07T16:52:35.646Z"
   },
   {
    "duration": 282,
    "start_time": "2023-09-07T16:52:35.656Z"
   },
   {
    "duration": 282,
    "start_time": "2023-09-07T16:52:35.940Z"
   },
   {
    "duration": 358,
    "start_time": "2023-09-07T16:52:36.224Z"
   },
   {
    "duration": 9,
    "start_time": "2023-09-07T16:52:36.585Z"
   },
   {
    "duration": 661,
    "start_time": "2023-09-07T16:52:36.595Z"
   },
   {
    "duration": 646,
    "start_time": "2023-09-07T16:52:37.258Z"
   },
   {
    "duration": 792,
    "start_time": "2023-09-07T16:52:37.906Z"
   },
   {
    "duration": 19,
    "start_time": "2023-09-07T16:52:38.699Z"
   },
   {
    "duration": 34,
    "start_time": "2023-09-07T16:52:38.720Z"
   },
   {
    "duration": 7,
    "start_time": "2023-09-07T16:52:38.756Z"
   },
   {
    "duration": 27,
    "start_time": "2023-09-07T16:52:38.764Z"
   },
   {
    "duration": 16,
    "start_time": "2023-09-07T16:52:38.792Z"
   },
   {
    "duration": 324,
    "start_time": "2023-09-07T16:52:38.810Z"
   },
   {
    "duration": 291,
    "start_time": "2023-09-07T16:52:39.135Z"
   },
   {
    "duration": 527,
    "start_time": "2023-09-07T16:52:39.428Z"
   },
   {
    "duration": 285,
    "start_time": "2023-09-07T16:52:39.957Z"
   },
   {
    "duration": 287,
    "start_time": "2023-09-07T16:52:40.244Z"
   },
   {
    "duration": 439,
    "start_time": "2023-09-07T16:52:40.533Z"
   },
   {
    "duration": 122,
    "start_time": "2023-09-07T16:52:40.973Z"
   },
   {
    "duration": 20,
    "start_time": "2023-09-07T16:52:41.097Z"
   },
   {
    "duration": 33,
    "start_time": "2023-09-07T16:52:41.119Z"
   },
   {
    "duration": 10,
    "start_time": "2023-09-07T16:52:41.154Z"
   },
   {
    "duration": 27,
    "start_time": "2023-09-07T16:52:41.165Z"
   },
   {
    "duration": 18,
    "start_time": "2023-09-07T16:52:41.194Z"
   },
   {
    "duration": 13,
    "start_time": "2023-09-07T16:52:41.214Z"
   },
   {
    "duration": 10,
    "start_time": "2023-09-07T16:52:41.229Z"
   },
   {
    "duration": 241,
    "start_time": "2023-09-07T16:52:41.241Z"
   },
   {
    "duration": 6,
    "start_time": "2023-09-07T16:52:41.483Z"
   },
   {
    "duration": 209,
    "start_time": "2023-09-07T16:52:41.491Z"
   },
   {
    "duration": 5,
    "start_time": "2023-09-07T16:52:41.702Z"
   },
   {
    "duration": 305,
    "start_time": "2023-09-07T16:54:34.291Z"
   },
   {
    "duration": 208,
    "start_time": "2023-09-07T16:54:54.105Z"
   },
   {
    "duration": 210,
    "start_time": "2023-09-07T16:55:56.262Z"
   },
   {
    "duration": 153,
    "start_time": "2023-09-07T16:58:00.294Z"
   },
   {
    "duration": 148,
    "start_time": "2023-09-07T16:59:10.105Z"
   },
   {
    "duration": 272,
    "start_time": "2023-09-07T17:01:55.318Z"
   },
   {
    "duration": 128,
    "start_time": "2023-09-07T17:02:19.282Z"
   },
   {
    "duration": 136,
    "start_time": "2023-09-07T17:03:11.729Z"
   },
   {
    "duration": 117,
    "start_time": "2023-09-07T17:06:14.912Z"
   },
   {
    "duration": 134,
    "start_time": "2023-09-07T17:06:29.462Z"
   },
   {
    "duration": 5,
    "start_time": "2023-09-07T17:12:46.862Z"
   },
   {
    "duration": 5,
    "start_time": "2023-09-07T17:13:11.317Z"
   },
   {
    "duration": 101,
    "start_time": "2023-09-07T17:13:25.311Z"
   },
   {
    "duration": 91,
    "start_time": "2023-09-07T17:14:26.445Z"
   },
   {
    "duration": 177,
    "start_time": "2023-09-07T17:14:42.901Z"
   },
   {
    "duration": 109,
    "start_time": "2023-09-07T17:14:59.565Z"
   },
   {
    "duration": 111,
    "start_time": "2023-09-07T17:15:45.678Z"
   },
   {
    "duration": 95,
    "start_time": "2023-09-07T17:17:11.016Z"
   },
   {
    "duration": 99,
    "start_time": "2023-09-07T17:17:20.925Z"
   },
   {
    "duration": 107,
    "start_time": "2023-09-07T17:17:31.420Z"
   },
   {
    "duration": 119,
    "start_time": "2023-09-07T17:18:40.338Z"
   },
   {
    "duration": 112,
    "start_time": "2023-09-07T17:19:09.426Z"
   },
   {
    "duration": 110,
    "start_time": "2023-09-07T17:19:26.017Z"
   },
   {
    "duration": 127,
    "start_time": "2023-09-07T17:19:50.457Z"
   },
   {
    "duration": 406,
    "start_time": "2023-09-07T17:19:57.854Z"
   },
   {
    "duration": 111,
    "start_time": "2023-09-07T17:20:09.650Z"
   },
   {
    "duration": 108,
    "start_time": "2023-09-07T17:20:34.646Z"
   },
   {
    "duration": 100,
    "start_time": "2023-09-07T17:25:12.202Z"
   },
   {
    "duration": 116,
    "start_time": "2023-09-07T17:25:24.058Z"
   },
   {
    "duration": 119,
    "start_time": "2023-09-07T17:25:37.378Z"
   },
   {
    "duration": 116,
    "start_time": "2023-09-07T17:25:53.974Z"
   },
   {
    "duration": 202,
    "start_time": "2023-09-07T17:26:07.327Z"
   },
   {
    "duration": 179,
    "start_time": "2023-09-07T17:27:33.061Z"
   },
   {
    "duration": 103,
    "start_time": "2023-09-07T17:30:01.835Z"
   },
   {
    "duration": 111,
    "start_time": "2023-09-07T17:30:12.778Z"
   },
   {
    "duration": 108,
    "start_time": "2023-09-07T17:30:20.797Z"
   },
   {
    "duration": 6,
    "start_time": "2023-09-07T17:31:13.252Z"
   },
   {
    "duration": 111,
    "start_time": "2023-09-07T17:31:18.647Z"
   },
   {
    "duration": 106,
    "start_time": "2023-09-07T17:31:31.813Z"
   },
   {
    "duration": 126,
    "start_time": "2023-09-07T17:31:42.048Z"
   },
   {
    "duration": 104,
    "start_time": "2023-09-07T17:31:47.033Z"
   },
   {
    "duration": 112,
    "start_time": "2023-09-07T17:33:56.448Z"
   },
   {
    "duration": 129,
    "start_time": "2023-09-07T17:34:05.158Z"
   },
   {
    "duration": 83,
    "start_time": "2023-09-08T04:34:45.946Z"
   },
   {
    "duration": 8,
    "start_time": "2023-09-08T04:34:49.704Z"
   },
   {
    "duration": 7,
    "start_time": "2023-09-08T04:43:19.705Z"
   },
   {
    "duration": 1380,
    "start_time": "2023-09-08T04:43:28.058Z"
   },
   {
    "duration": 87,
    "start_time": "2023-09-08T04:43:29.441Z"
   },
   {
    "duration": 11,
    "start_time": "2023-09-08T04:43:29.530Z"
   },
   {
    "duration": 88,
    "start_time": "2023-09-08T04:43:29.542Z"
   },
   {
    "duration": 10,
    "start_time": "2023-09-08T04:43:29.632Z"
   },
   {
    "duration": 65,
    "start_time": "2023-09-08T04:43:29.644Z"
   },
   {
    "duration": 9,
    "start_time": "2023-09-08T04:43:29.710Z"
   },
   {
    "duration": 14,
    "start_time": "2023-09-08T04:43:29.720Z"
   },
   {
    "duration": 13,
    "start_time": "2023-09-08T04:43:29.735Z"
   },
   {
    "duration": 11,
    "start_time": "2023-09-08T04:43:29.752Z"
   },
   {
    "duration": 8,
    "start_time": "2023-09-08T04:43:29.765Z"
   },
   {
    "duration": 4,
    "start_time": "2023-09-08T04:43:29.775Z"
   },
   {
    "duration": 12,
    "start_time": "2023-09-08T04:43:29.781Z"
   },
   {
    "duration": 5,
    "start_time": "2023-09-08T04:43:29.794Z"
   },
   {
    "duration": 11,
    "start_time": "2023-09-08T04:43:29.801Z"
   },
   {
    "duration": 37,
    "start_time": "2023-09-08T04:43:29.814Z"
   },
   {
    "duration": 7,
    "start_time": "2023-09-08T04:43:29.853Z"
   },
   {
    "duration": 255,
    "start_time": "2023-09-08T04:43:29.861Z"
   },
   {
    "duration": 6,
    "start_time": "2023-09-08T04:43:30.118Z"
   },
   {
    "duration": 120,
    "start_time": "2023-09-08T04:43:30.126Z"
   },
   {
    "duration": 9,
    "start_time": "2023-09-08T04:43:30.249Z"
   },
   {
    "duration": 27,
    "start_time": "2023-09-08T04:43:30.259Z"
   },
   {
    "duration": 183,
    "start_time": "2023-09-08T04:43:30.289Z"
   },
   {
    "duration": 12,
    "start_time": "2023-09-08T04:43:30.474Z"
   },
   {
    "duration": 277,
    "start_time": "2023-09-08T04:43:30.488Z"
   },
   {
    "duration": 224,
    "start_time": "2023-09-08T04:43:30.768Z"
   },
   {
    "duration": 288,
    "start_time": "2023-09-08T04:43:30.993Z"
   },
   {
    "duration": 7,
    "start_time": "2023-09-08T04:43:31.284Z"
   },
   {
    "duration": 470,
    "start_time": "2023-09-08T04:43:31.292Z"
   },
   {
    "duration": 722,
    "start_time": "2023-09-08T04:43:31.764Z"
   },
   {
    "duration": 679,
    "start_time": "2023-09-08T04:43:32.489Z"
   },
   {
    "duration": 18,
    "start_time": "2023-09-08T04:43:33.169Z"
   },
   {
    "duration": 21,
    "start_time": "2023-09-08T04:43:33.188Z"
   },
   {
    "duration": 11,
    "start_time": "2023-09-08T04:43:33.211Z"
   },
   {
    "duration": 49,
    "start_time": "2023-09-08T04:43:33.223Z"
   },
   {
    "duration": 14,
    "start_time": "2023-09-08T04:43:33.274Z"
   },
   {
    "duration": 227,
    "start_time": "2023-09-08T04:43:33.289Z"
   },
   {
    "duration": 242,
    "start_time": "2023-09-08T04:43:33.518Z"
   },
   {
    "duration": 396,
    "start_time": "2023-09-08T04:43:33.762Z"
   },
   {
    "duration": 307,
    "start_time": "2023-09-08T04:43:34.160Z"
   },
   {
    "duration": 245,
    "start_time": "2023-09-08T04:43:34.469Z"
   },
   {
    "duration": 356,
    "start_time": "2023-09-08T04:43:34.715Z"
   },
   {
    "duration": 107,
    "start_time": "2023-09-08T04:43:35.072Z"
   },
   {
    "duration": 20,
    "start_time": "2023-09-08T04:43:35.180Z"
   },
   {
    "duration": 22,
    "start_time": "2023-09-08T04:43:35.201Z"
   },
   {
    "duration": 27,
    "start_time": "2023-09-08T04:43:35.225Z"
   },
   {
    "duration": 39,
    "start_time": "2023-09-08T04:43:35.254Z"
   },
   {
    "duration": 43,
    "start_time": "2023-09-08T04:43:35.295Z"
   },
   {
    "duration": 126,
    "start_time": "2023-09-08T04:43:35.340Z"
   },
   {
    "duration": 6,
    "start_time": "2023-09-08T04:43:35.468Z"
   },
   {
    "duration": 210,
    "start_time": "2023-09-08T04:43:35.476Z"
   },
   {
    "duration": 6,
    "start_time": "2023-09-08T04:43:35.687Z"
   },
   {
    "duration": 157,
    "start_time": "2023-09-08T04:43:35.695Z"
   },
   {
    "duration": 6,
    "start_time": "2023-09-08T04:43:35.853Z"
   },
   {
    "duration": 192,
    "start_time": "2023-09-08T04:44:21.783Z"
   },
   {
    "duration": 290,
    "start_time": "2023-09-08T04:44:37.502Z"
   },
   {
    "duration": 214,
    "start_time": "2023-09-08T04:45:57.813Z"
   },
   {
    "duration": 115,
    "start_time": "2023-09-08T04:46:24.130Z"
   },
   {
    "duration": 131,
    "start_time": "2023-09-08T04:46:33.457Z"
   },
   {
    "duration": 127,
    "start_time": "2023-09-08T04:47:46.790Z"
   },
   {
    "duration": 122,
    "start_time": "2023-09-08T04:48:05.317Z"
   },
   {
    "duration": 123,
    "start_time": "2023-09-08T04:48:22.435Z"
   },
   {
    "duration": 155,
    "start_time": "2023-09-08T04:48:32.182Z"
   },
   {
    "duration": 206,
    "start_time": "2023-09-08T04:53:17.096Z"
   },
   {
    "duration": 301,
    "start_time": "2023-09-08T04:53:45.635Z"
   },
   {
    "duration": 217,
    "start_time": "2023-09-08T04:54:19.054Z"
   },
   {
    "duration": 212,
    "start_time": "2023-09-08T04:56:01.333Z"
   },
   {
    "duration": 200,
    "start_time": "2023-09-08T04:56:14.531Z"
   },
   {
    "duration": 205,
    "start_time": "2023-09-08T04:56:52.211Z"
   },
   {
    "duration": 632,
    "start_time": "2023-09-08T04:58:00.673Z"
   },
   {
    "duration": 278,
    "start_time": "2023-09-08T05:03:02.299Z"
   },
   {
    "duration": 222,
    "start_time": "2023-09-08T05:03:15.094Z"
   },
   {
    "duration": 12,
    "start_time": "2023-09-08T05:15:50.204Z"
   },
   {
    "duration": 11,
    "start_time": "2023-09-08T05:16:01.708Z"
   },
   {
    "duration": 15,
    "start_time": "2023-09-08T05:16:10.439Z"
   },
   {
    "duration": 7,
    "start_time": "2023-09-08T05:27:34.445Z"
   },
   {
    "duration": 8,
    "start_time": "2023-09-08T05:29:06.224Z"
   },
   {
    "duration": 8,
    "start_time": "2023-09-08T05:29:14.990Z"
   },
   {
    "duration": 9,
    "start_time": "2023-09-08T05:31:09.521Z"
   },
   {
    "duration": 698,
    "start_time": "2023-09-08T05:31:58.563Z"
   },
   {
    "duration": 11,
    "start_time": "2023-09-08T05:32:38.457Z"
   },
   {
    "duration": 9,
    "start_time": "2023-09-08T05:32:51.762Z"
   },
   {
    "duration": 1231,
    "start_time": "2023-09-08T05:33:05.349Z"
   },
   {
    "duration": 38,
    "start_time": "2023-09-08T05:33:06.582Z"
   },
   {
    "duration": 10,
    "start_time": "2023-09-08T05:33:06.622Z"
   },
   {
    "duration": 41,
    "start_time": "2023-09-08T05:33:06.633Z"
   },
   {
    "duration": 14,
    "start_time": "2023-09-08T05:33:06.676Z"
   },
   {
    "duration": 25,
    "start_time": "2023-09-08T05:33:06.691Z"
   },
   {
    "duration": 10,
    "start_time": "2023-09-08T05:33:06.717Z"
   },
   {
    "duration": 10,
    "start_time": "2023-09-08T05:33:06.728Z"
   },
   {
    "duration": 11,
    "start_time": "2023-09-08T05:33:06.739Z"
   },
   {
    "duration": 11,
    "start_time": "2023-09-08T05:33:06.752Z"
   },
   {
    "duration": 16,
    "start_time": "2023-09-08T05:33:06.765Z"
   },
   {
    "duration": 7,
    "start_time": "2023-09-08T05:33:06.783Z"
   },
   {
    "duration": 12,
    "start_time": "2023-09-08T05:33:06.792Z"
   },
   {
    "duration": 5,
    "start_time": "2023-09-08T05:33:06.806Z"
   },
   {
    "duration": 15,
    "start_time": "2023-09-08T05:33:06.812Z"
   },
   {
    "duration": 25,
    "start_time": "2023-09-08T05:33:06.828Z"
   },
   {
    "duration": 6,
    "start_time": "2023-09-08T05:33:06.855Z"
   },
   {
    "duration": 225,
    "start_time": "2023-09-08T05:33:06.862Z"
   },
   {
    "duration": 7,
    "start_time": "2023-09-08T05:33:07.089Z"
   },
   {
    "duration": 147,
    "start_time": "2023-09-08T05:33:07.098Z"
   },
   {
    "duration": 9,
    "start_time": "2023-09-08T05:33:07.250Z"
   },
   {
    "duration": 5,
    "start_time": "2023-09-08T05:33:07.261Z"
   },
   {
    "duration": 143,
    "start_time": "2023-09-08T05:33:07.268Z"
   },
   {
    "duration": 9,
    "start_time": "2023-09-08T05:33:07.413Z"
   },
   {
    "duration": 218,
    "start_time": "2023-09-08T05:33:07.423Z"
   },
   {
    "duration": 209,
    "start_time": "2023-09-08T05:33:07.642Z"
   },
   {
    "duration": 265,
    "start_time": "2023-09-08T05:33:07.853Z"
   },
   {
    "duration": 10,
    "start_time": "2023-09-08T05:33:08.122Z"
   },
   {
    "duration": 230,
    "start_time": "2023-09-08T05:33:08.134Z"
   },
   {
    "duration": 218,
    "start_time": "2023-09-08T05:33:08.366Z"
   },
   {
    "duration": 12,
    "start_time": "2023-09-08T05:33:08.585Z"
   },
   {
    "duration": 42,
    "start_time": "2023-09-08T05:33:08.599Z"
   },
   {
    "duration": 24,
    "start_time": "2023-09-08T05:33:08.642Z"
   },
   {
    "duration": 547,
    "start_time": "2023-09-08T05:33:08.668Z"
   },
   {
    "duration": 17,
    "start_time": "2023-09-08T05:33:09.217Z"
   },
   {
    "duration": 28,
    "start_time": "2023-09-08T05:33:09.236Z"
   },
   {
    "duration": 19,
    "start_time": "2023-09-08T05:33:09.265Z"
   },
   {
    "duration": 43,
    "start_time": "2023-09-08T05:33:09.286Z"
   },
   {
    "duration": 19,
    "start_time": "2023-09-08T05:33:09.330Z"
   },
   {
    "duration": 313,
    "start_time": "2023-09-08T05:33:09.351Z"
   },
   {
    "duration": 205,
    "start_time": "2023-09-08T05:33:09.665Z"
   },
   {
    "duration": 369,
    "start_time": "2023-09-08T05:33:09.871Z"
   },
   {
    "duration": 210,
    "start_time": "2023-09-08T05:33:10.241Z"
   },
   {
    "duration": 219,
    "start_time": "2023-09-08T05:33:10.452Z"
   },
   {
    "duration": 442,
    "start_time": "2023-09-08T05:33:10.673Z"
   },
   {
    "duration": 110,
    "start_time": "2023-09-08T05:33:11.117Z"
   },
   {
    "duration": 24,
    "start_time": "2023-09-08T05:33:11.229Z"
   },
   {
    "duration": 16,
    "start_time": "2023-09-08T05:33:11.255Z"
   },
   {
    "duration": 10,
    "start_time": "2023-09-08T05:33:11.273Z"
   },
   {
    "duration": 24,
    "start_time": "2023-09-08T05:33:11.284Z"
   },
   {
    "duration": 16,
    "start_time": "2023-09-08T05:33:11.310Z"
   },
   {
    "duration": 26,
    "start_time": "2023-09-08T05:33:11.328Z"
   },
   {
    "duration": 14,
    "start_time": "2023-09-08T05:33:11.355Z"
   },
   {
    "duration": 236,
    "start_time": "2023-09-08T05:33:11.371Z"
   },
   {
    "duration": 4,
    "start_time": "2023-09-08T05:33:11.608Z"
   },
   {
    "duration": 168,
    "start_time": "2023-09-08T05:33:11.614Z"
   },
   {
    "duration": 4,
    "start_time": "2023-09-08T05:33:11.783Z"
   },
   {
    "duration": 9,
    "start_time": "2023-09-08T05:33:41.371Z"
   },
   {
    "duration": 90,
    "start_time": "2023-09-08T05:42:09.782Z"
   },
   {
    "duration": 9,
    "start_time": "2023-09-08T05:42:26.639Z"
   },
   {
    "duration": 10,
    "start_time": "2023-09-08T05:42:53.901Z"
   },
   {
    "duration": 1114,
    "start_time": "2023-09-08T05:43:08.110Z"
   },
   {
    "duration": 38,
    "start_time": "2023-09-08T05:43:09.226Z"
   },
   {
    "duration": 10,
    "start_time": "2023-09-08T05:43:09.265Z"
   },
   {
    "duration": 34,
    "start_time": "2023-09-08T05:43:09.277Z"
   },
   {
    "duration": 10,
    "start_time": "2023-09-08T05:43:09.312Z"
   },
   {
    "duration": 26,
    "start_time": "2023-09-08T05:43:09.323Z"
   },
   {
    "duration": 8,
    "start_time": "2023-09-08T05:43:09.351Z"
   },
   {
    "duration": 11,
    "start_time": "2023-09-08T05:43:09.360Z"
   },
   {
    "duration": 12,
    "start_time": "2023-09-08T05:43:09.372Z"
   },
   {
    "duration": 9,
    "start_time": "2023-09-08T05:43:09.386Z"
   },
   {
    "duration": 6,
    "start_time": "2023-09-08T05:43:09.396Z"
   },
   {
    "duration": 9,
    "start_time": "2023-09-08T05:43:09.404Z"
   },
   {
    "duration": 17,
    "start_time": "2023-09-08T05:43:09.414Z"
   },
   {
    "duration": 18,
    "start_time": "2023-09-08T05:43:09.432Z"
   },
   {
    "duration": 14,
    "start_time": "2023-09-08T05:43:09.451Z"
   },
   {
    "duration": 6,
    "start_time": "2023-09-08T05:43:09.466Z"
   },
   {
    "duration": 10,
    "start_time": "2023-09-08T05:43:09.473Z"
   },
   {
    "duration": 212,
    "start_time": "2023-09-08T05:43:09.484Z"
   },
   {
    "duration": 5,
    "start_time": "2023-09-08T05:43:09.697Z"
   },
   {
    "duration": 102,
    "start_time": "2023-09-08T05:43:09.704Z"
   },
   {
    "duration": 7,
    "start_time": "2023-09-08T05:43:09.807Z"
   },
   {
    "duration": 5,
    "start_time": "2023-09-08T05:43:09.816Z"
   },
   {
    "duration": 144,
    "start_time": "2023-09-08T05:43:09.822Z"
   },
   {
    "duration": 7,
    "start_time": "2023-09-08T05:43:09.967Z"
   },
   {
    "duration": 217,
    "start_time": "2023-09-08T05:43:09.976Z"
   },
   {
    "duration": 203,
    "start_time": "2023-09-08T05:43:10.194Z"
   },
   {
    "duration": 286,
    "start_time": "2023-09-08T05:43:10.398Z"
   },
   {
    "duration": 7,
    "start_time": "2023-09-08T05:43:10.688Z"
   },
   {
    "duration": 207,
    "start_time": "2023-09-08T05:43:10.696Z"
   },
   {
    "duration": 204,
    "start_time": "2023-09-08T05:43:10.905Z"
   },
   {
    "duration": 12,
    "start_time": "2023-09-08T05:43:11.110Z"
   },
   {
    "duration": 13,
    "start_time": "2023-09-08T05:43:11.123Z"
   },
   {
    "duration": 17,
    "start_time": "2023-09-08T05:43:11.138Z"
   },
   {
    "duration": 513,
    "start_time": "2023-09-08T05:43:11.156Z"
   },
   {
    "duration": 17,
    "start_time": "2023-09-08T05:43:11.670Z"
   },
   {
    "duration": 19,
    "start_time": "2023-09-08T05:43:11.688Z"
   },
   {
    "duration": 6,
    "start_time": "2023-09-08T05:43:11.709Z"
   },
   {
    "duration": 36,
    "start_time": "2023-09-08T05:43:11.717Z"
   },
   {
    "duration": 14,
    "start_time": "2023-09-08T05:43:11.754Z"
   },
   {
    "duration": 299,
    "start_time": "2023-09-08T05:43:11.769Z"
   },
   {
    "duration": 210,
    "start_time": "2023-09-08T05:43:12.070Z"
   },
   {
    "duration": 344,
    "start_time": "2023-09-08T05:43:12.281Z"
   },
   {
    "duration": 194,
    "start_time": "2023-09-08T05:43:12.627Z"
   },
   {
    "duration": 203,
    "start_time": "2023-09-08T05:43:12.823Z"
   },
   {
    "duration": 403,
    "start_time": "2023-09-08T05:43:13.028Z"
   },
   {
    "duration": 104,
    "start_time": "2023-09-08T05:43:13.433Z"
   },
   {
    "duration": 25,
    "start_time": "2023-09-08T05:43:13.539Z"
   },
   {
    "duration": 15,
    "start_time": "2023-09-08T05:43:13.565Z"
   },
   {
    "duration": 9,
    "start_time": "2023-09-08T05:43:13.582Z"
   },
   {
    "duration": 17,
    "start_time": "2023-09-08T05:43:13.593Z"
   },
   {
    "duration": 24,
    "start_time": "2023-09-08T05:43:13.611Z"
   },
   {
    "duration": 6,
    "start_time": "2023-09-08T05:43:13.650Z"
   },
   {
    "duration": 8,
    "start_time": "2023-09-08T05:43:13.658Z"
   },
   {
    "duration": 211,
    "start_time": "2023-09-08T05:43:13.668Z"
   },
   {
    "duration": 5,
    "start_time": "2023-09-08T05:43:13.881Z"
   },
   {
    "duration": 157,
    "start_time": "2023-09-08T05:43:13.888Z"
   },
   {
    "duration": 4,
    "start_time": "2023-09-08T05:43:14.050Z"
   },
   {
    "duration": 1174,
    "start_time": "2023-09-08T05:44:15.962Z"
   },
   {
    "duration": 37,
    "start_time": "2023-09-08T05:44:17.138Z"
   },
   {
    "duration": 9,
    "start_time": "2023-09-08T05:44:17.177Z"
   },
   {
    "duration": 36,
    "start_time": "2023-09-08T05:44:17.188Z"
   },
   {
    "duration": 10,
    "start_time": "2023-09-08T05:44:17.226Z"
   },
   {
    "duration": 25,
    "start_time": "2023-09-08T05:44:17.237Z"
   },
   {
    "duration": 9,
    "start_time": "2023-09-08T05:44:17.263Z"
   },
   {
    "duration": 7,
    "start_time": "2023-09-08T05:44:17.274Z"
   },
   {
    "duration": 24,
    "start_time": "2023-09-08T05:44:17.282Z"
   },
   {
    "duration": 6,
    "start_time": "2023-09-08T05:44:17.308Z"
   },
   {
    "duration": 7,
    "start_time": "2023-09-08T05:44:17.315Z"
   },
   {
    "duration": 11,
    "start_time": "2023-09-08T05:44:17.324Z"
   },
   {
    "duration": 38,
    "start_time": "2023-09-08T05:44:17.336Z"
   },
   {
    "duration": 8,
    "start_time": "2023-09-08T05:44:17.375Z"
   },
   {
    "duration": 27,
    "start_time": "2023-09-08T05:44:17.384Z"
   },
   {
    "duration": 12,
    "start_time": "2023-09-08T05:44:17.412Z"
   },
   {
    "duration": 24,
    "start_time": "2023-09-08T05:44:17.426Z"
   },
   {
    "duration": 195,
    "start_time": "2023-09-08T05:44:17.451Z"
   },
   {
    "duration": 6,
    "start_time": "2023-09-08T05:44:17.648Z"
   },
   {
    "duration": 97,
    "start_time": "2023-09-08T05:44:17.655Z"
   },
   {
    "duration": 7,
    "start_time": "2023-09-08T05:44:17.754Z"
   },
   {
    "duration": 17,
    "start_time": "2023-09-08T05:44:17.763Z"
   },
   {
    "duration": 143,
    "start_time": "2023-09-08T05:44:17.782Z"
   },
   {
    "duration": 8,
    "start_time": "2023-09-08T05:44:17.926Z"
   },
   {
    "duration": 205,
    "start_time": "2023-09-08T05:44:17.936Z"
   },
   {
    "duration": 242,
    "start_time": "2023-09-08T05:44:18.143Z"
   },
   {
    "duration": 276,
    "start_time": "2023-09-08T05:44:18.387Z"
   },
   {
    "duration": 8,
    "start_time": "2023-09-08T05:44:18.667Z"
   },
   {
    "duration": 207,
    "start_time": "2023-09-08T05:44:18.676Z"
   },
   {
    "duration": 219,
    "start_time": "2023-09-08T05:44:18.885Z"
   },
   {
    "duration": 13,
    "start_time": "2023-09-08T05:44:19.106Z"
   },
   {
    "duration": 22,
    "start_time": "2023-09-08T05:44:19.120Z"
   },
   {
    "duration": 12,
    "start_time": "2023-09-08T05:44:19.144Z"
   },
   {
    "duration": 507,
    "start_time": "2023-09-08T05:44:19.157Z"
   },
   {
    "duration": 17,
    "start_time": "2023-09-08T05:44:19.666Z"
   },
   {
    "duration": 16,
    "start_time": "2023-09-08T05:44:19.685Z"
   },
   {
    "duration": 6,
    "start_time": "2023-09-08T05:44:19.703Z"
   },
   {
    "duration": 41,
    "start_time": "2023-09-08T05:44:19.711Z"
   },
   {
    "duration": 13,
    "start_time": "2023-09-08T05:44:19.754Z"
   },
   {
    "duration": 310,
    "start_time": "2023-09-08T05:44:19.769Z"
   },
   {
    "duration": 200,
    "start_time": "2023-09-08T05:44:20.081Z"
   },
   {
    "duration": 320,
    "start_time": "2023-09-08T05:44:20.283Z"
   },
   {
    "duration": 202,
    "start_time": "2023-09-08T05:44:20.604Z"
   },
   {
    "duration": 198,
    "start_time": "2023-09-08T05:44:20.807Z"
   },
   {
    "duration": 393,
    "start_time": "2023-09-08T05:44:21.006Z"
   },
   {
    "duration": 105,
    "start_time": "2023-09-08T05:44:21.401Z"
   },
   {
    "duration": 19,
    "start_time": "2023-09-08T05:44:21.507Z"
   },
   {
    "duration": 28,
    "start_time": "2023-09-08T05:44:21.528Z"
   },
   {
    "duration": 9,
    "start_time": "2023-09-08T05:44:21.557Z"
   },
   {
    "duration": 23,
    "start_time": "2023-09-08T05:44:21.568Z"
   },
   {
    "duration": 10,
    "start_time": "2023-09-08T05:44:21.592Z"
   },
   {
    "duration": 11,
    "start_time": "2023-09-08T05:44:21.603Z"
   },
   {
    "duration": 17,
    "start_time": "2023-09-08T05:44:21.615Z"
   },
   {
    "duration": 220,
    "start_time": "2023-09-08T05:44:21.633Z"
   },
   {
    "duration": 5,
    "start_time": "2023-09-08T05:44:21.855Z"
   },
   {
    "duration": 157,
    "start_time": "2023-09-08T05:44:21.861Z"
   },
   {
    "duration": 4,
    "start_time": "2023-09-08T05:44:22.020Z"
   },
   {
    "duration": 9,
    "start_time": "2023-09-08T05:44:51.569Z"
   },
   {
    "duration": 88,
    "start_time": "2023-09-08T05:46:16.381Z"
   },
   {
    "duration": 13,
    "start_time": "2023-09-08T05:47:04.511Z"
   },
   {
    "duration": 1128,
    "start_time": "2023-09-08T05:47:16.747Z"
   },
   {
    "duration": 37,
    "start_time": "2023-09-08T05:47:17.876Z"
   },
   {
    "duration": 10,
    "start_time": "2023-09-08T05:47:17.914Z"
   },
   {
    "duration": 39,
    "start_time": "2023-09-08T05:47:17.927Z"
   },
   {
    "duration": 12,
    "start_time": "2023-09-08T05:47:17.967Z"
   },
   {
    "duration": 25,
    "start_time": "2023-09-08T05:47:17.980Z"
   },
   {
    "duration": 10,
    "start_time": "2023-09-08T05:47:18.006Z"
   },
   {
    "duration": 11,
    "start_time": "2023-09-08T05:47:18.017Z"
   },
   {
    "duration": 11,
    "start_time": "2023-09-08T05:47:18.030Z"
   },
   {
    "duration": 9,
    "start_time": "2023-09-08T05:47:18.044Z"
   },
   {
    "duration": 6,
    "start_time": "2023-09-08T05:47:18.055Z"
   },
   {
    "duration": 5,
    "start_time": "2023-09-08T05:47:18.062Z"
   },
   {
    "duration": 9,
    "start_time": "2023-09-08T05:47:18.068Z"
   },
   {
    "duration": 4,
    "start_time": "2023-09-08T05:47:18.078Z"
   },
   {
    "duration": 16,
    "start_time": "2023-09-08T05:47:18.083Z"
   },
   {
    "duration": 8,
    "start_time": "2023-09-08T05:47:18.101Z"
   },
   {
    "duration": 6,
    "start_time": "2023-09-08T05:47:18.110Z"
   },
   {
    "duration": 233,
    "start_time": "2023-09-08T05:47:18.117Z"
   },
   {
    "duration": 6,
    "start_time": "2023-09-08T05:47:18.352Z"
   },
   {
    "duration": 100,
    "start_time": "2023-09-08T05:47:18.359Z"
   },
   {
    "duration": 8,
    "start_time": "2023-09-08T05:47:18.460Z"
   },
   {
    "duration": 26,
    "start_time": "2023-09-08T05:47:18.470Z"
   },
   {
    "duration": 153,
    "start_time": "2023-09-08T05:47:18.498Z"
   },
   {
    "duration": 9,
    "start_time": "2023-09-08T05:47:18.653Z"
   },
   {
    "duration": 211,
    "start_time": "2023-09-08T05:47:18.664Z"
   },
   {
    "duration": 221,
    "start_time": "2023-09-08T05:47:18.877Z"
   },
   {
    "duration": 286,
    "start_time": "2023-09-08T05:47:19.100Z"
   },
   {
    "duration": 7,
    "start_time": "2023-09-08T05:47:19.389Z"
   },
   {
    "duration": 210,
    "start_time": "2023-09-08T05:47:19.398Z"
   },
   {
    "duration": 206,
    "start_time": "2023-09-08T05:47:19.610Z"
   },
   {
    "duration": 11,
    "start_time": "2023-09-08T05:47:19.818Z"
   },
   {
    "duration": 23,
    "start_time": "2023-09-08T05:47:19.830Z"
   },
   {
    "duration": 11,
    "start_time": "2023-09-08T05:47:19.854Z"
   },
   {
    "duration": 524,
    "start_time": "2023-09-08T05:47:19.867Z"
   },
   {
    "duration": 16,
    "start_time": "2023-09-08T05:47:20.392Z"
   },
   {
    "duration": 15,
    "start_time": "2023-09-08T05:47:20.410Z"
   },
   {
    "duration": 26,
    "start_time": "2023-09-08T05:47:20.427Z"
   },
   {
    "duration": 34,
    "start_time": "2023-09-08T05:47:20.455Z"
   },
   {
    "duration": 19,
    "start_time": "2023-09-08T05:47:20.491Z"
   },
   {
    "duration": 299,
    "start_time": "2023-09-08T05:47:20.512Z"
   },
   {
    "duration": 192,
    "start_time": "2023-09-08T05:47:20.812Z"
   },
   {
    "duration": 338,
    "start_time": "2023-09-08T05:47:21.005Z"
   },
   {
    "duration": 205,
    "start_time": "2023-09-08T05:47:21.345Z"
   },
   {
    "duration": 201,
    "start_time": "2023-09-08T05:47:21.552Z"
   },
   {
    "duration": 419,
    "start_time": "2023-09-08T05:47:21.755Z"
   },
   {
    "duration": 104,
    "start_time": "2023-09-08T05:47:22.176Z"
   },
   {
    "duration": 18,
    "start_time": "2023-09-08T05:47:22.282Z"
   },
   {
    "duration": 27,
    "start_time": "2023-09-08T05:47:22.301Z"
   },
   {
    "duration": 21,
    "start_time": "2023-09-08T05:47:22.330Z"
   },
   {
    "duration": 60,
    "start_time": "2023-09-08T05:47:22.352Z"
   },
   {
    "duration": 11,
    "start_time": "2023-09-08T05:47:22.414Z"
   },
   {
    "duration": 13,
    "start_time": "2023-09-08T05:47:22.426Z"
   },
   {
    "duration": 29,
    "start_time": "2023-09-08T05:47:22.441Z"
   },
   {
    "duration": 216,
    "start_time": "2023-09-08T05:47:22.472Z"
   },
   {
    "duration": 4,
    "start_time": "2023-09-08T05:47:22.689Z"
   },
   {
    "duration": 149,
    "start_time": "2023-09-08T05:47:22.695Z"
   },
   {
    "duration": 5,
    "start_time": "2023-09-08T05:47:22.845Z"
   },
   {
    "duration": 12,
    "start_time": "2023-09-08T05:47:48.910Z"
   },
   {
    "duration": 14,
    "start_time": "2023-09-08T05:51:00.008Z"
   },
   {
    "duration": 99,
    "start_time": "2023-09-08T05:52:20.429Z"
   },
   {
    "duration": 11,
    "start_time": "2023-09-08T05:53:24.593Z"
   },
   {
    "duration": 9,
    "start_time": "2023-09-08T05:53:52.812Z"
   },
   {
    "duration": 7,
    "start_time": "2023-09-08T05:54:50.835Z"
   },
   {
    "duration": 8,
    "start_time": "2023-09-08T05:59:21.913Z"
   },
   {
    "duration": 1256,
    "start_time": "2023-09-08T06:00:09.124Z"
   },
   {
    "duration": 40,
    "start_time": "2023-09-08T06:00:10.382Z"
   },
   {
    "duration": 12,
    "start_time": "2023-09-08T06:00:10.424Z"
   },
   {
    "duration": 42,
    "start_time": "2023-09-08T06:00:10.438Z"
   },
   {
    "duration": 12,
    "start_time": "2023-09-08T06:00:10.481Z"
   },
   {
    "duration": 50,
    "start_time": "2023-09-08T06:00:10.495Z"
   },
   {
    "duration": 14,
    "start_time": "2023-09-08T06:00:10.547Z"
   },
   {
    "duration": 8,
    "start_time": "2023-09-08T06:00:10.562Z"
   },
   {
    "duration": 12,
    "start_time": "2023-09-08T06:00:10.572Z"
   },
   {
    "duration": 30,
    "start_time": "2023-09-08T06:00:10.587Z"
   },
   {
    "duration": 30,
    "start_time": "2023-09-08T06:00:10.618Z"
   },
   {
    "duration": 14,
    "start_time": "2023-09-08T06:00:10.650Z"
   },
   {
    "duration": 20,
    "start_time": "2023-09-08T06:00:10.665Z"
   },
   {
    "duration": 19,
    "start_time": "2023-09-08T06:00:10.686Z"
   },
   {
    "duration": 18,
    "start_time": "2023-09-08T06:00:10.706Z"
   },
   {
    "duration": 12,
    "start_time": "2023-09-08T06:00:10.726Z"
   },
   {
    "duration": 11,
    "start_time": "2023-09-08T06:00:10.739Z"
   },
   {
    "duration": 219,
    "start_time": "2023-09-08T06:00:10.752Z"
   },
   {
    "duration": 6,
    "start_time": "2023-09-08T06:00:10.973Z"
   },
   {
    "duration": 100,
    "start_time": "2023-09-08T06:00:10.981Z"
   },
   {
    "duration": 9,
    "start_time": "2023-09-08T06:00:11.083Z"
   },
   {
    "duration": 12,
    "start_time": "2023-09-08T06:00:11.093Z"
   },
   {
    "duration": 152,
    "start_time": "2023-09-08T06:00:11.106Z"
   },
   {
    "duration": 8,
    "start_time": "2023-09-08T06:00:11.260Z"
   },
   {
    "duration": 226,
    "start_time": "2023-09-08T06:00:11.269Z"
   },
   {
    "duration": 259,
    "start_time": "2023-09-08T06:00:11.496Z"
   },
   {
    "duration": 318,
    "start_time": "2023-09-08T06:00:11.756Z"
   },
   {
    "duration": 11,
    "start_time": "2023-09-08T06:00:12.079Z"
   },
   {
    "duration": 225,
    "start_time": "2023-09-08T06:00:12.092Z"
   },
   {
    "duration": 245,
    "start_time": "2023-09-08T06:00:12.319Z"
   },
   {
    "duration": 11,
    "start_time": "2023-09-08T06:00:12.565Z"
   },
   {
    "duration": 7,
    "start_time": "2023-09-08T06:00:12.578Z"
   },
   {
    "duration": 14,
    "start_time": "2023-09-08T06:00:12.586Z"
   },
   {
    "duration": 23,
    "start_time": "2023-09-08T06:00:12.601Z"
   },
   {
    "duration": 614,
    "start_time": "2023-09-08T06:00:12.626Z"
   },
   {
    "duration": 24,
    "start_time": "2023-09-08T06:00:13.242Z"
   },
   {
    "duration": 35,
    "start_time": "2023-09-08T06:00:13.268Z"
   },
   {
    "duration": 7,
    "start_time": "2023-09-08T06:00:13.305Z"
   },
   {
    "duration": 21,
    "start_time": "2023-09-08T06:00:13.313Z"
   },
   {
    "duration": 17,
    "start_time": "2023-09-08T06:00:13.349Z"
   },
   {
    "duration": 381,
    "start_time": "2023-09-08T06:00:13.368Z"
   },
   {
    "duration": 226,
    "start_time": "2023-09-08T06:00:13.751Z"
   },
   {
    "duration": 342,
    "start_time": "2023-09-08T06:00:13.979Z"
   },
   {
    "duration": 222,
    "start_time": "2023-09-08T06:00:14.322Z"
   },
   {
    "duration": 237,
    "start_time": "2023-09-08T06:00:14.549Z"
   },
   {
    "duration": 453,
    "start_time": "2023-09-08T06:00:14.788Z"
   },
   {
    "duration": 110,
    "start_time": "2023-09-08T06:00:15.242Z"
   },
   {
    "duration": 21,
    "start_time": "2023-09-08T06:00:15.354Z"
   },
   {
    "duration": 15,
    "start_time": "2023-09-08T06:00:15.376Z"
   },
   {
    "duration": 14,
    "start_time": "2023-09-08T06:00:15.392Z"
   },
   {
    "duration": 45,
    "start_time": "2023-09-08T06:00:15.408Z"
   },
   {
    "duration": 13,
    "start_time": "2023-09-08T06:00:15.455Z"
   },
   {
    "duration": 7,
    "start_time": "2023-09-08T06:00:15.469Z"
   },
   {
    "duration": 4,
    "start_time": "2023-09-08T06:00:15.478Z"
   },
   {
    "duration": 241,
    "start_time": "2023-09-08T06:00:15.484Z"
   },
   {
    "duration": 5,
    "start_time": "2023-09-08T06:00:15.727Z"
   },
   {
    "duration": 220,
    "start_time": "2023-09-08T06:00:15.733Z"
   },
   {
    "duration": 6,
    "start_time": "2023-09-08T06:00:15.954Z"
   },
   {
    "duration": 337,
    "start_time": "2023-09-08T06:02:29.284Z"
   },
   {
    "duration": 350,
    "start_time": "2023-09-08T06:06:51.409Z"
   },
   {
    "duration": 4,
    "start_time": "2023-09-08T06:11:17.402Z"
   },
   {
    "duration": 756,
    "start_time": "2023-09-08T06:11:34.468Z"
   },
   {
    "duration": 4,
    "start_time": "2023-09-08T06:11:44.020Z"
   },
   {
    "duration": 1146,
    "start_time": "2023-09-08T06:11:50.539Z"
   },
   {
    "duration": 37,
    "start_time": "2023-09-08T06:11:51.687Z"
   },
   {
    "duration": 10,
    "start_time": "2023-09-08T06:11:51.725Z"
   },
   {
    "duration": 48,
    "start_time": "2023-09-08T06:11:51.737Z"
   },
   {
    "duration": 10,
    "start_time": "2023-09-08T06:11:51.786Z"
   },
   {
    "duration": 31,
    "start_time": "2023-09-08T06:11:51.797Z"
   },
   {
    "duration": 9,
    "start_time": "2023-09-08T06:11:51.829Z"
   },
   {
    "duration": 11,
    "start_time": "2023-09-08T06:11:51.839Z"
   },
   {
    "duration": 20,
    "start_time": "2023-09-08T06:11:51.852Z"
   },
   {
    "duration": 28,
    "start_time": "2023-09-08T06:11:51.874Z"
   },
   {
    "duration": 22,
    "start_time": "2023-09-08T06:11:51.903Z"
   },
   {
    "duration": 13,
    "start_time": "2023-09-08T06:11:51.926Z"
   },
   {
    "duration": 22,
    "start_time": "2023-09-08T06:11:51.940Z"
   },
   {
    "duration": 25,
    "start_time": "2023-09-08T06:11:51.963Z"
   },
   {
    "duration": 24,
    "start_time": "2023-09-08T06:11:51.990Z"
   },
   {
    "duration": 35,
    "start_time": "2023-09-08T06:11:52.016Z"
   },
   {
    "duration": 22,
    "start_time": "2023-09-08T06:11:52.052Z"
   },
   {
    "duration": 199,
    "start_time": "2023-09-08T06:11:52.076Z"
   },
   {
    "duration": 5,
    "start_time": "2023-09-08T06:11:52.276Z"
   },
   {
    "duration": 95,
    "start_time": "2023-09-08T06:11:52.283Z"
   },
   {
    "duration": 6,
    "start_time": "2023-09-08T06:11:52.380Z"
   },
   {
    "duration": 15,
    "start_time": "2023-09-08T06:11:52.388Z"
   },
   {
    "duration": 157,
    "start_time": "2023-09-08T06:11:52.404Z"
   },
   {
    "duration": 7,
    "start_time": "2023-09-08T06:11:52.563Z"
   },
   {
    "duration": 225,
    "start_time": "2023-09-08T06:11:52.572Z"
   },
   {
    "duration": 207,
    "start_time": "2023-09-08T06:11:52.799Z"
   },
   {
    "duration": 276,
    "start_time": "2023-09-08T06:11:53.007Z"
   },
   {
    "duration": 8,
    "start_time": "2023-09-08T06:11:53.286Z"
   },
   {
    "duration": 238,
    "start_time": "2023-09-08T06:11:53.295Z"
   },
   {
    "duration": 260,
    "start_time": "2023-09-08T06:11:53.535Z"
   },
   {
    "duration": 10,
    "start_time": "2023-09-08T06:11:53.796Z"
   },
   {
    "duration": 11,
    "start_time": "2023-09-08T06:11:53.808Z"
   },
   {
    "duration": 10,
    "start_time": "2023-09-08T06:11:53.820Z"
   },
   {
    "duration": 18,
    "start_time": "2023-09-08T06:11:53.831Z"
   },
   {
    "duration": 9,
    "start_time": "2023-09-08T06:11:53.850Z"
   },
   {
    "duration": 315,
    "start_time": "2023-09-08T06:11:53.860Z"
   },
   {
    "duration": 17,
    "start_time": "2023-09-08T06:11:54.176Z"
   },
   {
    "duration": 15,
    "start_time": "2023-09-08T06:11:54.195Z"
   },
   {
    "duration": 7,
    "start_time": "2023-09-08T06:11:54.211Z"
   },
   {
    "duration": 51,
    "start_time": "2023-09-08T06:11:54.219Z"
   },
   {
    "duration": 15,
    "start_time": "2023-09-08T06:11:54.272Z"
   },
   {
    "duration": 227,
    "start_time": "2023-09-08T06:11:54.288Z"
   },
   {
    "duration": 296,
    "start_time": "2023-09-08T06:11:54.517Z"
   },
   {
    "duration": 328,
    "start_time": "2023-09-08T06:11:54.815Z"
   },
   {
    "duration": 218,
    "start_time": "2023-09-08T06:11:55.146Z"
   },
   {
    "duration": 204,
    "start_time": "2023-09-08T06:11:55.366Z"
   },
   {
    "duration": 326,
    "start_time": "2023-09-08T06:11:55.572Z"
   },
   {
    "duration": 280,
    "start_time": "2023-09-08T06:11:55.900Z"
   },
   {
    "duration": 19,
    "start_time": "2023-09-08T06:11:56.181Z"
   },
   {
    "duration": 14,
    "start_time": "2023-09-08T06:11:56.202Z"
   },
   {
    "duration": 8,
    "start_time": "2023-09-08T06:11:56.218Z"
   },
   {
    "duration": 14,
    "start_time": "2023-09-08T06:11:56.249Z"
   },
   {
    "duration": 15,
    "start_time": "2023-09-08T06:11:56.265Z"
   },
   {
    "duration": 7,
    "start_time": "2023-09-08T06:11:56.281Z"
   },
   {
    "duration": 8,
    "start_time": "2023-09-08T06:11:56.289Z"
   },
   {
    "duration": 238,
    "start_time": "2023-09-08T06:11:56.298Z"
   },
   {
    "duration": 4,
    "start_time": "2023-09-08T06:11:56.538Z"
   },
   {
    "duration": 156,
    "start_time": "2023-09-08T06:11:56.543Z"
   },
   {
    "duration": 4,
    "start_time": "2023-09-08T06:11:56.700Z"
   },
   {
    "duration": 10,
    "start_time": "2023-09-08T06:13:02.501Z"
   },
   {
    "duration": 95,
    "start_time": "2023-09-08T06:14:06.807Z"
   },
   {
    "duration": 108,
    "start_time": "2023-09-08T06:14:36.845Z"
   },
   {
    "duration": 39,
    "start_time": "2023-09-08T06:15:38.788Z"
   },
   {
    "duration": 4,
    "start_time": "2023-09-08T06:16:02.821Z"
   },
   {
    "duration": 7,
    "start_time": "2023-09-08T06:16:27.374Z"
   },
   {
    "duration": 1154,
    "start_time": "2023-09-08T06:16:42.245Z"
   },
   {
    "duration": 37,
    "start_time": "2023-09-08T06:16:43.401Z"
   },
   {
    "duration": 11,
    "start_time": "2023-09-08T06:16:43.440Z"
   },
   {
    "duration": 38,
    "start_time": "2023-09-08T06:16:43.453Z"
   },
   {
    "duration": 11,
    "start_time": "2023-09-08T06:16:43.493Z"
   },
   {
    "duration": 20,
    "start_time": "2023-09-08T06:16:43.506Z"
   },
   {
    "duration": 10,
    "start_time": "2023-09-08T06:16:43.527Z"
   },
   {
    "duration": 11,
    "start_time": "2023-09-08T06:16:43.538Z"
   },
   {
    "duration": 6,
    "start_time": "2023-09-08T06:16:43.550Z"
   },
   {
    "duration": 16,
    "start_time": "2023-09-08T06:16:43.558Z"
   },
   {
    "duration": 10,
    "start_time": "2023-09-08T06:16:43.576Z"
   },
   {
    "duration": 8,
    "start_time": "2023-09-08T06:16:43.588Z"
   },
   {
    "duration": 21,
    "start_time": "2023-09-08T06:16:43.597Z"
   },
   {
    "duration": 4,
    "start_time": "2023-09-08T06:16:43.620Z"
   },
   {
    "duration": 15,
    "start_time": "2023-09-08T06:16:43.626Z"
   },
   {
    "duration": 5,
    "start_time": "2023-09-08T06:16:43.649Z"
   },
   {
    "duration": 5,
    "start_time": "2023-09-08T06:16:43.656Z"
   },
   {
    "duration": 209,
    "start_time": "2023-09-08T06:16:43.662Z"
   },
   {
    "duration": 5,
    "start_time": "2023-09-08T06:16:43.873Z"
   },
   {
    "duration": 98,
    "start_time": "2023-09-08T06:16:43.879Z"
   },
   {
    "duration": 7,
    "start_time": "2023-09-08T06:16:43.979Z"
   },
   {
    "duration": 4,
    "start_time": "2023-09-08T06:16:43.988Z"
   },
   {
    "duration": 150,
    "start_time": "2023-09-08T06:16:43.994Z"
   },
   {
    "duration": 10,
    "start_time": "2023-09-08T06:16:44.145Z"
   },
   {
    "duration": 213,
    "start_time": "2023-09-08T06:16:44.157Z"
   },
   {
    "duration": 212,
    "start_time": "2023-09-08T06:16:44.372Z"
   },
   {
    "duration": 272,
    "start_time": "2023-09-08T06:16:44.585Z"
   },
   {
    "duration": 8,
    "start_time": "2023-09-08T06:16:44.860Z"
   },
   {
    "duration": 212,
    "start_time": "2023-09-08T06:16:44.869Z"
   },
   {
    "duration": 206,
    "start_time": "2023-09-08T06:16:45.082Z"
   },
   {
    "duration": 10,
    "start_time": "2023-09-08T06:16:45.289Z"
   },
   {
    "duration": 8,
    "start_time": "2023-09-08T06:16:45.301Z"
   },
   {
    "duration": 13,
    "start_time": "2023-09-08T06:16:45.311Z"
   },
   {
    "duration": 8,
    "start_time": "2023-09-08T06:16:45.325Z"
   },
   {
    "duration": 19,
    "start_time": "2023-09-08T06:16:45.335Z"
   },
   {
    "duration": 306,
    "start_time": "2023-09-08T06:16:45.355Z"
   },
   {
    "duration": 17,
    "start_time": "2023-09-08T06:16:45.662Z"
   },
   {
    "duration": 16,
    "start_time": "2023-09-08T06:16:45.680Z"
   },
   {
    "duration": 8,
    "start_time": "2023-09-08T06:16:45.698Z"
   },
   {
    "duration": 17,
    "start_time": "2023-09-08T06:16:45.707Z"
   },
   {
    "duration": 14,
    "start_time": "2023-09-08T06:16:45.750Z"
   },
   {
    "duration": 217,
    "start_time": "2023-09-08T06:16:45.765Z"
   },
   {
    "duration": 313,
    "start_time": "2023-09-08T06:16:45.985Z"
   },
   {
    "duration": 435,
    "start_time": "2023-09-08T06:16:46.300Z"
   },
   {
    "duration": 216,
    "start_time": "2023-09-08T06:16:46.736Z"
   },
   {
    "duration": 205,
    "start_time": "2023-09-08T06:16:46.953Z"
   },
   {
    "duration": 341,
    "start_time": "2023-09-08T06:16:47.160Z"
   },
   {
    "duration": 197,
    "start_time": "2023-09-08T06:16:47.502Z"
   },
   {
    "duration": 17,
    "start_time": "2023-09-08T06:16:47.701Z"
   },
   {
    "duration": 33,
    "start_time": "2023-09-08T06:16:47.719Z"
   },
   {
    "duration": 8,
    "start_time": "2023-09-08T06:16:47.754Z"
   },
   {
    "duration": 14,
    "start_time": "2023-09-08T06:16:47.763Z"
   },
   {
    "duration": 26,
    "start_time": "2023-09-08T06:16:47.779Z"
   },
   {
    "duration": 9,
    "start_time": "2023-09-08T06:16:47.806Z"
   },
   {
    "duration": 9,
    "start_time": "2023-09-08T06:16:47.816Z"
   },
   {
    "duration": 224,
    "start_time": "2023-09-08T06:16:47.827Z"
   },
   {
    "duration": 4,
    "start_time": "2023-09-08T06:16:48.053Z"
   },
   {
    "duration": 160,
    "start_time": "2023-09-08T06:16:48.058Z"
   },
   {
    "duration": 4,
    "start_time": "2023-09-08T06:16:48.220Z"
   },
   {
    "duration": 4,
    "start_time": "2023-09-08T06:17:10.778Z"
   },
   {
    "duration": 5,
    "start_time": "2023-09-08T06:17:43.719Z"
   },
   {
    "duration": 5,
    "start_time": "2023-09-08T06:19:59.722Z"
   },
   {
    "duration": 1182,
    "start_time": "2023-09-08T06:20:10.179Z"
   },
   {
    "duration": 37,
    "start_time": "2023-09-08T06:20:11.363Z"
   },
   {
    "duration": 10,
    "start_time": "2023-09-08T06:20:11.402Z"
   },
   {
    "duration": 46,
    "start_time": "2023-09-08T06:20:11.414Z"
   },
   {
    "duration": 25,
    "start_time": "2023-09-08T06:20:11.461Z"
   },
   {
    "duration": 50,
    "start_time": "2023-09-08T06:20:11.488Z"
   },
   {
    "duration": 9,
    "start_time": "2023-09-08T06:20:11.539Z"
   },
   {
    "duration": 23,
    "start_time": "2023-09-08T06:20:11.549Z"
   },
   {
    "duration": 7,
    "start_time": "2023-09-08T06:20:11.574Z"
   },
   {
    "duration": 12,
    "start_time": "2023-09-08T06:20:11.583Z"
   },
   {
    "duration": 18,
    "start_time": "2023-09-08T06:20:11.597Z"
   },
   {
    "duration": 26,
    "start_time": "2023-09-08T06:20:11.616Z"
   },
   {
    "duration": 30,
    "start_time": "2023-09-08T06:20:11.644Z"
   },
   {
    "duration": 4,
    "start_time": "2023-09-08T06:20:11.675Z"
   },
   {
    "duration": 21,
    "start_time": "2023-09-08T06:20:11.681Z"
   },
   {
    "duration": 8,
    "start_time": "2023-09-08T06:20:11.703Z"
   },
   {
    "duration": 20,
    "start_time": "2023-09-08T06:20:11.712Z"
   },
   {
    "duration": 202,
    "start_time": "2023-09-08T06:20:11.734Z"
   },
   {
    "duration": 14,
    "start_time": "2023-09-08T06:20:11.937Z"
   },
   {
    "duration": 98,
    "start_time": "2023-09-08T06:20:11.953Z"
   },
   {
    "duration": 8,
    "start_time": "2023-09-08T06:20:12.052Z"
   },
   {
    "duration": 8,
    "start_time": "2023-09-08T06:20:12.061Z"
   },
   {
    "duration": 139,
    "start_time": "2023-09-08T06:20:12.070Z"
   },
   {
    "duration": 8,
    "start_time": "2023-09-08T06:20:12.211Z"
   },
   {
    "duration": 214,
    "start_time": "2023-09-08T06:20:12.220Z"
   },
   {
    "duration": 217,
    "start_time": "2023-09-08T06:20:12.436Z"
   },
   {
    "duration": 295,
    "start_time": "2023-09-08T06:20:12.654Z"
   },
   {
    "duration": 8,
    "start_time": "2023-09-08T06:20:12.952Z"
   },
   {
    "duration": 216,
    "start_time": "2023-09-08T06:20:12.962Z"
   },
   {
    "duration": 223,
    "start_time": "2023-09-08T06:20:13.179Z"
   },
   {
    "duration": 10,
    "start_time": "2023-09-08T06:20:13.404Z"
   },
   {
    "duration": 26,
    "start_time": "2023-09-08T06:20:13.416Z"
   },
   {
    "duration": 25,
    "start_time": "2023-09-08T06:20:13.444Z"
   },
   {
    "duration": 25,
    "start_time": "2023-09-08T06:20:13.470Z"
   },
   {
    "duration": 26,
    "start_time": "2023-09-08T06:20:13.496Z"
   },
   {
    "duration": 332,
    "start_time": "2023-09-08T06:20:13.524Z"
   },
   {
    "duration": 17,
    "start_time": "2023-09-08T06:20:13.858Z"
   },
   {
    "duration": 21,
    "start_time": "2023-09-08T06:20:13.877Z"
   },
   {
    "duration": 9,
    "start_time": "2023-09-08T06:20:13.899Z"
   },
   {
    "duration": 42,
    "start_time": "2023-09-08T06:20:13.910Z"
   },
   {
    "duration": 19,
    "start_time": "2023-09-08T06:20:13.954Z"
   },
   {
    "duration": 253,
    "start_time": "2023-09-08T06:20:13.975Z"
   },
   {
    "duration": 294,
    "start_time": "2023-09-08T06:20:14.229Z"
   },
   {
    "duration": 338,
    "start_time": "2023-09-08T06:20:14.525Z"
   },
   {
    "duration": 205,
    "start_time": "2023-09-08T06:20:14.864Z"
   },
   {
    "duration": 202,
    "start_time": "2023-09-08T06:20:15.071Z"
   },
   {
    "duration": 322,
    "start_time": "2023-09-08T06:20:15.275Z"
   },
   {
    "duration": 205,
    "start_time": "2023-09-08T06:20:15.598Z"
   },
   {
    "duration": 19,
    "start_time": "2023-09-08T06:20:15.804Z"
   },
   {
    "duration": 27,
    "start_time": "2023-09-08T06:20:15.824Z"
   },
   {
    "duration": 9,
    "start_time": "2023-09-08T06:20:15.853Z"
   },
   {
    "duration": 14,
    "start_time": "2023-09-08T06:20:15.863Z"
   },
   {
    "duration": 10,
    "start_time": "2023-09-08T06:20:15.879Z"
   },
   {
    "duration": 6,
    "start_time": "2023-09-08T06:20:15.891Z"
   },
   {
    "duration": 4,
    "start_time": "2023-09-08T06:20:15.899Z"
   },
   {
    "duration": 257,
    "start_time": "2023-09-08T06:20:15.905Z"
   },
   {
    "duration": 5,
    "start_time": "2023-09-08T06:20:16.164Z"
   },
   {
    "duration": 176,
    "start_time": "2023-09-08T06:20:16.171Z"
   },
   {
    "duration": 6,
    "start_time": "2023-09-08T06:20:16.350Z"
   },
   {
    "duration": 6,
    "start_time": "2023-09-08T06:20:57.268Z"
   },
   {
    "duration": 1214,
    "start_time": "2023-09-08T06:21:05.073Z"
   },
   {
    "duration": 38,
    "start_time": "2023-09-08T06:21:06.289Z"
   },
   {
    "duration": 11,
    "start_time": "2023-09-08T06:21:06.328Z"
   },
   {
    "duration": 36,
    "start_time": "2023-09-08T06:21:06.340Z"
   },
   {
    "duration": 11,
    "start_time": "2023-09-08T06:21:06.378Z"
   },
   {
    "duration": 32,
    "start_time": "2023-09-08T06:21:06.390Z"
   },
   {
    "duration": 9,
    "start_time": "2023-09-08T06:21:06.423Z"
   },
   {
    "duration": 16,
    "start_time": "2023-09-08T06:21:06.434Z"
   },
   {
    "duration": 9,
    "start_time": "2023-09-08T06:21:06.451Z"
   },
   {
    "duration": 6,
    "start_time": "2023-09-08T06:21:06.462Z"
   },
   {
    "duration": 20,
    "start_time": "2023-09-08T06:21:06.470Z"
   },
   {
    "duration": 4,
    "start_time": "2023-09-08T06:21:06.492Z"
   },
   {
    "duration": 12,
    "start_time": "2023-09-08T06:21:06.498Z"
   },
   {
    "duration": 5,
    "start_time": "2023-09-08T06:21:06.512Z"
   },
   {
    "duration": 11,
    "start_time": "2023-09-08T06:21:06.518Z"
   },
   {
    "duration": 20,
    "start_time": "2023-09-08T06:21:06.531Z"
   },
   {
    "duration": 5,
    "start_time": "2023-09-08T06:21:06.552Z"
   },
   {
    "duration": 202,
    "start_time": "2023-09-08T06:21:06.559Z"
   },
   {
    "duration": 5,
    "start_time": "2023-09-08T06:21:06.763Z"
   },
   {
    "duration": 100,
    "start_time": "2023-09-08T06:21:06.769Z"
   },
   {
    "duration": 8,
    "start_time": "2023-09-08T06:21:06.870Z"
   },
   {
    "duration": 37,
    "start_time": "2023-09-08T06:21:06.879Z"
   },
   {
    "duration": 132,
    "start_time": "2023-09-08T06:21:06.917Z"
   },
   {
    "duration": 8,
    "start_time": "2023-09-08T06:21:07.051Z"
   },
   {
    "duration": 218,
    "start_time": "2023-09-08T06:21:07.060Z"
   },
   {
    "duration": 208,
    "start_time": "2023-09-08T06:21:07.280Z"
   },
   {
    "duration": 271,
    "start_time": "2023-09-08T06:21:07.489Z"
   },
   {
    "duration": 7,
    "start_time": "2023-09-08T06:21:07.762Z"
   },
   {
    "duration": 208,
    "start_time": "2023-09-08T06:21:07.771Z"
   },
   {
    "duration": 222,
    "start_time": "2023-09-08T06:21:07.980Z"
   },
   {
    "duration": 10,
    "start_time": "2023-09-08T06:21:08.204Z"
   },
   {
    "duration": 10,
    "start_time": "2023-09-08T06:21:08.216Z"
   },
   {
    "duration": 6,
    "start_time": "2023-09-08T06:21:08.228Z"
   },
   {
    "duration": 34,
    "start_time": "2023-09-08T06:21:08.236Z"
   },
   {
    "duration": 12,
    "start_time": "2023-09-08T06:21:08.272Z"
   },
   {
    "duration": 338,
    "start_time": "2023-09-08T06:21:08.286Z"
   },
   {
    "duration": 24,
    "start_time": "2023-09-08T06:21:08.626Z"
   },
   {
    "duration": 16,
    "start_time": "2023-09-08T06:21:08.652Z"
   },
   {
    "duration": 6,
    "start_time": "2023-09-08T06:21:08.670Z"
   },
   {
    "duration": 21,
    "start_time": "2023-09-08T06:21:08.678Z"
   },
   {
    "duration": 14,
    "start_time": "2023-09-08T06:21:08.704Z"
   },
   {
    "duration": 219,
    "start_time": "2023-09-08T06:21:08.719Z"
   },
   {
    "duration": 295,
    "start_time": "2023-09-08T06:21:08.940Z"
   },
   {
    "duration": 315,
    "start_time": "2023-09-08T06:21:09.237Z"
   },
   {
    "duration": 206,
    "start_time": "2023-09-08T06:21:09.554Z"
   },
   {
    "duration": 205,
    "start_time": "2023-09-08T06:21:09.762Z"
   },
   {
    "duration": 315,
    "start_time": "2023-09-08T06:21:09.968Z"
   },
   {
    "duration": 192,
    "start_time": "2023-09-08T06:21:10.285Z"
   },
   {
    "duration": 18,
    "start_time": "2023-09-08T06:21:10.479Z"
   },
   {
    "duration": 16,
    "start_time": "2023-09-08T06:21:10.499Z"
   },
   {
    "duration": 16,
    "start_time": "2023-09-08T06:21:10.516Z"
   },
   {
    "duration": 15,
    "start_time": "2023-09-08T06:21:10.549Z"
   },
   {
    "duration": 19,
    "start_time": "2023-09-08T06:21:10.565Z"
   },
   {
    "duration": 7,
    "start_time": "2023-09-08T06:21:10.585Z"
   },
   {
    "duration": 5,
    "start_time": "2023-09-08T06:21:10.593Z"
   },
   {
    "duration": 259,
    "start_time": "2023-09-08T06:21:10.599Z"
   },
   {
    "duration": 4,
    "start_time": "2023-09-08T06:21:10.860Z"
   },
   {
    "duration": 146,
    "start_time": "2023-09-08T06:21:10.865Z"
   },
   {
    "duration": 4,
    "start_time": "2023-09-08T06:21:11.013Z"
   },
   {
    "duration": 8,
    "start_time": "2023-09-08T06:24:45.206Z"
   },
   {
    "duration": 10,
    "start_time": "2023-09-08T06:29:35.223Z"
   },
   {
    "duration": 10,
    "start_time": "2023-09-08T06:30:09.058Z"
   },
   {
    "duration": 90,
    "start_time": "2023-09-08T06:30:29.662Z"
   },
   {
    "duration": 4,
    "start_time": "2023-09-08T06:30:39.687Z"
   },
   {
    "duration": 5,
    "start_time": "2023-09-08T06:31:16.211Z"
   },
   {
    "duration": 5,
    "start_time": "2023-09-08T06:32:27.003Z"
   },
   {
    "duration": 5,
    "start_time": "2023-09-08T06:33:50.551Z"
   },
   {
    "duration": 13,
    "start_time": "2023-09-08T06:35:43.259Z"
   },
   {
    "duration": 6,
    "start_time": "2023-09-08T06:36:08.223Z"
   },
   {
    "duration": 1333,
    "start_time": "2023-09-08T06:37:22.328Z"
   },
   {
    "duration": 136,
    "start_time": "2023-09-08T06:38:18.621Z"
   },
   {
    "duration": 4,
    "start_time": "2023-09-08T06:38:26.038Z"
   },
   {
    "duration": 108,
    "start_time": "2023-09-08T06:42:26.176Z"
   },
   {
    "duration": 4,
    "start_time": "2023-09-08T06:42:31.204Z"
   },
   {
    "duration": 5,
    "start_time": "2023-09-08T06:44:24.621Z"
   },
   {
    "duration": 187,
    "start_time": "2023-09-08T06:47:19.234Z"
   },
   {
    "duration": 203,
    "start_time": "2023-09-08T06:47:59.178Z"
   },
   {
    "duration": 97,
    "start_time": "2023-09-08T06:50:12.472Z"
   },
   {
    "duration": 231,
    "start_time": "2023-09-08T06:50:26.376Z"
   },
   {
    "duration": 406,
    "start_time": "2023-09-08T06:51:10.368Z"
   },
   {
    "duration": 202,
    "start_time": "2023-09-08T06:52:52.076Z"
   },
   {
    "duration": 209,
    "start_time": "2023-09-08T06:53:40.280Z"
   },
   {
    "duration": 320,
    "start_time": "2023-09-08T06:54:27.268Z"
   },
   {
    "duration": 23,
    "start_time": "2023-09-08T07:01:32.861Z"
   },
   {
    "duration": 7,
    "start_time": "2023-09-08T07:06:20.993Z"
   },
   {
    "duration": 1113,
    "start_time": "2023-09-08T07:08:42.723Z"
   },
   {
    "duration": 37,
    "start_time": "2023-09-08T07:08:43.838Z"
   },
   {
    "duration": 10,
    "start_time": "2023-09-08T07:08:43.877Z"
   },
   {
    "duration": 34,
    "start_time": "2023-09-08T07:08:43.888Z"
   },
   {
    "duration": 10,
    "start_time": "2023-09-08T07:08:43.924Z"
   },
   {
    "duration": 19,
    "start_time": "2023-09-08T07:08:43.935Z"
   },
   {
    "duration": 9,
    "start_time": "2023-09-08T07:08:43.955Z"
   },
   {
    "duration": 21,
    "start_time": "2023-09-08T07:08:43.965Z"
   },
   {
    "duration": 28,
    "start_time": "2023-09-08T07:08:43.987Z"
   },
   {
    "duration": 5,
    "start_time": "2023-09-08T07:08:44.016Z"
   },
   {
    "duration": 6,
    "start_time": "2023-09-08T07:08:44.023Z"
   },
   {
    "duration": 7,
    "start_time": "2023-09-08T07:08:44.030Z"
   },
   {
    "duration": 7,
    "start_time": "2023-09-08T07:08:44.039Z"
   },
   {
    "duration": 4,
    "start_time": "2023-09-08T07:08:44.048Z"
   },
   {
    "duration": 10,
    "start_time": "2023-09-08T07:08:44.053Z"
   },
   {
    "duration": 6,
    "start_time": "2023-09-08T07:08:44.064Z"
   },
   {
    "duration": 6,
    "start_time": "2023-09-08T07:08:44.072Z"
   },
   {
    "duration": 212,
    "start_time": "2023-09-08T07:08:44.079Z"
   },
   {
    "duration": 5,
    "start_time": "2023-09-08T07:08:44.292Z"
   },
   {
    "duration": 95,
    "start_time": "2023-09-08T07:08:44.298Z"
   },
   {
    "duration": 7,
    "start_time": "2023-09-08T07:08:44.395Z"
   },
   {
    "duration": 23,
    "start_time": "2023-09-08T07:08:44.403Z"
   },
   {
    "duration": 136,
    "start_time": "2023-09-08T07:08:44.428Z"
   },
   {
    "duration": 8,
    "start_time": "2023-09-08T07:08:44.566Z"
   },
   {
    "duration": 210,
    "start_time": "2023-09-08T07:08:44.575Z"
   },
   {
    "duration": 204,
    "start_time": "2023-09-08T07:08:44.786Z"
   },
   {
    "duration": 298,
    "start_time": "2023-09-08T07:08:44.991Z"
   },
   {
    "duration": 8,
    "start_time": "2023-09-08T07:08:45.291Z"
   },
   {
    "duration": 230,
    "start_time": "2023-09-08T07:08:45.301Z"
   },
   {
    "duration": 207,
    "start_time": "2023-09-08T07:08:45.533Z"
   },
   {
    "duration": 18,
    "start_time": "2023-09-08T07:08:45.742Z"
   },
   {
    "duration": 23,
    "start_time": "2023-09-08T07:08:45.762Z"
   },
   {
    "duration": 32,
    "start_time": "2023-09-08T07:08:45.787Z"
   },
   {
    "duration": 26,
    "start_time": "2023-09-08T07:08:45.821Z"
   },
   {
    "duration": 389,
    "start_time": "2023-09-08T07:08:45.849Z"
   },
   {
    "duration": 24,
    "start_time": "2023-09-08T07:08:46.240Z"
   },
   {
    "duration": 26,
    "start_time": "2023-09-08T07:08:46.265Z"
   },
   {
    "duration": 5,
    "start_time": "2023-09-08T07:08:46.293Z"
   },
   {
    "duration": 11,
    "start_time": "2023-09-08T07:08:46.300Z"
   },
   {
    "duration": 32,
    "start_time": "2023-09-08T07:08:46.313Z"
   },
   {
    "duration": 15,
    "start_time": "2023-09-08T07:08:46.351Z"
   },
   {
    "duration": 223,
    "start_time": "2023-09-08T07:08:46.368Z"
   },
   {
    "duration": 292,
    "start_time": "2023-09-08T07:08:46.593Z"
   },
   {
    "duration": 317,
    "start_time": "2023-09-08T07:08:46.887Z"
   },
   {
    "duration": 200,
    "start_time": "2023-09-08T07:08:47.206Z"
   },
   {
    "duration": 195,
    "start_time": "2023-09-08T07:08:47.408Z"
   },
   {
    "duration": 317,
    "start_time": "2023-09-08T07:08:47.604Z"
   },
   {
    "duration": 189,
    "start_time": "2023-09-08T07:08:47.923Z"
   },
   {
    "duration": 18,
    "start_time": "2023-09-08T07:08:48.114Z"
   },
   {
    "duration": 102,
    "start_time": "2023-09-08T07:08:48.133Z"
   },
   {
    "duration": 0,
    "start_time": "2023-09-08T07:08:48.236Z"
   },
   {
    "duration": 0,
    "start_time": "2023-09-08T07:08:48.238Z"
   },
   {
    "duration": 0,
    "start_time": "2023-09-08T07:08:48.239Z"
   },
   {
    "duration": 0,
    "start_time": "2023-09-08T07:08:48.240Z"
   },
   {
    "duration": 0,
    "start_time": "2023-09-08T07:08:48.240Z"
   },
   {
    "duration": 0,
    "start_time": "2023-09-08T07:08:48.241Z"
   },
   {
    "duration": 0,
    "start_time": "2023-09-08T07:08:48.241Z"
   },
   {
    "duration": 0,
    "start_time": "2023-09-08T07:08:48.242Z"
   },
   {
    "duration": 0,
    "start_time": "2023-09-08T07:08:48.242Z"
   },
   {
    "duration": 7,
    "start_time": "2023-09-08T07:09:53.347Z"
   },
   {
    "duration": 16,
    "start_time": "2023-09-08T07:10:31.124Z"
   },
   {
    "duration": 6,
    "start_time": "2023-09-08T07:10:54.132Z"
   },
   {
    "duration": 5,
    "start_time": "2023-09-08T07:15:06.894Z"
   },
   {
    "duration": 20,
    "start_time": "2023-09-08T07:17:27.598Z"
   },
   {
    "duration": 1136,
    "start_time": "2023-09-08T07:25:34.100Z"
   },
   {
    "duration": 38,
    "start_time": "2023-09-08T07:25:35.237Z"
   },
   {
    "duration": 10,
    "start_time": "2023-09-08T07:25:35.276Z"
   },
   {
    "duration": 43,
    "start_time": "2023-09-08T07:25:35.288Z"
   },
   {
    "duration": 10,
    "start_time": "2023-09-08T07:25:35.332Z"
   },
   {
    "duration": 28,
    "start_time": "2023-09-08T07:25:35.344Z"
   },
   {
    "duration": 23,
    "start_time": "2023-09-08T07:25:35.373Z"
   },
   {
    "duration": 11,
    "start_time": "2023-09-08T07:25:35.398Z"
   },
   {
    "duration": 18,
    "start_time": "2023-09-08T07:25:35.410Z"
   },
   {
    "duration": 21,
    "start_time": "2023-09-08T07:25:35.430Z"
   },
   {
    "duration": 13,
    "start_time": "2023-09-08T07:25:35.452Z"
   },
   {
    "duration": 6,
    "start_time": "2023-09-08T07:25:35.466Z"
   },
   {
    "duration": 17,
    "start_time": "2023-09-08T07:25:35.473Z"
   },
   {
    "duration": 13,
    "start_time": "2023-09-08T07:25:35.491Z"
   },
   {
    "duration": 17,
    "start_time": "2023-09-08T07:25:35.505Z"
   },
   {
    "duration": 16,
    "start_time": "2023-09-08T07:25:35.524Z"
   },
   {
    "duration": 11,
    "start_time": "2023-09-08T07:25:35.541Z"
   },
   {
    "duration": 234,
    "start_time": "2023-09-08T07:25:35.553Z"
   },
   {
    "duration": 6,
    "start_time": "2023-09-08T07:25:35.789Z"
   },
   {
    "duration": 102,
    "start_time": "2023-09-08T07:25:35.796Z"
   },
   {
    "duration": 10,
    "start_time": "2023-09-08T07:25:35.900Z"
   },
   {
    "duration": 32,
    "start_time": "2023-09-08T07:25:35.912Z"
   },
   {
    "duration": 169,
    "start_time": "2023-09-08T07:25:35.946Z"
   },
   {
    "duration": 9,
    "start_time": "2023-09-08T07:25:36.117Z"
   },
   {
    "duration": 230,
    "start_time": "2023-09-08T07:25:36.128Z"
   },
   {
    "duration": 214,
    "start_time": "2023-09-08T07:25:36.360Z"
   },
   {
    "duration": 269,
    "start_time": "2023-09-08T07:25:36.575Z"
   },
   {
    "duration": 10,
    "start_time": "2023-09-08T07:25:36.851Z"
   },
   {
    "duration": 238,
    "start_time": "2023-09-08T07:25:36.862Z"
   },
   {
    "duration": 204,
    "start_time": "2023-09-08T07:25:37.101Z"
   },
   {
    "duration": 10,
    "start_time": "2023-09-08T07:25:37.306Z"
   },
   {
    "duration": 20,
    "start_time": "2023-09-08T07:25:37.318Z"
   },
   {
    "duration": 16,
    "start_time": "2023-09-08T07:25:37.340Z"
   },
   {
    "duration": 20,
    "start_time": "2023-09-08T07:25:37.358Z"
   },
   {
    "duration": 305,
    "start_time": "2023-09-08T07:25:37.380Z"
   },
   {
    "duration": 17,
    "start_time": "2023-09-08T07:25:37.686Z"
   },
   {
    "duration": 17,
    "start_time": "2023-09-08T07:25:37.705Z"
   },
   {
    "duration": 3,
    "start_time": "2023-09-08T07:25:37.724Z"
   },
   {
    "duration": 24,
    "start_time": "2023-09-08T07:25:37.729Z"
   },
   {
    "duration": 18,
    "start_time": "2023-09-08T07:25:37.755Z"
   },
   {
    "duration": 13,
    "start_time": "2023-09-08T07:25:37.774Z"
   },
   {
    "duration": 217,
    "start_time": "2023-09-08T07:25:37.789Z"
   },
   {
    "duration": 285,
    "start_time": "2023-09-08T07:25:38.008Z"
   },
   {
    "duration": 336,
    "start_time": "2023-09-08T07:25:38.295Z"
   },
   {
    "duration": 205,
    "start_time": "2023-09-08T07:25:38.632Z"
   },
   {
    "duration": 237,
    "start_time": "2023-09-08T07:25:38.839Z"
   },
   {
    "duration": 336,
    "start_time": "2023-09-08T07:25:39.077Z"
   },
   {
    "duration": 190,
    "start_time": "2023-09-08T07:25:39.414Z"
   },
   {
    "duration": 18,
    "start_time": "2023-09-08T07:25:39.606Z"
   },
   {
    "duration": 14,
    "start_time": "2023-09-08T07:25:39.625Z"
   },
   {
    "duration": 5,
    "start_time": "2023-09-08T07:25:39.649Z"
   },
   {
    "duration": 15,
    "start_time": "2023-09-08T07:25:39.655Z"
   },
   {
    "duration": 10,
    "start_time": "2023-09-08T07:25:39.672Z"
   },
   {
    "duration": 6,
    "start_time": "2023-09-08T07:25:39.684Z"
   },
   {
    "duration": 13,
    "start_time": "2023-09-08T07:25:39.691Z"
   },
   {
    "duration": 220,
    "start_time": "2023-09-08T07:25:39.706Z"
   },
   {
    "duration": 4,
    "start_time": "2023-09-08T07:25:39.927Z"
   },
   {
    "duration": 171,
    "start_time": "2023-09-08T07:25:39.933Z"
   },
   {
    "duration": 4,
    "start_time": "2023-09-08T07:25:40.105Z"
   },
   {
    "duration": 137,
    "start_time": "2023-09-08T07:38:23.955Z"
   },
   {
    "duration": 105,
    "start_time": "2023-09-08T07:38:39.762Z"
   },
   {
    "duration": 210,
    "start_time": "2023-09-08T07:40:01.934Z"
   },
   {
    "duration": 93,
    "start_time": "2023-09-08T07:40:31.207Z"
   },
   {
    "duration": 1133,
    "start_time": "2023-09-08T07:40:49.246Z"
   },
   {
    "duration": 37,
    "start_time": "2023-09-08T07:40:50.381Z"
   },
   {
    "duration": 10,
    "start_time": "2023-09-08T07:40:50.420Z"
   },
   {
    "duration": 44,
    "start_time": "2023-09-08T07:40:50.432Z"
   },
   {
    "duration": 10,
    "start_time": "2023-09-08T07:40:50.478Z"
   },
   {
    "duration": 27,
    "start_time": "2023-09-08T07:40:50.489Z"
   },
   {
    "duration": 9,
    "start_time": "2023-09-08T07:40:50.517Z"
   },
   {
    "duration": 16,
    "start_time": "2023-09-08T07:40:50.527Z"
   },
   {
    "duration": 30,
    "start_time": "2023-09-08T07:40:50.545Z"
   },
   {
    "duration": 17,
    "start_time": "2023-09-08T07:40:50.577Z"
   },
   {
    "duration": 14,
    "start_time": "2023-09-08T07:40:50.596Z"
   },
   {
    "duration": 20,
    "start_time": "2023-09-08T07:40:50.611Z"
   },
   {
    "duration": 9,
    "start_time": "2023-09-08T07:40:50.632Z"
   },
   {
    "duration": 4,
    "start_time": "2023-09-08T07:40:50.643Z"
   },
   {
    "duration": 11,
    "start_time": "2023-09-08T07:40:50.649Z"
   },
   {
    "duration": 18,
    "start_time": "2023-09-08T07:40:50.662Z"
   },
   {
    "duration": 7,
    "start_time": "2023-09-08T07:40:50.681Z"
   },
   {
    "duration": 197,
    "start_time": "2023-09-08T07:40:50.690Z"
   },
   {
    "duration": 6,
    "start_time": "2023-09-08T07:40:50.889Z"
   },
   {
    "duration": 98,
    "start_time": "2023-09-08T07:40:50.897Z"
   },
   {
    "duration": 8,
    "start_time": "2023-09-08T07:40:50.996Z"
   },
   {
    "duration": 26,
    "start_time": "2023-09-08T07:40:51.006Z"
   },
   {
    "duration": 147,
    "start_time": "2023-09-08T07:40:51.034Z"
   },
   {
    "duration": 7,
    "start_time": "2023-09-08T07:40:51.183Z"
   },
   {
    "duration": 204,
    "start_time": "2023-09-08T07:40:51.192Z"
   },
   {
    "duration": 214,
    "start_time": "2023-09-08T07:40:51.398Z"
   },
   {
    "duration": 288,
    "start_time": "2023-09-08T07:40:51.614Z"
   },
   {
    "duration": 7,
    "start_time": "2023-09-08T07:40:51.906Z"
   },
   {
    "duration": 212,
    "start_time": "2023-09-08T07:40:51.914Z"
   },
   {
    "duration": 209,
    "start_time": "2023-09-08T07:40:52.128Z"
   },
   {
    "duration": 12,
    "start_time": "2023-09-08T07:40:52.339Z"
   },
   {
    "duration": 5,
    "start_time": "2023-09-08T07:40:52.352Z"
   },
   {
    "duration": 16,
    "start_time": "2023-09-08T07:40:52.358Z"
   },
   {
    "duration": 64,
    "start_time": "2023-09-08T07:40:52.375Z"
   },
   {
    "duration": 359,
    "start_time": "2023-09-08T07:40:52.441Z"
   },
   {
    "duration": 17,
    "start_time": "2023-09-08T07:40:52.801Z"
   },
   {
    "duration": 22,
    "start_time": "2023-09-08T07:40:52.819Z"
   },
   {
    "duration": 4,
    "start_time": "2023-09-08T07:40:52.849Z"
   },
   {
    "duration": 19,
    "start_time": "2023-09-08T07:40:52.855Z"
   },
   {
    "duration": 33,
    "start_time": "2023-09-08T07:40:52.875Z"
   },
   {
    "duration": 13,
    "start_time": "2023-09-08T07:40:52.910Z"
   },
   {
    "duration": 197,
    "start_time": "2023-09-08T07:40:52.924Z"
   },
   {
    "duration": 291,
    "start_time": "2023-09-08T07:40:53.123Z"
   },
   {
    "duration": 313,
    "start_time": "2023-09-08T07:40:53.416Z"
   },
   {
    "duration": 199,
    "start_time": "2023-09-08T07:40:53.730Z"
   },
   {
    "duration": 198,
    "start_time": "2023-09-08T07:40:53.930Z"
   },
   {
    "duration": 335,
    "start_time": "2023-09-08T07:40:54.129Z"
   },
   {
    "duration": 200,
    "start_time": "2023-09-08T07:40:54.465Z"
   },
   {
    "duration": 19,
    "start_time": "2023-09-08T07:40:54.666Z"
   },
   {
    "duration": 9,
    "start_time": "2023-09-08T07:40:54.687Z"
   },
   {
    "duration": 21,
    "start_time": "2023-09-08T07:40:54.698Z"
   },
   {
    "duration": 30,
    "start_time": "2023-09-08T07:40:54.721Z"
   },
   {
    "duration": 9,
    "start_time": "2023-09-08T07:40:54.753Z"
   },
   {
    "duration": 6,
    "start_time": "2023-09-08T07:40:54.763Z"
   },
   {
    "duration": 14,
    "start_time": "2023-09-08T07:40:54.771Z"
   },
   {
    "duration": 229,
    "start_time": "2023-09-08T07:40:54.787Z"
   },
   {
    "duration": 5,
    "start_time": "2023-09-08T07:40:55.017Z"
   },
   {
    "duration": 103,
    "start_time": "2023-09-08T07:40:55.024Z"
   },
   {
    "duration": 0,
    "start_time": "2023-09-08T07:40:55.129Z"
   },
   {
    "duration": 0,
    "start_time": "2023-09-08T07:40:55.130Z"
   },
   {
    "duration": 84,
    "start_time": "2023-09-08T07:47:09.322Z"
   },
   {
    "duration": 82,
    "start_time": "2023-09-08T07:47:21.665Z"
   },
   {
    "duration": 104,
    "start_time": "2023-09-08T07:47:41.667Z"
   },
   {
    "duration": 151,
    "start_time": "2023-09-08T07:48:18.898Z"
   },
   {
    "duration": 101,
    "start_time": "2023-09-08T07:48:33.985Z"
   },
   {
    "duration": 9,
    "start_time": "2023-09-08T07:51:12.646Z"
   },
   {
    "duration": 1091,
    "start_time": "2023-09-08T07:51:42.087Z"
   },
   {
    "duration": 37,
    "start_time": "2023-09-08T07:51:43.180Z"
   },
   {
    "duration": 10,
    "start_time": "2023-09-08T07:51:43.218Z"
   },
   {
    "duration": 37,
    "start_time": "2023-09-08T07:51:43.229Z"
   },
   {
    "duration": 10,
    "start_time": "2023-09-08T07:51:43.268Z"
   },
   {
    "duration": 19,
    "start_time": "2023-09-08T07:51:43.280Z"
   },
   {
    "duration": 12,
    "start_time": "2023-09-08T07:51:43.300Z"
   },
   {
    "duration": 7,
    "start_time": "2023-09-08T07:51:43.313Z"
   },
   {
    "duration": 25,
    "start_time": "2023-09-08T07:51:43.321Z"
   },
   {
    "duration": 14,
    "start_time": "2023-09-08T07:51:43.347Z"
   },
   {
    "duration": 31,
    "start_time": "2023-09-08T07:51:43.362Z"
   },
   {
    "duration": 10,
    "start_time": "2023-09-08T07:51:43.395Z"
   },
   {
    "duration": 8,
    "start_time": "2023-09-08T07:51:43.406Z"
   },
   {
    "duration": 11,
    "start_time": "2023-09-08T07:51:43.416Z"
   },
   {
    "duration": 16,
    "start_time": "2023-09-08T07:51:43.429Z"
   },
   {
    "duration": 16,
    "start_time": "2023-09-08T07:51:43.447Z"
   },
   {
    "duration": 13,
    "start_time": "2023-09-08T07:51:43.464Z"
   },
   {
    "duration": 207,
    "start_time": "2023-09-08T07:51:43.478Z"
   },
   {
    "duration": 5,
    "start_time": "2023-09-08T07:51:43.686Z"
   },
   {
    "duration": 96,
    "start_time": "2023-09-08T07:51:43.693Z"
   },
   {
    "duration": 7,
    "start_time": "2023-09-08T07:51:43.790Z"
   },
   {
    "duration": 16,
    "start_time": "2023-09-08T07:51:43.798Z"
   },
   {
    "duration": 135,
    "start_time": "2023-09-08T07:51:43.815Z"
   },
   {
    "duration": 9,
    "start_time": "2023-09-08T07:51:43.952Z"
   },
   {
    "duration": 220,
    "start_time": "2023-09-08T07:51:43.963Z"
   },
   {
    "duration": 203,
    "start_time": "2023-09-08T07:51:44.185Z"
   },
   {
    "duration": 277,
    "start_time": "2023-09-08T07:51:44.390Z"
   },
   {
    "duration": 9,
    "start_time": "2023-09-08T07:51:44.669Z"
   },
   {
    "duration": 207,
    "start_time": "2023-09-08T07:51:44.679Z"
   },
   {
    "duration": 215,
    "start_time": "2023-09-08T07:51:44.888Z"
   },
   {
    "duration": 10,
    "start_time": "2023-09-08T07:51:45.104Z"
   },
   {
    "duration": 14,
    "start_time": "2023-09-08T07:51:45.115Z"
   },
   {
    "duration": 8,
    "start_time": "2023-09-08T07:51:45.130Z"
   },
   {
    "duration": 12,
    "start_time": "2023-09-08T07:51:45.139Z"
   },
   {
    "duration": 300,
    "start_time": "2023-09-08T07:51:45.152Z"
   },
   {
    "duration": 23,
    "start_time": "2023-09-08T07:51:45.453Z"
   },
   {
    "duration": 27,
    "start_time": "2023-09-08T07:51:45.477Z"
   },
   {
    "duration": 11,
    "start_time": "2023-09-08T07:51:45.505Z"
   },
   {
    "duration": 18,
    "start_time": "2023-09-08T07:51:45.518Z"
   },
   {
    "duration": 27,
    "start_time": "2023-09-08T07:51:45.537Z"
   },
   {
    "duration": 12,
    "start_time": "2023-09-08T07:51:45.569Z"
   },
   {
    "duration": 210,
    "start_time": "2023-09-08T07:51:45.583Z"
   },
   {
    "duration": 286,
    "start_time": "2023-09-08T07:51:45.795Z"
   },
   {
    "duration": 378,
    "start_time": "2023-09-08T07:51:46.083Z"
   },
   {
    "duration": 251,
    "start_time": "2023-09-08T07:51:46.462Z"
   },
   {
    "duration": 204,
    "start_time": "2023-09-08T07:51:46.714Z"
   },
   {
    "duration": 327,
    "start_time": "2023-09-08T07:51:46.919Z"
   },
   {
    "duration": 180,
    "start_time": "2023-09-08T07:51:47.248Z"
   },
   {
    "duration": 27,
    "start_time": "2023-09-08T07:51:47.430Z"
   },
   {
    "duration": 6,
    "start_time": "2023-09-08T07:51:47.458Z"
   },
   {
    "duration": 8,
    "start_time": "2023-09-08T07:51:47.465Z"
   },
   {
    "duration": 27,
    "start_time": "2023-09-08T07:51:47.474Z"
   },
   {
    "duration": 11,
    "start_time": "2023-09-08T07:51:47.503Z"
   },
   {
    "duration": 6,
    "start_time": "2023-09-08T07:51:47.516Z"
   },
   {
    "duration": 25,
    "start_time": "2023-09-08T07:51:47.524Z"
   },
   {
    "duration": 214,
    "start_time": "2023-09-08T07:51:47.551Z"
   },
   {
    "duration": 4,
    "start_time": "2023-09-08T07:51:47.767Z"
   },
   {
    "duration": 101,
    "start_time": "2023-09-08T07:51:47.772Z"
   },
   {
    "duration": 0,
    "start_time": "2023-09-08T07:51:47.874Z"
   },
   {
    "duration": 0,
    "start_time": "2023-09-08T07:51:47.875Z"
   },
   {
    "duration": 10,
    "start_time": "2023-09-08T07:52:14.439Z"
   },
   {
    "duration": 4,
    "start_time": "2023-09-08T07:57:27.290Z"
   },
   {
    "duration": 5,
    "start_time": "2023-09-08T07:57:40.500Z"
   },
   {
    "duration": 18,
    "start_time": "2023-09-08T07:57:56.297Z"
   },
   {
    "duration": 19,
    "start_time": "2023-09-08T07:58:29.472Z"
   },
   {
    "duration": 59,
    "start_time": "2023-09-08T08:00:22.479Z"
   },
   {
    "duration": 20,
    "start_time": "2023-09-08T08:01:29.376Z"
   },
   {
    "duration": 9,
    "start_time": "2023-09-08T08:02:22.806Z"
   },
   {
    "duration": 1161,
    "start_time": "2023-09-08T08:02:32.479Z"
   },
   {
    "duration": 39,
    "start_time": "2023-09-08T08:02:33.641Z"
   },
   {
    "duration": 11,
    "start_time": "2023-09-08T08:02:33.681Z"
   },
   {
    "duration": 45,
    "start_time": "2023-09-08T08:02:33.694Z"
   },
   {
    "duration": 11,
    "start_time": "2023-09-08T08:02:33.740Z"
   },
   {
    "duration": 29,
    "start_time": "2023-09-08T08:02:33.753Z"
   },
   {
    "duration": 10,
    "start_time": "2023-09-08T08:02:33.783Z"
   },
   {
    "duration": 27,
    "start_time": "2023-09-08T08:02:33.794Z"
   },
   {
    "duration": 14,
    "start_time": "2023-09-08T08:02:33.823Z"
   },
   {
    "duration": 12,
    "start_time": "2023-09-08T08:02:33.840Z"
   },
   {
    "duration": 15,
    "start_time": "2023-09-08T08:02:33.854Z"
   },
   {
    "duration": 20,
    "start_time": "2023-09-08T08:02:33.871Z"
   },
   {
    "duration": 26,
    "start_time": "2023-09-08T08:02:33.893Z"
   },
   {
    "duration": 6,
    "start_time": "2023-09-08T08:02:33.921Z"
   },
   {
    "duration": 18,
    "start_time": "2023-09-08T08:02:33.929Z"
   },
   {
    "duration": 16,
    "start_time": "2023-09-08T08:02:33.948Z"
   },
   {
    "duration": 22,
    "start_time": "2023-09-08T08:02:33.965Z"
   },
   {
    "duration": 219,
    "start_time": "2023-09-08T08:02:33.989Z"
   },
   {
    "duration": 5,
    "start_time": "2023-09-08T08:02:34.210Z"
   },
   {
    "duration": 112,
    "start_time": "2023-09-08T08:02:34.217Z"
   },
   {
    "duration": 8,
    "start_time": "2023-09-08T08:02:34.331Z"
   },
   {
    "duration": 30,
    "start_time": "2023-09-08T08:02:34.350Z"
   },
   {
    "duration": 155,
    "start_time": "2023-09-08T08:02:34.382Z"
   },
   {
    "duration": 14,
    "start_time": "2023-09-08T08:02:34.539Z"
   },
   {
    "duration": 236,
    "start_time": "2023-09-08T08:02:34.555Z"
   },
   {
    "duration": 230,
    "start_time": "2023-09-08T08:02:34.792Z"
   },
   {
    "duration": 317,
    "start_time": "2023-09-08T08:02:35.024Z"
   },
   {
    "duration": 7,
    "start_time": "2023-09-08T08:02:35.349Z"
   },
   {
    "duration": 226,
    "start_time": "2023-09-08T08:02:35.358Z"
   },
   {
    "duration": 226,
    "start_time": "2023-09-08T08:02:35.586Z"
   },
   {
    "duration": 10,
    "start_time": "2023-09-08T08:02:35.813Z"
   },
   {
    "duration": 5,
    "start_time": "2023-09-08T08:02:35.824Z"
   },
   {
    "duration": 23,
    "start_time": "2023-09-08T08:02:35.830Z"
   },
   {
    "duration": 14,
    "start_time": "2023-09-08T08:02:35.855Z"
   },
   {
    "duration": 422,
    "start_time": "2023-09-08T08:02:35.871Z"
   },
   {
    "duration": 19,
    "start_time": "2023-09-08T08:02:36.294Z"
   },
   {
    "duration": 42,
    "start_time": "2023-09-08T08:02:36.315Z"
   },
   {
    "duration": 5,
    "start_time": "2023-09-08T08:02:36.359Z"
   },
   {
    "duration": 12,
    "start_time": "2023-09-08T08:02:36.366Z"
   },
   {
    "duration": 37,
    "start_time": "2023-09-08T08:02:36.380Z"
   },
   {
    "duration": 17,
    "start_time": "2023-09-08T08:02:36.419Z"
   },
   {
    "duration": 255,
    "start_time": "2023-09-08T08:02:36.437Z"
   },
   {
    "duration": 316,
    "start_time": "2023-09-08T08:02:36.694Z"
   },
   {
    "duration": 350,
    "start_time": "2023-09-08T08:02:37.012Z"
   },
   {
    "duration": 222,
    "start_time": "2023-09-08T08:02:37.363Z"
   },
   {
    "duration": 214,
    "start_time": "2023-09-08T08:02:37.587Z"
   },
   {
    "duration": 351,
    "start_time": "2023-09-08T08:02:37.803Z"
   },
   {
    "duration": 225,
    "start_time": "2023-09-08T08:02:38.155Z"
   },
   {
    "duration": 21,
    "start_time": "2023-09-08T08:02:38.382Z"
   },
   {
    "duration": 10,
    "start_time": "2023-09-08T08:02:38.404Z"
   },
   {
    "duration": 36,
    "start_time": "2023-09-08T08:02:38.416Z"
   },
   {
    "duration": 33,
    "start_time": "2023-09-08T08:02:38.454Z"
   },
   {
    "duration": 14,
    "start_time": "2023-09-08T08:02:38.489Z"
   },
   {
    "duration": 16,
    "start_time": "2023-09-08T08:02:38.504Z"
   },
   {
    "duration": 17,
    "start_time": "2023-09-08T08:02:38.521Z"
   },
   {
    "duration": 222,
    "start_time": "2023-09-08T08:02:38.539Z"
   },
   {
    "duration": 5,
    "start_time": "2023-09-08T08:02:38.762Z"
   },
   {
    "duration": 114,
    "start_time": "2023-09-08T08:02:38.768Z"
   },
   {
    "duration": 0,
    "start_time": "2023-09-08T08:02:38.884Z"
   },
   {
    "duration": 0,
    "start_time": "2023-09-08T08:02:38.885Z"
   },
   {
    "duration": 9,
    "start_time": "2023-09-08T08:03:42.739Z"
   },
   {
    "duration": 10,
    "start_time": "2023-09-08T08:03:58.107Z"
   },
   {
    "duration": 211,
    "start_time": "2023-09-08T08:05:13.454Z"
   },
   {
    "duration": 213,
    "start_time": "2023-09-08T08:05:31.684Z"
   },
   {
    "duration": 10,
    "start_time": "2023-09-08T08:06:04.190Z"
   },
   {
    "duration": 12,
    "start_time": "2023-09-08T08:06:11.357Z"
   },
   {
    "duration": 9,
    "start_time": "2023-09-08T08:07:45.306Z"
   },
   {
    "duration": 18,
    "start_time": "2023-09-08T08:07:53.140Z"
   },
   {
    "duration": 8,
    "start_time": "2023-09-08T08:30:00.672Z"
   },
   {
    "duration": 8,
    "start_time": "2023-09-08T08:30:33.238Z"
   },
   {
    "duration": 10,
    "start_time": "2023-09-08T08:31:24.910Z"
   },
   {
    "duration": 9,
    "start_time": "2023-09-08T08:33:44.510Z"
   },
   {
    "duration": 5,
    "start_time": "2023-09-08T08:53:42.632Z"
   },
   {
    "duration": 18,
    "start_time": "2023-09-08T09:01:40.075Z"
   },
   {
    "duration": 5,
    "start_time": "2023-09-08T09:01:57.076Z"
   },
   {
    "duration": 5,
    "start_time": "2023-09-08T09:02:05.600Z"
   },
   {
    "duration": 20,
    "start_time": "2023-09-08T09:02:13.176Z"
   },
   {
    "duration": 4,
    "start_time": "2023-09-08T09:22:05.882Z"
   },
   {
    "duration": 237,
    "start_time": "2023-09-08T09:22:11.323Z"
   },
   {
    "duration": 31,
    "start_time": "2023-09-08T09:22:16.226Z"
   },
   {
    "duration": 20,
    "start_time": "2023-09-08T09:22:19.963Z"
   },
   {
    "duration": 135,
    "start_time": "2023-09-08T09:34:55.785Z"
   },
   {
    "duration": 3,
    "start_time": "2023-09-08T10:17:33.050Z"
   },
   {
    "duration": 3,
    "start_time": "2023-09-08T10:18:32.589Z"
   },
   {
    "duration": 3,
    "start_time": "2023-09-08T10:48:32.311Z"
   },
   {
    "duration": 3,
    "start_time": "2023-09-08T10:48:49.714Z"
   },
   {
    "duration": 5,
    "start_time": "2023-09-08T10:50:07.407Z"
   },
   {
    "duration": 3,
    "start_time": "2023-09-08T10:51:40.621Z"
   },
   {
    "duration": 133,
    "start_time": "2023-09-08T10:56:24.521Z"
   },
   {
    "duration": 4,
    "start_time": "2023-09-08T11:09:22.113Z"
   },
   {
    "duration": 127,
    "start_time": "2023-09-08T11:11:56.818Z"
   },
   {
    "duration": 7,
    "start_time": "2023-09-08T11:12:05.368Z"
   },
   {
    "duration": 7,
    "start_time": "2023-09-08T11:12:08.778Z"
   },
   {
    "duration": 5,
    "start_time": "2023-09-08T11:12:35.526Z"
   },
   {
    "duration": 4,
    "start_time": "2023-09-08T11:13:03.185Z"
   },
   {
    "duration": 273,
    "start_time": "2023-09-08T11:13:12.668Z"
   },
   {
    "duration": 18,
    "start_time": "2023-09-08T11:13:16.468Z"
   },
   {
    "duration": 14,
    "start_time": "2023-09-08T11:13:19.701Z"
   },
   {
    "duration": 18,
    "start_time": "2023-09-08T11:13:26.686Z"
   },
   {
    "duration": 6,
    "start_time": "2023-09-08T11:14:41.099Z"
   },
   {
    "duration": 6,
    "start_time": "2023-09-08T11:28:07.505Z"
   },
   {
    "duration": 6,
    "start_time": "2023-09-08T11:28:16.221Z"
   },
   {
    "duration": 6,
    "start_time": "2023-09-08T11:30:14.424Z"
   },
   {
    "duration": 10,
    "start_time": "2023-09-08T12:18:36.813Z"
   },
   {
    "duration": 1167,
    "start_time": "2023-09-08T12:20:37.364Z"
   },
   {
    "duration": 38,
    "start_time": "2023-09-08T12:20:38.533Z"
   },
   {
    "duration": 11,
    "start_time": "2023-09-08T12:20:38.573Z"
   },
   {
    "duration": 41,
    "start_time": "2023-09-08T12:20:38.586Z"
   },
   {
    "duration": 10,
    "start_time": "2023-09-08T12:20:38.629Z"
   },
   {
    "duration": 33,
    "start_time": "2023-09-08T12:20:38.640Z"
   },
   {
    "duration": 17,
    "start_time": "2023-09-08T12:20:38.674Z"
   },
   {
    "duration": 21,
    "start_time": "2023-09-08T12:20:38.692Z"
   },
   {
    "duration": 13,
    "start_time": "2023-09-08T12:20:38.714Z"
   },
   {
    "duration": 8,
    "start_time": "2023-09-08T12:20:38.730Z"
   },
   {
    "duration": 9,
    "start_time": "2023-09-08T12:20:38.740Z"
   },
   {
    "duration": 24,
    "start_time": "2023-09-08T12:20:38.750Z"
   },
   {
    "duration": 23,
    "start_time": "2023-09-08T12:20:38.775Z"
   },
   {
    "duration": 4,
    "start_time": "2023-09-08T12:20:38.799Z"
   },
   {
    "duration": 26,
    "start_time": "2023-09-08T12:20:38.805Z"
   },
   {
    "duration": 7,
    "start_time": "2023-09-08T12:20:38.832Z"
   },
   {
    "duration": 19,
    "start_time": "2023-09-08T12:20:38.840Z"
   },
   {
    "duration": 205,
    "start_time": "2023-09-08T12:20:38.860Z"
   },
   {
    "duration": 6,
    "start_time": "2023-09-08T12:20:39.068Z"
   },
   {
    "duration": 103,
    "start_time": "2023-09-08T12:20:39.076Z"
   },
   {
    "duration": 8,
    "start_time": "2023-09-08T12:20:39.180Z"
   },
   {
    "duration": 12,
    "start_time": "2023-09-08T12:20:39.189Z"
   },
   {
    "duration": 139,
    "start_time": "2023-09-08T12:20:39.202Z"
   },
   {
    "duration": 12,
    "start_time": "2023-09-08T12:20:39.343Z"
   },
   {
    "duration": 207,
    "start_time": "2023-09-08T12:20:39.356Z"
   },
   {
    "duration": 214,
    "start_time": "2023-09-08T12:20:39.564Z"
   },
   {
    "duration": 273,
    "start_time": "2023-09-08T12:20:39.780Z"
   },
   {
    "duration": 8,
    "start_time": "2023-09-08T12:20:40.056Z"
   },
   {
    "duration": 243,
    "start_time": "2023-09-08T12:20:40.066Z"
   },
   {
    "duration": 210,
    "start_time": "2023-09-08T12:20:40.311Z"
   },
   {
    "duration": 11,
    "start_time": "2023-09-08T12:20:40.523Z"
   },
   {
    "duration": 21,
    "start_time": "2023-09-08T12:20:40.535Z"
   },
   {
    "duration": 15,
    "start_time": "2023-09-08T12:20:40.557Z"
   },
   {
    "duration": 25,
    "start_time": "2023-09-08T12:20:40.574Z"
   },
   {
    "duration": 317,
    "start_time": "2023-09-08T12:20:40.600Z"
   },
   {
    "duration": 19,
    "start_time": "2023-09-08T12:20:40.918Z"
   },
   {
    "duration": 19,
    "start_time": "2023-09-08T12:20:40.949Z"
   },
   {
    "duration": 25,
    "start_time": "2023-09-08T12:20:40.969Z"
   },
   {
    "duration": 13,
    "start_time": "2023-09-08T12:20:40.996Z"
   },
   {
    "duration": 32,
    "start_time": "2023-09-08T12:20:41.011Z"
   },
   {
    "duration": 18,
    "start_time": "2023-09-08T12:20:41.045Z"
   },
   {
    "duration": 259,
    "start_time": "2023-09-08T12:20:41.064Z"
   },
   {
    "duration": 308,
    "start_time": "2023-09-08T12:20:41.324Z"
   },
   {
    "duration": 316,
    "start_time": "2023-09-08T12:20:41.634Z"
   },
   {
    "duration": 209,
    "start_time": "2023-09-08T12:20:41.952Z"
   },
   {
    "duration": 230,
    "start_time": "2023-09-08T12:20:42.162Z"
   },
   {
    "duration": 326,
    "start_time": "2023-09-08T12:20:42.394Z"
   },
   {
    "duration": 187,
    "start_time": "2023-09-08T12:20:42.721Z"
   },
   {
    "duration": 17,
    "start_time": "2023-09-08T12:20:42.910Z"
   },
   {
    "duration": 27,
    "start_time": "2023-09-08T12:20:42.929Z"
   },
   {
    "duration": 12,
    "start_time": "2023-09-08T12:20:42.957Z"
   },
   {
    "duration": 21,
    "start_time": "2023-09-08T12:20:42.971Z"
   },
   {
    "duration": 14,
    "start_time": "2023-09-08T12:20:42.994Z"
   },
   {
    "duration": 17,
    "start_time": "2023-09-08T12:20:43.009Z"
   },
   {
    "duration": 86,
    "start_time": "2023-09-08T12:20:43.027Z"
   },
   {
    "duration": 0,
    "start_time": "2023-09-08T12:20:43.115Z"
   },
   {
    "duration": 0,
    "start_time": "2023-09-08T12:20:43.116Z"
   },
   {
    "duration": 0,
    "start_time": "2023-09-08T12:20:43.117Z"
   },
   {
    "duration": 0,
    "start_time": "2023-09-08T12:20:43.118Z"
   },
   {
    "duration": 0,
    "start_time": "2023-09-08T12:20:43.119Z"
   },
   {
    "duration": 0,
    "start_time": "2023-09-08T12:20:43.120Z"
   },
   {
    "duration": 0,
    "start_time": "2023-09-08T12:20:43.121Z"
   },
   {
    "duration": 1107,
    "start_time": "2023-09-08T12:21:42.669Z"
   },
   {
    "duration": 38,
    "start_time": "2023-09-08T12:21:43.778Z"
   },
   {
    "duration": 10,
    "start_time": "2023-09-08T12:21:43.817Z"
   },
   {
    "duration": 39,
    "start_time": "2023-09-08T12:21:43.829Z"
   },
   {
    "duration": 10,
    "start_time": "2023-09-08T12:21:43.869Z"
   },
   {
    "duration": 31,
    "start_time": "2023-09-08T12:21:43.881Z"
   },
   {
    "duration": 10,
    "start_time": "2023-09-08T12:21:43.914Z"
   },
   {
    "duration": 17,
    "start_time": "2023-09-08T12:21:43.925Z"
   },
   {
    "duration": 10,
    "start_time": "2023-09-08T12:21:43.943Z"
   },
   {
    "duration": 6,
    "start_time": "2023-09-08T12:21:43.955Z"
   },
   {
    "duration": 13,
    "start_time": "2023-09-08T12:21:43.962Z"
   },
   {
    "duration": 5,
    "start_time": "2023-09-08T12:21:43.976Z"
   },
   {
    "duration": 17,
    "start_time": "2023-09-08T12:21:43.982Z"
   },
   {
    "duration": 5,
    "start_time": "2023-09-08T12:21:44.000Z"
   },
   {
    "duration": 11,
    "start_time": "2023-09-08T12:21:44.006Z"
   },
   {
    "duration": 16,
    "start_time": "2023-09-08T12:21:44.019Z"
   },
   {
    "duration": 23,
    "start_time": "2023-09-08T12:21:44.037Z"
   },
   {
    "duration": 214,
    "start_time": "2023-09-08T12:21:44.062Z"
   },
   {
    "duration": 7,
    "start_time": "2023-09-08T12:21:44.277Z"
   },
   {
    "duration": 114,
    "start_time": "2023-09-08T12:21:44.285Z"
   },
   {
    "duration": 7,
    "start_time": "2023-09-08T12:21:44.401Z"
   },
   {
    "duration": 7,
    "start_time": "2023-09-08T12:21:44.410Z"
   },
   {
    "duration": 151,
    "start_time": "2023-09-08T12:21:44.419Z"
   },
   {
    "duration": 7,
    "start_time": "2023-09-08T12:21:44.572Z"
   },
   {
    "duration": 214,
    "start_time": "2023-09-08T12:21:44.581Z"
   },
   {
    "duration": 212,
    "start_time": "2023-09-08T12:21:44.797Z"
   },
   {
    "duration": 275,
    "start_time": "2023-09-08T12:21:45.010Z"
   },
   {
    "duration": 7,
    "start_time": "2023-09-08T12:21:45.289Z"
   },
   {
    "duration": 206,
    "start_time": "2023-09-08T12:21:45.297Z"
   },
   {
    "duration": 206,
    "start_time": "2023-09-08T12:21:45.505Z"
   },
   {
    "duration": 10,
    "start_time": "2023-09-08T12:21:45.712Z"
   },
   {
    "duration": 9,
    "start_time": "2023-09-08T12:21:45.723Z"
   },
   {
    "duration": 16,
    "start_time": "2023-09-08T12:21:45.734Z"
   },
   {
    "duration": 5,
    "start_time": "2023-09-08T12:21:45.752Z"
   },
   {
    "duration": 324,
    "start_time": "2023-09-08T12:21:45.759Z"
   },
   {
    "duration": 18,
    "start_time": "2023-09-08T12:21:46.084Z"
   },
   {
    "duration": 16,
    "start_time": "2023-09-08T12:21:46.104Z"
   },
   {
    "duration": 3,
    "start_time": "2023-09-08T12:21:46.122Z"
   },
   {
    "duration": 28,
    "start_time": "2023-09-08T12:21:46.126Z"
   },
   {
    "duration": 18,
    "start_time": "2023-09-08T12:21:46.155Z"
   },
   {
    "duration": 14,
    "start_time": "2023-09-08T12:21:46.174Z"
   },
   {
    "duration": 244,
    "start_time": "2023-09-08T12:21:46.190Z"
   },
   {
    "duration": 340,
    "start_time": "2023-09-08T12:21:46.435Z"
   },
   {
    "duration": 318,
    "start_time": "2023-09-08T12:21:46.777Z"
   },
   {
    "duration": 207,
    "start_time": "2023-09-08T12:21:47.096Z"
   },
   {
    "duration": 198,
    "start_time": "2023-09-08T12:21:47.305Z"
   },
   {
    "duration": 316,
    "start_time": "2023-09-08T12:21:47.505Z"
   },
   {
    "duration": 188,
    "start_time": "2023-09-08T12:21:47.822Z"
   },
   {
    "duration": 16,
    "start_time": "2023-09-08T12:21:48.012Z"
   },
   {
    "duration": 12,
    "start_time": "2023-09-08T12:21:48.029Z"
   },
   {
    "duration": 3,
    "start_time": "2023-09-08T12:21:48.049Z"
   },
   {
    "duration": 38,
    "start_time": "2023-09-08T12:21:48.054Z"
   },
   {
    "duration": 9,
    "start_time": "2023-09-08T12:21:48.094Z"
   },
   {
    "duration": 6,
    "start_time": "2023-09-08T12:21:48.104Z"
   },
   {
    "duration": 97,
    "start_time": "2023-09-08T12:21:48.111Z"
   },
   {
    "duration": 0,
    "start_time": "2023-09-08T12:21:48.209Z"
   },
   {
    "duration": 0,
    "start_time": "2023-09-08T12:21:48.210Z"
   },
   {
    "duration": 0,
    "start_time": "2023-09-08T12:21:48.212Z"
   },
   {
    "duration": 0,
    "start_time": "2023-09-08T12:21:48.213Z"
   },
   {
    "duration": 0,
    "start_time": "2023-09-08T12:21:48.214Z"
   },
   {
    "duration": 0,
    "start_time": "2023-09-08T12:21:48.216Z"
   },
   {
    "duration": 0,
    "start_time": "2023-09-08T12:21:48.217Z"
   },
   {
    "duration": 5,
    "start_time": "2023-09-08T12:22:33.396Z"
   },
   {
    "duration": 6,
    "start_time": "2023-09-08T12:22:47.405Z"
   },
   {
    "duration": 6,
    "start_time": "2023-09-08T12:22:59.108Z"
   },
   {
    "duration": 5,
    "start_time": "2023-09-08T12:23:44.807Z"
   },
   {
    "duration": 7,
    "start_time": "2023-09-08T12:25:16.969Z"
   },
   {
    "duration": 5,
    "start_time": "2023-09-08T12:25:27.676Z"
   },
   {
    "duration": 5,
    "start_time": "2023-09-08T12:26:18.810Z"
   },
   {
    "duration": 5,
    "start_time": "2023-09-08T12:27:22.291Z"
   },
   {
    "duration": 6,
    "start_time": "2023-09-08T12:27:54.873Z"
   },
   {
    "duration": 1429,
    "start_time": "2023-09-08T12:29:20.782Z"
   },
   {
    "duration": 1006,
    "start_time": "2023-09-08T12:29:39.704Z"
   },
   {
    "duration": 649,
    "start_time": "2023-09-08T12:30:23.866Z"
   },
   {
    "duration": 590,
    "start_time": "2023-09-08T12:32:49.829Z"
   },
   {
    "duration": 639,
    "start_time": "2023-09-08T12:33:40.011Z"
   },
   {
    "duration": 602,
    "start_time": "2023-09-08T12:36:20.033Z"
   },
   {
    "duration": 643,
    "start_time": "2023-09-08T12:36:34.040Z"
   },
   {
    "duration": 582,
    "start_time": "2023-09-08T12:40:36.678Z"
   },
   {
    "duration": 588,
    "start_time": "2023-09-08T12:41:19.970Z"
   },
   {
    "duration": 193,
    "start_time": "2023-09-08T12:42:38.608Z"
   },
   {
    "duration": 145,
    "start_time": "2023-09-08T12:44:56.430Z"
   },
   {
    "duration": 5,
    "start_time": "2023-09-08T12:45:00.570Z"
   },
   {
    "duration": 5,
    "start_time": "2023-09-08T12:45:50.785Z"
   },
   {
    "duration": 88,
    "start_time": "2023-09-08T12:46:18.568Z"
   },
   {
    "duration": 88,
    "start_time": "2023-09-08T12:46:38.543Z"
   },
   {
    "duration": 5,
    "start_time": "2023-09-08T12:46:45.812Z"
   },
   {
    "duration": 643,
    "start_time": "2023-09-08T12:47:48.575Z"
   },
   {
    "duration": 611,
    "start_time": "2023-09-08T12:48:22.197Z"
   },
   {
    "duration": 573,
    "start_time": "2023-09-08T12:54:13.171Z"
   },
   {
    "duration": 208,
    "start_time": "2023-09-08T13:03:55.610Z"
   },
   {
    "duration": 1276,
    "start_time": "2023-09-08T16:15:11.263Z"
   },
   {
    "duration": 93,
    "start_time": "2023-09-08T16:15:12.541Z"
   },
   {
    "duration": 11,
    "start_time": "2023-09-08T16:15:12.635Z"
   },
   {
    "duration": 97,
    "start_time": "2023-09-08T16:15:12.648Z"
   },
   {
    "duration": 14,
    "start_time": "2023-09-08T16:15:12.747Z"
   },
   {
    "duration": 87,
    "start_time": "2023-09-08T16:15:12.762Z"
   },
   {
    "duration": 9,
    "start_time": "2023-09-08T16:15:12.851Z"
   },
   {
    "duration": 36,
    "start_time": "2023-09-08T16:15:12.862Z"
   },
   {
    "duration": 21,
    "start_time": "2023-09-08T16:15:12.899Z"
   },
   {
    "duration": 24,
    "start_time": "2023-09-08T16:15:12.923Z"
   },
   {
    "duration": 29,
    "start_time": "2023-09-08T16:15:12.948Z"
   },
   {
    "duration": 28,
    "start_time": "2023-09-08T16:15:12.979Z"
   },
   {
    "duration": 27,
    "start_time": "2023-09-08T16:15:13.008Z"
   },
   {
    "duration": 18,
    "start_time": "2023-09-08T16:15:13.037Z"
   },
   {
    "duration": 26,
    "start_time": "2023-09-08T16:15:13.056Z"
   },
   {
    "duration": 10,
    "start_time": "2023-09-08T16:15:13.084Z"
   },
   {
    "duration": 19,
    "start_time": "2023-09-08T16:15:13.095Z"
   },
   {
    "duration": 201,
    "start_time": "2023-09-08T16:15:13.116Z"
   },
   {
    "duration": 5,
    "start_time": "2023-09-08T16:15:13.319Z"
   },
   {
    "duration": 96,
    "start_time": "2023-09-08T16:15:13.334Z"
   },
   {
    "duration": 8,
    "start_time": "2023-09-08T16:15:13.431Z"
   },
   {
    "duration": 26,
    "start_time": "2023-09-08T16:15:13.440Z"
   },
   {
    "duration": 155,
    "start_time": "2023-09-08T16:15:13.468Z"
   },
   {
    "duration": 10,
    "start_time": "2023-09-08T16:15:13.624Z"
   },
   {
    "duration": 250,
    "start_time": "2023-09-08T16:15:13.636Z"
   },
   {
    "duration": 231,
    "start_time": "2023-09-08T16:15:13.887Z"
   },
   {
    "duration": 285,
    "start_time": "2023-09-08T16:15:14.119Z"
   },
   {
    "duration": 8,
    "start_time": "2023-09-08T16:15:14.407Z"
   },
   {
    "duration": 272,
    "start_time": "2023-09-08T16:15:14.417Z"
   },
   {
    "duration": 221,
    "start_time": "2023-09-08T16:15:14.691Z"
   },
   {
    "duration": 10,
    "start_time": "2023-09-08T16:15:14.914Z"
   },
   {
    "duration": 6,
    "start_time": "2023-09-08T16:15:14.934Z"
   },
   {
    "duration": 7,
    "start_time": "2023-09-08T16:15:14.941Z"
   },
   {
    "duration": 8,
    "start_time": "2023-09-08T16:15:14.950Z"
   },
   {
    "duration": 317,
    "start_time": "2023-09-08T16:15:14.960Z"
   },
   {
    "duration": 16,
    "start_time": "2023-09-08T16:15:15.279Z"
   },
   {
    "duration": 24,
    "start_time": "2023-09-08T16:15:15.297Z"
   },
   {
    "duration": 13,
    "start_time": "2023-09-08T16:15:15.323Z"
   },
   {
    "duration": 19,
    "start_time": "2023-09-08T16:15:15.338Z"
   },
   {
    "duration": 30,
    "start_time": "2023-09-08T16:15:15.358Z"
   },
   {
    "duration": 13,
    "start_time": "2023-09-08T16:15:15.389Z"
   },
   {
    "duration": 202,
    "start_time": "2023-09-08T16:15:15.404Z"
   },
   {
    "duration": 294,
    "start_time": "2023-09-08T16:15:15.608Z"
   },
   {
    "duration": 328,
    "start_time": "2023-09-08T16:15:15.903Z"
   },
   {
    "duration": 202,
    "start_time": "2023-09-08T16:15:16.234Z"
   },
   {
    "duration": 201,
    "start_time": "2023-09-08T16:15:16.437Z"
   },
   {
    "duration": 348,
    "start_time": "2023-09-08T16:15:16.640Z"
   },
   {
    "duration": 210,
    "start_time": "2023-09-08T16:15:16.989Z"
   },
   {
    "duration": 20,
    "start_time": "2023-09-08T16:15:17.201Z"
   },
   {
    "duration": 15,
    "start_time": "2023-09-08T16:15:17.233Z"
   },
   {
    "duration": 12,
    "start_time": "2023-09-08T16:15:17.249Z"
   },
   {
    "duration": 20,
    "start_time": "2023-09-08T16:15:17.263Z"
   },
   {
    "duration": 23,
    "start_time": "2023-09-08T16:15:17.285Z"
   },
   {
    "duration": 7,
    "start_time": "2023-09-08T16:15:17.309Z"
   },
   {
    "duration": 634,
    "start_time": "2023-09-08T16:15:17.318Z"
   },
   {
    "duration": 210,
    "start_time": "2023-09-08T16:15:17.954Z"
   },
   {
    "duration": 152,
    "start_time": "2023-09-08T16:15:18.166Z"
   },
   {
    "duration": 15,
    "start_time": "2023-09-08T16:15:18.319Z"
   },
   {
    "duration": 98,
    "start_time": "2023-09-08T16:38:19.683Z"
   },
   {
    "duration": 101,
    "start_time": "2023-09-08T16:38:30.024Z"
   },
   {
    "duration": 5103,
    "start_time": "2023-09-08T16:38:36.584Z"
   },
   {
    "duration": 5342,
    "start_time": "2023-09-08T16:39:00.979Z"
   },
   {
    "duration": 1199,
    "start_time": "2023-09-08T16:39:12.128Z"
   },
   {
    "duration": 37,
    "start_time": "2023-09-08T16:39:13.329Z"
   },
   {
    "duration": 11,
    "start_time": "2023-09-08T16:39:13.367Z"
   },
   {
    "duration": 39,
    "start_time": "2023-09-08T16:39:13.381Z"
   },
   {
    "duration": 10,
    "start_time": "2023-09-08T16:39:13.422Z"
   },
   {
    "duration": 32,
    "start_time": "2023-09-08T16:39:13.433Z"
   },
   {
    "duration": 9,
    "start_time": "2023-09-08T16:39:13.467Z"
   },
   {
    "duration": 17,
    "start_time": "2023-09-08T16:39:13.477Z"
   },
   {
    "duration": 18,
    "start_time": "2023-09-08T16:39:13.496Z"
   },
   {
    "duration": 24,
    "start_time": "2023-09-08T16:39:13.516Z"
   },
   {
    "duration": 21,
    "start_time": "2023-09-08T16:39:13.542Z"
   },
   {
    "duration": 10,
    "start_time": "2023-09-08T16:39:13.565Z"
   },
   {
    "duration": 10,
    "start_time": "2023-09-08T16:39:13.576Z"
   },
   {
    "duration": 5,
    "start_time": "2023-09-08T16:39:13.588Z"
   },
   {
    "duration": 19,
    "start_time": "2023-09-08T16:39:13.594Z"
   },
   {
    "duration": 8,
    "start_time": "2023-09-08T16:39:13.615Z"
   },
   {
    "duration": 13,
    "start_time": "2023-09-08T16:39:13.624Z"
   },
   {
    "duration": 215,
    "start_time": "2023-09-08T16:39:13.639Z"
   },
   {
    "duration": 7,
    "start_time": "2023-09-08T16:39:13.856Z"
   },
   {
    "duration": 116,
    "start_time": "2023-09-08T16:39:13.865Z"
   },
   {
    "duration": 8,
    "start_time": "2023-09-08T16:39:13.983Z"
   },
   {
    "duration": 6,
    "start_time": "2023-09-08T16:39:13.993Z"
   },
   {
    "duration": 215,
    "start_time": "2023-09-08T16:39:14.001Z"
   },
   {
    "duration": 8,
    "start_time": "2023-09-08T16:39:14.217Z"
   },
   {
    "duration": 219,
    "start_time": "2023-09-08T16:39:14.227Z"
   },
   {
    "duration": 283,
    "start_time": "2023-09-08T16:39:14.448Z"
   },
   {
    "duration": 292,
    "start_time": "2023-09-08T16:39:14.733Z"
   },
   {
    "duration": 13,
    "start_time": "2023-09-08T16:39:15.029Z"
   },
   {
    "duration": 240,
    "start_time": "2023-09-08T16:39:15.043Z"
   },
   {
    "duration": 216,
    "start_time": "2023-09-08T16:39:15.285Z"
   },
   {
    "duration": 14,
    "start_time": "2023-09-08T16:39:15.503Z"
   },
   {
    "duration": 24,
    "start_time": "2023-09-08T16:39:15.519Z"
   },
   {
    "duration": 16,
    "start_time": "2023-09-08T16:39:15.545Z"
   },
   {
    "duration": 12,
    "start_time": "2023-09-08T16:39:15.563Z"
   },
   {
    "duration": 311,
    "start_time": "2023-09-08T16:39:15.577Z"
   },
   {
    "duration": 18,
    "start_time": "2023-09-08T16:39:15.889Z"
   },
   {
    "duration": 30,
    "start_time": "2023-09-08T16:39:15.909Z"
   },
   {
    "duration": 6,
    "start_time": "2023-09-08T16:39:15.941Z"
   },
   {
    "duration": 31,
    "start_time": "2023-09-08T16:39:15.948Z"
   },
   {
    "duration": 28,
    "start_time": "2023-09-08T16:39:15.981Z"
   },
   {
    "duration": 18,
    "start_time": "2023-09-08T16:39:16.011Z"
   },
   {
    "duration": 229,
    "start_time": "2023-09-08T16:39:16.030Z"
   },
   {
    "duration": 294,
    "start_time": "2023-09-08T16:39:16.260Z"
   },
   {
    "duration": 318,
    "start_time": "2023-09-08T16:39:16.555Z"
   },
   {
    "duration": 229,
    "start_time": "2023-09-08T16:39:16.874Z"
   },
   {
    "duration": 209,
    "start_time": "2023-09-08T16:39:17.104Z"
   },
   {
    "duration": 324,
    "start_time": "2023-09-08T16:39:17.315Z"
   },
   {
    "duration": 203,
    "start_time": "2023-09-08T16:39:17.641Z"
   },
   {
    "duration": 19,
    "start_time": "2023-09-08T16:39:17.846Z"
   },
   {
    "duration": 51,
    "start_time": "2023-09-08T16:39:17.866Z"
   },
   {
    "duration": 5,
    "start_time": "2023-09-08T16:39:17.919Z"
   },
   {
    "duration": 16,
    "start_time": "2023-09-08T16:39:17.925Z"
   },
   {
    "duration": 10,
    "start_time": "2023-09-08T16:39:17.942Z"
   },
   {
    "duration": 37,
    "start_time": "2023-09-08T16:39:17.954Z"
   },
   {
    "duration": 587,
    "start_time": "2023-09-08T16:39:17.993Z"
   },
   {
    "duration": 205,
    "start_time": "2023-09-08T16:39:18.581Z"
   },
   {
    "duration": 155,
    "start_time": "2023-09-08T16:39:18.788Z"
   },
   {
    "duration": 5,
    "start_time": "2023-09-08T16:39:18.944Z"
   },
   {
    "duration": 5288,
    "start_time": "2023-09-08T16:46:21.554Z"
   },
   {
    "duration": 1092,
    "start_time": "2023-09-08T16:46:35.174Z"
   },
   {
    "duration": 37,
    "start_time": "2023-09-08T16:46:36.267Z"
   },
   {
    "duration": 22,
    "start_time": "2023-09-08T16:46:36.306Z"
   },
   {
    "duration": 45,
    "start_time": "2023-09-08T16:46:36.330Z"
   },
   {
    "duration": 13,
    "start_time": "2023-09-08T16:46:36.378Z"
   },
   {
    "duration": 20,
    "start_time": "2023-09-08T16:46:36.392Z"
   },
   {
    "duration": 9,
    "start_time": "2023-09-08T16:46:36.413Z"
   },
   {
    "duration": 8,
    "start_time": "2023-09-08T16:46:36.423Z"
   },
   {
    "duration": 22,
    "start_time": "2023-09-08T16:46:36.432Z"
   },
   {
    "duration": 6,
    "start_time": "2023-09-08T16:46:36.456Z"
   },
   {
    "duration": 7,
    "start_time": "2023-09-08T16:46:36.463Z"
   },
   {
    "duration": 6,
    "start_time": "2023-09-08T16:46:36.472Z"
   },
   {
    "duration": 8,
    "start_time": "2023-09-08T16:46:36.479Z"
   },
   {
    "duration": 5,
    "start_time": "2023-09-08T16:46:36.488Z"
   },
   {
    "duration": 21,
    "start_time": "2023-09-08T16:46:36.494Z"
   },
   {
    "duration": 6,
    "start_time": "2023-09-08T16:46:36.516Z"
   },
   {
    "duration": 33,
    "start_time": "2023-09-08T16:46:36.524Z"
   },
   {
    "duration": 222,
    "start_time": "2023-09-08T16:46:36.559Z"
   },
   {
    "duration": 6,
    "start_time": "2023-09-08T16:46:36.783Z"
   },
   {
    "duration": 101,
    "start_time": "2023-09-08T16:46:36.791Z"
   },
   {
    "duration": 9,
    "start_time": "2023-09-08T16:46:36.894Z"
   },
   {
    "duration": 17,
    "start_time": "2023-09-08T16:46:36.905Z"
   },
   {
    "duration": 156,
    "start_time": "2023-09-08T16:46:36.923Z"
   },
   {
    "duration": 8,
    "start_time": "2023-09-08T16:46:37.081Z"
   },
   {
    "duration": 217,
    "start_time": "2023-09-08T16:46:37.091Z"
   },
   {
    "duration": 209,
    "start_time": "2023-09-08T16:46:37.310Z"
   },
   {
    "duration": 282,
    "start_time": "2023-09-08T16:46:37.521Z"
   },
   {
    "duration": 8,
    "start_time": "2023-09-08T16:46:37.807Z"
   },
   {
    "duration": 214,
    "start_time": "2023-09-08T16:46:37.817Z"
   },
   {
    "duration": 213,
    "start_time": "2023-09-08T16:46:38.034Z"
   },
   {
    "duration": 10,
    "start_time": "2023-09-08T16:46:38.248Z"
   },
   {
    "duration": 4,
    "start_time": "2023-09-08T16:46:38.260Z"
   },
   {
    "duration": 7,
    "start_time": "2023-09-08T16:46:38.266Z"
   },
   {
    "duration": 6,
    "start_time": "2023-09-08T16:46:38.274Z"
   },
   {
    "duration": 347,
    "start_time": "2023-09-08T16:46:38.282Z"
   },
   {
    "duration": 18,
    "start_time": "2023-09-08T16:46:38.630Z"
   },
   {
    "duration": 16,
    "start_time": "2023-09-08T16:46:38.650Z"
   },
   {
    "duration": 4,
    "start_time": "2023-09-08T16:46:38.667Z"
   },
   {
    "duration": 12,
    "start_time": "2023-09-08T16:46:38.673Z"
   },
   {
    "duration": 49,
    "start_time": "2023-09-08T16:46:38.686Z"
   },
   {
    "duration": 15,
    "start_time": "2023-09-08T16:46:38.737Z"
   },
   {
    "duration": 220,
    "start_time": "2023-09-08T16:46:38.753Z"
   },
   {
    "duration": 295,
    "start_time": "2023-09-08T16:46:38.975Z"
   },
   {
    "duration": 333,
    "start_time": "2023-09-08T16:46:39.271Z"
   },
   {
    "duration": 208,
    "start_time": "2023-09-08T16:46:39.606Z"
   },
   {
    "duration": 205,
    "start_time": "2023-09-08T16:46:39.815Z"
   },
   {
    "duration": 338,
    "start_time": "2023-09-08T16:46:40.021Z"
   },
   {
    "duration": 204,
    "start_time": "2023-09-08T16:46:40.361Z"
   },
   {
    "duration": 19,
    "start_time": "2023-09-08T16:46:40.567Z"
   },
   {
    "duration": 7,
    "start_time": "2023-09-08T16:46:40.588Z"
   },
   {
    "duration": 8,
    "start_time": "2023-09-08T16:46:40.596Z"
   },
   {
    "duration": 35,
    "start_time": "2023-09-08T16:46:40.605Z"
   },
   {
    "duration": 10,
    "start_time": "2023-09-08T16:46:40.642Z"
   },
   {
    "duration": 10,
    "start_time": "2023-09-08T16:46:40.654Z"
   },
   {
    "duration": 592,
    "start_time": "2023-09-08T16:46:40.665Z"
   },
   {
    "duration": 164,
    "start_time": "2023-09-08T16:46:41.258Z"
   },
   {
    "duration": 153,
    "start_time": "2023-09-08T16:46:41.423Z"
   },
   {
    "duration": 5,
    "start_time": "2023-09-08T16:46:41.577Z"
   },
   {
    "duration": 5053,
    "start_time": "2023-09-08T16:47:06.209Z"
   },
   {
    "duration": 1167,
    "start_time": "2023-09-08T16:47:18.478Z"
   },
   {
    "duration": 37,
    "start_time": "2023-09-08T16:47:19.647Z"
   },
   {
    "duration": 12,
    "start_time": "2023-09-08T16:47:19.686Z"
   },
   {
    "duration": 44,
    "start_time": "2023-09-08T16:47:19.699Z"
   },
   {
    "duration": 11,
    "start_time": "2023-09-08T16:47:19.745Z"
   },
   {
    "duration": 19,
    "start_time": "2023-09-08T16:47:19.757Z"
   },
   {
    "duration": 9,
    "start_time": "2023-09-08T16:47:19.777Z"
   },
   {
    "duration": 28,
    "start_time": "2023-09-08T16:47:19.788Z"
   },
   {
    "duration": 10,
    "start_time": "2023-09-08T16:47:19.817Z"
   },
   {
    "duration": 8,
    "start_time": "2023-09-08T16:47:19.829Z"
   },
   {
    "duration": 7,
    "start_time": "2023-09-08T16:47:19.839Z"
   },
   {
    "duration": 7,
    "start_time": "2023-09-08T16:47:19.847Z"
   },
   {
    "duration": 14,
    "start_time": "2023-09-08T16:47:19.855Z"
   },
   {
    "duration": 5,
    "start_time": "2023-09-08T16:47:19.870Z"
   },
   {
    "duration": 11,
    "start_time": "2023-09-08T16:47:19.876Z"
   },
   {
    "duration": 8,
    "start_time": "2023-09-08T16:47:19.889Z"
   },
   {
    "duration": 14,
    "start_time": "2023-09-08T16:47:19.898Z"
   },
   {
    "duration": 239,
    "start_time": "2023-09-08T16:47:19.913Z"
   },
   {
    "duration": 6,
    "start_time": "2023-09-08T16:47:20.154Z"
   },
   {
    "duration": 101,
    "start_time": "2023-09-08T16:47:20.161Z"
   },
   {
    "duration": 8,
    "start_time": "2023-09-08T16:47:20.264Z"
   },
   {
    "duration": 14,
    "start_time": "2023-09-08T16:47:20.273Z"
   },
   {
    "duration": 145,
    "start_time": "2023-09-08T16:47:20.289Z"
   },
   {
    "duration": 10,
    "start_time": "2023-09-08T16:47:20.435Z"
   },
   {
    "duration": 225,
    "start_time": "2023-09-08T16:47:20.447Z"
   },
   {
    "duration": 209,
    "start_time": "2023-09-08T16:47:20.674Z"
   },
   {
    "duration": 284,
    "start_time": "2023-09-08T16:47:20.885Z"
   },
   {
    "duration": 8,
    "start_time": "2023-09-08T16:47:21.172Z"
   },
   {
    "duration": 210,
    "start_time": "2023-09-08T16:47:21.182Z"
   },
   {
    "duration": 208,
    "start_time": "2023-09-08T16:47:21.393Z"
   },
   {
    "duration": 13,
    "start_time": "2023-09-08T16:47:21.602Z"
   },
   {
    "duration": 21,
    "start_time": "2023-09-08T16:47:21.616Z"
   },
   {
    "duration": 41,
    "start_time": "2023-09-08T16:47:21.638Z"
   },
   {
    "duration": 28,
    "start_time": "2023-09-08T16:47:21.681Z"
   },
   {
    "duration": 336,
    "start_time": "2023-09-08T16:47:21.710Z"
   },
   {
    "duration": 17,
    "start_time": "2023-09-08T16:47:22.048Z"
   },
   {
    "duration": 21,
    "start_time": "2023-09-08T16:47:22.066Z"
   },
   {
    "duration": 39,
    "start_time": "2023-09-08T16:47:22.089Z"
   },
   {
    "duration": 67,
    "start_time": "2023-09-08T16:47:22.129Z"
   },
   {
    "duration": 37,
    "start_time": "2023-09-08T16:47:22.198Z"
   },
   {
    "duration": 15,
    "start_time": "2023-09-08T16:47:22.236Z"
   },
   {
    "duration": 210,
    "start_time": "2023-09-08T16:47:22.253Z"
   },
   {
    "duration": 304,
    "start_time": "2023-09-08T16:47:22.464Z"
   },
   {
    "duration": 328,
    "start_time": "2023-09-08T16:47:22.770Z"
   },
   {
    "duration": 203,
    "start_time": "2023-09-08T16:47:23.099Z"
   },
   {
    "duration": 210,
    "start_time": "2023-09-08T16:47:23.303Z"
   },
   {
    "duration": 342,
    "start_time": "2023-09-08T16:47:23.515Z"
   },
   {
    "duration": 203,
    "start_time": "2023-09-08T16:47:23.858Z"
   },
   {
    "duration": 18,
    "start_time": "2023-09-08T16:47:24.063Z"
   },
   {
    "duration": 6,
    "start_time": "2023-09-08T16:47:24.082Z"
   },
   {
    "duration": 9,
    "start_time": "2023-09-08T16:47:24.089Z"
   },
   {
    "duration": 19,
    "start_time": "2023-09-08T16:47:24.099Z"
   },
   {
    "duration": 26,
    "start_time": "2023-09-08T16:47:24.135Z"
   },
   {
    "duration": 26,
    "start_time": "2023-09-08T16:47:24.163Z"
   },
   {
    "duration": 687,
    "start_time": "2023-09-08T16:47:24.191Z"
   },
   {
    "duration": 209,
    "start_time": "2023-09-08T16:47:24.879Z"
   },
   {
    "duration": 147,
    "start_time": "2023-09-08T16:47:25.090Z"
   },
   {
    "duration": 5,
    "start_time": "2023-09-08T16:47:25.239Z"
   },
   {
    "duration": 1183,
    "start_time": "2023-09-08T16:48:44.947Z"
   },
   {
    "duration": 47,
    "start_time": "2023-09-08T16:48:46.132Z"
   },
   {
    "duration": 10,
    "start_time": "2023-09-08T16:48:46.180Z"
   },
   {
    "duration": 35,
    "start_time": "2023-09-08T16:48:46.192Z"
   },
   {
    "duration": 14,
    "start_time": "2023-09-08T16:48:46.229Z"
   },
   {
    "duration": 20,
    "start_time": "2023-09-08T16:48:46.245Z"
   },
   {
    "duration": 9,
    "start_time": "2023-09-08T16:48:46.266Z"
   },
   {
    "duration": 5,
    "start_time": "2023-09-08T16:48:46.277Z"
   },
   {
    "duration": 7,
    "start_time": "2023-09-08T16:48:46.283Z"
   },
   {
    "duration": 5,
    "start_time": "2023-09-08T16:48:46.293Z"
   },
   {
    "duration": 18,
    "start_time": "2023-09-08T16:48:46.299Z"
   },
   {
    "duration": 16,
    "start_time": "2023-09-08T16:48:46.319Z"
   },
   {
    "duration": 13,
    "start_time": "2023-09-08T16:48:46.337Z"
   },
   {
    "duration": 4,
    "start_time": "2023-09-08T16:48:46.352Z"
   },
   {
    "duration": 35,
    "start_time": "2023-09-08T16:48:46.358Z"
   },
   {
    "duration": 11,
    "start_time": "2023-09-08T16:48:46.394Z"
   },
   {
    "duration": 7,
    "start_time": "2023-09-08T16:48:46.406Z"
   },
   {
    "duration": 235,
    "start_time": "2023-09-08T16:48:46.415Z"
   },
   {
    "duration": 6,
    "start_time": "2023-09-08T16:48:46.652Z"
   },
   {
    "duration": 102,
    "start_time": "2023-09-08T16:48:46.659Z"
   },
   {
    "duration": 8,
    "start_time": "2023-09-08T16:48:46.763Z"
   },
   {
    "duration": 6,
    "start_time": "2023-09-08T16:48:46.773Z"
   },
   {
    "duration": 169,
    "start_time": "2023-09-08T16:48:46.781Z"
   },
   {
    "duration": 8,
    "start_time": "2023-09-08T16:48:46.952Z"
   },
   {
    "duration": 233,
    "start_time": "2023-09-08T16:48:46.961Z"
   },
   {
    "duration": 226,
    "start_time": "2023-09-08T16:48:47.196Z"
   },
   {
    "duration": 310,
    "start_time": "2023-09-08T16:48:47.424Z"
   },
   {
    "duration": 13,
    "start_time": "2023-09-08T16:48:47.739Z"
   },
   {
    "duration": 225,
    "start_time": "2023-09-08T16:48:47.754Z"
   },
   {
    "duration": 286,
    "start_time": "2023-09-08T16:48:47.981Z"
   },
   {
    "duration": 10,
    "start_time": "2023-09-08T16:48:48.269Z"
   },
   {
    "duration": 4,
    "start_time": "2023-09-08T16:48:48.280Z"
   },
   {
    "duration": 10,
    "start_time": "2023-09-08T16:48:48.285Z"
   },
   {
    "duration": 19,
    "start_time": "2023-09-08T16:48:48.296Z"
   },
   {
    "duration": 351,
    "start_time": "2023-09-08T16:48:48.317Z"
   },
   {
    "duration": 17,
    "start_time": "2023-09-08T16:48:48.669Z"
   },
   {
    "duration": 18,
    "start_time": "2023-09-08T16:48:48.687Z"
   },
   {
    "duration": 4,
    "start_time": "2023-09-08T16:48:48.706Z"
   },
   {
    "duration": 26,
    "start_time": "2023-09-08T16:48:48.712Z"
   },
   {
    "duration": 24,
    "start_time": "2023-09-08T16:48:48.740Z"
   },
   {
    "duration": 14,
    "start_time": "2023-09-08T16:48:48.765Z"
   },
   {
    "duration": 234,
    "start_time": "2023-09-08T16:48:48.780Z"
   },
   {
    "duration": 371,
    "start_time": "2023-09-08T16:48:49.016Z"
   },
   {
    "duration": 394,
    "start_time": "2023-09-08T16:48:49.389Z"
   },
   {
    "duration": 254,
    "start_time": "2023-09-08T16:48:49.785Z"
   },
   {
    "duration": 249,
    "start_time": "2023-09-08T16:48:50.042Z"
   },
   {
    "duration": 377,
    "start_time": "2023-09-08T16:48:50.293Z"
   },
   {
    "duration": 220,
    "start_time": "2023-09-08T16:48:50.672Z"
   },
   {
    "duration": 21,
    "start_time": "2023-09-08T16:48:50.895Z"
   },
   {
    "duration": 20,
    "start_time": "2023-09-08T16:48:50.918Z"
   },
   {
    "duration": 7,
    "start_time": "2023-09-08T16:48:50.943Z"
   },
   {
    "duration": 23,
    "start_time": "2023-09-08T16:48:50.952Z"
   },
   {
    "duration": 10,
    "start_time": "2023-09-08T16:48:50.977Z"
   },
   {
    "duration": 22,
    "start_time": "2023-09-08T16:48:50.989Z"
   },
   {
    "duration": 692,
    "start_time": "2023-09-08T16:48:51.012Z"
   },
   {
    "duration": 221,
    "start_time": "2023-09-08T16:48:51.705Z"
   },
   {
    "duration": 170,
    "start_time": "2023-09-08T16:48:51.928Z"
   },
   {
    "duration": 5,
    "start_time": "2023-09-08T16:48:52.099Z"
   },
   {
    "duration": 1081,
    "start_time": "2023-09-08T16:50:38.460Z"
   },
   {
    "duration": 38,
    "start_time": "2023-09-08T16:50:39.543Z"
   },
   {
    "duration": 10,
    "start_time": "2023-09-08T16:50:39.582Z"
   },
   {
    "duration": 45,
    "start_time": "2023-09-08T16:50:39.593Z"
   },
   {
    "duration": 10,
    "start_time": "2023-09-08T16:50:39.639Z"
   },
   {
    "duration": 39,
    "start_time": "2023-09-08T16:50:39.650Z"
   },
   {
    "duration": 13,
    "start_time": "2023-09-08T16:50:39.690Z"
   },
   {
    "duration": 11,
    "start_time": "2023-09-08T16:50:39.705Z"
   },
   {
    "duration": 13,
    "start_time": "2023-09-08T16:50:39.717Z"
   },
   {
    "duration": 16,
    "start_time": "2023-09-08T16:50:39.732Z"
   },
   {
    "duration": 15,
    "start_time": "2023-09-08T16:50:39.750Z"
   },
   {
    "duration": 13,
    "start_time": "2023-09-08T16:50:39.766Z"
   },
   {
    "duration": 18,
    "start_time": "2023-09-08T16:50:39.780Z"
   },
   {
    "duration": 28,
    "start_time": "2023-09-08T16:50:39.799Z"
   },
   {
    "duration": 17,
    "start_time": "2023-09-08T16:50:39.829Z"
   },
   {
    "duration": 11,
    "start_time": "2023-09-08T16:50:39.848Z"
   },
   {
    "duration": 8,
    "start_time": "2023-09-08T16:50:39.860Z"
   },
   {
    "duration": 206,
    "start_time": "2023-09-08T16:50:39.869Z"
   },
   {
    "duration": 6,
    "start_time": "2023-09-08T16:50:40.077Z"
   },
   {
    "duration": 113,
    "start_time": "2023-09-08T16:50:40.084Z"
   },
   {
    "duration": 8,
    "start_time": "2023-09-08T16:50:40.198Z"
   },
   {
    "duration": 32,
    "start_time": "2023-09-08T16:50:40.208Z"
   },
   {
    "duration": 136,
    "start_time": "2023-09-08T16:50:40.242Z"
   },
   {
    "duration": 8,
    "start_time": "2023-09-08T16:50:40.379Z"
   },
   {
    "duration": 223,
    "start_time": "2023-09-08T16:50:40.389Z"
   },
   {
    "duration": 222,
    "start_time": "2023-09-08T16:50:40.614Z"
   },
   {
    "duration": 276,
    "start_time": "2023-09-08T16:50:40.838Z"
   },
   {
    "duration": 17,
    "start_time": "2023-09-08T16:50:41.117Z"
   },
   {
    "duration": 205,
    "start_time": "2023-09-08T16:50:41.136Z"
   },
   {
    "duration": 218,
    "start_time": "2023-09-08T16:50:41.343Z"
   },
   {
    "duration": 10,
    "start_time": "2023-09-08T16:50:41.563Z"
   },
   {
    "duration": 8,
    "start_time": "2023-09-08T16:50:41.574Z"
   },
   {
    "duration": 12,
    "start_time": "2023-09-08T16:50:41.583Z"
   },
   {
    "duration": 13,
    "start_time": "2023-09-08T16:50:41.597Z"
   },
   {
    "duration": 327,
    "start_time": "2023-09-08T16:50:41.611Z"
   },
   {
    "duration": 20,
    "start_time": "2023-09-08T16:50:41.939Z"
   },
   {
    "duration": 30,
    "start_time": "2023-09-08T16:50:41.961Z"
   },
   {
    "duration": 6,
    "start_time": "2023-09-08T16:50:41.993Z"
   },
   {
    "duration": 15,
    "start_time": "2023-09-08T16:50:42.001Z"
   },
   {
    "duration": 28,
    "start_time": "2023-09-08T16:50:42.018Z"
   },
   {
    "duration": 14,
    "start_time": "2023-09-08T16:50:42.048Z"
   },
   {
    "duration": 219,
    "start_time": "2023-09-08T16:50:42.064Z"
   },
   {
    "duration": 282,
    "start_time": "2023-09-08T16:50:42.285Z"
   },
   {
    "duration": 366,
    "start_time": "2023-09-08T16:50:42.568Z"
   },
   {
    "duration": 212,
    "start_time": "2023-09-08T16:50:42.935Z"
   },
   {
    "duration": 205,
    "start_time": "2023-09-08T16:50:43.148Z"
   },
   {
    "duration": 310,
    "start_time": "2023-09-08T16:50:43.354Z"
   },
   {
    "duration": 193,
    "start_time": "2023-09-08T16:50:43.665Z"
   },
   {
    "duration": 19,
    "start_time": "2023-09-08T16:50:43.860Z"
   },
   {
    "duration": 34,
    "start_time": "2023-09-08T16:50:43.880Z"
   },
   {
    "duration": 14,
    "start_time": "2023-09-08T16:50:43.916Z"
   },
   {
    "duration": 22,
    "start_time": "2023-09-08T16:50:43.931Z"
   },
   {
    "duration": 10,
    "start_time": "2023-09-08T16:50:43.955Z"
   },
   {
    "duration": 6,
    "start_time": "2023-09-08T16:50:43.966Z"
   },
   {
    "duration": 613,
    "start_time": "2023-09-08T16:50:43.974Z"
   },
   {
    "duration": 236,
    "start_time": "2023-09-08T16:50:44.589Z"
   },
   {
    "duration": 154,
    "start_time": "2023-09-08T16:50:44.827Z"
   },
   {
    "duration": 4,
    "start_time": "2023-09-08T16:50:44.983Z"
   },
   {
    "duration": 1162,
    "start_time": "2023-09-08T16:51:21.957Z"
   },
   {
    "duration": 38,
    "start_time": "2023-09-08T16:51:23.123Z"
   },
   {
    "duration": 12,
    "start_time": "2023-09-08T16:51:23.162Z"
   },
   {
    "duration": 38,
    "start_time": "2023-09-08T16:51:23.176Z"
   },
   {
    "duration": 13,
    "start_time": "2023-09-08T16:51:23.216Z"
   },
   {
    "duration": 20,
    "start_time": "2023-09-08T16:51:23.230Z"
   },
   {
    "duration": 11,
    "start_time": "2023-09-08T16:51:23.251Z"
   },
   {
    "duration": 20,
    "start_time": "2023-09-08T16:51:23.263Z"
   },
   {
    "duration": 9,
    "start_time": "2023-09-08T16:51:23.285Z"
   },
   {
    "duration": 5,
    "start_time": "2023-09-08T16:51:23.297Z"
   },
   {
    "duration": 22,
    "start_time": "2023-09-08T16:51:23.303Z"
   },
   {
    "duration": 16,
    "start_time": "2023-09-08T16:51:23.327Z"
   },
   {
    "duration": 14,
    "start_time": "2023-09-08T16:51:23.345Z"
   },
   {
    "duration": 10,
    "start_time": "2023-09-08T16:51:23.360Z"
   },
   {
    "duration": 17,
    "start_time": "2023-09-08T16:51:23.371Z"
   },
   {
    "duration": 16,
    "start_time": "2023-09-08T16:51:23.389Z"
   },
   {
    "duration": 6,
    "start_time": "2023-09-08T16:51:23.406Z"
   },
   {
    "duration": 191,
    "start_time": "2023-09-08T16:51:23.414Z"
   },
   {
    "duration": 5,
    "start_time": "2023-09-08T16:51:23.607Z"
   },
   {
    "duration": 90,
    "start_time": "2023-09-08T16:51:23.614Z"
   },
   {
    "duration": 8,
    "start_time": "2023-09-08T16:51:23.706Z"
   },
   {
    "duration": 19,
    "start_time": "2023-09-08T16:51:23.715Z"
   },
   {
    "duration": 130,
    "start_time": "2023-09-08T16:51:23.736Z"
   },
   {
    "duration": 8,
    "start_time": "2023-09-08T16:51:23.868Z"
   },
   {
    "duration": 215,
    "start_time": "2023-09-08T16:51:23.877Z"
   },
   {
    "duration": 215,
    "start_time": "2023-09-08T16:51:24.094Z"
   },
   {
    "duration": 352,
    "start_time": "2023-09-08T16:51:24.311Z"
   },
   {
    "duration": 8,
    "start_time": "2023-09-08T16:51:24.666Z"
   },
   {
    "duration": 211,
    "start_time": "2023-09-08T16:51:24.675Z"
   },
   {
    "duration": 221,
    "start_time": "2023-09-08T16:51:24.887Z"
   },
   {
    "duration": 10,
    "start_time": "2023-09-08T16:51:25.110Z"
   },
   {
    "duration": 4,
    "start_time": "2023-09-08T16:51:25.134Z"
   },
   {
    "duration": 12,
    "start_time": "2023-09-08T16:51:25.140Z"
   },
   {
    "duration": 13,
    "start_time": "2023-09-08T16:51:25.154Z"
   },
   {
    "duration": 324,
    "start_time": "2023-09-08T16:51:25.168Z"
   },
   {
    "duration": 17,
    "start_time": "2023-09-08T16:51:25.494Z"
   },
   {
    "duration": 38,
    "start_time": "2023-09-08T16:51:25.512Z"
   },
   {
    "duration": 4,
    "start_time": "2023-09-08T16:51:25.552Z"
   },
   {
    "duration": 25,
    "start_time": "2023-09-08T16:51:25.558Z"
   },
   {
    "duration": 48,
    "start_time": "2023-09-08T16:51:25.585Z"
   },
   {
    "duration": 15,
    "start_time": "2023-09-08T16:51:25.635Z"
   },
   {
    "duration": 213,
    "start_time": "2023-09-08T16:51:25.651Z"
   },
   {
    "duration": 297,
    "start_time": "2023-09-08T16:51:25.866Z"
   },
   {
    "duration": 317,
    "start_time": "2023-09-08T16:51:26.165Z"
   },
   {
    "duration": 199,
    "start_time": "2023-09-08T16:51:26.484Z"
   },
   {
    "duration": 200,
    "start_time": "2023-09-08T16:51:26.685Z"
   },
   {
    "duration": 324,
    "start_time": "2023-09-08T16:51:26.887Z"
   },
   {
    "duration": 202,
    "start_time": "2023-09-08T16:51:27.213Z"
   },
   {
    "duration": 27,
    "start_time": "2023-09-08T16:51:27.417Z"
   },
   {
    "duration": 7,
    "start_time": "2023-09-08T16:51:27.446Z"
   },
   {
    "duration": 12,
    "start_time": "2023-09-08T16:51:27.454Z"
   },
   {
    "duration": 16,
    "start_time": "2023-09-08T16:51:27.468Z"
   },
   {
    "duration": 11,
    "start_time": "2023-09-08T16:51:27.486Z"
   },
   {
    "duration": 6,
    "start_time": "2023-09-08T16:51:27.498Z"
   },
   {
    "duration": 628,
    "start_time": "2023-09-08T16:51:27.506Z"
   },
   {
    "duration": 202,
    "start_time": "2023-09-08T16:51:28.136Z"
   },
   {
    "duration": 139,
    "start_time": "2023-09-08T16:51:28.339Z"
   },
   {
    "duration": 5,
    "start_time": "2023-09-08T16:51:28.480Z"
   },
   {
    "duration": 1554,
    "start_time": "2023-09-08T18:50:57.021Z"
   },
   {
    "duration": 55,
    "start_time": "2023-09-08T18:50:58.577Z"
   },
   {
    "duration": 13,
    "start_time": "2023-09-08T18:50:58.634Z"
   },
   {
    "duration": 38,
    "start_time": "2023-09-08T18:50:58.649Z"
   },
   {
    "duration": 9,
    "start_time": "2023-09-08T18:50:58.689Z"
   },
   {
    "duration": 33,
    "start_time": "2023-09-08T18:50:58.700Z"
   },
   {
    "duration": 7,
    "start_time": "2023-09-08T18:50:58.735Z"
   },
   {
    "duration": 6,
    "start_time": "2023-09-08T18:50:58.744Z"
   },
   {
    "duration": 29,
    "start_time": "2023-09-08T18:50:58.751Z"
   },
   {
    "duration": 9,
    "start_time": "2023-09-08T18:50:58.783Z"
   },
   {
    "duration": 10,
    "start_time": "2023-09-08T18:50:58.793Z"
   },
   {
    "duration": 6,
    "start_time": "2023-09-08T18:50:58.808Z"
   },
   {
    "duration": 17,
    "start_time": "2023-09-08T18:50:58.816Z"
   },
   {
    "duration": 4,
    "start_time": "2023-09-08T18:50:58.835Z"
   },
   {
    "duration": 21,
    "start_time": "2023-09-08T18:50:58.841Z"
   },
   {
    "duration": 7,
    "start_time": "2023-09-08T18:50:58.863Z"
   },
   {
    "duration": 6,
    "start_time": "2023-09-08T18:50:58.871Z"
   },
   {
    "duration": 462,
    "start_time": "2023-09-08T18:50:58.879Z"
   },
   {
    "duration": 6,
    "start_time": "2023-09-08T18:50:59.343Z"
   },
   {
    "duration": 256,
    "start_time": "2023-09-08T18:50:59.350Z"
   },
   {
    "duration": 9,
    "start_time": "2023-09-08T18:50:59.607Z"
   },
   {
    "duration": 9,
    "start_time": "2023-09-08T18:50:59.617Z"
   },
   {
    "duration": 323,
    "start_time": "2023-09-08T18:50:59.628Z"
   },
   {
    "duration": 10,
    "start_time": "2023-09-08T18:50:59.952Z"
   },
   {
    "duration": 425,
    "start_time": "2023-09-08T18:50:59.963Z"
   },
   {
    "duration": 440,
    "start_time": "2023-09-08T18:51:00.390Z"
   },
   {
    "duration": 398,
    "start_time": "2023-09-08T18:51:00.832Z"
   },
   {
    "duration": 8,
    "start_time": "2023-09-08T18:51:01.235Z"
   },
   {
    "duration": 481,
    "start_time": "2023-09-08T18:51:01.245Z"
   },
   {
    "duration": 424,
    "start_time": "2023-09-08T18:51:01.728Z"
   },
   {
    "duration": 12,
    "start_time": "2023-09-08T18:51:02.154Z"
   },
   {
    "duration": 55,
    "start_time": "2023-09-08T18:51:02.168Z"
   },
   {
    "duration": 39,
    "start_time": "2023-09-08T18:51:02.225Z"
   },
   {
    "duration": 201,
    "start_time": "2023-09-08T18:51:02.266Z"
   },
   {
    "duration": 808,
    "start_time": "2023-09-08T18:51:02.469Z"
   },
   {
    "duration": 25,
    "start_time": "2023-09-08T18:51:03.279Z"
   },
   {
    "duration": 153,
    "start_time": "2023-09-08T18:51:03.308Z"
   },
   {
    "duration": 19,
    "start_time": "2023-09-08T18:51:03.463Z"
   },
   {
    "duration": 351,
    "start_time": "2023-09-08T18:51:03.485Z"
   },
   {
    "duration": 134,
    "start_time": "2023-09-08T18:51:03.838Z"
   },
   {
    "duration": 105,
    "start_time": "2023-09-08T18:51:03.974Z"
   },
   {
    "duration": 475,
    "start_time": "2023-09-08T18:51:04.081Z"
   },
   {
    "duration": 467,
    "start_time": "2023-09-08T18:51:04.558Z"
   },
   {
    "duration": 561,
    "start_time": "2023-09-08T18:51:05.027Z"
   },
   {
    "duration": 435,
    "start_time": "2023-09-08T18:51:05.589Z"
   },
   {
    "duration": 523,
    "start_time": "2023-09-08T18:51:06.025Z"
   },
   {
    "duration": 521,
    "start_time": "2023-09-08T18:51:06.550Z"
   },
   {
    "duration": 177,
    "start_time": "2023-09-08T18:51:07.073Z"
   },
   {
    "duration": 21,
    "start_time": "2023-09-08T18:51:07.252Z"
   },
   {
    "duration": 39,
    "start_time": "2023-09-08T18:51:07.275Z"
   },
   {
    "duration": 5,
    "start_time": "2023-09-08T18:51:07.316Z"
   },
   {
    "duration": 15,
    "start_time": "2023-09-08T18:51:07.324Z"
   },
   {
    "duration": 25,
    "start_time": "2023-09-08T18:51:07.340Z"
   },
   {
    "duration": 8,
    "start_time": "2023-09-08T18:51:07.367Z"
   },
   {
    "duration": 648,
    "start_time": "2023-09-08T18:51:07.377Z"
   },
   {
    "duration": 393,
    "start_time": "2023-09-08T18:51:08.027Z"
   },
   {
    "duration": 312,
    "start_time": "2023-09-08T18:51:08.422Z"
   },
   {
    "duration": 5,
    "start_time": "2023-09-08T18:51:08.736Z"
   },
   {
    "duration": 110,
    "start_time": "2023-09-08T18:59:31.367Z"
   },
   {
    "duration": 1062,
    "start_time": "2024-03-24T18:17:30.100Z"
   },
   {
    "duration": 43,
    "start_time": "2024-03-24T18:17:31.164Z"
   },
   {
    "duration": 25,
    "start_time": "2024-03-24T18:17:31.213Z"
   },
   {
    "duration": 87,
    "start_time": "2024-03-24T18:17:31.240Z"
   },
   {
    "duration": 25,
    "start_time": "2024-03-24T18:17:31.329Z"
   },
   {
    "duration": 79,
    "start_time": "2024-03-24T18:17:31.355Z"
   },
   {
    "duration": 41,
    "start_time": "2024-03-24T18:17:31.435Z"
   },
   {
    "duration": 31,
    "start_time": "2024-03-24T18:17:31.478Z"
   },
   {
    "duration": 28,
    "start_time": "2024-03-24T18:17:31.511Z"
   },
   {
    "duration": 28,
    "start_time": "2024-03-24T18:17:31.541Z"
   },
   {
    "duration": 27,
    "start_time": "2024-03-24T18:17:31.571Z"
   },
   {
    "duration": 18,
    "start_time": "2024-03-24T18:17:31.599Z"
   },
   {
    "duration": 21,
    "start_time": "2024-03-24T18:17:31.619Z"
   },
   {
    "duration": 27,
    "start_time": "2024-03-24T18:17:31.643Z"
   },
   {
    "duration": 22,
    "start_time": "2024-03-24T18:17:31.671Z"
   },
   {
    "duration": 16,
    "start_time": "2024-03-24T18:17:31.695Z"
   },
   {
    "duration": 5,
    "start_time": "2024-03-24T18:17:31.713Z"
   },
   {
    "duration": 207,
    "start_time": "2024-03-24T18:17:31.720Z"
   },
   {
    "duration": 5,
    "start_time": "2024-03-24T18:17:31.929Z"
   },
   {
    "duration": 93,
    "start_time": "2024-03-24T18:17:31.935Z"
   },
   {
    "duration": 7,
    "start_time": "2024-03-24T18:17:32.030Z"
   },
   {
    "duration": 5,
    "start_time": "2024-03-24T18:17:32.039Z"
   },
   {
    "duration": 147,
    "start_time": "2024-03-24T18:17:32.046Z"
   },
   {
    "duration": 22,
    "start_time": "2024-03-24T18:17:32.194Z"
   },
   {
    "duration": 205,
    "start_time": "2024-03-24T18:17:32.218Z"
   },
   {
    "duration": 190,
    "start_time": "2024-03-24T18:17:32.425Z"
   },
   {
    "duration": 230,
    "start_time": "2024-03-24T18:17:32.616Z"
   },
   {
    "duration": 7,
    "start_time": "2024-03-24T18:17:32.847Z"
   },
   {
    "duration": 196,
    "start_time": "2024-03-24T18:17:32.855Z"
   },
   {
    "duration": 206,
    "start_time": "2024-03-24T18:17:33.052Z"
   },
   {
    "duration": 9,
    "start_time": "2024-03-24T18:17:33.259Z"
   },
   {
    "duration": 9,
    "start_time": "2024-03-24T18:17:33.269Z"
   },
   {
    "duration": 14,
    "start_time": "2024-03-24T18:17:33.279Z"
   },
   {
    "duration": 17,
    "start_time": "2024-03-24T18:17:33.294Z"
   },
   {
    "duration": 278,
    "start_time": "2024-03-24T18:17:33.314Z"
   },
   {
    "duration": 41,
    "start_time": "2024-03-24T18:17:33.594Z"
   },
   {
    "duration": 15,
    "start_time": "2024-03-24T18:17:33.637Z"
   },
   {
    "duration": 3,
    "start_time": "2024-03-24T18:17:33.654Z"
   },
   {
    "duration": 13,
    "start_time": "2024-03-24T18:17:33.659Z"
   },
   {
    "duration": 25,
    "start_time": "2024-03-24T18:17:33.673Z"
   },
   {
    "duration": 17,
    "start_time": "2024-03-24T18:17:33.702Z"
   },
   {
    "duration": 219,
    "start_time": "2024-03-24T18:17:33.721Z"
   },
   {
    "duration": 254,
    "start_time": "2024-03-24T18:17:33.941Z"
   },
   {
    "duration": 295,
    "start_time": "2024-03-24T18:17:34.197Z"
   },
   {
    "duration": 189,
    "start_time": "2024-03-24T18:17:34.493Z"
   },
   {
    "duration": 190,
    "start_time": "2024-03-24T18:17:34.683Z"
   },
   {
    "duration": 313,
    "start_time": "2024-03-24T18:17:34.874Z"
   },
   {
    "duration": 186,
    "start_time": "2024-03-24T18:17:35.189Z"
   },
   {
    "duration": 37,
    "start_time": "2024-03-24T18:17:35.376Z"
   },
   {
    "duration": 7,
    "start_time": "2024-03-24T18:17:35.414Z"
   },
   {
    "duration": 7,
    "start_time": "2024-03-24T18:17:35.422Z"
   },
   {
    "duration": 13,
    "start_time": "2024-03-24T18:17:35.431Z"
   },
   {
    "duration": 8,
    "start_time": "2024-03-24T18:17:35.445Z"
   },
   {
    "duration": 497,
    "start_time": "2024-03-24T18:17:35.454Z"
   },
   {
    "duration": 211,
    "start_time": "2024-03-24T18:17:35.952Z"
   },
   {
    "duration": 154,
    "start_time": "2024-03-24T18:17:36.165Z"
   },
   {
    "duration": 6,
    "start_time": "2024-03-24T18:17:36.320Z"
   },
   {
    "duration": 1296,
    "start_time": "2024-03-29T21:43:43.784Z"
   },
   {
    "duration": 86,
    "start_time": "2024-03-29T21:43:45.082Z"
   },
   {
    "duration": 12,
    "start_time": "2024-03-29T21:43:45.170Z"
   },
   {
    "duration": 108,
    "start_time": "2024-03-29T21:43:45.183Z"
   },
   {
    "duration": 12,
    "start_time": "2024-03-29T21:43:45.293Z"
   },
   {
    "duration": 79,
    "start_time": "2024-03-29T21:43:45.307Z"
   },
   {
    "duration": 10,
    "start_time": "2024-03-29T21:43:45.388Z"
   },
   {
    "duration": 9,
    "start_time": "2024-03-29T21:43:45.399Z"
   },
   {
    "duration": 14,
    "start_time": "2024-03-29T21:43:45.410Z"
   },
   {
    "duration": 5,
    "start_time": "2024-03-29T21:43:45.426Z"
   },
   {
    "duration": 10,
    "start_time": "2024-03-29T21:43:45.432Z"
   },
   {
    "duration": 5,
    "start_time": "2024-03-29T21:43:45.444Z"
   },
   {
    "duration": 22,
    "start_time": "2024-03-29T21:43:45.450Z"
   },
   {
    "duration": 11,
    "start_time": "2024-03-29T21:43:45.475Z"
   },
   {
    "duration": 22,
    "start_time": "2024-03-29T21:43:45.487Z"
   },
   {
    "duration": 9,
    "start_time": "2024-03-29T21:43:45.511Z"
   },
   {
    "duration": 6,
    "start_time": "2024-03-29T21:43:45.522Z"
   },
   {
    "duration": 247,
    "start_time": "2024-03-29T21:43:45.530Z"
   },
   {
    "duration": 6,
    "start_time": "2024-03-29T21:43:45.779Z"
   },
   {
    "duration": 126,
    "start_time": "2024-03-29T21:43:45.786Z"
   },
   {
    "duration": 8,
    "start_time": "2024-03-29T21:43:45.915Z"
   },
   {
    "duration": 6,
    "start_time": "2024-03-29T21:43:45.924Z"
   },
   {
    "duration": 205,
    "start_time": "2024-03-29T21:43:45.931Z"
   },
   {
    "duration": 9,
    "start_time": "2024-03-29T21:43:46.138Z"
   },
   {
    "duration": 283,
    "start_time": "2024-03-29T21:43:46.148Z"
   },
   {
    "duration": 281,
    "start_time": "2024-03-29T21:43:46.432Z"
   },
   {
    "duration": 316,
    "start_time": "2024-03-29T21:43:46.715Z"
   },
   {
    "duration": 10,
    "start_time": "2024-03-29T21:43:47.033Z"
   },
   {
    "duration": 253,
    "start_time": "2024-03-29T21:43:47.044Z"
   },
   {
    "duration": 261,
    "start_time": "2024-03-29T21:43:47.299Z"
   },
   {
    "duration": 12,
    "start_time": "2024-03-29T21:43:47.562Z"
   },
   {
    "duration": 10,
    "start_time": "2024-03-29T21:43:47.576Z"
   },
   {
    "duration": 28,
    "start_time": "2024-03-29T21:43:47.588Z"
   },
   {
    "duration": 8,
    "start_time": "2024-03-29T21:43:47.618Z"
   },
   {
    "duration": 383,
    "start_time": "2024-03-29T21:43:47.627Z"
   },
   {
    "duration": 19,
    "start_time": "2024-03-29T21:43:48.014Z"
   },
   {
    "duration": 20,
    "start_time": "2024-03-29T21:43:48.034Z"
   },
   {
    "duration": 5,
    "start_time": "2024-03-29T21:43:48.056Z"
   },
   {
    "duration": 9,
    "start_time": "2024-03-29T21:43:48.062Z"
   },
   {
    "duration": 52,
    "start_time": "2024-03-29T21:43:48.073Z"
   },
   {
    "duration": 20,
    "start_time": "2024-03-29T21:43:48.131Z"
   },
   {
    "duration": 270,
    "start_time": "2024-03-29T21:43:48.153Z"
   },
   {
    "duration": 339,
    "start_time": "2024-03-29T21:43:48.424Z"
   },
   {
    "duration": 421,
    "start_time": "2024-03-29T21:43:48.764Z"
   },
   {
    "duration": 239,
    "start_time": "2024-03-29T21:43:49.187Z"
   },
   {
    "duration": 238,
    "start_time": "2024-03-29T21:43:49.428Z"
   },
   {
    "duration": 384,
    "start_time": "2024-03-29T21:43:49.667Z"
   },
   {
    "duration": 223,
    "start_time": "2024-03-29T21:43:50.053Z"
   },
   {
    "duration": 22,
    "start_time": "2024-03-29T21:43:50.277Z"
   },
   {
    "duration": 21,
    "start_time": "2024-03-29T21:43:50.300Z"
   },
   {
    "duration": 6,
    "start_time": "2024-03-29T21:43:50.323Z"
   },
   {
    "duration": 23,
    "start_time": "2024-03-29T21:43:50.331Z"
   },
   {
    "duration": 8,
    "start_time": "2024-03-29T21:43:50.356Z"
   },
   {
    "duration": 684,
    "start_time": "2024-03-29T21:43:50.366Z"
   },
   {
    "duration": 236,
    "start_time": "2024-03-29T21:43:51.051Z"
   },
   {
    "duration": 169,
    "start_time": "2024-03-29T21:43:51.289Z"
   },
   {
    "duration": 5,
    "start_time": "2024-03-29T21:43:51.459Z"
   }
  ],
  "kernelspec": {
   "display_name": "Python 3 (ipykernel)",
   "language": "python",
   "name": "python3"
  },
  "language_info": {
   "codemirror_mode": {
    "name": "ipython",
    "version": 3
   },
   "file_extension": ".py",
   "mimetype": "text/x-python",
   "name": "python",
   "nbconvert_exporter": "python",
   "pygments_lexer": "ipython3",
   "version": "3.9.5"
  },
  "toc": {
   "base_numbering": 1,
   "nav_menu": {},
   "number_sections": false,
   "sideBar": true,
   "skip_h1_title": true,
   "title_cell": "Table of Contents",
   "title_sidebar": "Contents",
   "toc_cell": false,
   "toc_position": {},
   "toc_section_display": true,
   "toc_window_display": false
  }
 },
 "nbformat": 4,
 "nbformat_minor": 5
}
